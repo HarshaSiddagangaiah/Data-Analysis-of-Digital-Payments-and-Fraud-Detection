{
  "nbformat": 4,
  "nbformat_minor": 0,
  "metadata": {
    "colab": {
      "name": "FraudDetection.ipynb",
      "provenance": [],
      "collapsed_sections": []
    },
    "kernelspec": {
      "name": "python3",
      "display_name": "Python 3"
    },
    "language_info": {
      "name": "python"
    },
    "accelerator": "GPU"
  },
  "cells": [
    {
      "cell_type": "markdown",
      "source": [
        "# **Fraud Detection**\n",
        "\n",
        "# Project By : Harsha Siddaganagaiah"
      ],
      "metadata": {
        "id": "SjBDITnVz1-x"
      }
    },
    {
      "cell_type": "code",
      "execution_count": null,
      "metadata": {
        "id": "CmLkqupC3Y4H"
      },
      "outputs": [],
      "source": [
        ""
      ]
    },
    {
      "cell_type": "markdown",
      "source": [
        "#**Load, Structure of Data and Summary Statistics**"
      ],
      "metadata": {
        "id": "6Wiv1TLN3kfK"
      }
    },
    {
      "cell_type": "markdown",
      "source": [
        "**Loaded the transactions data in line-delimited JSON format**"
      ],
      "metadata": {
        "id": "hyLXe8Vr32JJ"
      }
    },
    {
      "cell_type": "code",
      "source": [
        "import requests"
      ],
      "metadata": {
        "id": "Xrm9X2Li4BAx"
      },
      "execution_count": null,
      "outputs": []
    },
    {
      "cell_type": "markdown",
      "source": [
        "**Mounted the data through Google Drive in Google Colab for easy access as data is greater than 600 MBs**"
      ],
      "metadata": {
        "id": "qIcnrLpbo3eS"
      }
    },
    {
      "cell_type": "code",
      "source": [
        "from google.colab import drive\n",
        "drive.mount('/content/drive')"
      ],
      "metadata": {
        "colab": {
          "base_uri": "https://localhost:8080/"
        },
        "id": "o1cze1OW4J-8",
        "outputId": "7fba9333-909b-4b9c-ed3f-f243a05d514f"
      },
      "execution_count": null,
      "outputs": [
        {
          "output_type": "stream",
          "name": "stdout",
          "text": [
            "Drive already mounted at /content/drive; to attempt to forcibly remount, call drive.mount(\"/content/drive\", force_remount=True).\n"
          ]
        }
      ]
    },
    {
      "cell_type": "markdown",
      "source": [
        "**Loaded JSON format into Pandas Data Frames which are just like SQL or Excel Tables**"
      ],
      "metadata": {
        "id": "0JT-MFamox4O"
      }
    },
    {
      "cell_type": "code",
      "source": [
        "import pandas as pd\n",
        "import numpy as np\n",
        "import matplotlib.pyplot as plt\n",
        "\n",
        "df = pd.read_json('/content/drive/MyDrive/FraudDetection/transactions.txt', lines=True)\n"
      ],
      "metadata": {
        "id": "9F6Genhv4RY4"
      },
      "execution_count": null,
      "outputs": []
    },
    {
      "cell_type": "markdown",
      "source": [
        "**Necessary Python Packages and Libraries are loaded for further analysis**"
      ],
      "metadata": {
        "id": "DufdVlVGovB4"
      }
    },
    {
      "cell_type": "code",
      "source": [
        "import pandas as pd\n",
        "import numpy as np\n",
        "import matplotlib.pyplot as plt\n",
        "import datetime\n",
        "from sklearn.metrics import classification_report, confusion_matrix\n",
        "from sklearn.svm import SVC\n",
        "from sklearn.ensemble import RandomForestClassifier\n",
        "from sklearn.linear_model import LogisticRegression\n",
        "from sklearn.preprocessing import LabelEncoder\n",
        "from imblearn.under_sampling import RandomUnderSampler\n",
        "from sklearn.model_selection import train_test_split\n",
        "!pip install imblearn\n",
        "import seaborn as sns\n",
        "from sklearn.model_selection import GridSearchCV\n",
        "from sklearn.ensemble import GradientBoostingClassifier\n",
        "from xgboost import XGBClassifier"
      ],
      "metadata": {
        "colab": {
          "base_uri": "https://localhost:8080/"
        },
        "id": "BIYpRvIR4huN",
        "outputId": "d62560b5-97e4-490d-aa63-ac5d7dfa5ee2"
      },
      "execution_count": null,
      "outputs": [
        {
          "output_type": "stream",
          "name": "stdout",
          "text": [
            "Looking in indexes: https://pypi.org/simple, https://us-python.pkg.dev/colab-wheels/public/simple/\n",
            "Requirement already satisfied: imblearn in /usr/local/lib/python3.7/dist-packages (0.0)\n",
            "Requirement already satisfied: imbalanced-learn in /usr/local/lib/python3.7/dist-packages (from imblearn) (0.8.1)\n",
            "Requirement already satisfied: joblib>=0.11 in /usr/local/lib/python3.7/dist-packages (from imbalanced-learn->imblearn) (1.1.0)\n",
            "Requirement already satisfied: numpy>=1.13.3 in /usr/local/lib/python3.7/dist-packages (from imbalanced-learn->imblearn) (1.21.6)\n",
            "Requirement already satisfied: scipy>=0.19.1 in /usr/local/lib/python3.7/dist-packages (from imbalanced-learn->imblearn) (1.4.1)\n",
            "Requirement already satisfied: scikit-learn>=0.24 in /usr/local/lib/python3.7/dist-packages (from imbalanced-learn->imblearn) (1.0.2)\n",
            "Requirement already satisfied: threadpoolctl>=2.0.0 in /usr/local/lib/python3.7/dist-packages (from scikit-learn>=0.24->imbalanced-learn->imblearn) (3.1.0)\n"
          ]
        }
      ]
    },
    {
      "cell_type": "markdown",
      "source": [
        "#**Structure of the data**"
      ],
      "metadata": {
        "id": "oJBYNLhF4mF5"
      }
    },
    {
      "cell_type": "markdown",
      "source": [
        "**Displayed Both Top and Bottom rows of the data to have a better look on the structure and attributes before doing any data analysis**"
      ],
      "metadata": {
        "id": "dcVFCGLP40J6"
      }
    },
    {
      "cell_type": "code",
      "source": [
        "df.head(5)"
      ],
      "metadata": {
        "colab": {
          "base_uri": "https://localhost:8080/",
          "height": 317
        },
        "id": "DUPVvgPo479g",
        "outputId": "076f26e8-9776-43ea-8218-a29d10ebe7de"
      },
      "execution_count": null,
      "outputs": [
        {
          "output_type": "execute_result",
          "data": {
            "text/plain": [
              "   accountNumber  customerId  creditLimit  availableMoney  \\\n",
              "0      737265056   737265056         5000          5000.0   \n",
              "1      737265056   737265056         5000          5000.0   \n",
              "2      737265056   737265056         5000          5000.0   \n",
              "3      737265056   737265056         5000          5000.0   \n",
              "4      830329091   830329091         5000          5000.0   \n",
              "\n",
              "   transactionDateTime  transactionAmount         merchantName acqCountry  \\\n",
              "0  2016-08-13T14:27:32              98.55                 Uber         US   \n",
              "1  2016-10-11T05:05:54              74.51          AMC #191138         US   \n",
              "2  2016-11-08T09:18:39               7.47           Play Store         US   \n",
              "3  2016-12-10T02:14:50               7.47           Play Store         US   \n",
              "4  2016-03-24T21:04:46              71.18  Tim Hortons #947751         US   \n",
              "\n",
              "  merchantCountryCode posEntryMode  ... echoBuffer currentBalance  \\\n",
              "0                  US           02  ...                       0.0   \n",
              "1                  US           09  ...                       0.0   \n",
              "2                  US           09  ...                       0.0   \n",
              "3                  US           09  ...                       0.0   \n",
              "4                  US           02  ...                       0.0   \n",
              "\n",
              "  merchantCity merchantState merchantZip  cardPresent  posOnPremises  \\\n",
              "0                                               False                  \n",
              "1                                                True                  \n",
              "2                                               False                  \n",
              "3                                               False                  \n",
              "4                                                True                  \n",
              "\n",
              "   recurringAuthInd expirationDateKeyInMatch isFraud  \n",
              "0                                      False   False  \n",
              "1                                      False   False  \n",
              "2                                      False   False  \n",
              "3                                      False   False  \n",
              "4                                      False   False  \n",
              "\n",
              "[5 rows x 29 columns]"
            ],
            "text/html": [
              "\n",
              "  <div id=\"df-47241901-1aa9-4ae5-86fd-11f837580ceb\">\n",
              "    <div class=\"colab-df-container\">\n",
              "      <div>\n",
              "<style scoped>\n",
              "    .dataframe tbody tr th:only-of-type {\n",
              "        vertical-align: middle;\n",
              "    }\n",
              "\n",
              "    .dataframe tbody tr th {\n",
              "        vertical-align: top;\n",
              "    }\n",
              "\n",
              "    .dataframe thead th {\n",
              "        text-align: right;\n",
              "    }\n",
              "</style>\n",
              "<table border=\"1\" class=\"dataframe\">\n",
              "  <thead>\n",
              "    <tr style=\"text-align: right;\">\n",
              "      <th></th>\n",
              "      <th>accountNumber</th>\n",
              "      <th>customerId</th>\n",
              "      <th>creditLimit</th>\n",
              "      <th>availableMoney</th>\n",
              "      <th>transactionDateTime</th>\n",
              "      <th>transactionAmount</th>\n",
              "      <th>merchantName</th>\n",
              "      <th>acqCountry</th>\n",
              "      <th>merchantCountryCode</th>\n",
              "      <th>posEntryMode</th>\n",
              "      <th>...</th>\n",
              "      <th>echoBuffer</th>\n",
              "      <th>currentBalance</th>\n",
              "      <th>merchantCity</th>\n",
              "      <th>merchantState</th>\n",
              "      <th>merchantZip</th>\n",
              "      <th>cardPresent</th>\n",
              "      <th>posOnPremises</th>\n",
              "      <th>recurringAuthInd</th>\n",
              "      <th>expirationDateKeyInMatch</th>\n",
              "      <th>isFraud</th>\n",
              "    </tr>\n",
              "  </thead>\n",
              "  <tbody>\n",
              "    <tr>\n",
              "      <th>0</th>\n",
              "      <td>737265056</td>\n",
              "      <td>737265056</td>\n",
              "      <td>5000</td>\n",
              "      <td>5000.0</td>\n",
              "      <td>2016-08-13T14:27:32</td>\n",
              "      <td>98.55</td>\n",
              "      <td>Uber</td>\n",
              "      <td>US</td>\n",
              "      <td>US</td>\n",
              "      <td>02</td>\n",
              "      <td>...</td>\n",
              "      <td></td>\n",
              "      <td>0.0</td>\n",
              "      <td></td>\n",
              "      <td></td>\n",
              "      <td></td>\n",
              "      <td>False</td>\n",
              "      <td></td>\n",
              "      <td></td>\n",
              "      <td>False</td>\n",
              "      <td>False</td>\n",
              "    </tr>\n",
              "    <tr>\n",
              "      <th>1</th>\n",
              "      <td>737265056</td>\n",
              "      <td>737265056</td>\n",
              "      <td>5000</td>\n",
              "      <td>5000.0</td>\n",
              "      <td>2016-10-11T05:05:54</td>\n",
              "      <td>74.51</td>\n",
              "      <td>AMC #191138</td>\n",
              "      <td>US</td>\n",
              "      <td>US</td>\n",
              "      <td>09</td>\n",
              "      <td>...</td>\n",
              "      <td></td>\n",
              "      <td>0.0</td>\n",
              "      <td></td>\n",
              "      <td></td>\n",
              "      <td></td>\n",
              "      <td>True</td>\n",
              "      <td></td>\n",
              "      <td></td>\n",
              "      <td>False</td>\n",
              "      <td>False</td>\n",
              "    </tr>\n",
              "    <tr>\n",
              "      <th>2</th>\n",
              "      <td>737265056</td>\n",
              "      <td>737265056</td>\n",
              "      <td>5000</td>\n",
              "      <td>5000.0</td>\n",
              "      <td>2016-11-08T09:18:39</td>\n",
              "      <td>7.47</td>\n",
              "      <td>Play Store</td>\n",
              "      <td>US</td>\n",
              "      <td>US</td>\n",
              "      <td>09</td>\n",
              "      <td>...</td>\n",
              "      <td></td>\n",
              "      <td>0.0</td>\n",
              "      <td></td>\n",
              "      <td></td>\n",
              "      <td></td>\n",
              "      <td>False</td>\n",
              "      <td></td>\n",
              "      <td></td>\n",
              "      <td>False</td>\n",
              "      <td>False</td>\n",
              "    </tr>\n",
              "    <tr>\n",
              "      <th>3</th>\n",
              "      <td>737265056</td>\n",
              "      <td>737265056</td>\n",
              "      <td>5000</td>\n",
              "      <td>5000.0</td>\n",
              "      <td>2016-12-10T02:14:50</td>\n",
              "      <td>7.47</td>\n",
              "      <td>Play Store</td>\n",
              "      <td>US</td>\n",
              "      <td>US</td>\n",
              "      <td>09</td>\n",
              "      <td>...</td>\n",
              "      <td></td>\n",
              "      <td>0.0</td>\n",
              "      <td></td>\n",
              "      <td></td>\n",
              "      <td></td>\n",
              "      <td>False</td>\n",
              "      <td></td>\n",
              "      <td></td>\n",
              "      <td>False</td>\n",
              "      <td>False</td>\n",
              "    </tr>\n",
              "    <tr>\n",
              "      <th>4</th>\n",
              "      <td>830329091</td>\n",
              "      <td>830329091</td>\n",
              "      <td>5000</td>\n",
              "      <td>5000.0</td>\n",
              "      <td>2016-03-24T21:04:46</td>\n",
              "      <td>71.18</td>\n",
              "      <td>Tim Hortons #947751</td>\n",
              "      <td>US</td>\n",
              "      <td>US</td>\n",
              "      <td>02</td>\n",
              "      <td>...</td>\n",
              "      <td></td>\n",
              "      <td>0.0</td>\n",
              "      <td></td>\n",
              "      <td></td>\n",
              "      <td></td>\n",
              "      <td>True</td>\n",
              "      <td></td>\n",
              "      <td></td>\n",
              "      <td>False</td>\n",
              "      <td>False</td>\n",
              "    </tr>\n",
              "  </tbody>\n",
              "</table>\n",
              "<p>5 rows × 29 columns</p>\n",
              "</div>\n",
              "      <button class=\"colab-df-convert\" onclick=\"convertToInteractive('df-47241901-1aa9-4ae5-86fd-11f837580ceb')\"\n",
              "              title=\"Convert this dataframe to an interactive table.\"\n",
              "              style=\"display:none;\">\n",
              "        \n",
              "  <svg xmlns=\"http://www.w3.org/2000/svg\" height=\"24px\"viewBox=\"0 0 24 24\"\n",
              "       width=\"24px\">\n",
              "    <path d=\"M0 0h24v24H0V0z\" fill=\"none\"/>\n",
              "    <path d=\"M18.56 5.44l.94 2.06.94-2.06 2.06-.94-2.06-.94-.94-2.06-.94 2.06-2.06.94zm-11 1L8.5 8.5l.94-2.06 2.06-.94-2.06-.94L8.5 2.5l-.94 2.06-2.06.94zm10 10l.94 2.06.94-2.06 2.06-.94-2.06-.94-.94-2.06-.94 2.06-2.06.94z\"/><path d=\"M17.41 7.96l-1.37-1.37c-.4-.4-.92-.59-1.43-.59-.52 0-1.04.2-1.43.59L10.3 9.45l-7.72 7.72c-.78.78-.78 2.05 0 2.83L4 21.41c.39.39.9.59 1.41.59.51 0 1.02-.2 1.41-.59l7.78-7.78 2.81-2.81c.8-.78.8-2.07 0-2.86zM5.41 20L4 18.59l7.72-7.72 1.47 1.35L5.41 20z\"/>\n",
              "  </svg>\n",
              "      </button>\n",
              "      \n",
              "  <style>\n",
              "    .colab-df-container {\n",
              "      display:flex;\n",
              "      flex-wrap:wrap;\n",
              "      gap: 12px;\n",
              "    }\n",
              "\n",
              "    .colab-df-convert {\n",
              "      background-color: #E8F0FE;\n",
              "      border: none;\n",
              "      border-radius: 50%;\n",
              "      cursor: pointer;\n",
              "      display: none;\n",
              "      fill: #1967D2;\n",
              "      height: 32px;\n",
              "      padding: 0 0 0 0;\n",
              "      width: 32px;\n",
              "    }\n",
              "\n",
              "    .colab-df-convert:hover {\n",
              "      background-color: #E2EBFA;\n",
              "      box-shadow: 0px 1px 2px rgba(60, 64, 67, 0.3), 0px 1px 3px 1px rgba(60, 64, 67, 0.15);\n",
              "      fill: #174EA6;\n",
              "    }\n",
              "\n",
              "    [theme=dark] .colab-df-convert {\n",
              "      background-color: #3B4455;\n",
              "      fill: #D2E3FC;\n",
              "    }\n",
              "\n",
              "    [theme=dark] .colab-df-convert:hover {\n",
              "      background-color: #434B5C;\n",
              "      box-shadow: 0px 1px 3px 1px rgba(0, 0, 0, 0.15);\n",
              "      filter: drop-shadow(0px 1px 2px rgba(0, 0, 0, 0.3));\n",
              "      fill: #FFFFFF;\n",
              "    }\n",
              "  </style>\n",
              "\n",
              "      <script>\n",
              "        const buttonEl =\n",
              "          document.querySelector('#df-47241901-1aa9-4ae5-86fd-11f837580ceb button.colab-df-convert');\n",
              "        buttonEl.style.display =\n",
              "          google.colab.kernel.accessAllowed ? 'block' : 'none';\n",
              "\n",
              "        async function convertToInteractive(key) {\n",
              "          const element = document.querySelector('#df-47241901-1aa9-4ae5-86fd-11f837580ceb');\n",
              "          const dataTable =\n",
              "            await google.colab.kernel.invokeFunction('convertToInteractive',\n",
              "                                                     [key], {});\n",
              "          if (!dataTable) return;\n",
              "\n",
              "          const docLinkHtml = 'Like what you see? Visit the ' +\n",
              "            '<a target=\"_blank\" href=https://colab.research.google.com/notebooks/data_table.ipynb>data table notebook</a>'\n",
              "            + ' to learn more about interactive tables.';\n",
              "          element.innerHTML = '';\n",
              "          dataTable['output_type'] = 'display_data';\n",
              "          await google.colab.output.renderOutput(dataTable, element);\n",
              "          const docLink = document.createElement('div');\n",
              "          docLink.innerHTML = docLinkHtml;\n",
              "          element.appendChild(docLink);\n",
              "        }\n",
              "      </script>\n",
              "    </div>\n",
              "  </div>\n",
              "  "
            ]
          },
          "metadata": {},
          "execution_count": 101
        }
      ]
    },
    {
      "cell_type": "code",
      "source": [
        "df.tail(5)"
      ],
      "metadata": {
        "colab": {
          "base_uri": "https://localhost:8080/",
          "height": 300
        },
        "id": "sQor7TJV5DPz",
        "outputId": "2831bc3d-d4d4-4ae9-87c3-8a7740196b9a"
      },
      "execution_count": null,
      "outputs": [
        {
          "output_type": "execute_result",
          "data": {
            "text/plain": [
              "        accountNumber  customerId  creditLimit  availableMoney  \\\n",
              "786358      732852505   732852505        50000        48904.96   \n",
              "786359      732852505   732852505        50000        48785.04   \n",
              "786360      732852505   732852505        50000        48766.15   \n",
              "786361      732852505   732852505        50000        48716.72   \n",
              "786362      732852505   732852505        50000        48666.83   \n",
              "\n",
              "        transactionDateTime  transactionAmount merchantName acqCountry  \\\n",
              "786358  2016-12-22T18:44:12             119.92         Lyft         US   \n",
              "786359  2016-12-25T16:20:34              18.89     hulu.com         US   \n",
              "786360  2016-12-27T15:46:24              49.43         Lyft         US   \n",
              "786361  2016-12-29T00:30:55              49.89  walmart.com         US   \n",
              "786362  2016-12-30T20:10:29              72.18         Uber         US   \n",
              "\n",
              "       merchantCountryCode posEntryMode  ... echoBuffer currentBalance  \\\n",
              "786358                  US           90  ...                   1095.04   \n",
              "786359                  US           09  ...                   1214.96   \n",
              "786360                  US           02  ...                   1233.85   \n",
              "786361                  US           09  ...                   1283.28   \n",
              "786362                  US           05  ...                   1333.17   \n",
              "\n",
              "       merchantCity merchantState merchantZip  cardPresent  posOnPremises  \\\n",
              "786358                                               False                  \n",
              "786359                                               False                  \n",
              "786360                                               False                  \n",
              "786361                                               False                  \n",
              "786362                                               False                  \n",
              "\n",
              "        recurringAuthInd expirationDateKeyInMatch isFraud  \n",
              "786358                                      False   False  \n",
              "786359                                      False   False  \n",
              "786360                                      False   False  \n",
              "786361                                      False   False  \n",
              "786362                                      False   False  \n",
              "\n",
              "[5 rows x 29 columns]"
            ],
            "text/html": [
              "\n",
              "  <div id=\"df-ef0da23c-7593-4794-aada-fe6e9507c682\">\n",
              "    <div class=\"colab-df-container\">\n",
              "      <div>\n",
              "<style scoped>\n",
              "    .dataframe tbody tr th:only-of-type {\n",
              "        vertical-align: middle;\n",
              "    }\n",
              "\n",
              "    .dataframe tbody tr th {\n",
              "        vertical-align: top;\n",
              "    }\n",
              "\n",
              "    .dataframe thead th {\n",
              "        text-align: right;\n",
              "    }\n",
              "</style>\n",
              "<table border=\"1\" class=\"dataframe\">\n",
              "  <thead>\n",
              "    <tr style=\"text-align: right;\">\n",
              "      <th></th>\n",
              "      <th>accountNumber</th>\n",
              "      <th>customerId</th>\n",
              "      <th>creditLimit</th>\n",
              "      <th>availableMoney</th>\n",
              "      <th>transactionDateTime</th>\n",
              "      <th>transactionAmount</th>\n",
              "      <th>merchantName</th>\n",
              "      <th>acqCountry</th>\n",
              "      <th>merchantCountryCode</th>\n",
              "      <th>posEntryMode</th>\n",
              "      <th>...</th>\n",
              "      <th>echoBuffer</th>\n",
              "      <th>currentBalance</th>\n",
              "      <th>merchantCity</th>\n",
              "      <th>merchantState</th>\n",
              "      <th>merchantZip</th>\n",
              "      <th>cardPresent</th>\n",
              "      <th>posOnPremises</th>\n",
              "      <th>recurringAuthInd</th>\n",
              "      <th>expirationDateKeyInMatch</th>\n",
              "      <th>isFraud</th>\n",
              "    </tr>\n",
              "  </thead>\n",
              "  <tbody>\n",
              "    <tr>\n",
              "      <th>786358</th>\n",
              "      <td>732852505</td>\n",
              "      <td>732852505</td>\n",
              "      <td>50000</td>\n",
              "      <td>48904.96</td>\n",
              "      <td>2016-12-22T18:44:12</td>\n",
              "      <td>119.92</td>\n",
              "      <td>Lyft</td>\n",
              "      <td>US</td>\n",
              "      <td>US</td>\n",
              "      <td>90</td>\n",
              "      <td>...</td>\n",
              "      <td></td>\n",
              "      <td>1095.04</td>\n",
              "      <td></td>\n",
              "      <td></td>\n",
              "      <td></td>\n",
              "      <td>False</td>\n",
              "      <td></td>\n",
              "      <td></td>\n",
              "      <td>False</td>\n",
              "      <td>False</td>\n",
              "    </tr>\n",
              "    <tr>\n",
              "      <th>786359</th>\n",
              "      <td>732852505</td>\n",
              "      <td>732852505</td>\n",
              "      <td>50000</td>\n",
              "      <td>48785.04</td>\n",
              "      <td>2016-12-25T16:20:34</td>\n",
              "      <td>18.89</td>\n",
              "      <td>hulu.com</td>\n",
              "      <td>US</td>\n",
              "      <td>US</td>\n",
              "      <td>09</td>\n",
              "      <td>...</td>\n",
              "      <td></td>\n",
              "      <td>1214.96</td>\n",
              "      <td></td>\n",
              "      <td></td>\n",
              "      <td></td>\n",
              "      <td>False</td>\n",
              "      <td></td>\n",
              "      <td></td>\n",
              "      <td>False</td>\n",
              "      <td>False</td>\n",
              "    </tr>\n",
              "    <tr>\n",
              "      <th>786360</th>\n",
              "      <td>732852505</td>\n",
              "      <td>732852505</td>\n",
              "      <td>50000</td>\n",
              "      <td>48766.15</td>\n",
              "      <td>2016-12-27T15:46:24</td>\n",
              "      <td>49.43</td>\n",
              "      <td>Lyft</td>\n",
              "      <td>US</td>\n",
              "      <td>US</td>\n",
              "      <td>02</td>\n",
              "      <td>...</td>\n",
              "      <td></td>\n",
              "      <td>1233.85</td>\n",
              "      <td></td>\n",
              "      <td></td>\n",
              "      <td></td>\n",
              "      <td>False</td>\n",
              "      <td></td>\n",
              "      <td></td>\n",
              "      <td>False</td>\n",
              "      <td>False</td>\n",
              "    </tr>\n",
              "    <tr>\n",
              "      <th>786361</th>\n",
              "      <td>732852505</td>\n",
              "      <td>732852505</td>\n",
              "      <td>50000</td>\n",
              "      <td>48716.72</td>\n",
              "      <td>2016-12-29T00:30:55</td>\n",
              "      <td>49.89</td>\n",
              "      <td>walmart.com</td>\n",
              "      <td>US</td>\n",
              "      <td>US</td>\n",
              "      <td>09</td>\n",
              "      <td>...</td>\n",
              "      <td></td>\n",
              "      <td>1283.28</td>\n",
              "      <td></td>\n",
              "      <td></td>\n",
              "      <td></td>\n",
              "      <td>False</td>\n",
              "      <td></td>\n",
              "      <td></td>\n",
              "      <td>False</td>\n",
              "      <td>False</td>\n",
              "    </tr>\n",
              "    <tr>\n",
              "      <th>786362</th>\n",
              "      <td>732852505</td>\n",
              "      <td>732852505</td>\n",
              "      <td>50000</td>\n",
              "      <td>48666.83</td>\n",
              "      <td>2016-12-30T20:10:29</td>\n",
              "      <td>72.18</td>\n",
              "      <td>Uber</td>\n",
              "      <td>US</td>\n",
              "      <td>US</td>\n",
              "      <td>05</td>\n",
              "      <td>...</td>\n",
              "      <td></td>\n",
              "      <td>1333.17</td>\n",
              "      <td></td>\n",
              "      <td></td>\n",
              "      <td></td>\n",
              "      <td>False</td>\n",
              "      <td></td>\n",
              "      <td></td>\n",
              "      <td>False</td>\n",
              "      <td>False</td>\n",
              "    </tr>\n",
              "  </tbody>\n",
              "</table>\n",
              "<p>5 rows × 29 columns</p>\n",
              "</div>\n",
              "      <button class=\"colab-df-convert\" onclick=\"convertToInteractive('df-ef0da23c-7593-4794-aada-fe6e9507c682')\"\n",
              "              title=\"Convert this dataframe to an interactive table.\"\n",
              "              style=\"display:none;\">\n",
              "        \n",
              "  <svg xmlns=\"http://www.w3.org/2000/svg\" height=\"24px\"viewBox=\"0 0 24 24\"\n",
              "       width=\"24px\">\n",
              "    <path d=\"M0 0h24v24H0V0z\" fill=\"none\"/>\n",
              "    <path d=\"M18.56 5.44l.94 2.06.94-2.06 2.06-.94-2.06-.94-.94-2.06-.94 2.06-2.06.94zm-11 1L8.5 8.5l.94-2.06 2.06-.94-2.06-.94L8.5 2.5l-.94 2.06-2.06.94zm10 10l.94 2.06.94-2.06 2.06-.94-2.06-.94-.94-2.06-.94 2.06-2.06.94z\"/><path d=\"M17.41 7.96l-1.37-1.37c-.4-.4-.92-.59-1.43-.59-.52 0-1.04.2-1.43.59L10.3 9.45l-7.72 7.72c-.78.78-.78 2.05 0 2.83L4 21.41c.39.39.9.59 1.41.59.51 0 1.02-.2 1.41-.59l7.78-7.78 2.81-2.81c.8-.78.8-2.07 0-2.86zM5.41 20L4 18.59l7.72-7.72 1.47 1.35L5.41 20z\"/>\n",
              "  </svg>\n",
              "      </button>\n",
              "      \n",
              "  <style>\n",
              "    .colab-df-container {\n",
              "      display:flex;\n",
              "      flex-wrap:wrap;\n",
              "      gap: 12px;\n",
              "    }\n",
              "\n",
              "    .colab-df-convert {\n",
              "      background-color: #E8F0FE;\n",
              "      border: none;\n",
              "      border-radius: 50%;\n",
              "      cursor: pointer;\n",
              "      display: none;\n",
              "      fill: #1967D2;\n",
              "      height: 32px;\n",
              "      padding: 0 0 0 0;\n",
              "      width: 32px;\n",
              "    }\n",
              "\n",
              "    .colab-df-convert:hover {\n",
              "      background-color: #E2EBFA;\n",
              "      box-shadow: 0px 1px 2px rgba(60, 64, 67, 0.3), 0px 1px 3px 1px rgba(60, 64, 67, 0.15);\n",
              "      fill: #174EA6;\n",
              "    }\n",
              "\n",
              "    [theme=dark] .colab-df-convert {\n",
              "      background-color: #3B4455;\n",
              "      fill: #D2E3FC;\n",
              "    }\n",
              "\n",
              "    [theme=dark] .colab-df-convert:hover {\n",
              "      background-color: #434B5C;\n",
              "      box-shadow: 0px 1px 3px 1px rgba(0, 0, 0, 0.15);\n",
              "      filter: drop-shadow(0px 1px 2px rgba(0, 0, 0, 0.3));\n",
              "      fill: #FFFFFF;\n",
              "    }\n",
              "  </style>\n",
              "\n",
              "      <script>\n",
              "        const buttonEl =\n",
              "          document.querySelector('#df-ef0da23c-7593-4794-aada-fe6e9507c682 button.colab-df-convert');\n",
              "        buttonEl.style.display =\n",
              "          google.colab.kernel.accessAllowed ? 'block' : 'none';\n",
              "\n",
              "        async function convertToInteractive(key) {\n",
              "          const element = document.querySelector('#df-ef0da23c-7593-4794-aada-fe6e9507c682');\n",
              "          const dataTable =\n",
              "            await google.colab.kernel.invokeFunction('convertToInteractive',\n",
              "                                                     [key], {});\n",
              "          if (!dataTable) return;\n",
              "\n",
              "          const docLinkHtml = 'Like what you see? Visit the ' +\n",
              "            '<a target=\"_blank\" href=https://colab.research.google.com/notebooks/data_table.ipynb>data table notebook</a>'\n",
              "            + ' to learn more about interactive tables.';\n",
              "          element.innerHTML = '';\n",
              "          dataTable['output_type'] = 'display_data';\n",
              "          await google.colab.output.renderOutput(dataTable, element);\n",
              "          const docLink = document.createElement('div');\n",
              "          docLink.innerHTML = docLinkHtml;\n",
              "          element.appendChild(docLink);\n",
              "        }\n",
              "      </script>\n",
              "    </div>\n",
              "  </div>\n",
              "  "
            ]
          },
          "metadata": {},
          "execution_count": 102
        }
      ]
    },
    {
      "cell_type": "markdown",
      "source": [
        "**Some Basic Information about the dataset which includes the Type of columns it has, number of columns and total number of records**"
      ],
      "metadata": {
        "id": "XpqlKw6r5I6D"
      }
    },
    {
      "cell_type": "code",
      "source": [
        "df.info()"
      ],
      "metadata": {
        "colab": {
          "base_uri": "https://localhost:8080/"
        },
        "id": "XmGbywY65PEN",
        "outputId": "5fa976d4-341f-4493-f18f-22a5a94b5991"
      },
      "execution_count": null,
      "outputs": [
        {
          "output_type": "stream",
          "name": "stdout",
          "text": [
            "<class 'pandas.core.frame.DataFrame'>\n",
            "RangeIndex: 786363 entries, 0 to 786362\n",
            "Data columns (total 29 columns):\n",
            " #   Column                    Non-Null Count   Dtype  \n",
            "---  ------                    --------------   -----  \n",
            " 0   accountNumber             786363 non-null  int64  \n",
            " 1   customerId                786363 non-null  int64  \n",
            " 2   creditLimit               786363 non-null  int64  \n",
            " 3   availableMoney            786363 non-null  float64\n",
            " 4   transactionDateTime       786363 non-null  object \n",
            " 5   transactionAmount         786363 non-null  float64\n",
            " 6   merchantName              786363 non-null  object \n",
            " 7   acqCountry                786363 non-null  object \n",
            " 8   merchantCountryCode       786363 non-null  object \n",
            " 9   posEntryMode              786363 non-null  object \n",
            " 10  posConditionCode          786363 non-null  object \n",
            " 11  merchantCategoryCode      786363 non-null  object \n",
            " 12  currentExpDate            786363 non-null  object \n",
            " 13  accountOpenDate           786363 non-null  object \n",
            " 14  dateOfLastAddressChange   786363 non-null  object \n",
            " 15  cardCVV                   786363 non-null  int64  \n",
            " 16  enteredCVV                786363 non-null  int64  \n",
            " 17  cardLast4Digits           786363 non-null  int64  \n",
            " 18  transactionType           786363 non-null  object \n",
            " 19  echoBuffer                786363 non-null  object \n",
            " 20  currentBalance            786363 non-null  float64\n",
            " 21  merchantCity              786363 non-null  object \n",
            " 22  merchantState             786363 non-null  object \n",
            " 23  merchantZip               786363 non-null  object \n",
            " 24  cardPresent               786363 non-null  bool   \n",
            " 25  posOnPremises             786363 non-null  object \n",
            " 26  recurringAuthInd          786363 non-null  object \n",
            " 27  expirationDateKeyInMatch  786363 non-null  bool   \n",
            " 28  isFraud                   786363 non-null  bool   \n",
            "dtypes: bool(3), float64(3), int64(6), object(17)\n",
            "memory usage: 158.2+ MB\n"
          ]
        }
      ]
    },
    {
      "cell_type": "code",
      "source": [
        "df.columns"
      ],
      "metadata": {
        "colab": {
          "base_uri": "https://localhost:8080/"
        },
        "id": "zPvuU57a5W_Y",
        "outputId": "e3f2d1c1-30c5-4d90-efd9-e0b7f5c5101d"
      },
      "execution_count": null,
      "outputs": [
        {
          "output_type": "execute_result",
          "data": {
            "text/plain": [
              "Index(['accountNumber', 'customerId', 'creditLimit', 'availableMoney',\n",
              "       'transactionDateTime', 'transactionAmount', 'merchantName',\n",
              "       'acqCountry', 'merchantCountryCode', 'posEntryMode', 'posConditionCode',\n",
              "       'merchantCategoryCode', 'currentExpDate', 'accountOpenDate',\n",
              "       'dateOfLastAddressChange', 'cardCVV', 'enteredCVV', 'cardLast4Digits',\n",
              "       'transactionType', 'echoBuffer', 'currentBalance', 'merchantCity',\n",
              "       'merchantState', 'merchantZip', 'cardPresent', 'posOnPremises',\n",
              "       'recurringAuthInd', 'expirationDateKeyInMatch', 'isFraud'],\n",
              "      dtype='object')"
            ]
          },
          "metadata": {},
          "execution_count": 104
        }
      ]
    },
    {
      "cell_type": "code",
      "source": [
        "len(df)"
      ],
      "metadata": {
        "colab": {
          "base_uri": "https://localhost:8080/"
        },
        "id": "X040F6dB5aM2",
        "outputId": "3d1b3b56-ad02-41e8-ceba-3e0868131f91"
      },
      "execution_count": null,
      "outputs": [
        {
          "output_type": "execute_result",
          "data": {
            "text/plain": [
              "786363"
            ]
          },
          "metadata": {},
          "execution_count": 105
        }
      ]
    },
    {
      "cell_type": "code",
      "source": [
        "len(df.columns)"
      ],
      "metadata": {
        "colab": {
          "base_uri": "https://localhost:8080/"
        },
        "id": "V_rZd6RY5dVo",
        "outputId": "7937015c-ea15-4375-b0b4-bf425e0dbe47"
      },
      "execution_count": null,
      "outputs": [
        {
          "output_type": "execute_result",
          "data": {
            "text/plain": [
              "29"
            ]
          },
          "metadata": {},
          "execution_count": 106
        }
      ]
    },
    {
      "cell_type": "markdown",
      "source": [
        "**Shape represents the Dimensions like a Matrix**\n",
        "\n",
        "**Number of Records = 786363**\n",
        "\n",
        "**Number of Attributes/Columns = 29**"
      ],
      "metadata": {
        "id": "aNJsCldi5gls"
      }
    },
    {
      "cell_type": "code",
      "source": [
        "df.shape"
      ],
      "metadata": {
        "colab": {
          "base_uri": "https://localhost:8080/"
        },
        "id": "Mgu8xVFp5lZA",
        "outputId": "d9c99789-a526-4382-f33d-6c7ef2d42762"
      },
      "execution_count": null,
      "outputs": [
        {
          "output_type": "execute_result",
          "data": {
            "text/plain": [
              "(786363, 29)"
            ]
          },
          "metadata": {},
          "execution_count": 107
        }
      ]
    },
    {
      "cell_type": "markdown",
      "source": [
        "**Describe helps in Analyzing the data at a glance** "
      ],
      "metadata": {
        "id": "o8jluGck53n7"
      }
    },
    {
      "cell_type": "code",
      "source": [
        "df.describe()"
      ],
      "metadata": {
        "colab": {
          "base_uri": "https://localhost:8080/",
          "height": 300
        },
        "id": "YKnLlVWZ54tQ",
        "outputId": "e908bb20-5439-45fa-a71d-a10c0bf39c44"
      },
      "execution_count": null,
      "outputs": [
        {
          "output_type": "execute_result",
          "data": {
            "text/plain": [
              "       accountNumber    customerId    creditLimit  availableMoney  \\\n",
              "count   7.863630e+05  7.863630e+05  786363.000000   786363.000000   \n",
              "mean    5.372326e+08  5.372326e+08   10759.464459     6250.725369   \n",
              "std     2.554211e+08  2.554211e+08   11636.174890     8880.783989   \n",
              "min     1.000881e+08  1.000881e+08     250.000000    -1005.630000   \n",
              "25%     3.301333e+08  3.301333e+08    5000.000000     1077.420000   \n",
              "50%     5.074561e+08  5.074561e+08    7500.000000     3184.860000   \n",
              "75%     7.676200e+08  7.676200e+08   15000.000000     7500.000000   \n",
              "max     9.993896e+08  9.993896e+08   50000.000000    50000.000000   \n",
              "\n",
              "       transactionAmount        cardCVV     enteredCVV  cardLast4Digits  \\\n",
              "count      786363.000000  786363.000000  786363.000000    786363.000000   \n",
              "mean          136.985791     544.467338     544.183857      4757.417799   \n",
              "std           147.725569     261.524220     261.551254      2996.583810   \n",
              "min             0.000000     100.000000       0.000000         0.000000   \n",
              "25%            33.650000     310.000000     310.000000      2178.000000   \n",
              "50%            87.900000     535.000000     535.000000      4733.000000   \n",
              "75%           191.480000     785.000000     785.000000      7338.000000   \n",
              "max          2011.540000     998.000000     998.000000      9998.000000   \n",
              "\n",
              "       currentBalance  \n",
              "count   786363.000000  \n",
              "mean      4508.739089  \n",
              "std       6457.442068  \n",
              "min          0.000000  \n",
              "25%        689.910000  \n",
              "50%       2451.760000  \n",
              "75%       5291.095000  \n",
              "max      47498.810000  "
            ],
            "text/html": [
              "\n",
              "  <div id=\"df-999e2329-9456-40b7-96ba-b64bd23b81f6\">\n",
              "    <div class=\"colab-df-container\">\n",
              "      <div>\n",
              "<style scoped>\n",
              "    .dataframe tbody tr th:only-of-type {\n",
              "        vertical-align: middle;\n",
              "    }\n",
              "\n",
              "    .dataframe tbody tr th {\n",
              "        vertical-align: top;\n",
              "    }\n",
              "\n",
              "    .dataframe thead th {\n",
              "        text-align: right;\n",
              "    }\n",
              "</style>\n",
              "<table border=\"1\" class=\"dataframe\">\n",
              "  <thead>\n",
              "    <tr style=\"text-align: right;\">\n",
              "      <th></th>\n",
              "      <th>accountNumber</th>\n",
              "      <th>customerId</th>\n",
              "      <th>creditLimit</th>\n",
              "      <th>availableMoney</th>\n",
              "      <th>transactionAmount</th>\n",
              "      <th>cardCVV</th>\n",
              "      <th>enteredCVV</th>\n",
              "      <th>cardLast4Digits</th>\n",
              "      <th>currentBalance</th>\n",
              "    </tr>\n",
              "  </thead>\n",
              "  <tbody>\n",
              "    <tr>\n",
              "      <th>count</th>\n",
              "      <td>7.863630e+05</td>\n",
              "      <td>7.863630e+05</td>\n",
              "      <td>786363.000000</td>\n",
              "      <td>786363.000000</td>\n",
              "      <td>786363.000000</td>\n",
              "      <td>786363.000000</td>\n",
              "      <td>786363.000000</td>\n",
              "      <td>786363.000000</td>\n",
              "      <td>786363.000000</td>\n",
              "    </tr>\n",
              "    <tr>\n",
              "      <th>mean</th>\n",
              "      <td>5.372326e+08</td>\n",
              "      <td>5.372326e+08</td>\n",
              "      <td>10759.464459</td>\n",
              "      <td>6250.725369</td>\n",
              "      <td>136.985791</td>\n",
              "      <td>544.467338</td>\n",
              "      <td>544.183857</td>\n",
              "      <td>4757.417799</td>\n",
              "      <td>4508.739089</td>\n",
              "    </tr>\n",
              "    <tr>\n",
              "      <th>std</th>\n",
              "      <td>2.554211e+08</td>\n",
              "      <td>2.554211e+08</td>\n",
              "      <td>11636.174890</td>\n",
              "      <td>8880.783989</td>\n",
              "      <td>147.725569</td>\n",
              "      <td>261.524220</td>\n",
              "      <td>261.551254</td>\n",
              "      <td>2996.583810</td>\n",
              "      <td>6457.442068</td>\n",
              "    </tr>\n",
              "    <tr>\n",
              "      <th>min</th>\n",
              "      <td>1.000881e+08</td>\n",
              "      <td>1.000881e+08</td>\n",
              "      <td>250.000000</td>\n",
              "      <td>-1005.630000</td>\n",
              "      <td>0.000000</td>\n",
              "      <td>100.000000</td>\n",
              "      <td>0.000000</td>\n",
              "      <td>0.000000</td>\n",
              "      <td>0.000000</td>\n",
              "    </tr>\n",
              "    <tr>\n",
              "      <th>25%</th>\n",
              "      <td>3.301333e+08</td>\n",
              "      <td>3.301333e+08</td>\n",
              "      <td>5000.000000</td>\n",
              "      <td>1077.420000</td>\n",
              "      <td>33.650000</td>\n",
              "      <td>310.000000</td>\n",
              "      <td>310.000000</td>\n",
              "      <td>2178.000000</td>\n",
              "      <td>689.910000</td>\n",
              "    </tr>\n",
              "    <tr>\n",
              "      <th>50%</th>\n",
              "      <td>5.074561e+08</td>\n",
              "      <td>5.074561e+08</td>\n",
              "      <td>7500.000000</td>\n",
              "      <td>3184.860000</td>\n",
              "      <td>87.900000</td>\n",
              "      <td>535.000000</td>\n",
              "      <td>535.000000</td>\n",
              "      <td>4733.000000</td>\n",
              "      <td>2451.760000</td>\n",
              "    </tr>\n",
              "    <tr>\n",
              "      <th>75%</th>\n",
              "      <td>7.676200e+08</td>\n",
              "      <td>7.676200e+08</td>\n",
              "      <td>15000.000000</td>\n",
              "      <td>7500.000000</td>\n",
              "      <td>191.480000</td>\n",
              "      <td>785.000000</td>\n",
              "      <td>785.000000</td>\n",
              "      <td>7338.000000</td>\n",
              "      <td>5291.095000</td>\n",
              "    </tr>\n",
              "    <tr>\n",
              "      <th>max</th>\n",
              "      <td>9.993896e+08</td>\n",
              "      <td>9.993896e+08</td>\n",
              "      <td>50000.000000</td>\n",
              "      <td>50000.000000</td>\n",
              "      <td>2011.540000</td>\n",
              "      <td>998.000000</td>\n",
              "      <td>998.000000</td>\n",
              "      <td>9998.000000</td>\n",
              "      <td>47498.810000</td>\n",
              "    </tr>\n",
              "  </tbody>\n",
              "</table>\n",
              "</div>\n",
              "      <button class=\"colab-df-convert\" onclick=\"convertToInteractive('df-999e2329-9456-40b7-96ba-b64bd23b81f6')\"\n",
              "              title=\"Convert this dataframe to an interactive table.\"\n",
              "              style=\"display:none;\">\n",
              "        \n",
              "  <svg xmlns=\"http://www.w3.org/2000/svg\" height=\"24px\"viewBox=\"0 0 24 24\"\n",
              "       width=\"24px\">\n",
              "    <path d=\"M0 0h24v24H0V0z\" fill=\"none\"/>\n",
              "    <path d=\"M18.56 5.44l.94 2.06.94-2.06 2.06-.94-2.06-.94-.94-2.06-.94 2.06-2.06.94zm-11 1L8.5 8.5l.94-2.06 2.06-.94-2.06-.94L8.5 2.5l-.94 2.06-2.06.94zm10 10l.94 2.06.94-2.06 2.06-.94-2.06-.94-.94-2.06-.94 2.06-2.06.94z\"/><path d=\"M17.41 7.96l-1.37-1.37c-.4-.4-.92-.59-1.43-.59-.52 0-1.04.2-1.43.59L10.3 9.45l-7.72 7.72c-.78.78-.78 2.05 0 2.83L4 21.41c.39.39.9.59 1.41.59.51 0 1.02-.2 1.41-.59l7.78-7.78 2.81-2.81c.8-.78.8-2.07 0-2.86zM5.41 20L4 18.59l7.72-7.72 1.47 1.35L5.41 20z\"/>\n",
              "  </svg>\n",
              "      </button>\n",
              "      \n",
              "  <style>\n",
              "    .colab-df-container {\n",
              "      display:flex;\n",
              "      flex-wrap:wrap;\n",
              "      gap: 12px;\n",
              "    }\n",
              "\n",
              "    .colab-df-convert {\n",
              "      background-color: #E8F0FE;\n",
              "      border: none;\n",
              "      border-radius: 50%;\n",
              "      cursor: pointer;\n",
              "      display: none;\n",
              "      fill: #1967D2;\n",
              "      height: 32px;\n",
              "      padding: 0 0 0 0;\n",
              "      width: 32px;\n",
              "    }\n",
              "\n",
              "    .colab-df-convert:hover {\n",
              "      background-color: #E2EBFA;\n",
              "      box-shadow: 0px 1px 2px rgba(60, 64, 67, 0.3), 0px 1px 3px 1px rgba(60, 64, 67, 0.15);\n",
              "      fill: #174EA6;\n",
              "    }\n",
              "\n",
              "    [theme=dark] .colab-df-convert {\n",
              "      background-color: #3B4455;\n",
              "      fill: #D2E3FC;\n",
              "    }\n",
              "\n",
              "    [theme=dark] .colab-df-convert:hover {\n",
              "      background-color: #434B5C;\n",
              "      box-shadow: 0px 1px 3px 1px rgba(0, 0, 0, 0.15);\n",
              "      filter: drop-shadow(0px 1px 2px rgba(0, 0, 0, 0.3));\n",
              "      fill: #FFFFFF;\n",
              "    }\n",
              "  </style>\n",
              "\n",
              "      <script>\n",
              "        const buttonEl =\n",
              "          document.querySelector('#df-999e2329-9456-40b7-96ba-b64bd23b81f6 button.colab-df-convert');\n",
              "        buttonEl.style.display =\n",
              "          google.colab.kernel.accessAllowed ? 'block' : 'none';\n",
              "\n",
              "        async function convertToInteractive(key) {\n",
              "          const element = document.querySelector('#df-999e2329-9456-40b7-96ba-b64bd23b81f6');\n",
              "          const dataTable =\n",
              "            await google.colab.kernel.invokeFunction('convertToInteractive',\n",
              "                                                     [key], {});\n",
              "          if (!dataTable) return;\n",
              "\n",
              "          const docLinkHtml = 'Like what you see? Visit the ' +\n",
              "            '<a target=\"_blank\" href=https://colab.research.google.com/notebooks/data_table.ipynb>data table notebook</a>'\n",
              "            + ' to learn more about interactive tables.';\n",
              "          element.innerHTML = '';\n",
              "          dataTable['output_type'] = 'display_data';\n",
              "          await google.colab.output.renderOutput(dataTable, element);\n",
              "          const docLink = document.createElement('div');\n",
              "          docLink.innerHTML = docLinkHtml;\n",
              "          element.appendChild(docLink);\n",
              "        }\n",
              "      </script>\n",
              "    </div>\n",
              "  </div>\n",
              "  "
            ]
          },
          "metadata": {},
          "execution_count": 108
        }
      ]
    },
    {
      "cell_type": "markdown",
      "source": [
        "**Checking for Null values in data, because either these are filled with an appropriate value with respect to each column or completely removed from the dataset, depending on a given use case**"
      ],
      "metadata": {
        "id": "REQl40G36Hw_"
      }
    },
    {
      "cell_type": "code",
      "source": [
        "df.replace('', np.nan, inplace=True)\n",
        "df.isnull().sum()"
      ],
      "metadata": {
        "colab": {
          "base_uri": "https://localhost:8080/"
        },
        "id": "b4J7HQqb6LGC",
        "outputId": "f4cbb940-2bfd-4d5d-94f5-56b11383093d"
      },
      "execution_count": null,
      "outputs": [
        {
          "output_type": "execute_result",
          "data": {
            "text/plain": [
              "accountNumber                    0\n",
              "customerId                       0\n",
              "creditLimit                      0\n",
              "availableMoney                   0\n",
              "transactionDateTime              0\n",
              "transactionAmount                0\n",
              "merchantName                     0\n",
              "acqCountry                    4562\n",
              "merchantCountryCode            724\n",
              "posEntryMode                  4054\n",
              "posConditionCode               409\n",
              "merchantCategoryCode             0\n",
              "currentExpDate                   0\n",
              "accountOpenDate                  0\n",
              "dateOfLastAddressChange          0\n",
              "cardCVV                          0\n",
              "enteredCVV                       0\n",
              "cardLast4Digits                  0\n",
              "transactionType                698\n",
              "echoBuffer                  786363\n",
              "currentBalance                   0\n",
              "merchantCity                786363\n",
              "merchantState               786363\n",
              "merchantZip                 786363\n",
              "cardPresent                      0\n",
              "posOnPremises               786363\n",
              "recurringAuthInd            786363\n",
              "expirationDateKeyInMatch         0\n",
              "isFraud                          0\n",
              "dtype: int64"
            ]
          },
          "metadata": {},
          "execution_count": 109
        }
      ]
    },
    {
      "cell_type": "markdown",
      "source": [
        "**Unique Values in each attribute also helps explore the structure of the dataset**"
      ],
      "metadata": {
        "id": "DYPBbCrj6QEi"
      }
    },
    {
      "cell_type": "code",
      "source": [
        "df.nunique()"
      ],
      "metadata": {
        "colab": {
          "base_uri": "https://localhost:8080/"
        },
        "id": "RCX_sr3I6TcN",
        "outputId": "84b56673-fee3-4fb7-f3f7-76bcc1eb0d1b"
      },
      "execution_count": null,
      "outputs": [
        {
          "output_type": "execute_result",
          "data": {
            "text/plain": [
              "accountNumber                 5000\n",
              "customerId                    5000\n",
              "creditLimit                     10\n",
              "availableMoney              521915\n",
              "transactionDateTime         776637\n",
              "transactionAmount            66038\n",
              "merchantName                  2490\n",
              "acqCountry                       4\n",
              "merchantCountryCode              4\n",
              "posEntryMode                     5\n",
              "posConditionCode                 3\n",
              "merchantCategoryCode            19\n",
              "currentExpDate                 165\n",
              "accountOpenDate               1820\n",
              "dateOfLastAddressChange       2184\n",
              "cardCVV                        899\n",
              "enteredCVV                     976\n",
              "cardLast4Digits               5245\n",
              "transactionType                  3\n",
              "echoBuffer                       0\n",
              "currentBalance              487318\n",
              "merchantCity                     0\n",
              "merchantState                    0\n",
              "merchantZip                      0\n",
              "cardPresent                      2\n",
              "posOnPremises                    0\n",
              "recurringAuthInd                 0\n",
              "expirationDateKeyInMatch         2\n",
              "isFraud                          2\n",
              "dtype: int64"
            ]
          },
          "metadata": {},
          "execution_count": 110
        }
      ]
    },
    {
      "cell_type": "markdown",
      "source": [
        "\n",
        "\n",
        "**Here that most important attribute is \"isFraud\" which has 1.6% True Values**"
      ],
      "metadata": {
        "id": "TfvIcKRh6aMe"
      }
    },
    {
      "cell_type": "code",
      "source": [
        "df['isFraud'].value_counts()"
      ],
      "metadata": {
        "colab": {
          "base_uri": "https://localhost:8080/"
        },
        "id": "a28ohwtp60YI",
        "outputId": "6d92e3f8-a121-46d9-e3bd-9c8c1e15aa65"
      },
      "execution_count": null,
      "outputs": [
        {
          "output_type": "execute_result",
          "data": {
            "text/plain": [
              "False    773946\n",
              "True      12417\n",
              "Name: isFraud, dtype: int64"
            ]
          },
          "metadata": {},
          "execution_count": 111
        }
      ]
    },
    {
      "cell_type": "code",
      "source": [
        "colsToObserve = df.columns[(df.nunique() <= 10)]"
      ],
      "metadata": {
        "id": "0YfW45Gw68Ul"
      },
      "execution_count": null,
      "outputs": []
    },
    {
      "cell_type": "markdown",
      "source": [
        "**When an attribute has less number of Unique Values it is always a good criteria to look at them keenly to know more about the structure as a whole and how the other attributes are behaving around these small buckets**"
      ],
      "metadata": {
        "id": "fgb1U1Ej7BB4"
      }
    },
    {
      "cell_type": "code",
      "source": [
        "for col in colsToObserve:\n",
        "  if len(df[col].unique())>1:\n",
        "    print(col + \" : \")\n",
        "    print(df[col].unique())"
      ],
      "metadata": {
        "colab": {
          "base_uri": "https://localhost:8080/"
        },
        "id": "MGs6vUBl7F2q",
        "outputId": "d4b327c1-7214-4a9b-d19f-79c04bc7e945"
      },
      "execution_count": null,
      "outputs": [
        {
          "output_type": "stream",
          "name": "stdout",
          "text": [
            "creditLimit : \n",
            "[ 5000  2500 50000 15000 10000   250   500  1000  7500 20000]\n",
            "acqCountry : \n",
            "['US' nan 'CAN' 'MEX' 'PR']\n",
            "merchantCountryCode : \n",
            "['US' 'CAN' nan 'PR' 'MEX']\n",
            "posEntryMode : \n",
            "['02' '09' '05' '80' '90' nan]\n",
            "posConditionCode : \n",
            "['01' '08' '99' nan]\n",
            "transactionType : \n",
            "['PURCHASE' 'ADDRESS_VERIFICATION' 'REVERSAL' nan]\n",
            "cardPresent : \n",
            "[False  True]\n",
            "expirationDateKeyInMatch : \n",
            "[False  True]\n",
            "isFraud : \n",
            "[False  True]\n"
          ]
        }
      ]
    },
    {
      "cell_type": "markdown",
      "source": [
        "# **Data Visualization**\n"
      ],
      "metadata": {
        "id": "k2MBTBi17MJW"
      }
    },
    {
      "cell_type": "markdown",
      "source": [
        "**Plots, Histograms, Box Plots, Correlation Matrix and Hypothesis about the Structure of Data, Deep Diving in Fraudulent Aspects to find correlation and causation**"
      ],
      "metadata": {
        "id": "55XQ0uhUFqxK"
      }
    },
    {
      "cell_type": "markdown",
      "source": [
        "**Converting True/False Booleans as 0s and 1s**"
      ],
      "metadata": {
        "id": "QioHfkYW7TZs"
      }
    },
    {
      "cell_type": "code",
      "source": [
        "df[[\"isFraud\", \"cardPresent\", \"expirationDateKeyInMatch\", ]] *= 1"
      ],
      "metadata": {
        "id": "GW_ZAY7u7Xtv"
      },
      "execution_count": null,
      "outputs": []
    },
    {
      "cell_type": "markdown",
      "source": [
        "**Buckets/Unique Values in Credit Card Limit are shown below:**\n",
        "\n",
        "**Most of the Credit Cards have 5000 as their limit, on second number it is 15000. Interestingly, credit cards with 50,000 limit also exists in the dataset**"
      ],
      "metadata": {
        "id": "ROghw9YY7dyi"
      }
    },
    {
      "cell_type": "code",
      "source": [
        "import seaborn as sns\n",
        "\n",
        "\n",
        "\n",
        "e=pd.DataFrame(df.creditLimit.value_counts()).reset_index(drop=False)\n",
        "e.columns=['creditLimit','Frequency'] # rename columns\n",
        "plt.figure(figsize=(14,6)) # adjust figure size\n",
        "ax = sns.barplot(x=\"creditLimit\", y=\"Frequency\", data=e) # draw barplot"
      ],
      "metadata": {
        "colab": {
          "base_uri": "https://localhost:8080/",
          "height": 388
        },
        "id": "EcZjpdZC7qtY",
        "outputId": "e974e152-8f55-4fbb-a28f-89cacb95b1b3"
      },
      "execution_count": null,
      "outputs": [
        {
          "output_type": "display_data",
          "data": {
            "text/plain": [
              "<Figure size 1008x432 with 1 Axes>"
            ],
            "image/png": "[encoded data removed]"
          },
          "metadata": {
            "needs_background": "light"
          }
        }
      ]
    },
    {
      "cell_type": "markdown",
      "source": [
        "**4 Types of Merchant Country Code exists in the datset where US is a dominant entity as shown**"
      ],
      "metadata": {
        "id": "StoMN1l2v3tr"
      }
    },
    {
      "cell_type": "code",
      "source": [
        "e=pd.DataFrame(df.merchantCountryCode.value_counts()).reset_index(drop=False)\n",
        "e.columns=['merchantCountryCode','Frequency'] # rename columns\n",
        "plt.figure(figsize=(14,6)) # adjust figure size\n",
        "ax = sns.barplot(x=\"Frequency\", y=\"merchantCountryCode\", data=e) # draw barplot"
      ],
      "metadata": {
        "colab": {
          "base_uri": "https://localhost:8080/",
          "height": 388
        },
        "id": "SGmE99I4v7dh",
        "outputId": "199ef752-1115-4899-e0b6-3b9dec7c7d77"
      },
      "execution_count": null,
      "outputs": [
        {
          "output_type": "display_data",
          "data": {
            "text/plain": [
              "<Figure size 1008x432 with 1 Axes>"
            ],
            "image/png": "[encoded data removed]"
          },
          "metadata": {
            "needs_background": "light"
          }
        }
      ]
    },
    {
      "cell_type": "markdown",
      "source": [
        "**5 POS Entery Mode exists where \"05\", \"09\", and \"02\" covers most of the values**"
      ],
      "metadata": {
        "id": "nvCvLxryGHkZ"
      }
    },
    {
      "cell_type": "code",
      "source": [
        "e=pd.DataFrame(df.posEntryMode.value_counts()).reset_index(drop=False)\n",
        "e.columns=['posEntryMode','Frequency'] # rename columns\n",
        "plt.figure(figsize=(14,6)) # adjust figure size\n",
        "ax = sns.barplot(x=\"Frequency\", y=\"posEntryMode\", data=e) # draw barplot"
      ],
      "metadata": {
        "colab": {
          "base_uri": "https://localhost:8080/",
          "height": 388
        },
        "id": "dnGaVC6qwiaS",
        "outputId": "285eb965-a5bc-417b-845e-c2b535787a87"
      },
      "execution_count": null,
      "outputs": [
        {
          "output_type": "display_data",
          "data": {
            "text/plain": [
              "<Figure size 1008x432 with 1 Axes>"
            ],
            "image/png": "[encoded data removed]"
          },
          "metadata": {
            "needs_background": "light"
          }
        }
      ]
    },
    {
      "cell_type": "markdown",
      "source": [
        "**3 POS Condition Mode exists where \"01\" is dominant among all**"
      ],
      "metadata": {
        "id": "AaI8Ev2nwoWM"
      }
    },
    {
      "cell_type": "code",
      "source": [
        "e=pd.DataFrame(df.posConditionCode.value_counts()).reset_index(drop=False)\n",
        "e.columns=['posConditionCode','Frequency'] # rename columns\n",
        "plt.figure(figsize=(14,6)) # adjust figure size\n",
        "ax = sns.barplot(x=\"Frequency\", y=\"posConditionCode\", data=e) # draw barplot"
      ],
      "metadata": {
        "colab": {
          "base_uri": "https://localhost:8080/",
          "height": 388
        },
        "id": "1qxHCx76wsZD",
        "outputId": "7f6825ec-f167-466c-a327-70b9381f799f"
      },
      "execution_count": null,
      "outputs": [
        {
          "output_type": "display_data",
          "data": {
            "text/plain": [
              "<Figure size 1008x432 with 1 Axes>"
            ],
            "image/png": "[encoded data removed]"
          },
          "metadata": {
            "needs_background": "light"
          }
        }
      ]
    },
    {
      "cell_type": "markdown",
      "source": [
        "\n",
        "**There are 3 transaction types:**\n",
        "\n",
        "**1.Purchase**\n",
        "\n",
        "**2.Reversal**\n",
        "\n",
        "**3.Address Verification**\n",
        "\n",
        "**where most values lie inside Purchase Type.**\n",
        "\n",
        "\n",
        "\n"
      ],
      "metadata": {
        "id": "T4jprzsWwvsh"
      }
    },
    {
      "cell_type": "code",
      "source": [
        "e=pd.DataFrame(df.transactionType.value_counts()).reset_index(drop=False)\n",
        "e.columns=['transactionType','Frequency'] # rename columns\n",
        "plt.figure(figsize=(14,6)) # adjust figure size\n",
        "ax = sns.barplot(x=\"transactionType\", y=\"Frequency\", data=e) # draw barplot"
      ],
      "metadata": {
        "colab": {
          "base_uri": "https://localhost:8080/",
          "height": 389
        },
        "id": "mnt8jhnXv_88",
        "outputId": "c633dd09-44fd-4eaa-dda4-943a0a60f402"
      },
      "execution_count": null,
      "outputs": [
        {
          "output_type": "display_data",
          "data": {
            "text/plain": [
              "<Figure size 1008x432 with 1 Axes>"
            ],
            "image/png": "[encoded data removed]"
          },
          "metadata": {
            "needs_background": "light"
          }
        }
      ]
    },
    {
      "cell_type": "markdown",
      "source": [
        "**If card is Present during the transaction also plays an important role and dataset is fairly distributed among the two values as True/False**"
      ],
      "metadata": {
        "id": "CO_6PGlwxFMD"
      }
    },
    {
      "cell_type": "code",
      "source": [
        "e=pd.DataFrame(df.cardPresent.value_counts()).reset_index(drop=False)\n",
        "e.columns=['cardPresent','Frequency'] # rename columns\n",
        "plt.figure(figsize=(14,6)) # adjust figure size\n",
        "ax = sns.barplot(x=\"cardPresent\", y=\"Frequency\", data=e) # draw barplot"
      ],
      "metadata": {
        "colab": {
          "base_uri": "https://localhost:8080/",
          "height": 388
        },
        "id": "GRI6tItRxFvk",
        "outputId": "69262fc0-dcd6-4d0c-b01a-4c77f4cd2c95"
      },
      "execution_count": null,
      "outputs": [
        {
          "output_type": "display_data",
          "data": {
            "text/plain": [
              "<Figure size 1008x432 with 1 Axes>"
            ],
            "image/png": "[encoded data removed]"
          },
          "metadata": {
            "needs_background": "light"
          }
        }
      ]
    },
    {
      "cell_type": "code",
      "source": [
        ""
      ],
      "metadata": {
        "id": "ovxXDxNFxIM5"
      },
      "execution_count": null,
      "outputs": []
    },
    {
      "cell_type": "markdown",
      "source": [
        "**Expiration Date Key In Match is highly skewed to 0 value**"
      ],
      "metadata": {
        "id": "-oXkh9qmxKg7"
      }
    },
    {
      "cell_type": "code",
      "source": [
        "e=pd.DataFrame(df.expirationDateKeyInMatch.value_counts()).reset_index(drop=False)\n",
        "e.columns=['expirationDateKeyInMatch','Frequency'] # rename columns\n",
        "plt.figure(figsize=(14,6)) # adjust figure size\n",
        "ax = sns.barplot(x=\"expirationDateKeyInMatch\", y=\"Frequency\", data=e) # draw barplot"
      ],
      "metadata": {
        "colab": {
          "base_uri": "https://localhost:8080/",
          "height": 388
        },
        "id": "2F4Wfvm6xOr2",
        "outputId": "573a6dfa-d746-4227-e83c-761c4e287388"
      },
      "execution_count": null,
      "outputs": [
        {
          "output_type": "display_data",
          "data": {
            "text/plain": [
              "<Figure size 1008x432 with 1 Axes>"
            ],
            "image/png": "[encoded data removed]"
          },
          "metadata": {
            "needs_background": "light"
          }
        }
      ]
    },
    {
      "cell_type": "code",
      "source": [
        "df.expirationDateKeyInMatch.value_counts()"
      ],
      "metadata": {
        "colab": {
          "base_uri": "https://localhost:8080/"
        },
        "id": "mzDPI1UhxPQV",
        "outputId": "c8af029b-c615-4f3b-8a9e-b729f80790d7"
      },
      "execution_count": null,
      "outputs": [
        {
          "output_type": "execute_result",
          "data": {
            "text/plain": [
              "0    785320\n",
              "1      1043\n",
              "Name: expirationDateKeyInMatch, dtype: int64"
            ]
          },
          "metadata": {},
          "execution_count": 122
        }
      ]
    },
    {
      "cell_type": "markdown",
      "source": [
        "**isFraud as described earlier is clearly an example of IMBALANCED DATSET with respect to this attribute. But It is expected to be like that in real world scenario as Frauds are always less than 5% with respect to whole dataset. Here it is 1.6%**"
      ],
      "metadata": {
        "id": "kafebCi5xVB2"
      }
    },
    {
      "cell_type": "code",
      "source": [
        "e=pd.DataFrame(df.isFraud.value_counts()).reset_index(drop=False)\n",
        "e.columns=['isFraud','Frequency'] # rename columns\n",
        "plt.figure(figsize=(14,6)) # adjust figure size\n",
        "ax = sns.barplot(x=\"isFraud\", y=\"Frequency\", data=e) # draw barplot"
      ],
      "metadata": {
        "colab": {
          "base_uri": "https://localhost:8080/",
          "height": 388
        },
        "id": "D0rYFmGZxWwf",
        "outputId": "f8055286-62ad-4a9b-cfc0-f5d236054b8d"
      },
      "execution_count": null,
      "outputs": [
        {
          "output_type": "display_data",
          "data": {
            "text/plain": [
              "<Figure size 1008x432 with 1 Axes>"
            ],
            "image/png": "[encoded data removed]"
          },
          "metadata": {
            "needs_background": "light"
          }
        }
      ]
    },
    {
      "cell_type": "markdown",
      "source": [
        "**Gouping By with respect to Customer ID represents how many Unique Customers exist in the dataset which are 5000**"
      ],
      "metadata": {
        "id": "mk8uHNMRxb80"
      }
    },
    {
      "cell_type": "code",
      "source": [
        "df.groupby(['customerId']).count()"
      ],
      "metadata": {
        "colab": {
          "base_uri": "https://localhost:8080/",
          "height": 519
        },
        "id": "BAHc94AOxflj",
        "outputId": "39111deb-01d9-4d65-df3c-7427afc7b99a"
      },
      "execution_count": null,
      "outputs": [
        {
          "output_type": "execute_result",
          "data": {
            "text/plain": [
              "            accountNumber  creditLimit  availableMoney  transactionDateTime  \\\n",
              "customerId                                                                    \n",
              "100088067              75           75              75                   75   \n",
              "100108752              18           18              18                   18   \n",
              "100328049             103          103             103                  103   \n",
              "100663626              31           31              31                   31   \n",
              "100737756             178          178             178                  178   \n",
              "...                   ...          ...             ...                  ...   \n",
              "999086814             677          677             677                  677   \n",
              "999257059             160          160             160                  160   \n",
              "999258704              88           88              88                   88   \n",
              "999283629             141          141             141                  141   \n",
              "999389635               9            9               9                    9   \n",
              "\n",
              "            transactionAmount  merchantName  acqCountry  merchantCountryCode  \\\n",
              "customerId                                                                     \n",
              "100088067                  75            75          75                   75   \n",
              "100108752                  18            18          18                   18   \n",
              "100328049                 103           103         103                  103   \n",
              "100663626                  31            31          31                   31   \n",
              "100737756                 178           178         178                  178   \n",
              "...                       ...           ...         ...                  ...   \n",
              "999086814                 677           677         674                  677   \n",
              "999257059                 160           160         159                  160   \n",
              "999258704                  88            88          88                   88   \n",
              "999283629                 141           141         140                  141   \n",
              "999389635                   9             9           9                    9   \n",
              "\n",
              "            posEntryMode  posConditionCode  ...  echoBuffer  currentBalance  \\\n",
              "customerId                                  ...                               \n",
              "100088067             74                75  ...           0              75   \n",
              "100108752             18                18  ...           0              18   \n",
              "100328049            102               103  ...           0             103   \n",
              "100663626             31                31  ...           0              31   \n",
              "100737756            178               178  ...           0             178   \n",
              "...                  ...               ...  ...         ...             ...   \n",
              "999086814            673               675  ...           0             677   \n",
              "999257059            158               160  ...           0             160   \n",
              "999258704             86                88  ...           0              88   \n",
              "999283629            141               141  ...           0             141   \n",
              "999389635              9                 9  ...           0               9   \n",
              "\n",
              "            merchantCity  merchantState  merchantZip  cardPresent  \\\n",
              "customerId                                                          \n",
              "100088067              0              0            0           75   \n",
              "100108752              0              0            0           18   \n",
              "100328049              0              0            0          103   \n",
              "100663626              0              0            0           31   \n",
              "100737756              0              0            0          178   \n",
              "...                  ...            ...          ...          ...   \n",
              "999086814              0              0            0          677   \n",
              "999257059              0              0            0          160   \n",
              "999258704              0              0            0           88   \n",
              "999283629              0              0            0          141   \n",
              "999389635              0              0            0            9   \n",
              "\n",
              "            posOnPremises  recurringAuthInd  expirationDateKeyInMatch  isFraud  \n",
              "customerId                                                                      \n",
              "100088067               0                 0                        75       75  \n",
              "100108752               0                 0                        18       18  \n",
              "100328049               0                 0                       103      103  \n",
              "100663626               0                 0                        31       31  \n",
              "100737756               0                 0                       178      178  \n",
              "...                   ...               ...                       ...      ...  \n",
              "999086814               0                 0                       677      677  \n",
              "999257059               0                 0                       160      160  \n",
              "999258704               0                 0                        88       88  \n",
              "999283629               0                 0                       141      141  \n",
              "999389635               0                 0                         9        9  \n",
              "\n",
              "[5000 rows x 28 columns]"
            ],
            "text/html": [
              "\n",
              "  <div id=\"df-752c86f1-c8e0-4142-a329-354ccc8a0b96\">\n",
              "    <div class=\"colab-df-container\">\n",
              "      <div>\n",
              "<style scoped>\n",
              "    .dataframe tbody tr th:only-of-type {\n",
              "        vertical-align: middle;\n",
              "    }\n",
              "\n",
              "    .dataframe tbody tr th {\n",
              "        vertical-align: top;\n",
              "    }\n",
              "\n",
              "    .dataframe thead th {\n",
              "        text-align: right;\n",
              "    }\n",
              "</style>\n",
              "<table border=\"1\" class=\"dataframe\">\n",
              "  <thead>\n",
              "    <tr style=\"text-align: right;\">\n",
              "      <th></th>\n",
              "      <th>accountNumber</th>\n",
              "      <th>creditLimit</th>\n",
              "      <th>availableMoney</th>\n",
              "      <th>transactionDateTime</th>\n",
              "      <th>transactionAmount</th>\n",
              "      <th>merchantName</th>\n",
              "      <th>acqCountry</th>\n",
              "      <th>merchantCountryCode</th>\n",
              "      <th>posEntryMode</th>\n",
              "      <th>posConditionCode</th>\n",
              "      <th>...</th>\n",
              "      <th>echoBuffer</th>\n",
              "      <th>currentBalance</th>\n",
              "      <th>merchantCity</th>\n",
              "      <th>merchantState</th>\n",
              "      <th>merchantZip</th>\n",
              "      <th>cardPresent</th>\n",
              "      <th>posOnPremises</th>\n",
              "      <th>recurringAuthInd</th>\n",
              "      <th>expirationDateKeyInMatch</th>\n",
              "      <th>isFraud</th>\n",
              "    </tr>\n",
              "    <tr>\n",
              "      <th>customerId</th>\n",
              "      <th></th>\n",
              "      <th></th>\n",
              "      <th></th>\n",
              "      <th></th>\n",
              "      <th></th>\n",
              "      <th></th>\n",
              "      <th></th>\n",
              "      <th></th>\n",
              "      <th></th>\n",
              "      <th></th>\n",
              "      <th></th>\n",
              "      <th></th>\n",
              "      <th></th>\n",
              "      <th></th>\n",
              "      <th></th>\n",
              "      <th></th>\n",
              "      <th></th>\n",
              "      <th></th>\n",
              "      <th></th>\n",
              "      <th></th>\n",
              "      <th></th>\n",
              "    </tr>\n",
              "  </thead>\n",
              "  <tbody>\n",
              "    <tr>\n",
              "      <th>100088067</th>\n",
              "      <td>75</td>\n",
              "      <td>75</td>\n",
              "      <td>75</td>\n",
              "      <td>75</td>\n",
              "      <td>75</td>\n",
              "      <td>75</td>\n",
              "      <td>75</td>\n",
              "      <td>75</td>\n",
              "      <td>74</td>\n",
              "      <td>75</td>\n",
              "      <td>...</td>\n",
              "      <td>0</td>\n",
              "      <td>75</td>\n",
              "      <td>0</td>\n",
              "      <td>0</td>\n",
              "      <td>0</td>\n",
              "      <td>75</td>\n",
              "      <td>0</td>\n",
              "      <td>0</td>\n",
              "      <td>75</td>\n",
              "      <td>75</td>\n",
              "    </tr>\n",
              "    <tr>\n",
              "      <th>100108752</th>\n",
              "      <td>18</td>\n",
              "      <td>18</td>\n",
              "      <td>18</td>\n",
              "      <td>18</td>\n",
              "      <td>18</td>\n",
              "      <td>18</td>\n",
              "      <td>18</td>\n",
              "      <td>18</td>\n",
              "      <td>18</td>\n",
              "      <td>18</td>\n",
              "      <td>...</td>\n",
              "      <td>0</td>\n",
              "      <td>18</td>\n",
              "      <td>0</td>\n",
              "      <td>0</td>\n",
              "      <td>0</td>\n",
              "      <td>18</td>\n",
              "      <td>0</td>\n",
              "      <td>0</td>\n",
              "      <td>18</td>\n",
              "      <td>18</td>\n",
              "    </tr>\n",
              "    <tr>\n",
              "      <th>100328049</th>\n",
              "      <td>103</td>\n",
              "      <td>103</td>\n",
              "      <td>103</td>\n",
              "      <td>103</td>\n",
              "      <td>103</td>\n",
              "      <td>103</td>\n",
              "      <td>103</td>\n",
              "      <td>103</td>\n",
              "      <td>102</td>\n",
              "      <td>103</td>\n",
              "      <td>...</td>\n",
              "      <td>0</td>\n",
              "      <td>103</td>\n",
              "      <td>0</td>\n",
              "      <td>0</td>\n",
              "      <td>0</td>\n",
              "      <td>103</td>\n",
              "      <td>0</td>\n",
              "      <td>0</td>\n",
              "      <td>103</td>\n",
              "      <td>103</td>\n",
              "    </tr>\n",
              "    <tr>\n",
              "      <th>100663626</th>\n",
              "      <td>31</td>\n",
              "      <td>31</td>\n",
              "      <td>31</td>\n",
              "      <td>31</td>\n",
              "      <td>31</td>\n",
              "      <td>31</td>\n",
              "      <td>31</td>\n",
              "      <td>31</td>\n",
              "      <td>31</td>\n",
              "      <td>31</td>\n",
              "      <td>...</td>\n",
              "      <td>0</td>\n",
              "      <td>31</td>\n",
              "      <td>0</td>\n",
              "      <td>0</td>\n",
              "      <td>0</td>\n",
              "      <td>31</td>\n",
              "      <td>0</td>\n",
              "      <td>0</td>\n",
              "      <td>31</td>\n",
              "      <td>31</td>\n",
              "    </tr>\n",
              "    <tr>\n",
              "      <th>100737756</th>\n",
              "      <td>178</td>\n",
              "      <td>178</td>\n",
              "      <td>178</td>\n",
              "      <td>178</td>\n",
              "      <td>178</td>\n",
              "      <td>178</td>\n",
              "      <td>178</td>\n",
              "      <td>178</td>\n",
              "      <td>178</td>\n",
              "      <td>178</td>\n",
              "      <td>...</td>\n",
              "      <td>0</td>\n",
              "      <td>178</td>\n",
              "      <td>0</td>\n",
              "      <td>0</td>\n",
              "      <td>0</td>\n",
              "      <td>178</td>\n",
              "      <td>0</td>\n",
              "      <td>0</td>\n",
              "      <td>178</td>\n",
              "      <td>178</td>\n",
              "    </tr>\n",
              "    <tr>\n",
              "      <th>...</th>\n",
              "      <td>...</td>\n",
              "      <td>...</td>\n",
              "      <td>...</td>\n",
              "      <td>...</td>\n",
              "      <td>...</td>\n",
              "      <td>...</td>\n",
              "      <td>...</td>\n",
              "      <td>...</td>\n",
              "      <td>...</td>\n",
              "      <td>...</td>\n",
              "      <td>...</td>\n",
              "      <td>...</td>\n",
              "      <td>...</td>\n",
              "      <td>...</td>\n",
              "      <td>...</td>\n",
              "      <td>...</td>\n",
              "      <td>...</td>\n",
              "      <td>...</td>\n",
              "      <td>...</td>\n",
              "      <td>...</td>\n",
              "      <td>...</td>\n",
              "    </tr>\n",
              "    <tr>\n",
              "      <th>999086814</th>\n",
              "      <td>677</td>\n",
              "      <td>677</td>\n",
              "      <td>677</td>\n",
              "      <td>677</td>\n",
              "      <td>677</td>\n",
              "      <td>677</td>\n",
              "      <td>674</td>\n",
              "      <td>677</td>\n",
              "      <td>673</td>\n",
              "      <td>675</td>\n",
              "      <td>...</td>\n",
              "      <td>0</td>\n",
              "      <td>677</td>\n",
              "      <td>0</td>\n",
              "      <td>0</td>\n",
              "      <td>0</td>\n",
              "      <td>677</td>\n",
              "      <td>0</td>\n",
              "      <td>0</td>\n",
              "      <td>677</td>\n",
              "      <td>677</td>\n",
              "    </tr>\n",
              "    <tr>\n",
              "      <th>999257059</th>\n",
              "      <td>160</td>\n",
              "      <td>160</td>\n",
              "      <td>160</td>\n",
              "      <td>160</td>\n",
              "      <td>160</td>\n",
              "      <td>160</td>\n",
              "      <td>159</td>\n",
              "      <td>160</td>\n",
              "      <td>158</td>\n",
              "      <td>160</td>\n",
              "      <td>...</td>\n",
              "      <td>0</td>\n",
              "      <td>160</td>\n",
              "      <td>0</td>\n",
              "      <td>0</td>\n",
              "      <td>0</td>\n",
              "      <td>160</td>\n",
              "      <td>0</td>\n",
              "      <td>0</td>\n",
              "      <td>160</td>\n",
              "      <td>160</td>\n",
              "    </tr>\n",
              "    <tr>\n",
              "      <th>999258704</th>\n",
              "      <td>88</td>\n",
              "      <td>88</td>\n",
              "      <td>88</td>\n",
              "      <td>88</td>\n",
              "      <td>88</td>\n",
              "      <td>88</td>\n",
              "      <td>88</td>\n",
              "      <td>88</td>\n",
              "      <td>86</td>\n",
              "      <td>88</td>\n",
              "      <td>...</td>\n",
              "      <td>0</td>\n",
              "      <td>88</td>\n",
              "      <td>0</td>\n",
              "      <td>0</td>\n",
              "      <td>0</td>\n",
              "      <td>88</td>\n",
              "      <td>0</td>\n",
              "      <td>0</td>\n",
              "      <td>88</td>\n",
              "      <td>88</td>\n",
              "    </tr>\n",
              "    <tr>\n",
              "      <th>999283629</th>\n",
              "      <td>141</td>\n",
              "      <td>141</td>\n",
              "      <td>141</td>\n",
              "      <td>141</td>\n",
              "      <td>141</td>\n",
              "      <td>141</td>\n",
              "      <td>140</td>\n",
              "      <td>141</td>\n",
              "      <td>141</td>\n",
              "      <td>141</td>\n",
              "      <td>...</td>\n",
              "      <td>0</td>\n",
              "      <td>141</td>\n",
              "      <td>0</td>\n",
              "      <td>0</td>\n",
              "      <td>0</td>\n",
              "      <td>141</td>\n",
              "      <td>0</td>\n",
              "      <td>0</td>\n",
              "      <td>141</td>\n",
              "      <td>141</td>\n",
              "    </tr>\n",
              "    <tr>\n",
              "      <th>999389635</th>\n",
              "      <td>9</td>\n",
              "      <td>9</td>\n",
              "      <td>9</td>\n",
              "      <td>9</td>\n",
              "      <td>9</td>\n",
              "      <td>9</td>\n",
              "      <td>9</td>\n",
              "      <td>9</td>\n",
              "      <td>9</td>\n",
              "      <td>9</td>\n",
              "      <td>...</td>\n",
              "      <td>0</td>\n",
              "      <td>9</td>\n",
              "      <td>0</td>\n",
              "      <td>0</td>\n",
              "      <td>0</td>\n",
              "      <td>9</td>\n",
              "      <td>0</td>\n",
              "      <td>0</td>\n",
              "      <td>9</td>\n",
              "      <td>9</td>\n",
              "    </tr>\n",
              "  </tbody>\n",
              "</table>\n",
              "<p>5000 rows × 28 columns</p>\n",
              "</div>\n",
              "      <button class=\"colab-df-convert\" onclick=\"convertToInteractive('df-752c86f1-c8e0-4142-a329-354ccc8a0b96')\"\n",
              "              title=\"Convert this dataframe to an interactive table.\"\n",
              "              style=\"display:none;\">\n",
              "        \n",
              "  <svg xmlns=\"http://www.w3.org/2000/svg\" height=\"24px\"viewBox=\"0 0 24 24\"\n",
              "       width=\"24px\">\n",
              "    <path d=\"M0 0h24v24H0V0z\" fill=\"none\"/>\n",
              "    <path d=\"M18.56 5.44l.94 2.06.94-2.06 2.06-.94-2.06-.94-.94-2.06-.94 2.06-2.06.94zm-11 1L8.5 8.5l.94-2.06 2.06-.94-2.06-.94L8.5 2.5l-.94 2.06-2.06.94zm10 10l.94 2.06.94-2.06 2.06-.94-2.06-.94-.94-2.06-.94 2.06-2.06.94z\"/><path d=\"M17.41 7.96l-1.37-1.37c-.4-.4-.92-.59-1.43-.59-.52 0-1.04.2-1.43.59L10.3 9.45l-7.72 7.72c-.78.78-.78 2.05 0 2.83L4 21.41c.39.39.9.59 1.41.59.51 0 1.02-.2 1.41-.59l7.78-7.78 2.81-2.81c.8-.78.8-2.07 0-2.86zM5.41 20L4 18.59l7.72-7.72 1.47 1.35L5.41 20z\"/>\n",
              "  </svg>\n",
              "      </button>\n",
              "      \n",
              "  <style>\n",
              "    .colab-df-container {\n",
              "      display:flex;\n",
              "      flex-wrap:wrap;\n",
              "      gap: 12px;\n",
              "    }\n",
              "\n",
              "    .colab-df-convert {\n",
              "      background-color: #E8F0FE;\n",
              "      border: none;\n",
              "      border-radius: 50%;\n",
              "      cursor: pointer;\n",
              "      display: none;\n",
              "      fill: #1967D2;\n",
              "      height: 32px;\n",
              "      padding: 0 0 0 0;\n",
              "      width: 32px;\n",
              "    }\n",
              "\n",
              "    .colab-df-convert:hover {\n",
              "      background-color: #E2EBFA;\n",
              "      box-shadow: 0px 1px 2px rgba(60, 64, 67, 0.3), 0px 1px 3px 1px rgba(60, 64, 67, 0.15);\n",
              "      fill: #174EA6;\n",
              "    }\n",
              "\n",
              "    [theme=dark] .colab-df-convert {\n",
              "      background-color: #3B4455;\n",
              "      fill: #D2E3FC;\n",
              "    }\n",
              "\n",
              "    [theme=dark] .colab-df-convert:hover {\n",
              "      background-color: #434B5C;\n",
              "      box-shadow: 0px 1px 3px 1px rgba(0, 0, 0, 0.15);\n",
              "      filter: drop-shadow(0px 1px 2px rgba(0, 0, 0, 0.3));\n",
              "      fill: #FFFFFF;\n",
              "    }\n",
              "  </style>\n",
              "\n",
              "      <script>\n",
              "        const buttonEl =\n",
              "          document.querySelector('#df-752c86f1-c8e0-4142-a329-354ccc8a0b96 button.colab-df-convert');\n",
              "        buttonEl.style.display =\n",
              "          google.colab.kernel.accessAllowed ? 'block' : 'none';\n",
              "\n",
              "        async function convertToInteractive(key) {\n",
              "          const element = document.querySelector('#df-752c86f1-c8e0-4142-a329-354ccc8a0b96');\n",
              "          const dataTable =\n",
              "            await google.colab.kernel.invokeFunction('convertToInteractive',\n",
              "                                                     [key], {});\n",
              "          if (!dataTable) return;\n",
              "\n",
              "          const docLinkHtml = 'Like what you see? Visit the ' +\n",
              "            '<a target=\"_blank\" href=https://colab.research.google.com/notebooks/data_table.ipynb>data table notebook</a>'\n",
              "            + ' to learn more about interactive tables.';\n",
              "          element.innerHTML = '';\n",
              "          dataTable['output_type'] = 'display_data';\n",
              "          await google.colab.output.renderOutput(dataTable, element);\n",
              "          const docLink = document.createElement('div');\n",
              "          docLink.innerHTML = docLinkHtml;\n",
              "          element.appendChild(docLink);\n",
              "        }\n",
              "      </script>\n",
              "    </div>\n",
              "  </div>\n",
              "  "
            ]
          },
          "metadata": {},
          "execution_count": 124
        }
      ]
    },
    {
      "cell_type": "markdown",
      "source": [
        "**Account number is similar to Customer ID and represents 5000 unique entries**"
      ],
      "metadata": {
        "id": "3ASYaAf5xj9m"
      }
    },
    {
      "cell_type": "code",
      "source": [
        "df.groupby(['accountNumber']).count()"
      ],
      "metadata": {
        "colab": {
          "base_uri": "https://localhost:8080/",
          "height": 519
        },
        "id": "JWZmauUQxlb0",
        "outputId": "71cb2211-b80f-4f25-bf30-577a19169d69"
      },
      "execution_count": null,
      "outputs": [
        {
          "output_type": "execute_result",
          "data": {
            "text/plain": [
              "               customerId  creditLimit  availableMoney  transactionDateTime  \\\n",
              "accountNumber                                                                 \n",
              "100088067              75           75              75                   75   \n",
              "100108752              18           18              18                   18   \n",
              "100328049             103          103             103                  103   \n",
              "100663626              31           31              31                   31   \n",
              "100737756             178          178             178                  178   \n",
              "...                   ...          ...             ...                  ...   \n",
              "999086814             677          677             677                  677   \n",
              "999257059             160          160             160                  160   \n",
              "999258704              88           88              88                   88   \n",
              "999283629             141          141             141                  141   \n",
              "999389635               9            9               9                    9   \n",
              "\n",
              "               transactionAmount  merchantName  acqCountry  \\\n",
              "accountNumber                                                \n",
              "100088067                     75            75          75   \n",
              "100108752                     18            18          18   \n",
              "100328049                    103           103         103   \n",
              "100663626                     31            31          31   \n",
              "100737756                    178           178         178   \n",
              "...                          ...           ...         ...   \n",
              "999086814                    677           677         674   \n",
              "999257059                    160           160         159   \n",
              "999258704                     88            88          88   \n",
              "999283629                    141           141         140   \n",
              "999389635                      9             9           9   \n",
              "\n",
              "               merchantCountryCode  posEntryMode  posConditionCode  ...  \\\n",
              "accountNumber                                                       ...   \n",
              "100088067                       75            74                75  ...   \n",
              "100108752                       18            18                18  ...   \n",
              "100328049                      103           102               103  ...   \n",
              "100663626                       31            31                31  ...   \n",
              "100737756                      178           178               178  ...   \n",
              "...                            ...           ...               ...  ...   \n",
              "999086814                      677           673               675  ...   \n",
              "999257059                      160           158               160  ...   \n",
              "999258704                       88            86                88  ...   \n",
              "999283629                      141           141               141  ...   \n",
              "999389635                        9             9                 9  ...   \n",
              "\n",
              "               echoBuffer  currentBalance  merchantCity  merchantState  \\\n",
              "accountNumber                                                            \n",
              "100088067               0              75             0              0   \n",
              "100108752               0              18             0              0   \n",
              "100328049               0             103             0              0   \n",
              "100663626               0              31             0              0   \n",
              "100737756               0             178             0              0   \n",
              "...                   ...             ...           ...            ...   \n",
              "999086814               0             677             0              0   \n",
              "999257059               0             160             0              0   \n",
              "999258704               0              88             0              0   \n",
              "999283629               0             141             0              0   \n",
              "999389635               0               9             0              0   \n",
              "\n",
              "               merchantZip  cardPresent  posOnPremises  recurringAuthInd  \\\n",
              "accountNumber                                                              \n",
              "100088067                0           75              0                 0   \n",
              "100108752                0           18              0                 0   \n",
              "100328049                0          103              0                 0   \n",
              "100663626                0           31              0                 0   \n",
              "100737756                0          178              0                 0   \n",
              "...                    ...          ...            ...               ...   \n",
              "999086814                0          677              0                 0   \n",
              "999257059                0          160              0                 0   \n",
              "999258704                0           88              0                 0   \n",
              "999283629                0          141              0                 0   \n",
              "999389635                0            9              0                 0   \n",
              "\n",
              "               expirationDateKeyInMatch  isFraud  \n",
              "accountNumber                                     \n",
              "100088067                            75       75  \n",
              "100108752                            18       18  \n",
              "100328049                           103      103  \n",
              "100663626                            31       31  \n",
              "100737756                           178      178  \n",
              "...                                 ...      ...  \n",
              "999086814                           677      677  \n",
              "999257059                           160      160  \n",
              "999258704                            88       88  \n",
              "999283629                           141      141  \n",
              "999389635                             9        9  \n",
              "\n",
              "[5000 rows x 28 columns]"
            ],
            "text/html": [
              "\n",
              "  <div id=\"df-3198a7e4-87f0-4f40-a56c-04f2f4d90d40\">\n",
              "    <div class=\"colab-df-container\">\n",
              "      <div>\n",
              "<style scoped>\n",
              "    .dataframe tbody tr th:only-of-type {\n",
              "        vertical-align: middle;\n",
              "    }\n",
              "\n",
              "    .dataframe tbody tr th {\n",
              "        vertical-align: top;\n",
              "    }\n",
              "\n",
              "    .dataframe thead th {\n",
              "        text-align: right;\n",
              "    }\n",
              "</style>\n",
              "<table border=\"1\" class=\"dataframe\">\n",
              "  <thead>\n",
              "    <tr style=\"text-align: right;\">\n",
              "      <th></th>\n",
              "      <th>customerId</th>\n",
              "      <th>creditLimit</th>\n",
              "      <th>availableMoney</th>\n",
              "      <th>transactionDateTime</th>\n",
              "      <th>transactionAmount</th>\n",
              "      <th>merchantName</th>\n",
              "      <th>acqCountry</th>\n",
              "      <th>merchantCountryCode</th>\n",
              "      <th>posEntryMode</th>\n",
              "      <th>posConditionCode</th>\n",
              "      <th>...</th>\n",
              "      <th>echoBuffer</th>\n",
              "      <th>currentBalance</th>\n",
              "      <th>merchantCity</th>\n",
              "      <th>merchantState</th>\n",
              "      <th>merchantZip</th>\n",
              "      <th>cardPresent</th>\n",
              "      <th>posOnPremises</th>\n",
              "      <th>recurringAuthInd</th>\n",
              "      <th>expirationDateKeyInMatch</th>\n",
              "      <th>isFraud</th>\n",
              "    </tr>\n",
              "    <tr>\n",
              "      <th>accountNumber</th>\n",
              "      <th></th>\n",
              "      <th></th>\n",
              "      <th></th>\n",
              "      <th></th>\n",
              "      <th></th>\n",
              "      <th></th>\n",
              "      <th></th>\n",
              "      <th></th>\n",
              "      <th></th>\n",
              "      <th></th>\n",
              "      <th></th>\n",
              "      <th></th>\n",
              "      <th></th>\n",
              "      <th></th>\n",
              "      <th></th>\n",
              "      <th></th>\n",
              "      <th></th>\n",
              "      <th></th>\n",
              "      <th></th>\n",
              "      <th></th>\n",
              "      <th></th>\n",
              "    </tr>\n",
              "  </thead>\n",
              "  <tbody>\n",
              "    <tr>\n",
              "      <th>100088067</th>\n",
              "      <td>75</td>\n",
              "      <td>75</td>\n",
              "      <td>75</td>\n",
              "      <td>75</td>\n",
              "      <td>75</td>\n",
              "      <td>75</td>\n",
              "      <td>75</td>\n",
              "      <td>75</td>\n",
              "      <td>74</td>\n",
              "      <td>75</td>\n",
              "      <td>...</td>\n",
              "      <td>0</td>\n",
              "      <td>75</td>\n",
              "      <td>0</td>\n",
              "      <td>0</td>\n",
              "      <td>0</td>\n",
              "      <td>75</td>\n",
              "      <td>0</td>\n",
              "      <td>0</td>\n",
              "      <td>75</td>\n",
              "      <td>75</td>\n",
              "    </tr>\n",
              "    <tr>\n",
              "      <th>100108752</th>\n",
              "      <td>18</td>\n",
              "      <td>18</td>\n",
              "      <td>18</td>\n",
              "      <td>18</td>\n",
              "      <td>18</td>\n",
              "      <td>18</td>\n",
              "      <td>18</td>\n",
              "      <td>18</td>\n",
              "      <td>18</td>\n",
              "      <td>18</td>\n",
              "      <td>...</td>\n",
              "      <td>0</td>\n",
              "      <td>18</td>\n",
              "      <td>0</td>\n",
              "      <td>0</td>\n",
              "      <td>0</td>\n",
              "      <td>18</td>\n",
              "      <td>0</td>\n",
              "      <td>0</td>\n",
              "      <td>18</td>\n",
              "      <td>18</td>\n",
              "    </tr>\n",
              "    <tr>\n",
              "      <th>100328049</th>\n",
              "      <td>103</td>\n",
              "      <td>103</td>\n",
              "      <td>103</td>\n",
              "      <td>103</td>\n",
              "      <td>103</td>\n",
              "      <td>103</td>\n",
              "      <td>103</td>\n",
              "      <td>103</td>\n",
              "      <td>102</td>\n",
              "      <td>103</td>\n",
              "      <td>...</td>\n",
              "      <td>0</td>\n",
              "      <td>103</td>\n",
              "      <td>0</td>\n",
              "      <td>0</td>\n",
              "      <td>0</td>\n",
              "      <td>103</td>\n",
              "      <td>0</td>\n",
              "      <td>0</td>\n",
              "      <td>103</td>\n",
              "      <td>103</td>\n",
              "    </tr>\n",
              "    <tr>\n",
              "      <th>100663626</th>\n",
              "      <td>31</td>\n",
              "      <td>31</td>\n",
              "      <td>31</td>\n",
              "      <td>31</td>\n",
              "      <td>31</td>\n",
              "      <td>31</td>\n",
              "      <td>31</td>\n",
              "      <td>31</td>\n",
              "      <td>31</td>\n",
              "      <td>31</td>\n",
              "      <td>...</td>\n",
              "      <td>0</td>\n",
              "      <td>31</td>\n",
              "      <td>0</td>\n",
              "      <td>0</td>\n",
              "      <td>0</td>\n",
              "      <td>31</td>\n",
              "      <td>0</td>\n",
              "      <td>0</td>\n",
              "      <td>31</td>\n",
              "      <td>31</td>\n",
              "    </tr>\n",
              "    <tr>\n",
              "      <th>100737756</th>\n",
              "      <td>178</td>\n",
              "      <td>178</td>\n",
              "      <td>178</td>\n",
              "      <td>178</td>\n",
              "      <td>178</td>\n",
              "      <td>178</td>\n",
              "      <td>178</td>\n",
              "      <td>178</td>\n",
              "      <td>178</td>\n",
              "      <td>178</td>\n",
              "      <td>...</td>\n",
              "      <td>0</td>\n",
              "      <td>178</td>\n",
              "      <td>0</td>\n",
              "      <td>0</td>\n",
              "      <td>0</td>\n",
              "      <td>178</td>\n",
              "      <td>0</td>\n",
              "      <td>0</td>\n",
              "      <td>178</td>\n",
              "      <td>178</td>\n",
              "    </tr>\n",
              "    <tr>\n",
              "      <th>...</th>\n",
              "      <td>...</td>\n",
              "      <td>...</td>\n",
              "      <td>...</td>\n",
              "      <td>...</td>\n",
              "      <td>...</td>\n",
              "      <td>...</td>\n",
              "      <td>...</td>\n",
              "      <td>...</td>\n",
              "      <td>...</td>\n",
              "      <td>...</td>\n",
              "      <td>...</td>\n",
              "      <td>...</td>\n",
              "      <td>...</td>\n",
              "      <td>...</td>\n",
              "      <td>...</td>\n",
              "      <td>...</td>\n",
              "      <td>...</td>\n",
              "      <td>...</td>\n",
              "      <td>...</td>\n",
              "      <td>...</td>\n",
              "      <td>...</td>\n",
              "    </tr>\n",
              "    <tr>\n",
              "      <th>999086814</th>\n",
              "      <td>677</td>\n",
              "      <td>677</td>\n",
              "      <td>677</td>\n",
              "      <td>677</td>\n",
              "      <td>677</td>\n",
              "      <td>677</td>\n",
              "      <td>674</td>\n",
              "      <td>677</td>\n",
              "      <td>673</td>\n",
              "      <td>675</td>\n",
              "      <td>...</td>\n",
              "      <td>0</td>\n",
              "      <td>677</td>\n",
              "      <td>0</td>\n",
              "      <td>0</td>\n",
              "      <td>0</td>\n",
              "      <td>677</td>\n",
              "      <td>0</td>\n",
              "      <td>0</td>\n",
              "      <td>677</td>\n",
              "      <td>677</td>\n",
              "    </tr>\n",
              "    <tr>\n",
              "      <th>999257059</th>\n",
              "      <td>160</td>\n",
              "      <td>160</td>\n",
              "      <td>160</td>\n",
              "      <td>160</td>\n",
              "      <td>160</td>\n",
              "      <td>160</td>\n",
              "      <td>159</td>\n",
              "      <td>160</td>\n",
              "      <td>158</td>\n",
              "      <td>160</td>\n",
              "      <td>...</td>\n",
              "      <td>0</td>\n",
              "      <td>160</td>\n",
              "      <td>0</td>\n",
              "      <td>0</td>\n",
              "      <td>0</td>\n",
              "      <td>160</td>\n",
              "      <td>0</td>\n",
              "      <td>0</td>\n",
              "      <td>160</td>\n",
              "      <td>160</td>\n",
              "    </tr>\n",
              "    <tr>\n",
              "      <th>999258704</th>\n",
              "      <td>88</td>\n",
              "      <td>88</td>\n",
              "      <td>88</td>\n",
              "      <td>88</td>\n",
              "      <td>88</td>\n",
              "      <td>88</td>\n",
              "      <td>88</td>\n",
              "      <td>88</td>\n",
              "      <td>86</td>\n",
              "      <td>88</td>\n",
              "      <td>...</td>\n",
              "      <td>0</td>\n",
              "      <td>88</td>\n",
              "      <td>0</td>\n",
              "      <td>0</td>\n",
              "      <td>0</td>\n",
              "      <td>88</td>\n",
              "      <td>0</td>\n",
              "      <td>0</td>\n",
              "      <td>88</td>\n",
              "      <td>88</td>\n",
              "    </tr>\n",
              "    <tr>\n",
              "      <th>999283629</th>\n",
              "      <td>141</td>\n",
              "      <td>141</td>\n",
              "      <td>141</td>\n",
              "      <td>141</td>\n",
              "      <td>141</td>\n",
              "      <td>141</td>\n",
              "      <td>140</td>\n",
              "      <td>141</td>\n",
              "      <td>141</td>\n",
              "      <td>141</td>\n",
              "      <td>...</td>\n",
              "      <td>0</td>\n",
              "      <td>141</td>\n",
              "      <td>0</td>\n",
              "      <td>0</td>\n",
              "      <td>0</td>\n",
              "      <td>141</td>\n",
              "      <td>0</td>\n",
              "      <td>0</td>\n",
              "      <td>141</td>\n",
              "      <td>141</td>\n",
              "    </tr>\n",
              "    <tr>\n",
              "      <th>999389635</th>\n",
              "      <td>9</td>\n",
              "      <td>9</td>\n",
              "      <td>9</td>\n",
              "      <td>9</td>\n",
              "      <td>9</td>\n",
              "      <td>9</td>\n",
              "      <td>9</td>\n",
              "      <td>9</td>\n",
              "      <td>9</td>\n",
              "      <td>9</td>\n",
              "      <td>...</td>\n",
              "      <td>0</td>\n",
              "      <td>9</td>\n",
              "      <td>0</td>\n",
              "      <td>0</td>\n",
              "      <td>0</td>\n",
              "      <td>9</td>\n",
              "      <td>0</td>\n",
              "      <td>0</td>\n",
              "      <td>9</td>\n",
              "      <td>9</td>\n",
              "    </tr>\n",
              "  </tbody>\n",
              "</table>\n",
              "<p>5000 rows × 28 columns</p>\n",
              "</div>\n",
              "      <button class=\"colab-df-convert\" onclick=\"convertToInteractive('df-3198a7e4-87f0-4f40-a56c-04f2f4d90d40')\"\n",
              "              title=\"Convert this dataframe to an interactive table.\"\n",
              "              style=\"display:none;\">\n",
              "        \n",
              "  <svg xmlns=\"http://www.w3.org/2000/svg\" height=\"24px\"viewBox=\"0 0 24 24\"\n",
              "       width=\"24px\">\n",
              "    <path d=\"M0 0h24v24H0V0z\" fill=\"none\"/>\n",
              "    <path d=\"M18.56 5.44l.94 2.06.94-2.06 2.06-.94-2.06-.94-.94-2.06-.94 2.06-2.06.94zm-11 1L8.5 8.5l.94-2.06 2.06-.94-2.06-.94L8.5 2.5l-.94 2.06-2.06.94zm10 10l.94 2.06.94-2.06 2.06-.94-2.06-.94-.94-2.06-.94 2.06-2.06.94z\"/><path d=\"M17.41 7.96l-1.37-1.37c-.4-.4-.92-.59-1.43-.59-.52 0-1.04.2-1.43.59L10.3 9.45l-7.72 7.72c-.78.78-.78 2.05 0 2.83L4 21.41c.39.39.9.59 1.41.59.51 0 1.02-.2 1.41-.59l7.78-7.78 2.81-2.81c.8-.78.8-2.07 0-2.86zM5.41 20L4 18.59l7.72-7.72 1.47 1.35L5.41 20z\"/>\n",
              "  </svg>\n",
              "      </button>\n",
              "      \n",
              "  <style>\n",
              "    .colab-df-container {\n",
              "      display:flex;\n",
              "      flex-wrap:wrap;\n",
              "      gap: 12px;\n",
              "    }\n",
              "\n",
              "    .colab-df-convert {\n",
              "      background-color: #E8F0FE;\n",
              "      border: none;\n",
              "      border-radius: 50%;\n",
              "      cursor: pointer;\n",
              "      display: none;\n",
              "      fill: #1967D2;\n",
              "      height: 32px;\n",
              "      padding: 0 0 0 0;\n",
              "      width: 32px;\n",
              "    }\n",
              "\n",
              "    .colab-df-convert:hover {\n",
              "      background-color: #E2EBFA;\n",
              "      box-shadow: 0px 1px 2px rgba(60, 64, 67, 0.3), 0px 1px 3px 1px rgba(60, 64, 67, 0.15);\n",
              "      fill: #174EA6;\n",
              "    }\n",
              "\n",
              "    [theme=dark] .colab-df-convert {\n",
              "      background-color: #3B4455;\n",
              "      fill: #D2E3FC;\n",
              "    }\n",
              "\n",
              "    [theme=dark] .colab-df-convert:hover {\n",
              "      background-color: #434B5C;\n",
              "      box-shadow: 0px 1px 3px 1px rgba(0, 0, 0, 0.15);\n",
              "      filter: drop-shadow(0px 1px 2px rgba(0, 0, 0, 0.3));\n",
              "      fill: #FFFFFF;\n",
              "    }\n",
              "  </style>\n",
              "\n",
              "      <script>\n",
              "        const buttonEl =\n",
              "          document.querySelector('#df-3198a7e4-87f0-4f40-a56c-04f2f4d90d40 button.colab-df-convert');\n",
              "        buttonEl.style.display =\n",
              "          google.colab.kernel.accessAllowed ? 'block' : 'none';\n",
              "\n",
              "        async function convertToInteractive(key) {\n",
              "          const element = document.querySelector('#df-3198a7e4-87f0-4f40-a56c-04f2f4d90d40');\n",
              "          const dataTable =\n",
              "            await google.colab.kernel.invokeFunction('convertToInteractive',\n",
              "                                                     [key], {});\n",
              "          if (!dataTable) return;\n",
              "\n",
              "          const docLinkHtml = 'Like what you see? Visit the ' +\n",
              "            '<a target=\"_blank\" href=https://colab.research.google.com/notebooks/data_table.ipynb>data table notebook</a>'\n",
              "            + ' to learn more about interactive tables.';\n",
              "          element.innerHTML = '';\n",
              "          dataTable['output_type'] = 'display_data';\n",
              "          await google.colab.output.renderOutput(dataTable, element);\n",
              "          const docLink = document.createElement('div');\n",
              "          docLink.innerHTML = docLinkHtml;\n",
              "          element.appendChild(docLink);\n",
              "        }\n",
              "      </script>\n",
              "    </div>\n",
              "  </div>\n",
              "  "
            ]
          },
          "metadata": {},
          "execution_count": 125
        }
      ]
    },
    {
      "cell_type": "markdown",
      "source": [
        "**To know more about the transaction data set it is important to know the Top Merchants where most of the Transactions happen.**\n",
        "\n",
        "**Here we can clearly see which are the Top Merchants:**\n",
        "\n",
        "1.Uber\n",
        "\n",
        "2.Lyft\n",
        "\n",
        "3.oldnavy.com\n",
        "\n",
        "4.staples.com\n",
        "\n",
        "5.alibaba.com\n",
        "\n",
        "6.apple.com\n",
        "\n",
        "7.walmart.com\n",
        "\n",
        "8.cheapfast.com\n",
        "\n",
        "9.ebay.com\n",
        "\n",
        "10.target.com\n",
        "\n",
        "11.amazon.com"
      ],
      "metadata": {
        "id": "JpDhm8hOxtmA"
      }
    },
    {
      "cell_type": "code",
      "source": [
        "important_merchants = df['merchantName'].value_counts()\n",
        "important_merchants = important_merchants.loc[important_merchants.values > 10000]\n",
        "important_merchants"
      ],
      "metadata": {
        "colab": {
          "base_uri": "https://localhost:8080/"
        },
        "id": "j5Nw8eVax8Jk",
        "outputId": "39cd93be-fa50-4e2a-d643-63edbc925309"
      },
      "execution_count": null,
      "outputs": [
        {
          "output_type": "execute_result",
          "data": {
            "text/plain": [
              "Uber             25613\n",
              "Lyft             25523\n",
              "oldnavy.com      16992\n",
              "staples.com      16980\n",
              "alibaba.com      16959\n",
              "apple.com        16898\n",
              "walmart.com      16873\n",
              "cheapfast.com    16858\n",
              "ebay.com         16842\n",
              "target.com       16813\n",
              "amazon.com       16780\n",
              "sears.com        16755\n",
              "discount.com     16731\n",
              "gap.com          16675\n",
              "Name: merchantName, dtype: int64"
            ]
          },
          "metadata": {},
          "execution_count": 126
        }
      ]
    },
    {
      "cell_type": "markdown",
      "source": [
        "**Here we can clearly see that most transactions happen at:**\n",
        "\n",
        "\n",
        "*   Online Retail\n",
        "\n",
        "*   Food\n",
        "\n",
        "*   Entertainment\n",
        "*   Online Gifts\n",
        "\n",
        "\n",
        "*   Ride Share\n",
        "\n",
        "\n",
        "*   Hotels\n"
      ],
      "metadata": {
        "id": "Pe6oIng_yFVi"
      }
    },
    {
      "cell_type": "code",
      "source": [
        "t=pd.DataFrame(df['merchantCategoryCode'].value_counts()).reset_index(drop=False)\n",
        "t.columns=['MerchantCategory','Count'] \n",
        "plt.figure(figsize=(24,6)) \n",
        "ax = sns.barplot(x=\"MerchantCategory\", y=\"Count\", data=t) "
      ],
      "metadata": {
        "colab": {
          "base_uri": "https://localhost:8080/",
          "height": 364
        },
        "id": "8t0jkcwTyGA2",
        "outputId": "3d5fbaad-dbf9-41ca-dc83-9fd22b1c1463"
      },
      "execution_count": null,
      "outputs": [
        {
          "output_type": "display_data",
          "data": {
            "text/plain": [
              "<Figure size 1728x432 with 1 Axes>"
            ],
            "image/png": "[encoded data removed]"
          },
          "metadata": {
            "needs_background": "light"
          }
        }
      ]
    },
    {
      "cell_type": "markdown",
      "source": [
        "**Let's explore Numerical Valued Attributes and in Credit Card Transactions these attributes hold high importance**"
      ],
      "metadata": {
        "id": "l8MhmopgyLWL"
      }
    },
    {
      "cell_type": "code",
      "source": [
        "df_num = df[['creditLimit', 'availableMoney', 'transactionAmount', 'currentBalance' ]]\n",
        "\n",
        "df_num"
      ],
      "metadata": {
        "colab": {
          "base_uri": "https://localhost:8080/",
          "height": 424
        },
        "id": "45KwbB3zyM5y",
        "outputId": "0455fb87-3751-4ae0-a15c-41bf4e50d6f5"
      },
      "execution_count": null,
      "outputs": [
        {
          "output_type": "execute_result",
          "data": {
            "text/plain": [
              "        creditLimit  availableMoney  transactionAmount  currentBalance\n",
              "0              5000         5000.00              98.55            0.00\n",
              "1              5000         5000.00              74.51            0.00\n",
              "2              5000         5000.00               7.47            0.00\n",
              "3              5000         5000.00               7.47            0.00\n",
              "4              5000         5000.00              71.18            0.00\n",
              "...             ...             ...                ...             ...\n",
              "786358        50000        48904.96             119.92         1095.04\n",
              "786359        50000        48785.04              18.89         1214.96\n",
              "786360        50000        48766.15              49.43         1233.85\n",
              "786361        50000        48716.72              49.89         1283.28\n",
              "786362        50000        48666.83              72.18         1333.17\n",
              "\n",
              "[786363 rows x 4 columns]"
            ],
            "text/html": [
              "\n",
              "  <div id=\"df-d39c8cf3-95bf-4bbc-b87c-05e454f3bb69\">\n",
              "    <div class=\"colab-df-container\">\n",
              "      <div>\n",
              "<style scoped>\n",
              "    .dataframe tbody tr th:only-of-type {\n",
              "        vertical-align: middle;\n",
              "    }\n",
              "\n",
              "    .dataframe tbody tr th {\n",
              "        vertical-align: top;\n",
              "    }\n",
              "\n",
              "    .dataframe thead th {\n",
              "        text-align: right;\n",
              "    }\n",
              "</style>\n",
              "<table border=\"1\" class=\"dataframe\">\n",
              "  <thead>\n",
              "    <tr style=\"text-align: right;\">\n",
              "      <th></th>\n",
              "      <th>creditLimit</th>\n",
              "      <th>availableMoney</th>\n",
              "      <th>transactionAmount</th>\n",
              "      <th>currentBalance</th>\n",
              "    </tr>\n",
              "  </thead>\n",
              "  <tbody>\n",
              "    <tr>\n",
              "      <th>0</th>\n",
              "      <td>5000</td>\n",
              "      <td>5000.00</td>\n",
              "      <td>98.55</td>\n",
              "      <td>0.00</td>\n",
              "    </tr>\n",
              "    <tr>\n",
              "      <th>1</th>\n",
              "      <td>5000</td>\n",
              "      <td>5000.00</td>\n",
              "      <td>74.51</td>\n",
              "      <td>0.00</td>\n",
              "    </tr>\n",
              "    <tr>\n",
              "      <th>2</th>\n",
              "      <td>5000</td>\n",
              "      <td>5000.00</td>\n",
              "      <td>7.47</td>\n",
              "      <td>0.00</td>\n",
              "    </tr>\n",
              "    <tr>\n",
              "      <th>3</th>\n",
              "      <td>5000</td>\n",
              "      <td>5000.00</td>\n",
              "      <td>7.47</td>\n",
              "      <td>0.00</td>\n",
              "    </tr>\n",
              "    <tr>\n",
              "      <th>4</th>\n",
              "      <td>5000</td>\n",
              "      <td>5000.00</td>\n",
              "      <td>71.18</td>\n",
              "      <td>0.00</td>\n",
              "    </tr>\n",
              "    <tr>\n",
              "      <th>...</th>\n",
              "      <td>...</td>\n",
              "      <td>...</td>\n",
              "      <td>...</td>\n",
              "      <td>...</td>\n",
              "    </tr>\n",
              "    <tr>\n",
              "      <th>786358</th>\n",
              "      <td>50000</td>\n",
              "      <td>48904.96</td>\n",
              "      <td>119.92</td>\n",
              "      <td>1095.04</td>\n",
              "    </tr>\n",
              "    <tr>\n",
              "      <th>786359</th>\n",
              "      <td>50000</td>\n",
              "      <td>48785.04</td>\n",
              "      <td>18.89</td>\n",
              "      <td>1214.96</td>\n",
              "    </tr>\n",
              "    <tr>\n",
              "      <th>786360</th>\n",
              "      <td>50000</td>\n",
              "      <td>48766.15</td>\n",
              "      <td>49.43</td>\n",
              "      <td>1233.85</td>\n",
              "    </tr>\n",
              "    <tr>\n",
              "      <th>786361</th>\n",
              "      <td>50000</td>\n",
              "      <td>48716.72</td>\n",
              "      <td>49.89</td>\n",
              "      <td>1283.28</td>\n",
              "    </tr>\n",
              "    <tr>\n",
              "      <th>786362</th>\n",
              "      <td>50000</td>\n",
              "      <td>48666.83</td>\n",
              "      <td>72.18</td>\n",
              "      <td>1333.17</td>\n",
              "    </tr>\n",
              "  </tbody>\n",
              "</table>\n",
              "<p>786363 rows × 4 columns</p>\n",
              "</div>\n",
              "      <button class=\"colab-df-convert\" onclick=\"convertToInteractive('df-d39c8cf3-95bf-4bbc-b87c-05e454f3bb69')\"\n",
              "              title=\"Convert this dataframe to an interactive table.\"\n",
              "              style=\"display:none;\">\n",
              "        \n",
              "  <svg xmlns=\"http://www.w3.org/2000/svg\" height=\"24px\"viewBox=\"0 0 24 24\"\n",
              "       width=\"24px\">\n",
              "    <path d=\"M0 0h24v24H0V0z\" fill=\"none\"/>\n",
              "    <path d=\"M18.56 5.44l.94 2.06.94-2.06 2.06-.94-2.06-.94-.94-2.06-.94 2.06-2.06.94zm-11 1L8.5 8.5l.94-2.06 2.06-.94-2.06-.94L8.5 2.5l-.94 2.06-2.06.94zm10 10l.94 2.06.94-2.06 2.06-.94-2.06-.94-.94-2.06-.94 2.06-2.06.94z\"/><path d=\"M17.41 7.96l-1.37-1.37c-.4-.4-.92-.59-1.43-.59-.52 0-1.04.2-1.43.59L10.3 9.45l-7.72 7.72c-.78.78-.78 2.05 0 2.83L4 21.41c.39.39.9.59 1.41.59.51 0 1.02-.2 1.41-.59l7.78-7.78 2.81-2.81c.8-.78.8-2.07 0-2.86zM5.41 20L4 18.59l7.72-7.72 1.47 1.35L5.41 20z\"/>\n",
              "  </svg>\n",
              "      </button>\n",
              "      \n",
              "  <style>\n",
              "    .colab-df-container {\n",
              "      display:flex;\n",
              "      flex-wrap:wrap;\n",
              "      gap: 12px;\n",
              "    }\n",
              "\n",
              "    .colab-df-convert {\n",
              "      background-color: #E8F0FE;\n",
              "      border: none;\n",
              "      border-radius: 50%;\n",
              "      cursor: pointer;\n",
              "      display: none;\n",
              "      fill: #1967D2;\n",
              "      height: 32px;\n",
              "      padding: 0 0 0 0;\n",
              "      width: 32px;\n",
              "    }\n",
              "\n",
              "    .colab-df-convert:hover {\n",
              "      background-color: #E2EBFA;\n",
              "      box-shadow: 0px 1px 2px rgba(60, 64, 67, 0.3), 0px 1px 3px 1px rgba(60, 64, 67, 0.15);\n",
              "      fill: #174EA6;\n",
              "    }\n",
              "\n",
              "    [theme=dark] .colab-df-convert {\n",
              "      background-color: #3B4455;\n",
              "      fill: #D2E3FC;\n",
              "    }\n",
              "\n",
              "    [theme=dark] .colab-df-convert:hover {\n",
              "      background-color: #434B5C;\n",
              "      box-shadow: 0px 1px 3px 1px rgba(0, 0, 0, 0.15);\n",
              "      filter: drop-shadow(0px 1px 2px rgba(0, 0, 0, 0.3));\n",
              "      fill: #FFFFFF;\n",
              "    }\n",
              "  </style>\n",
              "\n",
              "      <script>\n",
              "        const buttonEl =\n",
              "          document.querySelector('#df-d39c8cf3-95bf-4bbc-b87c-05e454f3bb69 button.colab-df-convert');\n",
              "        buttonEl.style.display =\n",
              "          google.colab.kernel.accessAllowed ? 'block' : 'none';\n",
              "\n",
              "        async function convertToInteractive(key) {\n",
              "          const element = document.querySelector('#df-d39c8cf3-95bf-4bbc-b87c-05e454f3bb69');\n",
              "          const dataTable =\n",
              "            await google.colab.kernel.invokeFunction('convertToInteractive',\n",
              "                                                     [key], {});\n",
              "          if (!dataTable) return;\n",
              "\n",
              "          const docLinkHtml = 'Like what you see? Visit the ' +\n",
              "            '<a target=\"_blank\" href=https://colab.research.google.com/notebooks/data_table.ipynb>data table notebook</a>'\n",
              "            + ' to learn more about interactive tables.';\n",
              "          element.innerHTML = '';\n",
              "          dataTable['output_type'] = 'display_data';\n",
              "          await google.colab.output.renderOutput(dataTable, element);\n",
              "          const docLink = document.createElement('div');\n",
              "          docLink.innerHTML = docLinkHtml;\n",
              "          element.appendChild(docLink);\n",
              "        }\n",
              "      </script>\n",
              "    </div>\n",
              "  </div>\n",
              "  "
            ]
          },
          "metadata": {},
          "execution_count": 128
        }
      ]
    },
    {
      "cell_type": "markdown",
      "source": [
        "**Separatelty describing these numerical attributes to get the essence of data and its distribution.**\n",
        "\n",
        "**Here we can see Available Money can also go Negative, which is -1005.63 as minimum value**"
      ],
      "metadata": {
        "id": "zS4msi9eyWhi"
      }
    },
    {
      "cell_type": "code",
      "source": [
        "df_num.describe()"
      ],
      "metadata": {
        "colab": {
          "base_uri": "https://localhost:8080/",
          "height": 300
        },
        "id": "jcX1OnzZybdY",
        "outputId": "4c65a746-6dd0-42f5-c459-0f9741cce512"
      },
      "execution_count": null,
      "outputs": [
        {
          "output_type": "execute_result",
          "data": {
            "text/plain": [
              "         creditLimit  availableMoney  transactionAmount  currentBalance\n",
              "count  786363.000000   786363.000000      786363.000000   786363.000000\n",
              "mean    10759.464459     6250.725369         136.985791     4508.739089\n",
              "std     11636.174890     8880.783989         147.725569     6457.442068\n",
              "min       250.000000    -1005.630000           0.000000        0.000000\n",
              "25%      5000.000000     1077.420000          33.650000      689.910000\n",
              "50%      7500.000000     3184.860000          87.900000     2451.760000\n",
              "75%     15000.000000     7500.000000         191.480000     5291.095000\n",
              "max     50000.000000    50000.000000        2011.540000    47498.810000"
            ],
            "text/html": [
              "\n",
              "  <div id=\"df-9d4530ab-f54c-4015-a7a8-c51dfd1131d8\">\n",
              "    <div class=\"colab-df-container\">\n",
              "      <div>\n",
              "<style scoped>\n",
              "    .dataframe tbody tr th:only-of-type {\n",
              "        vertical-align: middle;\n",
              "    }\n",
              "\n",
              "    .dataframe tbody tr th {\n",
              "        vertical-align: top;\n",
              "    }\n",
              "\n",
              "    .dataframe thead th {\n",
              "        text-align: right;\n",
              "    }\n",
              "</style>\n",
              "<table border=\"1\" class=\"dataframe\">\n",
              "  <thead>\n",
              "    <tr style=\"text-align: right;\">\n",
              "      <th></th>\n",
              "      <th>creditLimit</th>\n",
              "      <th>availableMoney</th>\n",
              "      <th>transactionAmount</th>\n",
              "      <th>currentBalance</th>\n",
              "    </tr>\n",
              "  </thead>\n",
              "  <tbody>\n",
              "    <tr>\n",
              "      <th>count</th>\n",
              "      <td>786363.000000</td>\n",
              "      <td>786363.000000</td>\n",
              "      <td>786363.000000</td>\n",
              "      <td>786363.000000</td>\n",
              "    </tr>\n",
              "    <tr>\n",
              "      <th>mean</th>\n",
              "      <td>10759.464459</td>\n",
              "      <td>6250.725369</td>\n",
              "      <td>136.985791</td>\n",
              "      <td>4508.739089</td>\n",
              "    </tr>\n",
              "    <tr>\n",
              "      <th>std</th>\n",
              "      <td>11636.174890</td>\n",
              "      <td>8880.783989</td>\n",
              "      <td>147.725569</td>\n",
              "      <td>6457.442068</td>\n",
              "    </tr>\n",
              "    <tr>\n",
              "      <th>min</th>\n",
              "      <td>250.000000</td>\n",
              "      <td>-1005.630000</td>\n",
              "      <td>0.000000</td>\n",
              "      <td>0.000000</td>\n",
              "    </tr>\n",
              "    <tr>\n",
              "      <th>25%</th>\n",
              "      <td>5000.000000</td>\n",
              "      <td>1077.420000</td>\n",
              "      <td>33.650000</td>\n",
              "      <td>689.910000</td>\n",
              "    </tr>\n",
              "    <tr>\n",
              "      <th>50%</th>\n",
              "      <td>7500.000000</td>\n",
              "      <td>3184.860000</td>\n",
              "      <td>87.900000</td>\n",
              "      <td>2451.760000</td>\n",
              "    </tr>\n",
              "    <tr>\n",
              "      <th>75%</th>\n",
              "      <td>15000.000000</td>\n",
              "      <td>7500.000000</td>\n",
              "      <td>191.480000</td>\n",
              "      <td>5291.095000</td>\n",
              "    </tr>\n",
              "    <tr>\n",
              "      <th>max</th>\n",
              "      <td>50000.000000</td>\n",
              "      <td>50000.000000</td>\n",
              "      <td>2011.540000</td>\n",
              "      <td>47498.810000</td>\n",
              "    </tr>\n",
              "  </tbody>\n",
              "</table>\n",
              "</div>\n",
              "      <button class=\"colab-df-convert\" onclick=\"convertToInteractive('df-9d4530ab-f54c-4015-a7a8-c51dfd1131d8')\"\n",
              "              title=\"Convert this dataframe to an interactive table.\"\n",
              "              style=\"display:none;\">\n",
              "        \n",
              "  <svg xmlns=\"http://www.w3.org/2000/svg\" height=\"24px\"viewBox=\"0 0 24 24\"\n",
              "       width=\"24px\">\n",
              "    <path d=\"M0 0h24v24H0V0z\" fill=\"none\"/>\n",
              "    <path d=\"M18.56 5.44l.94 2.06.94-2.06 2.06-.94-2.06-.94-.94-2.06-.94 2.06-2.06.94zm-11 1L8.5 8.5l.94-2.06 2.06-.94-2.06-.94L8.5 2.5l-.94 2.06-2.06.94zm10 10l.94 2.06.94-2.06 2.06-.94-2.06-.94-.94-2.06-.94 2.06-2.06.94z\"/><path d=\"M17.41 7.96l-1.37-1.37c-.4-.4-.92-.59-1.43-.59-.52 0-1.04.2-1.43.59L10.3 9.45l-7.72 7.72c-.78.78-.78 2.05 0 2.83L4 21.41c.39.39.9.59 1.41.59.51 0 1.02-.2 1.41-.59l7.78-7.78 2.81-2.81c.8-.78.8-2.07 0-2.86zM5.41 20L4 18.59l7.72-7.72 1.47 1.35L5.41 20z\"/>\n",
              "  </svg>\n",
              "      </button>\n",
              "      \n",
              "  <style>\n",
              "    .colab-df-container {\n",
              "      display:flex;\n",
              "      flex-wrap:wrap;\n",
              "      gap: 12px;\n",
              "    }\n",
              "\n",
              "    .colab-df-convert {\n",
              "      background-color: #E8F0FE;\n",
              "      border: none;\n",
              "      border-radius: 50%;\n",
              "      cursor: pointer;\n",
              "      display: none;\n",
              "      fill: #1967D2;\n",
              "      height: 32px;\n",
              "      padding: 0 0 0 0;\n",
              "      width: 32px;\n",
              "    }\n",
              "\n",
              "    .colab-df-convert:hover {\n",
              "      background-color: #E2EBFA;\n",
              "      box-shadow: 0px 1px 2px rgba(60, 64, 67, 0.3), 0px 1px 3px 1px rgba(60, 64, 67, 0.15);\n",
              "      fill: #174EA6;\n",
              "    }\n",
              "\n",
              "    [theme=dark] .colab-df-convert {\n",
              "      background-color: #3B4455;\n",
              "      fill: #D2E3FC;\n",
              "    }\n",
              "\n",
              "    [theme=dark] .colab-df-convert:hover {\n",
              "      background-color: #434B5C;\n",
              "      box-shadow: 0px 1px 3px 1px rgba(0, 0, 0, 0.15);\n",
              "      filter: drop-shadow(0px 1px 2px rgba(0, 0, 0, 0.3));\n",
              "      fill: #FFFFFF;\n",
              "    }\n",
              "  </style>\n",
              "\n",
              "      <script>\n",
              "        const buttonEl =\n",
              "          document.querySelector('#df-9d4530ab-f54c-4015-a7a8-c51dfd1131d8 button.colab-df-convert');\n",
              "        buttonEl.style.display =\n",
              "          google.colab.kernel.accessAllowed ? 'block' : 'none';\n",
              "\n",
              "        async function convertToInteractive(key) {\n",
              "          const element = document.querySelector('#df-9d4530ab-f54c-4015-a7a8-c51dfd1131d8');\n",
              "          const dataTable =\n",
              "            await google.colab.kernel.invokeFunction('convertToInteractive',\n",
              "                                                     [key], {});\n",
              "          if (!dataTable) return;\n",
              "\n",
              "          const docLinkHtml = 'Like what you see? Visit the ' +\n",
              "            '<a target=\"_blank\" href=https://colab.research.google.com/notebooks/data_table.ipynb>data table notebook</a>'\n",
              "            + ' to learn more about interactive tables.';\n",
              "          element.innerHTML = '';\n",
              "          dataTable['output_type'] = 'display_data';\n",
              "          await google.colab.output.renderOutput(dataTable, element);\n",
              "          const docLink = document.createElement('div');\n",
              "          docLink.innerHTML = docLinkHtml;\n",
              "          element.appendChild(docLink);\n",
              "        }\n",
              "      </script>\n",
              "    </div>\n",
              "  </div>\n",
              "  "
            ]
          },
          "metadata": {},
          "execution_count": 129
        }
      ]
    },
    {
      "cell_type": "markdown",
      "source": [
        "**Most of the Credit limits are under 10,000.**\n",
        "\n",
        "**But some goes till 20,000 and 50,000 as well.**\n",
        "\n",
        "**While data Modelling this information can be really useful**"
      ],
      "metadata": {
        "id": "QbJy0OPqyg5V"
      }
    },
    {
      "cell_type": "code",
      "source": [
        "plt.hist(df['creditLimit'], bins = 30)\n",
        "plt.ylabel('Frequency', fontsize = 16)\n",
        "plt.xlabel('credit Limit', fontsize = 16)"
      ],
      "metadata": {
        "colab": {
          "base_uri": "https://localhost:8080/",
          "height": 302
        },
        "id": "WX_MzxLxyhVD",
        "outputId": "660d5c2b-3f06-48c4-b208-57b2cefd90dc"
      },
      "execution_count": null,
      "outputs": [
        {
          "output_type": "execute_result",
          "data": {
            "text/plain": [
              "Text(0.5, 0, 'credit Limit')"
            ]
          },
          "metadata": {},
          "execution_count": 130
        },
        {
          "output_type": "display_data",
          "data": {
            "text/plain": [
              "<Figure size 432x288 with 1 Axes>"
            ],
            "image/png": "[encoded data removed]"
          },
          "metadata": {
            "needs_background": "light"
          }
        }
      ]
    },
    {
      "cell_type": "markdown",
      "source": [
        "**Available Money mostly lie under the buckets of less than 10,000 and is Right Skewed, which actually makes sense**"
      ],
      "metadata": {
        "id": "RXfABK9ZyoAA"
      }
    },
    {
      "cell_type": "code",
      "source": [
        "plt.hist(df['availableMoney'], bins = 30)\n",
        "plt.ylabel('Frequency', fontsize = 16)\n",
        "plt.xlabel('available Money', fontsize = 16)"
      ],
      "metadata": {
        "colab": {
          "base_uri": "https://localhost:8080/",
          "height": 305
        },
        "id": "esJ086-eyqLh",
        "outputId": "311c97a3-98cd-4fcb-c9a7-b2777033dba8"
      },
      "execution_count": null,
      "outputs": [
        {
          "output_type": "execute_result",
          "data": {
            "text/plain": [
              "Text(0.5, 0, 'available Money')"
            ]
          },
          "metadata": {},
          "execution_count": 131
        },
        {
          "output_type": "display_data",
          "data": {
            "text/plain": [
              "<Figure size 432x288 with 1 Axes>"
            ],
            "image/png": "[encoded data removed]"
          },
          "metadata": {
            "needs_background": "light"
          }
        }
      ]
    },
    {
      "cell_type": "markdown",
      "source": [
        "**Interestingly Transaction amount mostly falls under 500 and is Right Skewed**"
      ],
      "metadata": {
        "id": "TSJ4iqyCywcI"
      }
    },
    {
      "cell_type": "code",
      "source": [
        "plt.hist(df['transactionAmount'], bins = 30)\n",
        "plt.ylabel('Frequency', fontsize = 16)\n",
        "plt.xlabel('transaction Amount', fontsize = 16)"
      ],
      "metadata": {
        "colab": {
          "base_uri": "https://localhost:8080/",
          "height": 302
        },
        "id": "oHpHo20Cyyt-",
        "outputId": "c47d099e-d22b-4233-f37d-df869dd4f6d5"
      },
      "execution_count": null,
      "outputs": [
        {
          "output_type": "execute_result",
          "data": {
            "text/plain": [
              "Text(0.5, 0, 'transaction Amount')"
            ]
          },
          "metadata": {},
          "execution_count": 132
        },
        {
          "output_type": "display_data",
          "data": {
            "text/plain": [
              "<Figure size 432x288 with 1 Axes>"
            ],
            "image/png": "[encoded data removed]"
          },
          "metadata": {
            "needs_background": "light"
          }
        }
      ]
    },
    {
      "cell_type": "markdown",
      "source": [
        "**The Current Balance is mostly under 10,000, it is also Right Skewed**"
      ],
      "metadata": {
        "id": "9sXSzIZKy24G"
      }
    },
    {
      "cell_type": "code",
      "source": [
        "plt.hist(df['currentBalance'], bins = 20)\n",
        "plt.ylabel('Frequency', fontsize = 16)\n",
        "plt.xlabel('current Balance', fontsize = 16)"
      ],
      "metadata": {
        "colab": {
          "base_uri": "https://localhost:8080/",
          "height": 303
        },
        "id": "DtNwCf6Uy434",
        "outputId": "683b620c-1de2-4a6d-f5f5-c7d8dc4caa52"
      },
      "execution_count": null,
      "outputs": [
        {
          "output_type": "execute_result",
          "data": {
            "text/plain": [
              "Text(0.5, 0, 'current Balance')"
            ]
          },
          "metadata": {},
          "execution_count": 133
        },
        {
          "output_type": "display_data",
          "data": {
            "text/plain": [
              "<Figure size 432x288 with 1 Axes>"
            ],
            "image/png": "[encoded data removed]"
          },
          "metadata": {
            "needs_background": "light"
          }
        }
      ]
    },
    {
      "cell_type": "markdown",
      "source": [
        "**Box Plots help analyzing the Outliers in the datasets and the skewness**\n",
        "\n",
        "**It shows how these Numerical Atrributes are Right Skewed**"
      ],
      "metadata": {
        "id": "B8fXnG9Iy-u_"
      }
    },
    {
      "cell_type": "code",
      "source": [
        "sns.boxplot(data=df_num['creditLimit'])"
      ],
      "metadata": {
        "colab": {
          "base_uri": "https://localhost:8080/",
          "height": 283
        },
        "id": "N02eR3dby_HB",
        "outputId": "d8eb516e-a9de-4498-9ba9-e971083344e6"
      },
      "execution_count": null,
      "outputs": [
        {
          "output_type": "execute_result",
          "data": {
            "text/plain": [
              "<matplotlib.axes._subplots.AxesSubplot at 0x7f53fbc2a190>"
            ]
          },
          "metadata": {},
          "execution_count": 134
        },
        {
          "output_type": "display_data",
          "data": {
            "text/plain": [
              "<Figure size 432x288 with 1 Axes>"
            ],
            "image/png": "[encoded data removed]"
          },
          "metadata": {
            "needs_background": "light"
          }
        }
      ]
    },
    {
      "cell_type": "code",
      "source": [
        "sns.boxplot(data=df_num['availableMoney'])"
      ],
      "metadata": {
        "colab": {
          "base_uri": "https://localhost:8080/",
          "height": 283
        },
        "id": "Hwk9vVEezBZf",
        "outputId": "43a3329f-43b0-480f-f578-e88ada36e1b8"
      },
      "execution_count": null,
      "outputs": [
        {
          "output_type": "execute_result",
          "data": {
            "text/plain": [
              "<matplotlib.axes._subplots.AxesSubplot at 0x7f53fbe4f850>"
            ]
          },
          "metadata": {},
          "execution_count": 135
        },
        {
          "output_type": "display_data",
          "data": {
            "text/plain": [
              "<Figure size 432x288 with 1 Axes>"
            ],
            "image/png": "[encoded data removed]"
          },
          "metadata": {
            "needs_background": "light"
          }
        }
      ]
    },
    {
      "cell_type": "code",
      "source": [
        "sns.boxplot(data=df_num['transactionAmount'])"
      ],
      "metadata": {
        "colab": {
          "base_uri": "https://localhost:8080/",
          "height": 283
        },
        "id": "f2zg_36CzDSX",
        "outputId": "6eabd58b-f4a4-4f02-8e28-2d7fa7d10b8d"
      },
      "execution_count": null,
      "outputs": [
        {
          "output_type": "execute_result",
          "data": {
            "text/plain": [
              "<matplotlib.axes._subplots.AxesSubplot at 0x7f53fbe81b50>"
            ]
          },
          "metadata": {},
          "execution_count": 136
        },
        {
          "output_type": "display_data",
          "data": {
            "text/plain": [
              "<Figure size 432x288 with 1 Axes>"
            ],
            "image/png": "[encoded data removed]"
          },
          "metadata": {
            "needs_background": "light"
          }
        }
      ]
    },
    {
      "cell_type": "code",
      "source": [
        "sns.boxplot(data=df_num['currentBalance'])"
      ],
      "metadata": {
        "colab": {
          "base_uri": "https://localhost:8080/",
          "height": 283
        },
        "id": "qZtDmqQOzFkU",
        "outputId": "f9e27e04-915d-4aaa-d83e-27d1bc260437"
      },
      "execution_count": null,
      "outputs": [
        {
          "output_type": "execute_result",
          "data": {
            "text/plain": [
              "<matplotlib.axes._subplots.AxesSubplot at 0x7f53fbeeaf50>"
            ]
          },
          "metadata": {},
          "execution_count": 137
        },
        {
          "output_type": "display_data",
          "data": {
            "text/plain": [
              "<Figure size 432x288 with 1 Axes>"
            ],
            "image/png": "[encoded data removed]"
          },
          "metadata": {
            "needs_background": "light"
          }
        }
      ]
    },
    {
      "cell_type": "code",
      "source": [
        "merchant_with_fraud = df.loc[df['isFraud'] == 1, ['merchantCategoryCode']]\n",
        "merchant_with_fraud"
      ],
      "metadata": {
        "colab": {
          "base_uri": "https://localhost:8080/",
          "height": 424
        },
        "id": "qkNjipI0zHcG",
        "outputId": "3be9be9c-3ac1-4856-94a6-2d899b4f6216"
      },
      "execution_count": null,
      "outputs": [
        {
          "output_type": "execute_result",
          "data": {
            "text/plain": [
              "       merchantCategoryCode\n",
              "694                  health\n",
              "971           online_retail\n",
              "1072                 health\n",
              "1113          online_retail\n",
              "1321          online_retail\n",
              "...                     ...\n",
              "785680        online_retail\n",
              "785713             fastfood\n",
              "785888        online_retail\n",
              "786054         online_gifts\n",
              "786112        online_retail\n",
              "\n",
              "[12417 rows x 1 columns]"
            ],
            "text/html": [
              "\n",
              "  <div id=\"df-ee7f412d-3112-4cb6-887e-47dcac2f9903\">\n",
              "    <div class=\"colab-df-container\">\n",
              "      <div>\n",
              "<style scoped>\n",
              "    .dataframe tbody tr th:only-of-type {\n",
              "        vertical-align: middle;\n",
              "    }\n",
              "\n",
              "    .dataframe tbody tr th {\n",
              "        vertical-align: top;\n",
              "    }\n",
              "\n",
              "    .dataframe thead th {\n",
              "        text-align: right;\n",
              "    }\n",
              "</style>\n",
              "<table border=\"1\" class=\"dataframe\">\n",
              "  <thead>\n",
              "    <tr style=\"text-align: right;\">\n",
              "      <th></th>\n",
              "      <th>merchantCategoryCode</th>\n",
              "    </tr>\n",
              "  </thead>\n",
              "  <tbody>\n",
              "    <tr>\n",
              "      <th>694</th>\n",
              "      <td>health</td>\n",
              "    </tr>\n",
              "    <tr>\n",
              "      <th>971</th>\n",
              "      <td>online_retail</td>\n",
              "    </tr>\n",
              "    <tr>\n",
              "      <th>1072</th>\n",
              "      <td>health</td>\n",
              "    </tr>\n",
              "    <tr>\n",
              "      <th>1113</th>\n",
              "      <td>online_retail</td>\n",
              "    </tr>\n",
              "    <tr>\n",
              "      <th>1321</th>\n",
              "      <td>online_retail</td>\n",
              "    </tr>\n",
              "    <tr>\n",
              "      <th>...</th>\n",
              "      <td>...</td>\n",
              "    </tr>\n",
              "    <tr>\n",
              "      <th>785680</th>\n",
              "      <td>online_retail</td>\n",
              "    </tr>\n",
              "    <tr>\n",
              "      <th>785713</th>\n",
              "      <td>fastfood</td>\n",
              "    </tr>\n",
              "    <tr>\n",
              "      <th>785888</th>\n",
              "      <td>online_retail</td>\n",
              "    </tr>\n",
              "    <tr>\n",
              "      <th>786054</th>\n",
              "      <td>online_gifts</td>\n",
              "    </tr>\n",
              "    <tr>\n",
              "      <th>786112</th>\n",
              "      <td>online_retail</td>\n",
              "    </tr>\n",
              "  </tbody>\n",
              "</table>\n",
              "<p>12417 rows × 1 columns</p>\n",
              "</div>\n",
              "      <button class=\"colab-df-convert\" onclick=\"convertToInteractive('df-ee7f412d-3112-4cb6-887e-47dcac2f9903')\"\n",
              "              title=\"Convert this dataframe to an interactive table.\"\n",
              "              style=\"display:none;\">\n",
              "        \n",
              "  <svg xmlns=\"http://www.w3.org/2000/svg\" height=\"24px\"viewBox=\"0 0 24 24\"\n",
              "       width=\"24px\">\n",
              "    <path d=\"M0 0h24v24H0V0z\" fill=\"none\"/>\n",
              "    <path d=\"M18.56 5.44l.94 2.06.94-2.06 2.06-.94-2.06-.94-.94-2.06-.94 2.06-2.06.94zm-11 1L8.5 8.5l.94-2.06 2.06-.94-2.06-.94L8.5 2.5l-.94 2.06-2.06.94zm10 10l.94 2.06.94-2.06 2.06-.94-2.06-.94-.94-2.06-.94 2.06-2.06.94z\"/><path d=\"M17.41 7.96l-1.37-1.37c-.4-.4-.92-.59-1.43-.59-.52 0-1.04.2-1.43.59L10.3 9.45l-7.72 7.72c-.78.78-.78 2.05 0 2.83L4 21.41c.39.39.9.59 1.41.59.51 0 1.02-.2 1.41-.59l7.78-7.78 2.81-2.81c.8-.78.8-2.07 0-2.86zM5.41 20L4 18.59l7.72-7.72 1.47 1.35L5.41 20z\"/>\n",
              "  </svg>\n",
              "      </button>\n",
              "      \n",
              "  <style>\n",
              "    .colab-df-container {\n",
              "      display:flex;\n",
              "      flex-wrap:wrap;\n",
              "      gap: 12px;\n",
              "    }\n",
              "\n",
              "    .colab-df-convert {\n",
              "      background-color: #E8F0FE;\n",
              "      border: none;\n",
              "      border-radius: 50%;\n",
              "      cursor: pointer;\n",
              "      display: none;\n",
              "      fill: #1967D2;\n",
              "      height: 32px;\n",
              "      padding: 0 0 0 0;\n",
              "      width: 32px;\n",
              "    }\n",
              "\n",
              "    .colab-df-convert:hover {\n",
              "      background-color: #E2EBFA;\n",
              "      box-shadow: 0px 1px 2px rgba(60, 64, 67, 0.3), 0px 1px 3px 1px rgba(60, 64, 67, 0.15);\n",
              "      fill: #174EA6;\n",
              "    }\n",
              "\n",
              "    [theme=dark] .colab-df-convert {\n",
              "      background-color: #3B4455;\n",
              "      fill: #D2E3FC;\n",
              "    }\n",
              "\n",
              "    [theme=dark] .colab-df-convert:hover {\n",
              "      background-color: #434B5C;\n",
              "      box-shadow: 0px 1px 3px 1px rgba(0, 0, 0, 0.15);\n",
              "      filter: drop-shadow(0px 1px 2px rgba(0, 0, 0, 0.3));\n",
              "      fill: #FFFFFF;\n",
              "    }\n",
              "  </style>\n",
              "\n",
              "      <script>\n",
              "        const buttonEl =\n",
              "          document.querySelector('#df-ee7f412d-3112-4cb6-887e-47dcac2f9903 button.colab-df-convert');\n",
              "        buttonEl.style.display =\n",
              "          google.colab.kernel.accessAllowed ? 'block' : 'none';\n",
              "\n",
              "        async function convertToInteractive(key) {\n",
              "          const element = document.querySelector('#df-ee7f412d-3112-4cb6-887e-47dcac2f9903');\n",
              "          const dataTable =\n",
              "            await google.colab.kernel.invokeFunction('convertToInteractive',\n",
              "                                                     [key], {});\n",
              "          if (!dataTable) return;\n",
              "\n",
              "          const docLinkHtml = 'Like what you see? Visit the ' +\n",
              "            '<a target=\"_blank\" href=https://colab.research.google.com/notebooks/data_table.ipynb>data table notebook</a>'\n",
              "            + ' to learn more about interactive tables.';\n",
              "          element.innerHTML = '';\n",
              "          dataTable['output_type'] = 'display_data';\n",
              "          await google.colab.output.renderOutput(dataTable, element);\n",
              "          const docLink = document.createElement('div');\n",
              "          docLink.innerHTML = docLinkHtml;\n",
              "          element.appendChild(docLink);\n",
              "        }\n",
              "      </script>\n",
              "    </div>\n",
              "  </div>\n",
              "  "
            ]
          },
          "metadata": {},
          "execution_count": 138
        }
      ]
    },
    {
      "cell_type": "markdown",
      "source": [
        "**The graph below shows those Merchants where most of the fraudulent transactions happen.**\n",
        "\n",
        "**Top 3 are:**\n",
        "\n",
        "\n",
        "*   **Online Retail**\n",
        "\n",
        "*   **Online Gifts**\n",
        "*   **Ride Share**\n",
        "\n"
      ],
      "metadata": {
        "id": "ZN-q0ltFzMbS"
      }
    },
    {
      "cell_type": "code",
      "source": [
        "e=pd.DataFrame(merchant_with_fraud.merchantCategoryCode.value_counts()).reset_index(drop=False)\n",
        "e.columns=['merchantCategoryCode','Frequency'] # rename columns\n",
        "print(\"Frauds Happening mostly according to this distribution: \")\n",
        "plt.figure(figsize=(14,6)) # adjust figure size\n",
        "ax = sns.barplot(x=\"merchantCategoryCode\", y=\"Frequency\", data=e) # draw barplot"
      ],
      "metadata": {
        "colab": {
          "base_uri": "https://localhost:8080/",
          "height": 407
        },
        "id": "mYU49ttLzM2Q",
        "outputId": "7e84c16e-20e7-4e2b-bbe2-76d560311760"
      },
      "execution_count": null,
      "outputs": [
        {
          "output_type": "stream",
          "name": "stdout",
          "text": [
            "Frauds Happening mostly according to this distribution: \n"
          ]
        },
        {
          "output_type": "display_data",
          "data": {
            "text/plain": [
              "<Figure size 1008x432 with 1 Axes>"
            ],
            "image/png": "[encoded data removed]"
          },
          "metadata": {
            "needs_background": "light"
          }
        }
      ]
    },
    {
      "cell_type": "markdown",
      "source": [
        "**The Merchant Names where most Fraud happens:**\n",
        "\n",
        "**Top 5 are:**\n",
        "\n",
        "\n",
        "\n",
        "1.   **Lyft**\n",
        "2.   **ebay.com**\n",
        "\n",
        "1.   **Fresh Flowers**\n",
        "2.   **Uber**\n",
        "\n",
        "1.   **walmart.com**\n"
      ],
      "metadata": {
        "id": "8TwUDiiXzRrf"
      }
    },
    {
      "cell_type": "code",
      "source": [
        "merchant_name__with_fraud = df.loc[df['isFraud'] == 1, ['merchantName']]\n",
        "\n",
        "important_merchants = merchant_name__with_fraud['merchantName'].value_counts()\n",
        "important_merchants = important_merchants.loc[important_merchants.values > 300]\n",
        "print(\"Most Frauds Happening at these merchants:\")\n",
        "important_merchants"
      ],
      "metadata": {
        "colab": {
          "base_uri": "https://localhost:8080/"
        },
        "id": "UgdN6rcJzSB3",
        "outputId": "6d15a521-f073-496f-8669-bbb021f5f1e5"
      },
      "execution_count": null,
      "outputs": [
        {
          "output_type": "stream",
          "name": "stdout",
          "text": [
            "Most Frauds Happening at these merchants:\n"
          ]
        },
        {
          "output_type": "execute_result",
          "data": {
            "text/plain": [
              "Lyft             760\n",
              "ebay.com         639\n",
              "Fresh Flowers    553\n",
              "Uber             512\n",
              "walmart.com      446\n",
              "cheapfast.com    442\n",
              "sears.com        422\n",
              "oldnavy.com      401\n",
              "staples.com      399\n",
              "alibaba.com      383\n",
              "amazon.com       372\n",
              "gap.com          369\n",
              "target.com       362\n",
              "apple.com        357\n",
              "discount.com     346\n",
              "Name: merchantName, dtype: int64"
            ]
          },
          "metadata": {},
          "execution_count": 140
        }
      ]
    },
    {
      "cell_type": "markdown",
      "source": [
        "**Fortunately, The account IDs which get most frauds can also be seen through dataset.**\n",
        "\n",
        "**Top 3 Account IDs are:**\n",
        "\n",
        "\n",
        "1.   **380680241**\n",
        "2.   **782081187**\n",
        "\n",
        "1.   **246251253**\n"
      ],
      "metadata": {
        "id": "m4SF3tpozZOk"
      }
    },
    {
      "cell_type": "code",
      "source": [
        "accountNumber_with_fraud = df.loc[df['isFraud'] == 1, ['accountNumber']]\n",
        "\n",
        "acc_fraud = accountNumber_with_fraud['accountNumber'].value_counts()\n",
        "acc_fraud = acc_fraud.loc[acc_fraud.values > 200]\n",
        "print(\"Most Frauds Happening on these accounts:\")\n",
        "acc_fraud"
      ],
      "metadata": {
        "colab": {
          "base_uri": "https://localhost:8080/"
        },
        "id": "t6dQJYAuzZlm",
        "outputId": "b127f248-5888-42e7-e44b-e276ad31e7ad"
      },
      "execution_count": null,
      "outputs": [
        {
          "output_type": "stream",
          "name": "stdout",
          "text": [
            "Most Frauds Happening on these accounts:\n"
          ]
        },
        {
          "output_type": "execute_result",
          "data": {
            "text/plain": [
              "380680241    783\n",
              "782081187    307\n",
              "246251253    278\n",
              "700725639    272\n",
              "472288969    266\n",
              "208319653    211\n",
              "419709514    207\n",
              "Name: accountNumber, dtype: int64"
            ]
          },
          "metadata": {},
          "execution_count": 141
        }
      ]
    },
    {
      "cell_type": "markdown",
      "source": [
        "**Account IDs and Customer IDs are the same.**"
      ],
      "metadata": {
        "id": "ccc08ILDzd5y"
      }
    },
    {
      "cell_type": "code",
      "source": [
        "customers_with_fraud = df.loc[df['isFraud'] == 1, ['customerId']]\n",
        "\n",
        "cust_fraud = customers_with_fraud['customerId'].value_counts()\n",
        "cust_fraud = cust_fraud.loc[cust_fraud.values > 200]\n",
        "print(\"Most Frauds Happening with these customer Ids:\")\n",
        "cust_fraud"
      ],
      "metadata": {
        "colab": {
          "base_uri": "https://localhost:8080/"
        },
        "id": "zV2QxhfbzePE",
        "outputId": "c1613efe-529e-4928-f374-7538a948bee4"
      },
      "execution_count": null,
      "outputs": [
        {
          "output_type": "stream",
          "name": "stdout",
          "text": [
            "Most Frauds Happening with these customer Ids:\n"
          ]
        },
        {
          "output_type": "execute_result",
          "data": {
            "text/plain": [
              "380680241    783\n",
              "782081187    307\n",
              "246251253    278\n",
              "700725639    272\n",
              "472288969    266\n",
              "208319653    211\n",
              "419709514    207\n",
              "Name: customerId, dtype: int64"
            ]
          },
          "metadata": {},
          "execution_count": 142
        }
      ]
    },
    {
      "cell_type": "markdown",
      "source": [
        "**Correlation Matrix between Numerical Attributes also tell important information about the given process.**"
      ],
      "metadata": {
        "id": "3kO5v1a6zjkS"
      }
    },
    {
      "cell_type": "code",
      "source": [
        "import pandas as pd\n",
        "import numpy as np\n",
        "corr = df_num.corr()\n",
        "corr.style.background_gradient(cmap='coolwarm').set_precision(2)"
      ],
      "metadata": {
        "colab": {
          "base_uri": "https://localhost:8080/",
          "height": 211
        },
        "id": "mjkuSqafzmoZ",
        "outputId": "8b30be25-0ce9-4ee3-b8c6-8f52697bf5af"
      },
      "execution_count": null,
      "outputs": [
        {
          "output_type": "stream",
          "name": "stderr",
          "text": [
            "/usr/local/lib/python3.7/dist-packages/ipykernel_launcher.py:4: FutureWarning: this method is deprecated in favour of `Styler.format(precision=..)`\n",
            "  after removing the cwd from sys.path.\n"
          ]
        },
        {
          "output_type": "execute_result",
          "data": {
            "text/plain": [
              "<pandas.io.formats.style.Styler at 0x7f53fbf0d310>"
            ],
            "text/html": [
              "<style type=\"text/css\">\n",
              "#T_29199_row0_col0, #T_29199_row1_col1, #T_29199_row2_col2, #T_29199_row3_col3 {\n",
              "  background-color: #b40426;\n",
              "  color: #f1f1f1;\n",
              "}\n",
              "#T_29199_row0_col1 {\n",
              "  background-color: #e67259;\n",
              "  color: #f1f1f1;\n",
              "}\n",
              "#T_29199_row0_col2 {\n",
              "  background-color: #3e51c5;\n",
              "  color: #f1f1f1;\n",
              "}\n",
              "#T_29199_row0_col3 {\n",
              "  background-color: #f6bea4;\n",
              "  color: #000000;\n",
              "}\n",
              "#T_29199_row1_col0 {\n",
              "  background-color: #e7745b;\n",
              "  color: #f1f1f1;\n",
              "}\n",
              "#T_29199_row1_col2, #T_29199_row2_col0, #T_29199_row2_col1, #T_29199_row2_col3 {\n",
              "  background-color: #3b4cc0;\n",
              "  color: #f1f1f1;\n",
              "}\n",
              "#T_29199_row1_col3 {\n",
              "  background-color: #5b7ae5;\n",
              "  color: #f1f1f1;\n",
              "}\n",
              "#T_29199_row3_col0 {\n",
              "  background-color: #f6bda2;\n",
              "  color: #000000;\n",
              "}\n",
              "#T_29199_row3_col1 {\n",
              "  background-color: #6687ed;\n",
              "  color: #f1f1f1;\n",
              "}\n",
              "#T_29199_row3_col2 {\n",
              "  background-color: #445acc;\n",
              "  color: #f1f1f1;\n",
              "}\n",
              "</style>\n",
              "<table id=\"T_29199_\" class=\"dataframe\">\n",
              "  <thead>\n",
              "    <tr>\n",
              "      <th class=\"blank level0\" >&nbsp;</th>\n",
              "      <th class=\"col_heading level0 col0\" >creditLimit</th>\n",
              "      <th class=\"col_heading level0 col1\" >availableMoney</th>\n",
              "      <th class=\"col_heading level0 col2\" >transactionAmount</th>\n",
              "      <th class=\"col_heading level0 col3\" >currentBalance</th>\n",
              "    </tr>\n",
              "  </thead>\n",
              "  <tbody>\n",
              "    <tr>\n",
              "      <th id=\"T_29199_level0_row0\" class=\"row_heading level0 row0\" >creditLimit</th>\n",
              "      <td id=\"T_29199_row0_col0\" class=\"data row0 col0\" >1.00</td>\n",
              "      <td id=\"T_29199_row0_col1\" class=\"data row0 col1\" >0.83</td>\n",
              "      <td id=\"T_29199_row0_col2\" class=\"data row0 col2\" >0.01</td>\n",
              "      <td id=\"T_29199_row0_col3\" class=\"data row0 col3\" >0.65</td>\n",
              "    </tr>\n",
              "    <tr>\n",
              "      <th id=\"T_29199_level0_row1\" class=\"row_heading level0 row1\" >availableMoney</th>\n",
              "      <td id=\"T_29199_row1_col0\" class=\"data row1 col0\" >0.83</td>\n",
              "      <td id=\"T_29199_row1_col1\" class=\"data row1 col1\" >1.00</td>\n",
              "      <td id=\"T_29199_row1_col2\" class=\"data row1 col2\" >-0.01</td>\n",
              "      <td id=\"T_29199_row1_col3\" class=\"data row1 col3\" >0.13</td>\n",
              "    </tr>\n",
              "    <tr>\n",
              "      <th id=\"T_29199_level0_row2\" class=\"row_heading level0 row2\" >transactionAmount</th>\n",
              "      <td id=\"T_29199_row2_col0\" class=\"data row2 col0\" >0.01</td>\n",
              "      <td id=\"T_29199_row2_col1\" class=\"data row2 col1\" >-0.01</td>\n",
              "      <td id=\"T_29199_row2_col2\" class=\"data row2 col2\" >1.00</td>\n",
              "      <td id=\"T_29199_row2_col3\" class=\"data row2 col3\" >0.02</td>\n",
              "    </tr>\n",
              "    <tr>\n",
              "      <th id=\"T_29199_level0_row3\" class=\"row_heading level0 row3\" >currentBalance</th>\n",
              "      <td id=\"T_29199_row3_col0\" class=\"data row3 col0\" >0.65</td>\n",
              "      <td id=\"T_29199_row3_col1\" class=\"data row3 col1\" >0.13</td>\n",
              "      <td id=\"T_29199_row3_col2\" class=\"data row3 col2\" >0.02</td>\n",
              "      <td id=\"T_29199_row3_col3\" class=\"data row3 col3\" >1.00</td>\n",
              "    </tr>\n",
              "  </tbody>\n",
              "</table>\n"
            ]
          },
          "metadata": {},
          "execution_count": 143
        }
      ]
    },
    {
      "cell_type": "markdown",
      "source": [
        "# **Data Wrangling**"
      ],
      "metadata": {
        "id": "y2MGPj6tZ3VV"
      }
    },
    {
      "cell_type": "markdown",
      "source": [
        "**Till know I didn't remove any empty Columns Now removing 6 empty columns.** "
      ],
      "metadata": {
        "id": "E_d9_tX8aLL-"
      }
    },
    {
      "cell_type": "code",
      "source": [
        "df.drop(['echoBuffer','merchantCity','merchantState','merchantZip','posOnPremises','recurringAuthInd'],\n",
        "                  axis=1,inplace=True)\n",
        "df"
      ],
      "metadata": {
        "colab": {
          "base_uri": "https://localhost:8080/",
          "height": 505
        },
        "id": "OM3_zhJGaL56",
        "outputId": "afe6227c-14b9-4f51-c4ff-b1fe6d8d3917"
      },
      "execution_count": null,
      "outputs": [
        {
          "output_type": "execute_result",
          "data": {
            "text/plain": [
              "        accountNumber  customerId  creditLimit  availableMoney  \\\n",
              "0           737265056   737265056         5000         5000.00   \n",
              "1           737265056   737265056         5000         5000.00   \n",
              "2           737265056   737265056         5000         5000.00   \n",
              "3           737265056   737265056         5000         5000.00   \n",
              "4           830329091   830329091         5000         5000.00   \n",
              "...               ...         ...          ...             ...   \n",
              "786358      732852505   732852505        50000        48904.96   \n",
              "786359      732852505   732852505        50000        48785.04   \n",
              "786360      732852505   732852505        50000        48766.15   \n",
              "786361      732852505   732852505        50000        48716.72   \n",
              "786362      732852505   732852505        50000        48666.83   \n",
              "\n",
              "        transactionDateTime  transactionAmount         merchantName  \\\n",
              "0       2016-08-13T14:27:32              98.55                 Uber   \n",
              "1       2016-10-11T05:05:54              74.51          AMC #191138   \n",
              "2       2016-11-08T09:18:39               7.47           Play Store   \n",
              "3       2016-12-10T02:14:50               7.47           Play Store   \n",
              "4       2016-03-24T21:04:46              71.18  Tim Hortons #947751   \n",
              "...                     ...                ...                  ...   \n",
              "786358  2016-12-22T18:44:12             119.92                 Lyft   \n",
              "786359  2016-12-25T16:20:34              18.89             hulu.com   \n",
              "786360  2016-12-27T15:46:24              49.43                 Lyft   \n",
              "786361  2016-12-29T00:30:55              49.89          walmart.com   \n",
              "786362  2016-12-30T20:10:29              72.18                 Uber   \n",
              "\n",
              "       acqCountry merchantCountryCode posEntryMode  ... accountOpenDate  \\\n",
              "0              US                  US           02  ...      2015-03-14   \n",
              "1              US                  US           09  ...      2015-03-14   \n",
              "2              US                  US           09  ...      2015-03-14   \n",
              "3              US                  US           09  ...      2015-03-14   \n",
              "4              US                  US           02  ...      2015-08-06   \n",
              "...           ...                 ...          ...  ...             ...   \n",
              "786358         US                  US           90  ...      2012-08-23   \n",
              "786359         US                  US           09  ...      2012-08-23   \n",
              "786360         US                  US           02  ...      2012-08-23   \n",
              "786361         US                  US           09  ...      2012-08-23   \n",
              "786362         US                  US           05  ...      2012-08-23   \n",
              "\n",
              "       dateOfLastAddressChange cardCVV enteredCVV cardLast4Digits  \\\n",
              "0                   2015-03-14     414        414            1803   \n",
              "1                   2015-03-14     486        486             767   \n",
              "2                   2015-03-14     486        486             767   \n",
              "3                   2015-03-14     486        486             767   \n",
              "4                   2015-08-06     885        885            3143   \n",
              "...                        ...     ...        ...             ...   \n",
              "786358              2012-08-23     936        936            3783   \n",
              "786359              2012-08-23     939        939            3388   \n",
              "786360              2012-08-23     936        936            3783   \n",
              "786361              2012-08-23     939        939            3388   \n",
              "786362              2012-08-23     939        939            3388   \n",
              "\n",
              "        transactionType  currentBalance  cardPresent expirationDateKeyInMatch  \\\n",
              "0              PURCHASE            0.00            0                        0   \n",
              "1              PURCHASE            0.00            1                        0   \n",
              "2              PURCHASE            0.00            0                        0   \n",
              "3              PURCHASE            0.00            0                        0   \n",
              "4              PURCHASE            0.00            1                        0   \n",
              "...                 ...             ...          ...                      ...   \n",
              "786358         PURCHASE         1095.04            0                        0   \n",
              "786359         PURCHASE         1214.96            0                        0   \n",
              "786360         PURCHASE         1233.85            0                        0   \n",
              "786361         PURCHASE         1283.28            0                        0   \n",
              "786362         PURCHASE         1333.17            0                        0   \n",
              "\n",
              "        isFraud  \n",
              "0             0  \n",
              "1             0  \n",
              "2             0  \n",
              "3             0  \n",
              "4             0  \n",
              "...         ...  \n",
              "786358        0  \n",
              "786359        0  \n",
              "786360        0  \n",
              "786361        0  \n",
              "786362        0  \n",
              "\n",
              "[786363 rows x 23 columns]"
            ],
            "text/html": [
              "\n",
              "  <div id=\"df-1a4118e9-01c7-4114-ba1b-40d719398769\">\n",
              "    <div class=\"colab-df-container\">\n",
              "      <div>\n",
              "<style scoped>\n",
              "    .dataframe tbody tr th:only-of-type {\n",
              "        vertical-align: middle;\n",
              "    }\n",
              "\n",
              "    .dataframe tbody tr th {\n",
              "        vertical-align: top;\n",
              "    }\n",
              "\n",
              "    .dataframe thead th {\n",
              "        text-align: right;\n",
              "    }\n",
              "</style>\n",
              "<table border=\"1\" class=\"dataframe\">\n",
              "  <thead>\n",
              "    <tr style=\"text-align: right;\">\n",
              "      <th></th>\n",
              "      <th>accountNumber</th>\n",
              "      <th>customerId</th>\n",
              "      <th>creditLimit</th>\n",
              "      <th>availableMoney</th>\n",
              "      <th>transactionDateTime</th>\n",
              "      <th>transactionAmount</th>\n",
              "      <th>merchantName</th>\n",
              "      <th>acqCountry</th>\n",
              "      <th>merchantCountryCode</th>\n",
              "      <th>posEntryMode</th>\n",
              "      <th>...</th>\n",
              "      <th>accountOpenDate</th>\n",
              "      <th>dateOfLastAddressChange</th>\n",
              "      <th>cardCVV</th>\n",
              "      <th>enteredCVV</th>\n",
              "      <th>cardLast4Digits</th>\n",
              "      <th>transactionType</th>\n",
              "      <th>currentBalance</th>\n",
              "      <th>cardPresent</th>\n",
              "      <th>expirationDateKeyInMatch</th>\n",
              "      <th>isFraud</th>\n",
              "    </tr>\n",
              "  </thead>\n",
              "  <tbody>\n",
              "    <tr>\n",
              "      <th>0</th>\n",
              "      <td>737265056</td>\n",
              "      <td>737265056</td>\n",
              "      <td>5000</td>\n",
              "      <td>5000.00</td>\n",
              "      <td>2016-08-13T14:27:32</td>\n",
              "      <td>98.55</td>\n",
              "      <td>Uber</td>\n",
              "      <td>US</td>\n",
              "      <td>US</td>\n",
              "      <td>02</td>\n",
              "      <td>...</td>\n",
              "      <td>2015-03-14</td>\n",
              "      <td>2015-03-14</td>\n",
              "      <td>414</td>\n",
              "      <td>414</td>\n",
              "      <td>1803</td>\n",
              "      <td>PURCHASE</td>\n",
              "      <td>0.00</td>\n",
              "      <td>0</td>\n",
              "      <td>0</td>\n",
              "      <td>0</td>\n",
              "    </tr>\n",
              "    <tr>\n",
              "      <th>1</th>\n",
              "      <td>737265056</td>\n",
              "      <td>737265056</td>\n",
              "      <td>5000</td>\n",
              "      <td>5000.00</td>\n",
              "      <td>2016-10-11T05:05:54</td>\n",
              "      <td>74.51</td>\n",
              "      <td>AMC #191138</td>\n",
              "      <td>US</td>\n",
              "      <td>US</td>\n",
              "      <td>09</td>\n",
              "      <td>...</td>\n",
              "      <td>2015-03-14</td>\n",
              "      <td>2015-03-14</td>\n",
              "      <td>486</td>\n",
              "      <td>486</td>\n",
              "      <td>767</td>\n",
              "      <td>PURCHASE</td>\n",
              "      <td>0.00</td>\n",
              "      <td>1</td>\n",
              "      <td>0</td>\n",
              "      <td>0</td>\n",
              "    </tr>\n",
              "    <tr>\n",
              "      <th>2</th>\n",
              "      <td>737265056</td>\n",
              "      <td>737265056</td>\n",
              "      <td>5000</td>\n",
              "      <td>5000.00</td>\n",
              "      <td>2016-11-08T09:18:39</td>\n",
              "      <td>7.47</td>\n",
              "      <td>Play Store</td>\n",
              "      <td>US</td>\n",
              "      <td>US</td>\n",
              "      <td>09</td>\n",
              "      <td>...</td>\n",
              "      <td>2015-03-14</td>\n",
              "      <td>2015-03-14</td>\n",
              "      <td>486</td>\n",
              "      <td>486</td>\n",
              "      <td>767</td>\n",
              "      <td>PURCHASE</td>\n",
              "      <td>0.00</td>\n",
              "      <td>0</td>\n",
              "      <td>0</td>\n",
              "      <td>0</td>\n",
              "    </tr>\n",
              "    <tr>\n",
              "      <th>3</th>\n",
              "      <td>737265056</td>\n",
              "      <td>737265056</td>\n",
              "      <td>5000</td>\n",
              "      <td>5000.00</td>\n",
              "      <td>2016-12-10T02:14:50</td>\n",
              "      <td>7.47</td>\n",
              "      <td>Play Store</td>\n",
              "      <td>US</td>\n",
              "      <td>US</td>\n",
              "      <td>09</td>\n",
              "      <td>...</td>\n",
              "      <td>2015-03-14</td>\n",
              "      <td>2015-03-14</td>\n",
              "      <td>486</td>\n",
              "      <td>486</td>\n",
              "      <td>767</td>\n",
              "      <td>PURCHASE</td>\n",
              "      <td>0.00</td>\n",
              "      <td>0</td>\n",
              "      <td>0</td>\n",
              "      <td>0</td>\n",
              "    </tr>\n",
              "    <tr>\n",
              "      <th>4</th>\n",
              "      <td>830329091</td>\n",
              "      <td>830329091</td>\n",
              "      <td>5000</td>\n",
              "      <td>5000.00</td>\n",
              "      <td>2016-03-24T21:04:46</td>\n",
              "      <td>71.18</td>\n",
              "      <td>Tim Hortons #947751</td>\n",
              "      <td>US</td>\n",
              "      <td>US</td>\n",
              "      <td>02</td>\n",
              "      <td>...</td>\n",
              "      <td>2015-08-06</td>\n",
              "      <td>2015-08-06</td>\n",
              "      <td>885</td>\n",
              "      <td>885</td>\n",
              "      <td>3143</td>\n",
              "      <td>PURCHASE</td>\n",
              "      <td>0.00</td>\n",
              "      <td>1</td>\n",
              "      <td>0</td>\n",
              "      <td>0</td>\n",
              "    </tr>\n",
              "    <tr>\n",
              "      <th>...</th>\n",
              "      <td>...</td>\n",
              "      <td>...</td>\n",
              "      <td>...</td>\n",
              "      <td>...</td>\n",
              "      <td>...</td>\n",
              "      <td>...</td>\n",
              "      <td>...</td>\n",
              "      <td>...</td>\n",
              "      <td>...</td>\n",
              "      <td>...</td>\n",
              "      <td>...</td>\n",
              "      <td>...</td>\n",
              "      <td>...</td>\n",
              "      <td>...</td>\n",
              "      <td>...</td>\n",
              "      <td>...</td>\n",
              "      <td>...</td>\n",
              "      <td>...</td>\n",
              "      <td>...</td>\n",
              "      <td>...</td>\n",
              "      <td>...</td>\n",
              "    </tr>\n",
              "    <tr>\n",
              "      <th>786358</th>\n",
              "      <td>732852505</td>\n",
              "      <td>732852505</td>\n",
              "      <td>50000</td>\n",
              "      <td>48904.96</td>\n",
              "      <td>2016-12-22T18:44:12</td>\n",
              "      <td>119.92</td>\n",
              "      <td>Lyft</td>\n",
              "      <td>US</td>\n",
              "      <td>US</td>\n",
              "      <td>90</td>\n",
              "      <td>...</td>\n",
              "      <td>2012-08-23</td>\n",
              "      <td>2012-08-23</td>\n",
              "      <td>936</td>\n",
              "      <td>936</td>\n",
              "      <td>3783</td>\n",
              "      <td>PURCHASE</td>\n",
              "      <td>1095.04</td>\n",
              "      <td>0</td>\n",
              "      <td>0</td>\n",
              "      <td>0</td>\n",
              "    </tr>\n",
              "    <tr>\n",
              "      <th>786359</th>\n",
              "      <td>732852505</td>\n",
              "      <td>732852505</td>\n",
              "      <td>50000</td>\n",
              "      <td>48785.04</td>\n",
              "      <td>2016-12-25T16:20:34</td>\n",
              "      <td>18.89</td>\n",
              "      <td>hulu.com</td>\n",
              "      <td>US</td>\n",
              "      <td>US</td>\n",
              "      <td>09</td>\n",
              "      <td>...</td>\n",
              "      <td>2012-08-23</td>\n",
              "      <td>2012-08-23</td>\n",
              "      <td>939</td>\n",
              "      <td>939</td>\n",
              "      <td>3388</td>\n",
              "      <td>PURCHASE</td>\n",
              "      <td>1214.96</td>\n",
              "      <td>0</td>\n",
              "      <td>0</td>\n",
              "      <td>0</td>\n",
              "    </tr>\n",
              "    <tr>\n",
              "      <th>786360</th>\n",
              "      <td>732852505</td>\n",
              "      <td>732852505</td>\n",
              "      <td>50000</td>\n",
              "      <td>48766.15</td>\n",
              "      <td>2016-12-27T15:46:24</td>\n",
              "      <td>49.43</td>\n",
              "      <td>Lyft</td>\n",
              "      <td>US</td>\n",
              "      <td>US</td>\n",
              "      <td>02</td>\n",
              "      <td>...</td>\n",
              "      <td>2012-08-23</td>\n",
              "      <td>2012-08-23</td>\n",
              "      <td>936</td>\n",
              "      <td>936</td>\n",
              "      <td>3783</td>\n",
              "      <td>PURCHASE</td>\n",
              "      <td>1233.85</td>\n",
              "      <td>0</td>\n",
              "      <td>0</td>\n",
              "      <td>0</td>\n",
              "    </tr>\n",
              "    <tr>\n",
              "      <th>786361</th>\n",
              "      <td>732852505</td>\n",
              "      <td>732852505</td>\n",
              "      <td>50000</td>\n",
              "      <td>48716.72</td>\n",
              "      <td>2016-12-29T00:30:55</td>\n",
              "      <td>49.89</td>\n",
              "      <td>walmart.com</td>\n",
              "      <td>US</td>\n",
              "      <td>US</td>\n",
              "      <td>09</td>\n",
              "      <td>...</td>\n",
              "      <td>2012-08-23</td>\n",
              "      <td>2012-08-23</td>\n",
              "      <td>939</td>\n",
              "      <td>939</td>\n",
              "      <td>3388</td>\n",
              "      <td>PURCHASE</td>\n",
              "      <td>1283.28</td>\n",
              "      <td>0</td>\n",
              "      <td>0</td>\n",
              "      <td>0</td>\n",
              "    </tr>\n",
              "    <tr>\n",
              "      <th>786362</th>\n",
              "      <td>732852505</td>\n",
              "      <td>732852505</td>\n",
              "      <td>50000</td>\n",
              "      <td>48666.83</td>\n",
              "      <td>2016-12-30T20:10:29</td>\n",
              "      <td>72.18</td>\n",
              "      <td>Uber</td>\n",
              "      <td>US</td>\n",
              "      <td>US</td>\n",
              "      <td>05</td>\n",
              "      <td>...</td>\n",
              "      <td>2012-08-23</td>\n",
              "      <td>2012-08-23</td>\n",
              "      <td>939</td>\n",
              "      <td>939</td>\n",
              "      <td>3388</td>\n",
              "      <td>PURCHASE</td>\n",
              "      <td>1333.17</td>\n",
              "      <td>0</td>\n",
              "      <td>0</td>\n",
              "      <td>0</td>\n",
              "    </tr>\n",
              "  </tbody>\n",
              "</table>\n",
              "<p>786363 rows × 23 columns</p>\n",
              "</div>\n",
              "      <button class=\"colab-df-convert\" onclick=\"convertToInteractive('df-1a4118e9-01c7-4114-ba1b-40d719398769')\"\n",
              "              title=\"Convert this dataframe to an interactive table.\"\n",
              "              style=\"display:none;\">\n",
              "        \n",
              "  <svg xmlns=\"http://www.w3.org/2000/svg\" height=\"24px\"viewBox=\"0 0 24 24\"\n",
              "       width=\"24px\">\n",
              "    <path d=\"M0 0h24v24H0V0z\" fill=\"none\"/>\n",
              "    <path d=\"M18.56 5.44l.94 2.06.94-2.06 2.06-.94-2.06-.94-.94-2.06-.94 2.06-2.06.94zm-11 1L8.5 8.5l.94-2.06 2.06-.94-2.06-.94L8.5 2.5l-.94 2.06-2.06.94zm10 10l.94 2.06.94-2.06 2.06-.94-2.06-.94-.94-2.06-.94 2.06-2.06.94z\"/><path d=\"M17.41 7.96l-1.37-1.37c-.4-.4-.92-.59-1.43-.59-.52 0-1.04.2-1.43.59L10.3 9.45l-7.72 7.72c-.78.78-.78 2.05 0 2.83L4 21.41c.39.39.9.59 1.41.59.51 0 1.02-.2 1.41-.59l7.78-7.78 2.81-2.81c.8-.78.8-2.07 0-2.86zM5.41 20L4 18.59l7.72-7.72 1.47 1.35L5.41 20z\"/>\n",
              "  </svg>\n",
              "      </button>\n",
              "      \n",
              "  <style>\n",
              "    .colab-df-container {\n",
              "      display:flex;\n",
              "      flex-wrap:wrap;\n",
              "      gap: 12px;\n",
              "    }\n",
              "\n",
              "    .colab-df-convert {\n",
              "      background-color: #E8F0FE;\n",
              "      border: none;\n",
              "      border-radius: 50%;\n",
              "      cursor: pointer;\n",
              "      display: none;\n",
              "      fill: #1967D2;\n",
              "      height: 32px;\n",
              "      padding: 0 0 0 0;\n",
              "      width: 32px;\n",
              "    }\n",
              "\n",
              "    .colab-df-convert:hover {\n",
              "      background-color: #E2EBFA;\n",
              "      box-shadow: 0px 1px 2px rgba(60, 64, 67, 0.3), 0px 1px 3px 1px rgba(60, 64, 67, 0.15);\n",
              "      fill: #174EA6;\n",
              "    }\n",
              "\n",
              "    [theme=dark] .colab-df-convert {\n",
              "      background-color: #3B4455;\n",
              "      fill: #D2E3FC;\n",
              "    }\n",
              "\n",
              "    [theme=dark] .colab-df-convert:hover {\n",
              "      background-color: #434B5C;\n",
              "      box-shadow: 0px 1px 3px 1px rgba(0, 0, 0, 0.15);\n",
              "      filter: drop-shadow(0px 1px 2px rgba(0, 0, 0, 0.3));\n",
              "      fill: #FFFFFF;\n",
              "    }\n",
              "  </style>\n",
              "\n",
              "      <script>\n",
              "        const buttonEl =\n",
              "          document.querySelector('#df-1a4118e9-01c7-4114-ba1b-40d719398769 button.colab-df-convert');\n",
              "        buttonEl.style.display =\n",
              "          google.colab.kernel.accessAllowed ? 'block' : 'none';\n",
              "\n",
              "        async function convertToInteractive(key) {\n",
              "          const element = document.querySelector('#df-1a4118e9-01c7-4114-ba1b-40d719398769');\n",
              "          const dataTable =\n",
              "            await google.colab.kernel.invokeFunction('convertToInteractive',\n",
              "                                                     [key], {});\n",
              "          if (!dataTable) return;\n",
              "\n",
              "          const docLinkHtml = 'Like what you see? Visit the ' +\n",
              "            '<a target=\"_blank\" href=https://colab.research.google.com/notebooks/data_table.ipynb>data table notebook</a>'\n",
              "            + ' to learn more about interactive tables.';\n",
              "          element.innerHTML = '';\n",
              "          dataTable['output_type'] = 'display_data';\n",
              "          await google.colab.output.renderOutput(dataTable, element);\n",
              "          const docLink = document.createElement('div');\n",
              "          docLink.innerHTML = docLinkHtml;\n",
              "          element.appendChild(docLink);\n",
              "        }\n",
              "      </script>\n",
              "    </div>\n",
              "  </div>\n",
              "  "
            ]
          },
          "metadata": {},
          "execution_count": 144
        }
      ]
    },
    {
      "cell_type": "code",
      "source": [
        "df.head(5)"
      ],
      "metadata": {
        "colab": {
          "base_uri": "https://localhost:8080/",
          "height": 317
        },
        "id": "Ttazt_53ff_K",
        "outputId": "2672bc64-13ca-46fc-d808-14e4ba699832"
      },
      "execution_count": null,
      "outputs": [
        {
          "output_type": "execute_result",
          "data": {
            "text/plain": [
              "   accountNumber  customerId  creditLimit  availableMoney  \\\n",
              "0      737265056   737265056         5000          5000.0   \n",
              "1      737265056   737265056         5000          5000.0   \n",
              "2      737265056   737265056         5000          5000.0   \n",
              "3      737265056   737265056         5000          5000.0   \n",
              "4      830329091   830329091         5000          5000.0   \n",
              "\n",
              "   transactionDateTime  transactionAmount         merchantName acqCountry  \\\n",
              "0  2016-08-13T14:27:32              98.55                 Uber         US   \n",
              "1  2016-10-11T05:05:54              74.51          AMC #191138         US   \n",
              "2  2016-11-08T09:18:39               7.47           Play Store         US   \n",
              "3  2016-12-10T02:14:50               7.47           Play Store         US   \n",
              "4  2016-03-24T21:04:46              71.18  Tim Hortons #947751         US   \n",
              "\n",
              "  merchantCountryCode posEntryMode  ... accountOpenDate  \\\n",
              "0                  US           02  ...      2015-03-14   \n",
              "1                  US           09  ...      2015-03-14   \n",
              "2                  US           09  ...      2015-03-14   \n",
              "3                  US           09  ...      2015-03-14   \n",
              "4                  US           02  ...      2015-08-06   \n",
              "\n",
              "  dateOfLastAddressChange cardCVV enteredCVV cardLast4Digits  transactionType  \\\n",
              "0              2015-03-14     414        414            1803         PURCHASE   \n",
              "1              2015-03-14     486        486             767         PURCHASE   \n",
              "2              2015-03-14     486        486             767         PURCHASE   \n",
              "3              2015-03-14     486        486             767         PURCHASE   \n",
              "4              2015-08-06     885        885            3143         PURCHASE   \n",
              "\n",
              "   currentBalance  cardPresent expirationDateKeyInMatch  isFraud  \n",
              "0             0.0            0                        0        0  \n",
              "1             0.0            1                        0        0  \n",
              "2             0.0            0                        0        0  \n",
              "3             0.0            0                        0        0  \n",
              "4             0.0            1                        0        0  \n",
              "\n",
              "[5 rows x 23 columns]"
            ],
            "text/html": [
              "\n",
              "  <div id=\"df-de9e4447-9838-4206-a8c3-6bcaeadb5057\">\n",
              "    <div class=\"colab-df-container\">\n",
              "      <div>\n",
              "<style scoped>\n",
              "    .dataframe tbody tr th:only-of-type {\n",
              "        vertical-align: middle;\n",
              "    }\n",
              "\n",
              "    .dataframe tbody tr th {\n",
              "        vertical-align: top;\n",
              "    }\n",
              "\n",
              "    .dataframe thead th {\n",
              "        text-align: right;\n",
              "    }\n",
              "</style>\n",
              "<table border=\"1\" class=\"dataframe\">\n",
              "  <thead>\n",
              "    <tr style=\"text-align: right;\">\n",
              "      <th></th>\n",
              "      <th>accountNumber</th>\n",
              "      <th>customerId</th>\n",
              "      <th>creditLimit</th>\n",
              "      <th>availableMoney</th>\n",
              "      <th>transactionDateTime</th>\n",
              "      <th>transactionAmount</th>\n",
              "      <th>merchantName</th>\n",
              "      <th>acqCountry</th>\n",
              "      <th>merchantCountryCode</th>\n",
              "      <th>posEntryMode</th>\n",
              "      <th>...</th>\n",
              "      <th>accountOpenDate</th>\n",
              "      <th>dateOfLastAddressChange</th>\n",
              "      <th>cardCVV</th>\n",
              "      <th>enteredCVV</th>\n",
              "      <th>cardLast4Digits</th>\n",
              "      <th>transactionType</th>\n",
              "      <th>currentBalance</th>\n",
              "      <th>cardPresent</th>\n",
              "      <th>expirationDateKeyInMatch</th>\n",
              "      <th>isFraud</th>\n",
              "    </tr>\n",
              "  </thead>\n",
              "  <tbody>\n",
              "    <tr>\n",
              "      <th>0</th>\n",
              "      <td>737265056</td>\n",
              "      <td>737265056</td>\n",
              "      <td>5000</td>\n",
              "      <td>5000.0</td>\n",
              "      <td>2016-08-13T14:27:32</td>\n",
              "      <td>98.55</td>\n",
              "      <td>Uber</td>\n",
              "      <td>US</td>\n",
              "      <td>US</td>\n",
              "      <td>02</td>\n",
              "      <td>...</td>\n",
              "      <td>2015-03-14</td>\n",
              "      <td>2015-03-14</td>\n",
              "      <td>414</td>\n",
              "      <td>414</td>\n",
              "      <td>1803</td>\n",
              "      <td>PURCHASE</td>\n",
              "      <td>0.0</td>\n",
              "      <td>0</td>\n",
              "      <td>0</td>\n",
              "      <td>0</td>\n",
              "    </tr>\n",
              "    <tr>\n",
              "      <th>1</th>\n",
              "      <td>737265056</td>\n",
              "      <td>737265056</td>\n",
              "      <td>5000</td>\n",
              "      <td>5000.0</td>\n",
              "      <td>2016-10-11T05:05:54</td>\n",
              "      <td>74.51</td>\n",
              "      <td>AMC #191138</td>\n",
              "      <td>US</td>\n",
              "      <td>US</td>\n",
              "      <td>09</td>\n",
              "      <td>...</td>\n",
              "      <td>2015-03-14</td>\n",
              "      <td>2015-03-14</td>\n",
              "      <td>486</td>\n",
              "      <td>486</td>\n",
              "      <td>767</td>\n",
              "      <td>PURCHASE</td>\n",
              "      <td>0.0</td>\n",
              "      <td>1</td>\n",
              "      <td>0</td>\n",
              "      <td>0</td>\n",
              "    </tr>\n",
              "    <tr>\n",
              "      <th>2</th>\n",
              "      <td>737265056</td>\n",
              "      <td>737265056</td>\n",
              "      <td>5000</td>\n",
              "      <td>5000.0</td>\n",
              "      <td>2016-11-08T09:18:39</td>\n",
              "      <td>7.47</td>\n",
              "      <td>Play Store</td>\n",
              "      <td>US</td>\n",
              "      <td>US</td>\n",
              "      <td>09</td>\n",
              "      <td>...</td>\n",
              "      <td>2015-03-14</td>\n",
              "      <td>2015-03-14</td>\n",
              "      <td>486</td>\n",
              "      <td>486</td>\n",
              "      <td>767</td>\n",
              "      <td>PURCHASE</td>\n",
              "      <td>0.0</td>\n",
              "      <td>0</td>\n",
              "      <td>0</td>\n",
              "      <td>0</td>\n",
              "    </tr>\n",
              "    <tr>\n",
              "      <th>3</th>\n",
              "      <td>737265056</td>\n",
              "      <td>737265056</td>\n",
              "      <td>5000</td>\n",
              "      <td>5000.0</td>\n",
              "      <td>2016-12-10T02:14:50</td>\n",
              "      <td>7.47</td>\n",
              "      <td>Play Store</td>\n",
              "      <td>US</td>\n",
              "      <td>US</td>\n",
              "      <td>09</td>\n",
              "      <td>...</td>\n",
              "      <td>2015-03-14</td>\n",
              "      <td>2015-03-14</td>\n",
              "      <td>486</td>\n",
              "      <td>486</td>\n",
              "      <td>767</td>\n",
              "      <td>PURCHASE</td>\n",
              "      <td>0.0</td>\n",
              "      <td>0</td>\n",
              "      <td>0</td>\n",
              "      <td>0</td>\n",
              "    </tr>\n",
              "    <tr>\n",
              "      <th>4</th>\n",
              "      <td>830329091</td>\n",
              "      <td>830329091</td>\n",
              "      <td>5000</td>\n",
              "      <td>5000.0</td>\n",
              "      <td>2016-03-24T21:04:46</td>\n",
              "      <td>71.18</td>\n",
              "      <td>Tim Hortons #947751</td>\n",
              "      <td>US</td>\n",
              "      <td>US</td>\n",
              "      <td>02</td>\n",
              "      <td>...</td>\n",
              "      <td>2015-08-06</td>\n",
              "      <td>2015-08-06</td>\n",
              "      <td>885</td>\n",
              "      <td>885</td>\n",
              "      <td>3143</td>\n",
              "      <td>PURCHASE</td>\n",
              "      <td>0.0</td>\n",
              "      <td>1</td>\n",
              "      <td>0</td>\n",
              "      <td>0</td>\n",
              "    </tr>\n",
              "  </tbody>\n",
              "</table>\n",
              "<p>5 rows × 23 columns</p>\n",
              "</div>\n",
              "      <button class=\"colab-df-convert\" onclick=\"convertToInteractive('df-de9e4447-9838-4206-a8c3-6bcaeadb5057')\"\n",
              "              title=\"Convert this dataframe to an interactive table.\"\n",
              "              style=\"display:none;\">\n",
              "        \n",
              "  <svg xmlns=\"http://www.w3.org/2000/svg\" height=\"24px\"viewBox=\"0 0 24 24\"\n",
              "       width=\"24px\">\n",
              "    <path d=\"M0 0h24v24H0V0z\" fill=\"none\"/>\n",
              "    <path d=\"M18.56 5.44l.94 2.06.94-2.06 2.06-.94-2.06-.94-.94-2.06-.94 2.06-2.06.94zm-11 1L8.5 8.5l.94-2.06 2.06-.94-2.06-.94L8.5 2.5l-.94 2.06-2.06.94zm10 10l.94 2.06.94-2.06 2.06-.94-2.06-.94-.94-2.06-.94 2.06-2.06.94z\"/><path d=\"M17.41 7.96l-1.37-1.37c-.4-.4-.92-.59-1.43-.59-.52 0-1.04.2-1.43.59L10.3 9.45l-7.72 7.72c-.78.78-.78 2.05 0 2.83L4 21.41c.39.39.9.59 1.41.59.51 0 1.02-.2 1.41-.59l7.78-7.78 2.81-2.81c.8-.78.8-2.07 0-2.86zM5.41 20L4 18.59l7.72-7.72 1.47 1.35L5.41 20z\"/>\n",
              "  </svg>\n",
              "      </button>\n",
              "      \n",
              "  <style>\n",
              "    .colab-df-container {\n",
              "      display:flex;\n",
              "      flex-wrap:wrap;\n",
              "      gap: 12px;\n",
              "    }\n",
              "\n",
              "    .colab-df-convert {\n",
              "      background-color: #E8F0FE;\n",
              "      border: none;\n",
              "      border-radius: 50%;\n",
              "      cursor: pointer;\n",
              "      display: none;\n",
              "      fill: #1967D2;\n",
              "      height: 32px;\n",
              "      padding: 0 0 0 0;\n",
              "      width: 32px;\n",
              "    }\n",
              "\n",
              "    .colab-df-convert:hover {\n",
              "      background-color: #E2EBFA;\n",
              "      box-shadow: 0px 1px 2px rgba(60, 64, 67, 0.3), 0px 1px 3px 1px rgba(60, 64, 67, 0.15);\n",
              "      fill: #174EA6;\n",
              "    }\n",
              "\n",
              "    [theme=dark] .colab-df-convert {\n",
              "      background-color: #3B4455;\n",
              "      fill: #D2E3FC;\n",
              "    }\n",
              "\n",
              "    [theme=dark] .colab-df-convert:hover {\n",
              "      background-color: #434B5C;\n",
              "      box-shadow: 0px 1px 3px 1px rgba(0, 0, 0, 0.15);\n",
              "      filter: drop-shadow(0px 1px 2px rgba(0, 0, 0, 0.3));\n",
              "      fill: #FFFFFF;\n",
              "    }\n",
              "  </style>\n",
              "\n",
              "      <script>\n",
              "        const buttonEl =\n",
              "          document.querySelector('#df-de9e4447-9838-4206-a8c3-6bcaeadb5057 button.colab-df-convert');\n",
              "        buttonEl.style.display =\n",
              "          google.colab.kernel.accessAllowed ? 'block' : 'none';\n",
              "\n",
              "        async function convertToInteractive(key) {\n",
              "          const element = document.querySelector('#df-de9e4447-9838-4206-a8c3-6bcaeadb5057');\n",
              "          const dataTable =\n",
              "            await google.colab.kernel.invokeFunction('convertToInteractive',\n",
              "                                                     [key], {});\n",
              "          if (!dataTable) return;\n",
              "\n",
              "          const docLinkHtml = 'Like what you see? Visit the ' +\n",
              "            '<a target=\"_blank\" href=https://colab.research.google.com/notebooks/data_table.ipynb>data table notebook</a>'\n",
              "            + ' to learn more about interactive tables.';\n",
              "          element.innerHTML = '';\n",
              "          dataTable['output_type'] = 'display_data';\n",
              "          await google.colab.output.renderOutput(dataTable, element);\n",
              "          const docLink = document.createElement('div');\n",
              "          docLink.innerHTML = docLinkHtml;\n",
              "          element.appendChild(docLink);\n",
              "        }\n",
              "      </script>\n",
              "    </div>\n",
              "  </div>\n",
              "  "
            ]
          },
          "metadata": {},
          "execution_count": 145
        }
      ]
    },
    {
      "cell_type": "code",
      "source": [
        "df_2 = df.copy()\n"
      ],
      "metadata": {
        "id": "f6nKLroSfi22"
      },
      "execution_count": null,
      "outputs": []
    },
    {
      "cell_type": "markdown",
      "source": [
        "**The assumption is Duplicate Transactions are any record other than Address Verification because it has Transaction Amount = 0**"
      ],
      "metadata": {
        "id": "Bnnsah9Cfoe6"
      }
    },
    {
      "cell_type": "code",
      "source": [
        "df_2 = df_2[df_2.transactionType != \"ADDRESS_VERIFICATION\"]\n",
        "df_2\n"
      ],
      "metadata": {
        "colab": {
          "base_uri": "https://localhost:8080/",
          "height": 505
        },
        "id": "ehIAsbKFfqef",
        "outputId": "18b4f08c-3adf-4b5c-9b68-e07d441af759"
      },
      "execution_count": null,
      "outputs": [
        {
          "output_type": "execute_result",
          "data": {
            "text/plain": [
              "        accountNumber  customerId  creditLimit  availableMoney  \\\n",
              "0           737265056   737265056         5000         5000.00   \n",
              "1           737265056   737265056         5000         5000.00   \n",
              "2           737265056   737265056         5000         5000.00   \n",
              "3           737265056   737265056         5000         5000.00   \n",
              "4           830329091   830329091         5000         5000.00   \n",
              "...               ...         ...          ...             ...   \n",
              "786358      732852505   732852505        50000        48904.96   \n",
              "786359      732852505   732852505        50000        48785.04   \n",
              "786360      732852505   732852505        50000        48766.15   \n",
              "786361      732852505   732852505        50000        48716.72   \n",
              "786362      732852505   732852505        50000        48666.83   \n",
              "\n",
              "        transactionDateTime  transactionAmount         merchantName  \\\n",
              "0       2016-08-13T14:27:32              98.55                 Uber   \n",
              "1       2016-10-11T05:05:54              74.51          AMC #191138   \n",
              "2       2016-11-08T09:18:39               7.47           Play Store   \n",
              "3       2016-12-10T02:14:50               7.47           Play Store   \n",
              "4       2016-03-24T21:04:46              71.18  Tim Hortons #947751   \n",
              "...                     ...                ...                  ...   \n",
              "786358  2016-12-22T18:44:12             119.92                 Lyft   \n",
              "786359  2016-12-25T16:20:34              18.89             hulu.com   \n",
              "786360  2016-12-27T15:46:24              49.43                 Lyft   \n",
              "786361  2016-12-29T00:30:55              49.89          walmart.com   \n",
              "786362  2016-12-30T20:10:29              72.18                 Uber   \n",
              "\n",
              "       acqCountry merchantCountryCode posEntryMode  ... accountOpenDate  \\\n",
              "0              US                  US           02  ...      2015-03-14   \n",
              "1              US                  US           09  ...      2015-03-14   \n",
              "2              US                  US           09  ...      2015-03-14   \n",
              "3              US                  US           09  ...      2015-03-14   \n",
              "4              US                  US           02  ...      2015-08-06   \n",
              "...           ...                 ...          ...  ...             ...   \n",
              "786358         US                  US           90  ...      2012-08-23   \n",
              "786359         US                  US           09  ...      2012-08-23   \n",
              "786360         US                  US           02  ...      2012-08-23   \n",
              "786361         US                  US           09  ...      2012-08-23   \n",
              "786362         US                  US           05  ...      2012-08-23   \n",
              "\n",
              "       dateOfLastAddressChange cardCVV enteredCVV cardLast4Digits  \\\n",
              "0                   2015-03-14     414        414            1803   \n",
              "1                   2015-03-14     486        486             767   \n",
              "2                   2015-03-14     486        486             767   \n",
              "3                   2015-03-14     486        486             767   \n",
              "4                   2015-08-06     885        885            3143   \n",
              "...                        ...     ...        ...             ...   \n",
              "786358              2012-08-23     936        936            3783   \n",
              "786359              2012-08-23     939        939            3388   \n",
              "786360              2012-08-23     936        936            3783   \n",
              "786361              2012-08-23     939        939            3388   \n",
              "786362              2012-08-23     939        939            3388   \n",
              "\n",
              "        transactionType  currentBalance  cardPresent expirationDateKeyInMatch  \\\n",
              "0              PURCHASE            0.00            0                        0   \n",
              "1              PURCHASE            0.00            1                        0   \n",
              "2              PURCHASE            0.00            0                        0   \n",
              "3              PURCHASE            0.00            0                        0   \n",
              "4              PURCHASE            0.00            1                        0   \n",
              "...                 ...             ...          ...                      ...   \n",
              "786358         PURCHASE         1095.04            0                        0   \n",
              "786359         PURCHASE         1214.96            0                        0   \n",
              "786360         PURCHASE         1233.85            0                        0   \n",
              "786361         PURCHASE         1283.28            0                        0   \n",
              "786362         PURCHASE         1333.17            0                        0   \n",
              "\n",
              "        isFraud  \n",
              "0             0  \n",
              "1             0  \n",
              "2             0  \n",
              "3             0  \n",
              "4             0  \n",
              "...         ...  \n",
              "786358        0  \n",
              "786359        0  \n",
              "786360        0  \n",
              "786361        0  \n",
              "786362        0  \n",
              "\n",
              "[766194 rows x 23 columns]"
            ],
            "text/html": [
              "\n",
              "  <div id=\"df-a4e8a68a-7c62-46ae-895c-416838f7467e\">\n",
              "    <div class=\"colab-df-container\">\n",
              "      <div>\n",
              "<style scoped>\n",
              "    .dataframe tbody tr th:only-of-type {\n",
              "        vertical-align: middle;\n",
              "    }\n",
              "\n",
              "    .dataframe tbody tr th {\n",
              "        vertical-align: top;\n",
              "    }\n",
              "\n",
              "    .dataframe thead th {\n",
              "        text-align: right;\n",
              "    }\n",
              "</style>\n",
              "<table border=\"1\" class=\"dataframe\">\n",
              "  <thead>\n",
              "    <tr style=\"text-align: right;\">\n",
              "      <th></th>\n",
              "      <th>accountNumber</th>\n",
              "      <th>customerId</th>\n",
              "      <th>creditLimit</th>\n",
              "      <th>availableMoney</th>\n",
              "      <th>transactionDateTime</th>\n",
              "      <th>transactionAmount</th>\n",
              "      <th>merchantName</th>\n",
              "      <th>acqCountry</th>\n",
              "      <th>merchantCountryCode</th>\n",
              "      <th>posEntryMode</th>\n",
              "      <th>...</th>\n",
              "      <th>accountOpenDate</th>\n",
              "      <th>dateOfLastAddressChange</th>\n",
              "      <th>cardCVV</th>\n",
              "      <th>enteredCVV</th>\n",
              "      <th>cardLast4Digits</th>\n",
              "      <th>transactionType</th>\n",
              "      <th>currentBalance</th>\n",
              "      <th>cardPresent</th>\n",
              "      <th>expirationDateKeyInMatch</th>\n",
              "      <th>isFraud</th>\n",
              "    </tr>\n",
              "  </thead>\n",
              "  <tbody>\n",
              "    <tr>\n",
              "      <th>0</th>\n",
              "      <td>737265056</td>\n",
              "      <td>737265056</td>\n",
              "      <td>5000</td>\n",
              "      <td>5000.00</td>\n",
              "      <td>2016-08-13T14:27:32</td>\n",
              "      <td>98.55</td>\n",
              "      <td>Uber</td>\n",
              "      <td>US</td>\n",
              "      <td>US</td>\n",
              "      <td>02</td>\n",
              "      <td>...</td>\n",
              "      <td>2015-03-14</td>\n",
              "      <td>2015-03-14</td>\n",
              "      <td>414</td>\n",
              "      <td>414</td>\n",
              "      <td>1803</td>\n",
              "      <td>PURCHASE</td>\n",
              "      <td>0.00</td>\n",
              "      <td>0</td>\n",
              "      <td>0</td>\n",
              "      <td>0</td>\n",
              "    </tr>\n",
              "    <tr>\n",
              "      <th>1</th>\n",
              "      <td>737265056</td>\n",
              "      <td>737265056</td>\n",
              "      <td>5000</td>\n",
              "      <td>5000.00</td>\n",
              "      <td>2016-10-11T05:05:54</td>\n",
              "      <td>74.51</td>\n",
              "      <td>AMC #191138</td>\n",
              "      <td>US</td>\n",
              "      <td>US</td>\n",
              "      <td>09</td>\n",
              "      <td>...</td>\n",
              "      <td>2015-03-14</td>\n",
              "      <td>2015-03-14</td>\n",
              "      <td>486</td>\n",
              "      <td>486</td>\n",
              "      <td>767</td>\n",
              "      <td>PURCHASE</td>\n",
              "      <td>0.00</td>\n",
              "      <td>1</td>\n",
              "      <td>0</td>\n",
              "      <td>0</td>\n",
              "    </tr>\n",
              "    <tr>\n",
              "      <th>2</th>\n",
              "      <td>737265056</td>\n",
              "      <td>737265056</td>\n",
              "      <td>5000</td>\n",
              "      <td>5000.00</td>\n",
              "      <td>2016-11-08T09:18:39</td>\n",
              "      <td>7.47</td>\n",
              "      <td>Play Store</td>\n",
              "      <td>US</td>\n",
              "      <td>US</td>\n",
              "      <td>09</td>\n",
              "      <td>...</td>\n",
              "      <td>2015-03-14</td>\n",
              "      <td>2015-03-14</td>\n",
              "      <td>486</td>\n",
              "      <td>486</td>\n",
              "      <td>767</td>\n",
              "      <td>PURCHASE</td>\n",
              "      <td>0.00</td>\n",
              "      <td>0</td>\n",
              "      <td>0</td>\n",
              "      <td>0</td>\n",
              "    </tr>\n",
              "    <tr>\n",
              "      <th>3</th>\n",
              "      <td>737265056</td>\n",
              "      <td>737265056</td>\n",
              "      <td>5000</td>\n",
              "      <td>5000.00</td>\n",
              "      <td>2016-12-10T02:14:50</td>\n",
              "      <td>7.47</td>\n",
              "      <td>Play Store</td>\n",
              "      <td>US</td>\n",
              "      <td>US</td>\n",
              "      <td>09</td>\n",
              "      <td>...</td>\n",
              "      <td>2015-03-14</td>\n",
              "      <td>2015-03-14</td>\n",
              "      <td>486</td>\n",
              "      <td>486</td>\n",
              "      <td>767</td>\n",
              "      <td>PURCHASE</td>\n",
              "      <td>0.00</td>\n",
              "      <td>0</td>\n",
              "      <td>0</td>\n",
              "      <td>0</td>\n",
              "    </tr>\n",
              "    <tr>\n",
              "      <th>4</th>\n",
              "      <td>830329091</td>\n",
              "      <td>830329091</td>\n",
              "      <td>5000</td>\n",
              "      <td>5000.00</td>\n",
              "      <td>2016-03-24T21:04:46</td>\n",
              "      <td>71.18</td>\n",
              "      <td>Tim Hortons #947751</td>\n",
              "      <td>US</td>\n",
              "      <td>US</td>\n",
              "      <td>02</td>\n",
              "      <td>...</td>\n",
              "      <td>2015-08-06</td>\n",
              "      <td>2015-08-06</td>\n",
              "      <td>885</td>\n",
              "      <td>885</td>\n",
              "      <td>3143</td>\n",
              "      <td>PURCHASE</td>\n",
              "      <td>0.00</td>\n",
              "      <td>1</td>\n",
              "      <td>0</td>\n",
              "      <td>0</td>\n",
              "    </tr>\n",
              "    <tr>\n",
              "      <th>...</th>\n",
              "      <td>...</td>\n",
              "      <td>...</td>\n",
              "      <td>...</td>\n",
              "      <td>...</td>\n",
              "      <td>...</td>\n",
              "      <td>...</td>\n",
              "      <td>...</td>\n",
              "      <td>...</td>\n",
              "      <td>...</td>\n",
              "      <td>...</td>\n",
              "      <td>...</td>\n",
              "      <td>...</td>\n",
              "      <td>...</td>\n",
              "      <td>...</td>\n",
              "      <td>...</td>\n",
              "      <td>...</td>\n",
              "      <td>...</td>\n",
              "      <td>...</td>\n",
              "      <td>...</td>\n",
              "      <td>...</td>\n",
              "      <td>...</td>\n",
              "    </tr>\n",
              "    <tr>\n",
              "      <th>786358</th>\n",
              "      <td>732852505</td>\n",
              "      <td>732852505</td>\n",
              "      <td>50000</td>\n",
              "      <td>48904.96</td>\n",
              "      <td>2016-12-22T18:44:12</td>\n",
              "      <td>119.92</td>\n",
              "      <td>Lyft</td>\n",
              "      <td>US</td>\n",
              "      <td>US</td>\n",
              "      <td>90</td>\n",
              "      <td>...</td>\n",
              "      <td>2012-08-23</td>\n",
              "      <td>2012-08-23</td>\n",
              "      <td>936</td>\n",
              "      <td>936</td>\n",
              "      <td>3783</td>\n",
              "      <td>PURCHASE</td>\n",
              "      <td>1095.04</td>\n",
              "      <td>0</td>\n",
              "      <td>0</td>\n",
              "      <td>0</td>\n",
              "    </tr>\n",
              "    <tr>\n",
              "      <th>786359</th>\n",
              "      <td>732852505</td>\n",
              "      <td>732852505</td>\n",
              "      <td>50000</td>\n",
              "      <td>48785.04</td>\n",
              "      <td>2016-12-25T16:20:34</td>\n",
              "      <td>18.89</td>\n",
              "      <td>hulu.com</td>\n",
              "      <td>US</td>\n",
              "      <td>US</td>\n",
              "      <td>09</td>\n",
              "      <td>...</td>\n",
              "      <td>2012-08-23</td>\n",
              "      <td>2012-08-23</td>\n",
              "      <td>939</td>\n",
              "      <td>939</td>\n",
              "      <td>3388</td>\n",
              "      <td>PURCHASE</td>\n",
              "      <td>1214.96</td>\n",
              "      <td>0</td>\n",
              "      <td>0</td>\n",
              "      <td>0</td>\n",
              "    </tr>\n",
              "    <tr>\n",
              "      <th>786360</th>\n",
              "      <td>732852505</td>\n",
              "      <td>732852505</td>\n",
              "      <td>50000</td>\n",
              "      <td>48766.15</td>\n",
              "      <td>2016-12-27T15:46:24</td>\n",
              "      <td>49.43</td>\n",
              "      <td>Lyft</td>\n",
              "      <td>US</td>\n",
              "      <td>US</td>\n",
              "      <td>02</td>\n",
              "      <td>...</td>\n",
              "      <td>2012-08-23</td>\n",
              "      <td>2012-08-23</td>\n",
              "      <td>936</td>\n",
              "      <td>936</td>\n",
              "      <td>3783</td>\n",
              "      <td>PURCHASE</td>\n",
              "      <td>1233.85</td>\n",
              "      <td>0</td>\n",
              "      <td>0</td>\n",
              "      <td>0</td>\n",
              "    </tr>\n",
              "    <tr>\n",
              "      <th>786361</th>\n",
              "      <td>732852505</td>\n",
              "      <td>732852505</td>\n",
              "      <td>50000</td>\n",
              "      <td>48716.72</td>\n",
              "      <td>2016-12-29T00:30:55</td>\n",
              "      <td>49.89</td>\n",
              "      <td>walmart.com</td>\n",
              "      <td>US</td>\n",
              "      <td>US</td>\n",
              "      <td>09</td>\n",
              "      <td>...</td>\n",
              "      <td>2012-08-23</td>\n",
              "      <td>2012-08-23</td>\n",
              "      <td>939</td>\n",
              "      <td>939</td>\n",
              "      <td>3388</td>\n",
              "      <td>PURCHASE</td>\n",
              "      <td>1283.28</td>\n",
              "      <td>0</td>\n",
              "      <td>0</td>\n",
              "      <td>0</td>\n",
              "    </tr>\n",
              "    <tr>\n",
              "      <th>786362</th>\n",
              "      <td>732852505</td>\n",
              "      <td>732852505</td>\n",
              "      <td>50000</td>\n",
              "      <td>48666.83</td>\n",
              "      <td>2016-12-30T20:10:29</td>\n",
              "      <td>72.18</td>\n",
              "      <td>Uber</td>\n",
              "      <td>US</td>\n",
              "      <td>US</td>\n",
              "      <td>05</td>\n",
              "      <td>...</td>\n",
              "      <td>2012-08-23</td>\n",
              "      <td>2012-08-23</td>\n",
              "      <td>939</td>\n",
              "      <td>939</td>\n",
              "      <td>3388</td>\n",
              "      <td>PURCHASE</td>\n",
              "      <td>1333.17</td>\n",
              "      <td>0</td>\n",
              "      <td>0</td>\n",
              "      <td>0</td>\n",
              "    </tr>\n",
              "  </tbody>\n",
              "</table>\n",
              "<p>766194 rows × 23 columns</p>\n",
              "</div>\n",
              "      <button class=\"colab-df-convert\" onclick=\"convertToInteractive('df-a4e8a68a-7c62-46ae-895c-416838f7467e')\"\n",
              "              title=\"Convert this dataframe to an interactive table.\"\n",
              "              style=\"display:none;\">\n",
              "        \n",
              "  <svg xmlns=\"http://www.w3.org/2000/svg\" height=\"24px\"viewBox=\"0 0 24 24\"\n",
              "       width=\"24px\">\n",
              "    <path d=\"M0 0h24v24H0V0z\" fill=\"none\"/>\n",
              "    <path d=\"M18.56 5.44l.94 2.06.94-2.06 2.06-.94-2.06-.94-.94-2.06-.94 2.06-2.06.94zm-11 1L8.5 8.5l.94-2.06 2.06-.94-2.06-.94L8.5 2.5l-.94 2.06-2.06.94zm10 10l.94 2.06.94-2.06 2.06-.94-2.06-.94-.94-2.06-.94 2.06-2.06.94z\"/><path d=\"M17.41 7.96l-1.37-1.37c-.4-.4-.92-.59-1.43-.59-.52 0-1.04.2-1.43.59L10.3 9.45l-7.72 7.72c-.78.78-.78 2.05 0 2.83L4 21.41c.39.39.9.59 1.41.59.51 0 1.02-.2 1.41-.59l7.78-7.78 2.81-2.81c.8-.78.8-2.07 0-2.86zM5.41 20L4 18.59l7.72-7.72 1.47 1.35L5.41 20z\"/>\n",
              "  </svg>\n",
              "      </button>\n",
              "      \n",
              "  <style>\n",
              "    .colab-df-container {\n",
              "      display:flex;\n",
              "      flex-wrap:wrap;\n",
              "      gap: 12px;\n",
              "    }\n",
              "\n",
              "    .colab-df-convert {\n",
              "      background-color: #E8F0FE;\n",
              "      border: none;\n",
              "      border-radius: 50%;\n",
              "      cursor: pointer;\n",
              "      display: none;\n",
              "      fill: #1967D2;\n",
              "      height: 32px;\n",
              "      padding: 0 0 0 0;\n",
              "      width: 32px;\n",
              "    }\n",
              "\n",
              "    .colab-df-convert:hover {\n",
              "      background-color: #E2EBFA;\n",
              "      box-shadow: 0px 1px 2px rgba(60, 64, 67, 0.3), 0px 1px 3px 1px rgba(60, 64, 67, 0.15);\n",
              "      fill: #174EA6;\n",
              "    }\n",
              "\n",
              "    [theme=dark] .colab-df-convert {\n",
              "      background-color: #3B4455;\n",
              "      fill: #D2E3FC;\n",
              "    }\n",
              "\n",
              "    [theme=dark] .colab-df-convert:hover {\n",
              "      background-color: #434B5C;\n",
              "      box-shadow: 0px 1px 3px 1px rgba(0, 0, 0, 0.15);\n",
              "      filter: drop-shadow(0px 1px 2px rgba(0, 0, 0, 0.3));\n",
              "      fill: #FFFFFF;\n",
              "    }\n",
              "  </style>\n",
              "\n",
              "      <script>\n",
              "        const buttonEl =\n",
              "          document.querySelector('#df-a4e8a68a-7c62-46ae-895c-416838f7467e button.colab-df-convert');\n",
              "        buttonEl.style.display =\n",
              "          google.colab.kernel.accessAllowed ? 'block' : 'none';\n",
              "\n",
              "        async function convertToInteractive(key) {\n",
              "          const element = document.querySelector('#df-a4e8a68a-7c62-46ae-895c-416838f7467e');\n",
              "          const dataTable =\n",
              "            await google.colab.kernel.invokeFunction('convertToInteractive',\n",
              "                                                     [key], {});\n",
              "          if (!dataTable) return;\n",
              "\n",
              "          const docLinkHtml = 'Like what you see? Visit the ' +\n",
              "            '<a target=\"_blank\" href=https://colab.research.google.com/notebooks/data_table.ipynb>data table notebook</a>'\n",
              "            + ' to learn more about interactive tables.';\n",
              "          element.innerHTML = '';\n",
              "          dataTable['output_type'] = 'display_data';\n",
              "          await google.colab.output.renderOutput(dataTable, element);\n",
              "          const docLink = document.createElement('div');\n",
              "          docLink.innerHTML = docLinkHtml;\n",
              "          element.appendChild(docLink);\n",
              "        }\n",
              "      </script>\n",
              "    </div>\n",
              "  </div>\n",
              "  "
            ]
          },
          "metadata": {},
          "execution_count": 147
        }
      ]
    },
    {
      "cell_type": "markdown",
      "source": [
        "**Adding Date Column in the Data Frame to computer Results independent of just Date-Time**"
      ],
      "metadata": {
        "id": "hfim23rtnuj3"
      }
    },
    {
      "cell_type": "code",
      "source": [
        "df_2['transactionDate'] = pd.to_datetime(df_2['transactionDateTime']).dt.date\n",
        "df_2['transactionDate']"
      ],
      "metadata": {
        "colab": {
          "base_uri": "https://localhost:8080/"
        },
        "id": "ioL_SXUUnw-g",
        "outputId": "4c8afb45-1910-459c-d809-ef415cc40084"
      },
      "execution_count": null,
      "outputs": [
        {
          "output_type": "execute_result",
          "data": {
            "text/plain": [
              "0         2016-08-13\n",
              "1         2016-10-11\n",
              "2         2016-11-08\n",
              "3         2016-12-10\n",
              "4         2016-03-24\n",
              "             ...    \n",
              "786358    2016-12-22\n",
              "786359    2016-12-25\n",
              "786360    2016-12-27\n",
              "786361    2016-12-29\n",
              "786362    2016-12-30\n",
              "Name: transactionDate, Length: 766194, dtype: object"
            ]
          },
          "metadata": {},
          "execution_count": 148
        }
      ]
    },
    {
      "cell_type": "markdown",
      "source": [
        "**Here I am taking those attributes which can uniquely identify and help in indentifying a duplicate transaction at a given point:**\n",
        "\n",
        "**The attributes used are:**\n",
        "\n",
        "*   **accountNumber (It will be unique for that customer)**\n",
        "\n",
        "*   **transactionAmount (the amount needs to be check for duplicated occurances)**\n",
        "\n",
        "*   **merchantName (where the transaction is actually taking place)**\n",
        "\n",
        "*   **acqCountry (the country where it can take place)**\n",
        "*   **accountOpenDate (account open date will be same)**\n",
        "\n",
        "\n",
        "*   **merchantCategoryCode ( merchantName can come as an empty index, then this merchantCategoryCode will be most useful in that scenario)**\n",
        "\n",
        "*   **cardLast4Digits (always help in analyzing duplicate tansactions)**\n",
        "\n"
      ],
      "metadata": {
        "id": "UbBYvADrn4Lf"
      }
    },
    {
      "cell_type": "code",
      "source": [
        "duplicate_trans = df_2[df_2.duplicated(['accountNumber', 'transactionAmount','merchantName', 'acqCountry' , 'accountOpenDate' ,'merchantCategoryCode','cardLast4Digits' ], keep = False)]\n",
        "duplicate_trans"
      ],
      "metadata": {
        "colab": {
          "base_uri": "https://localhost:8080/",
          "height": 540
        },
        "id": "cmFBKFE1oALx",
        "outputId": "d0adbe75-ef25-4982-e50f-acfbdeee0fdb"
      },
      "execution_count": null,
      "outputs": [
        {
          "output_type": "execute_result",
          "data": {
            "text/plain": [
              "        accountNumber  customerId  creditLimit  availableMoney  \\\n",
              "2           737265056   737265056         5000         5000.00   \n",
              "3           737265056   737265056         5000         5000.00   \n",
              "11          830329091   830329091         5000         5000.00   \n",
              "12          830329091   830329091         5000         4959.25   \n",
              "13          830329091   830329091         5000         4918.50   \n",
              "...               ...         ...          ...             ...   \n",
              "786346      732852505   732852505        50000        49536.24   \n",
              "786348      732852505   732852505        50000        49251.72   \n",
              "786352      732852505   732852505        50000        49848.35   \n",
              "786357      732852505   732852505        50000        48956.44   \n",
              "786359      732852505   732852505        50000        48785.04   \n",
              "\n",
              "        transactionDateTime  transactionAmount        merchantName acqCountry  \\\n",
              "2       2016-11-08T09:18:39               7.47          Play Store         US   \n",
              "3       2016-12-10T02:14:50               7.47          Play Store         US   \n",
              "11      2016-12-07T16:34:04              40.75           GreenCook         US   \n",
              "12      2016-12-14T10:00:35              40.75           GreenCook         US   \n",
              "13      2016-12-20T18:38:23              40.75           GreenCook         US   \n",
              "...                     ...                ...                 ...        ...   \n",
              "786346  2016-11-22T19:30:16              51.48  Sunoco Gas #380975         US   \n",
              "786348  2016-11-25T13:39:10              18.89            hulu.com         US   \n",
              "786352  2016-12-07T14:05:14              51.48  Sunoco Gas #380975         US   \n",
              "786357  2016-12-22T07:27:23              51.48  Sunoco Gas #380975         US   \n",
              "786359  2016-12-25T16:20:34              18.89            hulu.com         US   \n",
              "\n",
              "       merchantCountryCode posEntryMode  ... dateOfLastAddressChange cardCVV  \\\n",
              "2                       US           09  ...              2015-03-14     486   \n",
              "3                       US           09  ...              2015-03-14     486   \n",
              "11                      US           09  ...              2015-08-06     885   \n",
              "12                      US           09  ...              2015-08-06     885   \n",
              "13                      US           09  ...              2015-08-06     885   \n",
              "...                    ...          ...  ...                     ...     ...   \n",
              "786346                  US           05  ...              2012-08-23     936   \n",
              "786348                  US           09  ...              2012-08-23     939   \n",
              "786352                  US           05  ...              2012-08-23     936   \n",
              "786357                  US           05  ...              2012-08-23     936   \n",
              "786359                  US           09  ...              2012-08-23     939   \n",
              "\n",
              "       enteredCVV cardLast4Digits transactionType  currentBalance  \\\n",
              "2             486             767        PURCHASE            0.00   \n",
              "3             486             767        PURCHASE            0.00   \n",
              "11            885            3143        PURCHASE            0.00   \n",
              "12            885            3143        PURCHASE           40.75   \n",
              "13            885            3143        PURCHASE           81.50   \n",
              "...           ...             ...             ...             ...   \n",
              "786346        936            3783        PURCHASE          463.76   \n",
              "786348        939            3388        PURCHASE          748.28   \n",
              "786352        936            3783        PURCHASE          151.65   \n",
              "786357        936            3783        PURCHASE         1043.56   \n",
              "786359        939            3388        PURCHASE         1214.96   \n",
              "\n",
              "        cardPresent  expirationDateKeyInMatch isFraud  transactionDate  \n",
              "2                 0                         0       0       2016-11-08  \n",
              "3                 0                         0       0       2016-12-10  \n",
              "11                0                         0       0       2016-12-07  \n",
              "12                0                         0       0       2016-12-14  \n",
              "13                0                         0       0       2016-12-20  \n",
              "...             ...                       ...     ...              ...  \n",
              "786346            1                         0       0       2016-11-22  \n",
              "786348            0                         0       0       2016-11-25  \n",
              "786352            1                         0       0       2016-12-07  \n",
              "786357            1                         0       0       2016-12-22  \n",
              "786359            0                         0       0       2016-12-25  \n",
              "\n",
              "[100716 rows x 24 columns]"
            ],
            "text/html": [
              "\n",
              "  <div id=\"df-c52a7afb-ee66-4149-bfef-bac818a10900\">\n",
              "    <div class=\"colab-df-container\">\n",
              "      <div>\n",
              "<style scoped>\n",
              "    .dataframe tbody tr th:only-of-type {\n",
              "        vertical-align: middle;\n",
              "    }\n",
              "\n",
              "    .dataframe tbody tr th {\n",
              "        vertical-align: top;\n",
              "    }\n",
              "\n",
              "    .dataframe thead th {\n",
              "        text-align: right;\n",
              "    }\n",
              "</style>\n",
              "<table border=\"1\" class=\"dataframe\">\n",
              "  <thead>\n",
              "    <tr style=\"text-align: right;\">\n",
              "      <th></th>\n",
              "      <th>accountNumber</th>\n",
              "      <th>customerId</th>\n",
              "      <th>creditLimit</th>\n",
              "      <th>availableMoney</th>\n",
              "      <th>transactionDateTime</th>\n",
              "      <th>transactionAmount</th>\n",
              "      <th>merchantName</th>\n",
              "      <th>acqCountry</th>\n",
              "      <th>merchantCountryCode</th>\n",
              "      <th>posEntryMode</th>\n",
              "      <th>...</th>\n",
              "      <th>dateOfLastAddressChange</th>\n",
              "      <th>cardCVV</th>\n",
              "      <th>enteredCVV</th>\n",
              "      <th>cardLast4Digits</th>\n",
              "      <th>transactionType</th>\n",
              "      <th>currentBalance</th>\n",
              "      <th>cardPresent</th>\n",
              "      <th>expirationDateKeyInMatch</th>\n",
              "      <th>isFraud</th>\n",
              "      <th>transactionDate</th>\n",
              "    </tr>\n",
              "  </thead>\n",
              "  <tbody>\n",
              "    <tr>\n",
              "      <th>2</th>\n",
              "      <td>737265056</td>\n",
              "      <td>737265056</td>\n",
              "      <td>5000</td>\n",
              "      <td>5000.00</td>\n",
              "      <td>2016-11-08T09:18:39</td>\n",
              "      <td>7.47</td>\n",
              "      <td>Play Store</td>\n",
              "      <td>US</td>\n",
              "      <td>US</td>\n",
              "      <td>09</td>\n",
              "      <td>...</td>\n",
              "      <td>2015-03-14</td>\n",
              "      <td>486</td>\n",
              "      <td>486</td>\n",
              "      <td>767</td>\n",
              "      <td>PURCHASE</td>\n",
              "      <td>0.00</td>\n",
              "      <td>0</td>\n",
              "      <td>0</td>\n",
              "      <td>0</td>\n",
              "      <td>2016-11-08</td>\n",
              "    </tr>\n",
              "    <tr>\n",
              "      <th>3</th>\n",
              "      <td>737265056</td>\n",
              "      <td>737265056</td>\n",
              "      <td>5000</td>\n",
              "      <td>5000.00</td>\n",
              "      <td>2016-12-10T02:14:50</td>\n",
              "      <td>7.47</td>\n",
              "      <td>Play Store</td>\n",
              "      <td>US</td>\n",
              "      <td>US</td>\n",
              "      <td>09</td>\n",
              "      <td>...</td>\n",
              "      <td>2015-03-14</td>\n",
              "      <td>486</td>\n",
              "      <td>486</td>\n",
              "      <td>767</td>\n",
              "      <td>PURCHASE</td>\n",
              "      <td>0.00</td>\n",
              "      <td>0</td>\n",
              "      <td>0</td>\n",
              "      <td>0</td>\n",
              "      <td>2016-12-10</td>\n",
              "    </tr>\n",
              "    <tr>\n",
              "      <th>11</th>\n",
              "      <td>830329091</td>\n",
              "      <td>830329091</td>\n",
              "      <td>5000</td>\n",
              "      <td>5000.00</td>\n",
              "      <td>2016-12-07T16:34:04</td>\n",
              "      <td>40.75</td>\n",
              "      <td>GreenCook</td>\n",
              "      <td>US</td>\n",
              "      <td>US</td>\n",
              "      <td>09</td>\n",
              "      <td>...</td>\n",
              "      <td>2015-08-06</td>\n",
              "      <td>885</td>\n",
              "      <td>885</td>\n",
              "      <td>3143</td>\n",
              "      <td>PURCHASE</td>\n",
              "      <td>0.00</td>\n",
              "      <td>0</td>\n",
              "      <td>0</td>\n",
              "      <td>0</td>\n",
              "      <td>2016-12-07</td>\n",
              "    </tr>\n",
              "    <tr>\n",
              "      <th>12</th>\n",
              "      <td>830329091</td>\n",
              "      <td>830329091</td>\n",
              "      <td>5000</td>\n",
              "      <td>4959.25</td>\n",
              "      <td>2016-12-14T10:00:35</td>\n",
              "      <td>40.75</td>\n",
              "      <td>GreenCook</td>\n",
              "      <td>US</td>\n",
              "      <td>US</td>\n",
              "      <td>09</td>\n",
              "      <td>...</td>\n",
              "      <td>2015-08-06</td>\n",
              "      <td>885</td>\n",
              "      <td>885</td>\n",
              "      <td>3143</td>\n",
              "      <td>PURCHASE</td>\n",
              "      <td>40.75</td>\n",
              "      <td>0</td>\n",
              "      <td>0</td>\n",
              "      <td>0</td>\n",
              "      <td>2016-12-14</td>\n",
              "    </tr>\n",
              "    <tr>\n",
              "      <th>13</th>\n",
              "      <td>830329091</td>\n",
              "      <td>830329091</td>\n",
              "      <td>5000</td>\n",
              "      <td>4918.50</td>\n",
              "      <td>2016-12-20T18:38:23</td>\n",
              "      <td>40.75</td>\n",
              "      <td>GreenCook</td>\n",
              "      <td>US</td>\n",
              "      <td>US</td>\n",
              "      <td>09</td>\n",
              "      <td>...</td>\n",
              "      <td>2015-08-06</td>\n",
              "      <td>885</td>\n",
              "      <td>885</td>\n",
              "      <td>3143</td>\n",
              "      <td>PURCHASE</td>\n",
              "      <td>81.50</td>\n",
              "      <td>0</td>\n",
              "      <td>0</td>\n",
              "      <td>0</td>\n",
              "      <td>2016-12-20</td>\n",
              "    </tr>\n",
              "    <tr>\n",
              "      <th>...</th>\n",
              "      <td>...</td>\n",
              "      <td>...</td>\n",
              "      <td>...</td>\n",
              "      <td>...</td>\n",
              "      <td>...</td>\n",
              "      <td>...</td>\n",
              "      <td>...</td>\n",
              "      <td>...</td>\n",
              "      <td>...</td>\n",
              "      <td>...</td>\n",
              "      <td>...</td>\n",
              "      <td>...</td>\n",
              "      <td>...</td>\n",
              "      <td>...</td>\n",
              "      <td>...</td>\n",
              "      <td>...</td>\n",
              "      <td>...</td>\n",
              "      <td>...</td>\n",
              "      <td>...</td>\n",
              "      <td>...</td>\n",
              "      <td>...</td>\n",
              "    </tr>\n",
              "    <tr>\n",
              "      <th>786346</th>\n",
              "      <td>732852505</td>\n",
              "      <td>732852505</td>\n",
              "      <td>50000</td>\n",
              "      <td>49536.24</td>\n",
              "      <td>2016-11-22T19:30:16</td>\n",
              "      <td>51.48</td>\n",
              "      <td>Sunoco Gas #380975</td>\n",
              "      <td>US</td>\n",
              "      <td>US</td>\n",
              "      <td>05</td>\n",
              "      <td>...</td>\n",
              "      <td>2012-08-23</td>\n",
              "      <td>936</td>\n",
              "      <td>936</td>\n",
              "      <td>3783</td>\n",
              "      <td>PURCHASE</td>\n",
              "      <td>463.76</td>\n",
              "      <td>1</td>\n",
              "      <td>0</td>\n",
              "      <td>0</td>\n",
              "      <td>2016-11-22</td>\n",
              "    </tr>\n",
              "    <tr>\n",
              "      <th>786348</th>\n",
              "      <td>732852505</td>\n",
              "      <td>732852505</td>\n",
              "      <td>50000</td>\n",
              "      <td>49251.72</td>\n",
              "      <td>2016-11-25T13:39:10</td>\n",
              "      <td>18.89</td>\n",
              "      <td>hulu.com</td>\n",
              "      <td>US</td>\n",
              "      <td>US</td>\n",
              "      <td>09</td>\n",
              "      <td>...</td>\n",
              "      <td>2012-08-23</td>\n",
              "      <td>939</td>\n",
              "      <td>939</td>\n",
              "      <td>3388</td>\n",
              "      <td>PURCHASE</td>\n",
              "      <td>748.28</td>\n",
              "      <td>0</td>\n",
              "      <td>0</td>\n",
              "      <td>0</td>\n",
              "      <td>2016-11-25</td>\n",
              "    </tr>\n",
              "    <tr>\n",
              "      <th>786352</th>\n",
              "      <td>732852505</td>\n",
              "      <td>732852505</td>\n",
              "      <td>50000</td>\n",
              "      <td>49848.35</td>\n",
              "      <td>2016-12-07T14:05:14</td>\n",
              "      <td>51.48</td>\n",
              "      <td>Sunoco Gas #380975</td>\n",
              "      <td>US</td>\n",
              "      <td>US</td>\n",
              "      <td>05</td>\n",
              "      <td>...</td>\n",
              "      <td>2012-08-23</td>\n",
              "      <td>936</td>\n",
              "      <td>936</td>\n",
              "      <td>3783</td>\n",
              "      <td>PURCHASE</td>\n",
              "      <td>151.65</td>\n",
              "      <td>1</td>\n",
              "      <td>0</td>\n",
              "      <td>0</td>\n",
              "      <td>2016-12-07</td>\n",
              "    </tr>\n",
              "    <tr>\n",
              "      <th>786357</th>\n",
              "      <td>732852505</td>\n",
              "      <td>732852505</td>\n",
              "      <td>50000</td>\n",
              "      <td>48956.44</td>\n",
              "      <td>2016-12-22T07:27:23</td>\n",
              "      <td>51.48</td>\n",
              "      <td>Sunoco Gas #380975</td>\n",
              "      <td>US</td>\n",
              "      <td>US</td>\n",
              "      <td>05</td>\n",
              "      <td>...</td>\n",
              "      <td>2012-08-23</td>\n",
              "      <td>936</td>\n",
              "      <td>936</td>\n",
              "      <td>3783</td>\n",
              "      <td>PURCHASE</td>\n",
              "      <td>1043.56</td>\n",
              "      <td>1</td>\n",
              "      <td>0</td>\n",
              "      <td>0</td>\n",
              "      <td>2016-12-22</td>\n",
              "    </tr>\n",
              "    <tr>\n",
              "      <th>786359</th>\n",
              "      <td>732852505</td>\n",
              "      <td>732852505</td>\n",
              "      <td>50000</td>\n",
              "      <td>48785.04</td>\n",
              "      <td>2016-12-25T16:20:34</td>\n",
              "      <td>18.89</td>\n",
              "      <td>hulu.com</td>\n",
              "      <td>US</td>\n",
              "      <td>US</td>\n",
              "      <td>09</td>\n",
              "      <td>...</td>\n",
              "      <td>2012-08-23</td>\n",
              "      <td>939</td>\n",
              "      <td>939</td>\n",
              "      <td>3388</td>\n",
              "      <td>PURCHASE</td>\n",
              "      <td>1214.96</td>\n",
              "      <td>0</td>\n",
              "      <td>0</td>\n",
              "      <td>0</td>\n",
              "      <td>2016-12-25</td>\n",
              "    </tr>\n",
              "  </tbody>\n",
              "</table>\n",
              "<p>100716 rows × 24 columns</p>\n",
              "</div>\n",
              "      <button class=\"colab-df-convert\" onclick=\"convertToInteractive('df-c52a7afb-ee66-4149-bfef-bac818a10900')\"\n",
              "              title=\"Convert this dataframe to an interactive table.\"\n",
              "              style=\"display:none;\">\n",
              "        \n",
              "  <svg xmlns=\"http://www.w3.org/2000/svg\" height=\"24px\"viewBox=\"0 0 24 24\"\n",
              "       width=\"24px\">\n",
              "    <path d=\"M0 0h24v24H0V0z\" fill=\"none\"/>\n",
              "    <path d=\"M18.56 5.44l.94 2.06.94-2.06 2.06-.94-2.06-.94-.94-2.06-.94 2.06-2.06.94zm-11 1L8.5 8.5l.94-2.06 2.06-.94-2.06-.94L8.5 2.5l-.94 2.06-2.06.94zm10 10l.94 2.06.94-2.06 2.06-.94-2.06-.94-.94-2.06-.94 2.06-2.06.94z\"/><path d=\"M17.41 7.96l-1.37-1.37c-.4-.4-.92-.59-1.43-.59-.52 0-1.04.2-1.43.59L10.3 9.45l-7.72 7.72c-.78.78-.78 2.05 0 2.83L4 21.41c.39.39.9.59 1.41.59.51 0 1.02-.2 1.41-.59l7.78-7.78 2.81-2.81c.8-.78.8-2.07 0-2.86zM5.41 20L4 18.59l7.72-7.72 1.47 1.35L5.41 20z\"/>\n",
              "  </svg>\n",
              "      </button>\n",
              "      \n",
              "  <style>\n",
              "    .colab-df-container {\n",
              "      display:flex;\n",
              "      flex-wrap:wrap;\n",
              "      gap: 12px;\n",
              "    }\n",
              "\n",
              "    .colab-df-convert {\n",
              "      background-color: #E8F0FE;\n",
              "      border: none;\n",
              "      border-radius: 50%;\n",
              "      cursor: pointer;\n",
              "      display: none;\n",
              "      fill: #1967D2;\n",
              "      height: 32px;\n",
              "      padding: 0 0 0 0;\n",
              "      width: 32px;\n",
              "    }\n",
              "\n",
              "    .colab-df-convert:hover {\n",
              "      background-color: #E2EBFA;\n",
              "      box-shadow: 0px 1px 2px rgba(60, 64, 67, 0.3), 0px 1px 3px 1px rgba(60, 64, 67, 0.15);\n",
              "      fill: #174EA6;\n",
              "    }\n",
              "\n",
              "    [theme=dark] .colab-df-convert {\n",
              "      background-color: #3B4455;\n",
              "      fill: #D2E3FC;\n",
              "    }\n",
              "\n",
              "    [theme=dark] .colab-df-convert:hover {\n",
              "      background-color: #434B5C;\n",
              "      box-shadow: 0px 1px 3px 1px rgba(0, 0, 0, 0.15);\n",
              "      filter: drop-shadow(0px 1px 2px rgba(0, 0, 0, 0.3));\n",
              "      fill: #FFFFFF;\n",
              "    }\n",
              "  </style>\n",
              "\n",
              "      <script>\n",
              "        const buttonEl =\n",
              "          document.querySelector('#df-c52a7afb-ee66-4149-bfef-bac818a10900 button.colab-df-convert');\n",
              "        buttonEl.style.display =\n",
              "          google.colab.kernel.accessAllowed ? 'block' : 'none';\n",
              "\n",
              "        async function convertToInteractive(key) {\n",
              "          const element = document.querySelector('#df-c52a7afb-ee66-4149-bfef-bac818a10900');\n",
              "          const dataTable =\n",
              "            await google.colab.kernel.invokeFunction('convertToInteractive',\n",
              "                                                     [key], {});\n",
              "          if (!dataTable) return;\n",
              "\n",
              "          const docLinkHtml = 'Like what you see? Visit the ' +\n",
              "            '<a target=\"_blank\" href=https://colab.research.google.com/notebooks/data_table.ipynb>data table notebook</a>'\n",
              "            + ' to learn more about interactive tables.';\n",
              "          element.innerHTML = '';\n",
              "          dataTable['output_type'] = 'display_data';\n",
              "          await google.colab.output.renderOutput(dataTable, element);\n",
              "          const docLink = document.createElement('div');\n",
              "          docLink.innerHTML = docLinkHtml;\n",
              "          element.appendChild(docLink);\n",
              "        }\n",
              "      </script>\n",
              "    </div>\n",
              "  </div>\n",
              "  "
            ]
          },
          "metadata": {},
          "execution_count": 149
        }
      ]
    },
    {
      "cell_type": "code",
      "source": [
        "duplicate_trans.shape"
      ],
      "metadata": {
        "colab": {
          "base_uri": "https://localhost:8080/"
        },
        "id": "2QaFzD33n4rf",
        "outputId": "40718d98-7d75-40db-a132-70cea2102bb4"
      },
      "execution_count": null,
      "outputs": [
        {
          "output_type": "execute_result",
          "data": {
            "text/plain": [
              "(100716, 24)"
            ]
          },
          "metadata": {},
          "execution_count": 150
        }
      ]
    },
    {
      "cell_type": "markdown",
      "source": [
        "**Frauds in Duplicated Transaction can expected to be more.**\n",
        "\n",
        "**The Top 3 Merchants where duplicated transactions happened and Frauds took place are:**\n",
        "\n",
        "\n",
        "\n",
        "\n",
        "1.   **Fresh Flowers**\n",
        "2.   **Lyft**\n",
        "\n",
        "1.   **ebay.com**\n",
        "\n",
        "\n",
        "\n",
        "\n",
        "\n"
      ],
      "metadata": {
        "id": "ibDtYPr4oGuS"
      }
    },
    {
      "cell_type": "code",
      "source": [
        "duplicate_trans_fraud = duplicate_trans.loc[duplicate_trans['isFraud'] == 1, ['merchantName']]\n",
        "\n",
        "dup_fraud = duplicate_trans_fraud['merchantName'].value_counts()\n",
        "dup_fraud = dup_fraud.loc[dup_fraud.values >= 30]\n",
        "print(\"Most Frauds Happening within duplicates are at these places:\")\n",
        "dup_fraud"
      ],
      "metadata": {
        "colab": {
          "base_uri": "https://localhost:8080/"
        },
        "id": "WgxsKpksoHI4",
        "outputId": "d1528450-1b4e-423d-f9c8-bf0cb2eb1b6a"
      },
      "execution_count": null,
      "outputs": [
        {
          "output_type": "stream",
          "name": "stdout",
          "text": [
            "Most Frauds Happening within duplicates are at these places:\n"
          ]
        },
        {
          "output_type": "execute_result",
          "data": {
            "text/plain": [
              "Fresh Flowers                    69\n",
              "Lyft                             58\n",
              "ebay.com                         46\n",
              "walmart.com                      39\n",
              "cheapfast.com                    34\n",
              "Uber                             34\n",
              "American Airlines                34\n",
              "sears.com                        32\n",
              "Blue Mountain Online Services    31\n",
              "oldnavy.com                      30\n",
              "Name: merchantName, dtype: int64"
            ]
          },
          "metadata": {},
          "execution_count": 151
        }
      ]
    },
    {
      "cell_type": "markdown",
      "source": [
        "**Reversal Transactions can be found directly either by using the attribute Transaction Type.**\n",
        "\n",
        "**That comes out to be Reversal = 20303**\n",
        "\n",
        "**Transaction Amount of Reversal Transaction = 2821792.5**"
      ],
      "metadata": {
        "id": "a_P_kE4WoOH-"
      }
    },
    {
      "cell_type": "code",
      "source": [
        "len(df_2.loc[df_2['transactionType'] == 'REVERSAL'])"
      ],
      "metadata": {
        "colab": {
          "base_uri": "https://localhost:8080/"
        },
        "id": "lZM-AtU_oQ5C",
        "outputId": "c4ae6d62-f355-44cd-8f3e-7d1feb50461d"
      },
      "execution_count": null,
      "outputs": [
        {
          "output_type": "execute_result",
          "data": {
            "text/plain": [
              "20303"
            ]
          },
          "metadata": {},
          "execution_count": 152
        }
      ]
    },
    {
      "cell_type": "code",
      "source": [
        "np.sum(df_2.loc[df_2['transactionType'] == 'REVERSAL'].transactionAmount)"
      ],
      "metadata": {
        "colab": {
          "base_uri": "https://localhost:8080/"
        },
        "id": "_f8QJc-4oTjN",
        "outputId": "827692cd-3941-4526-8008-fc4aa1aa4eed"
      },
      "execution_count": null,
      "outputs": [
        {
          "output_type": "execute_result",
          "data": {
            "text/plain": [
              "2821792.5"
            ]
          },
          "metadata": {},
          "execution_count": 153
        }
      ]
    },
    {
      "cell_type": "markdown",
      "source": [
        "**Merchnats where Frauds took place according to the given attribute transaction type = Reversal in the original dataset:**\n",
        "\n",
        "\n",
        "\n",
        "1.   **Lyft**\n",
        "2.   **walmart.com**\n",
        "\n",
        "1.   **gap.com**"
      ],
      "metadata": {
        "id": "_PHFRmBpoZ5G"
      }
    },
    {
      "cell_type": "code",
      "source": [
        "df_2_rev = df_2.loc[df_2['isFraud'] == 1, ['merchantName','transactionType']]\n",
        "\n",
        "df_2_rev = df_2_rev.loc[df_2_rev['transactionType'] == 'REVERSAL', ['merchantName']]\n",
        "\n",
        "df_2_rev_fraud = df_2_rev['merchantName'].value_counts()\n",
        "df_2_rev_fraud = df_2_rev_fraud.loc[df_2_rev_fraud.values >= 10]\n",
        "print(\"Most Frauds Happening within Original data and reversal transaction type are at these places:\")\n",
        "df_2_rev_fraud"
      ],
      "metadata": {
        "colab": {
          "base_uri": "https://localhost:8080/"
        },
        "id": "Tl641FzCoaka",
        "outputId": "1387f3f2-c50a-4384-939f-f1703ed8aa59"
      },
      "execution_count": null,
      "outputs": [
        {
          "output_type": "stream",
          "name": "stdout",
          "text": [
            "Most Frauds Happening within Original data and reversal transaction type are at these places:\n"
          ]
        },
        {
          "output_type": "execute_result",
          "data": {
            "text/plain": [
              "Lyft                 26\n",
              "walmart.com          16\n",
              "Fresh Flowers        15\n",
              "gap.com              15\n",
              "American Airlines    14\n",
              "cheapfast.com        13\n",
              "sears.com            12\n",
              "ebay.com             11\n",
              "apple.com            11\n",
              "staples.com          11\n",
              "oldnavy.com          10\n",
              "Name: merchantName, dtype: int64"
            ]
          },
          "metadata": {},
          "execution_count": 154
        }
      ]
    },
    {
      "cell_type": "markdown",
      "source": [
        "**Another method to find Reversal Transaction is to look directly into the duplicated transactions:**\n",
        "\n",
        "**Reversal Transactions in Duplicated records = 17826**\n",
        "\n",
        "**Transaction Amount for Reversal Transactions in Duplicated records = 2669859.56**"
      ],
      "metadata": {
        "id": "-x6Dnf82ofeq"
      }
    },
    {
      "cell_type": "code",
      "source": [
        "len(duplicate_trans.loc[duplicate_trans['transactionType'] == 'REVERSAL'])"
      ],
      "metadata": {
        "colab": {
          "base_uri": "https://localhost:8080/"
        },
        "id": "C8QNEI7Hof6R",
        "outputId": "c839297b-5d36-4f1a-fb93-1235ae6d20d8"
      },
      "execution_count": null,
      "outputs": [
        {
          "output_type": "execute_result",
          "data": {
            "text/plain": [
              "17826"
            ]
          },
          "metadata": {},
          "execution_count": 155
        }
      ]
    },
    {
      "cell_type": "code",
      "source": [
        "np.sum(duplicate_trans.loc[duplicate_trans['transactionType'] == 'REVERSAL'].transactionAmount)"
      ],
      "metadata": {
        "colab": {
          "base_uri": "https://localhost:8080/"
        },
        "id": "6e8jxGRTokfI",
        "outputId": "790c241d-9fd2-4aab-e57c-df5aa504775b"
      },
      "execution_count": null,
      "outputs": [
        {
          "output_type": "execute_result",
          "data": {
            "text/plain": [
              "2669859.56"
            ]
          },
          "metadata": {},
          "execution_count": 156
        }
      ]
    },
    {
      "cell_type": "markdown",
      "source": [
        "**Most Frauds that happen in Reversal Transactions of Duplicated Subset are for these Merchants:**\n",
        "\n",
        "\n",
        "\n",
        "1.   **Lyft**\n",
        "\n",
        "1.   **Fresh Flowers**\n",
        "2.   **Walmart.com**\n"
      ],
      "metadata": {
        "id": "_XXVA3geopli"
      }
    },
    {
      "cell_type": "code",
      "source": [
        "duplicate_trans_fraud = duplicate_trans.loc[duplicate_trans['isFraud'] == 1, ['merchantName','transactionType']]\n",
        "\n",
        "reverse_trans_fraud = duplicate_trans_fraud.loc[duplicate_trans_fraud['transactionType'] == 'REVERSAL', ['merchantName']]\n",
        "\n",
        "rev_fraud = reverse_trans_fraud['merchantName'].value_counts()\n",
        "rev_fraud = rev_fraud.loc[rev_fraud.values >= 10]\n",
        "print(\"Most Frauds Happening within Duplicate REVERSAL are at these places:\")\n",
        "rev_fraud"
      ],
      "metadata": {
        "colab": {
          "base_uri": "https://localhost:8080/"
        },
        "id": "L92ofY_rop47",
        "outputId": "9a0023cf-e8f2-4a31-964f-eeba37e58911"
      },
      "execution_count": null,
      "outputs": [
        {
          "output_type": "stream",
          "name": "stdout",
          "text": [
            "Most Frauds Happening within Duplicate REVERSAL are at these places:\n"
          ]
        },
        {
          "output_type": "execute_result",
          "data": {
            "text/plain": [
              "Lyft                 23\n",
              "Fresh Flowers        14\n",
              "gap.com              13\n",
              "walmart.com          13\n",
              "cheapfast.com        11\n",
              "apple.com            11\n",
              "staples.com          11\n",
              "ebay.com             11\n",
              "oldnavy.com          10\n",
              "American Airlines    10\n",
              "Name: merchantName, dtype: int64"
            ]
          },
          "metadata": {},
          "execution_count": 157
        }
      ]
    },
    {
      "cell_type": "code",
      "source": [
        "def timeToDaTe(t):\n",
        "  return datetime.datetime.strptime(t, '%Y-%m-%dT%H:%M:%S')\n"
      ],
      "metadata": {
        "id": "JFs7CG9Youik"
      },
      "execution_count": null,
      "outputs": []
    },
    {
      "cell_type": "markdown",
      "source": [
        "**Multi Swipe Transactions**\n",
        "\n",
        "**These can be find as grouping by the uniquely identifying attributes in such a sorted way, that if the subsequent transactions happen in next 3 minutes, They will be marked as Mutli-Swiped Transactions**"
      ],
      "metadata": {
        "id": "HZxygUCFoy4F"
      }
    },
    {
      "cell_type": "code",
      "source": [
        "NonRevDup = duplicate_trans[duplicate_trans['transactionType'] != 'REVERSAL']\n",
        "NonRevDup"
      ],
      "metadata": {
        "colab": {
          "base_uri": "https://localhost:8080/",
          "height": 540
        },
        "id": "Ssg1xuXNozPK",
        "outputId": "d4aa5018-73d9-4d3d-c665-01d6d988c64e"
      },
      "execution_count": null,
      "outputs": [
        {
          "output_type": "execute_result",
          "data": {
            "text/plain": [
              "        accountNumber  customerId  creditLimit  availableMoney  \\\n",
              "2           737265056   737265056         5000         5000.00   \n",
              "3           737265056   737265056         5000         5000.00   \n",
              "11          830329091   830329091         5000         5000.00   \n",
              "12          830329091   830329091         5000         4959.25   \n",
              "13          830329091   830329091         5000         4918.50   \n",
              "...               ...         ...          ...             ...   \n",
              "786346      732852505   732852505        50000        49536.24   \n",
              "786348      732852505   732852505        50000        49251.72   \n",
              "786352      732852505   732852505        50000        49848.35   \n",
              "786357      732852505   732852505        50000        48956.44   \n",
              "786359      732852505   732852505        50000        48785.04   \n",
              "\n",
              "        transactionDateTime  transactionAmount        merchantName acqCountry  \\\n",
              "2       2016-11-08T09:18:39               7.47          Play Store         US   \n",
              "3       2016-12-10T02:14:50               7.47          Play Store         US   \n",
              "11      2016-12-07T16:34:04              40.75           GreenCook         US   \n",
              "12      2016-12-14T10:00:35              40.75           GreenCook         US   \n",
              "13      2016-12-20T18:38:23              40.75           GreenCook         US   \n",
              "...                     ...                ...                 ...        ...   \n",
              "786346  2016-11-22T19:30:16              51.48  Sunoco Gas #380975         US   \n",
              "786348  2016-11-25T13:39:10              18.89            hulu.com         US   \n",
              "786352  2016-12-07T14:05:14              51.48  Sunoco Gas #380975         US   \n",
              "786357  2016-12-22T07:27:23              51.48  Sunoco Gas #380975         US   \n",
              "786359  2016-12-25T16:20:34              18.89            hulu.com         US   \n",
              "\n",
              "       merchantCountryCode posEntryMode  ... dateOfLastAddressChange cardCVV  \\\n",
              "2                       US           09  ...              2015-03-14     486   \n",
              "3                       US           09  ...              2015-03-14     486   \n",
              "11                      US           09  ...              2015-08-06     885   \n",
              "12                      US           09  ...              2015-08-06     885   \n",
              "13                      US           09  ...              2015-08-06     885   \n",
              "...                    ...          ...  ...                     ...     ...   \n",
              "786346                  US           05  ...              2012-08-23     936   \n",
              "786348                  US           09  ...              2012-08-23     939   \n",
              "786352                  US           05  ...              2012-08-23     936   \n",
              "786357                  US           05  ...              2012-08-23     936   \n",
              "786359                  US           09  ...              2012-08-23     939   \n",
              "\n",
              "       enteredCVV cardLast4Digits transactionType  currentBalance  \\\n",
              "2             486             767        PURCHASE            0.00   \n",
              "3             486             767        PURCHASE            0.00   \n",
              "11            885            3143        PURCHASE            0.00   \n",
              "12            885            3143        PURCHASE           40.75   \n",
              "13            885            3143        PURCHASE           81.50   \n",
              "...           ...             ...             ...             ...   \n",
              "786346        936            3783        PURCHASE          463.76   \n",
              "786348        939            3388        PURCHASE          748.28   \n",
              "786352        936            3783        PURCHASE          151.65   \n",
              "786357        936            3783        PURCHASE         1043.56   \n",
              "786359        939            3388        PURCHASE         1214.96   \n",
              "\n",
              "        cardPresent  expirationDateKeyInMatch isFraud  transactionDate  \n",
              "2                 0                         0       0       2016-11-08  \n",
              "3                 0                         0       0       2016-12-10  \n",
              "11                0                         0       0       2016-12-07  \n",
              "12                0                         0       0       2016-12-14  \n",
              "13                0                         0       0       2016-12-20  \n",
              "...             ...                       ...     ...              ...  \n",
              "786346            1                         0       0       2016-11-22  \n",
              "786348            0                         0       0       2016-11-25  \n",
              "786352            1                         0       0       2016-12-07  \n",
              "786357            1                         0       0       2016-12-22  \n",
              "786359            0                         0       0       2016-12-25  \n",
              "\n",
              "[82890 rows x 24 columns]"
            ],
            "text/html": [
              "\n",
              "  <div id=\"df-6bce6e60-5235-41da-91d1-40c5e8d8fd21\">\n",
              "    <div class=\"colab-df-container\">\n",
              "      <div>\n",
              "<style scoped>\n",
              "    .dataframe tbody tr th:only-of-type {\n",
              "        vertical-align: middle;\n",
              "    }\n",
              "\n",
              "    .dataframe tbody tr th {\n",
              "        vertical-align: top;\n",
              "    }\n",
              "\n",
              "    .dataframe thead th {\n",
              "        text-align: right;\n",
              "    }\n",
              "</style>\n",
              "<table border=\"1\" class=\"dataframe\">\n",
              "  <thead>\n",
              "    <tr style=\"text-align: right;\">\n",
              "      <th></th>\n",
              "      <th>accountNumber</th>\n",
              "      <th>customerId</th>\n",
              "      <th>creditLimit</th>\n",
              "      <th>availableMoney</th>\n",
              "      <th>transactionDateTime</th>\n",
              "      <th>transactionAmount</th>\n",
              "      <th>merchantName</th>\n",
              "      <th>acqCountry</th>\n",
              "      <th>merchantCountryCode</th>\n",
              "      <th>posEntryMode</th>\n",
              "      <th>...</th>\n",
              "      <th>dateOfLastAddressChange</th>\n",
              "      <th>cardCVV</th>\n",
              "      <th>enteredCVV</th>\n",
              "      <th>cardLast4Digits</th>\n",
              "      <th>transactionType</th>\n",
              "      <th>currentBalance</th>\n",
              "      <th>cardPresent</th>\n",
              "      <th>expirationDateKeyInMatch</th>\n",
              "      <th>isFraud</th>\n",
              "      <th>transactionDate</th>\n",
              "    </tr>\n",
              "  </thead>\n",
              "  <tbody>\n",
              "    <tr>\n",
              "      <th>2</th>\n",
              "      <td>737265056</td>\n",
              "      <td>737265056</td>\n",
              "      <td>5000</td>\n",
              "      <td>5000.00</td>\n",
              "      <td>2016-11-08T09:18:39</td>\n",
              "      <td>7.47</td>\n",
              "      <td>Play Store</td>\n",
              "      <td>US</td>\n",
              "      <td>US</td>\n",
              "      <td>09</td>\n",
              "      <td>...</td>\n",
              "      <td>2015-03-14</td>\n",
              "      <td>486</td>\n",
              "      <td>486</td>\n",
              "      <td>767</td>\n",
              "      <td>PURCHASE</td>\n",
              "      <td>0.00</td>\n",
              "      <td>0</td>\n",
              "      <td>0</td>\n",
              "      <td>0</td>\n",
              "      <td>2016-11-08</td>\n",
              "    </tr>\n",
              "    <tr>\n",
              "      <th>3</th>\n",
              "      <td>737265056</td>\n",
              "      <td>737265056</td>\n",
              "      <td>5000</td>\n",
              "      <td>5000.00</td>\n",
              "      <td>2016-12-10T02:14:50</td>\n",
              "      <td>7.47</td>\n",
              "      <td>Play Store</td>\n",
              "      <td>US</td>\n",
              "      <td>US</td>\n",
              "      <td>09</td>\n",
              "      <td>...</td>\n",
              "      <td>2015-03-14</td>\n",
              "      <td>486</td>\n",
              "      <td>486</td>\n",
              "      <td>767</td>\n",
              "      <td>PURCHASE</td>\n",
              "      <td>0.00</td>\n",
              "      <td>0</td>\n",
              "      <td>0</td>\n",
              "      <td>0</td>\n",
              "      <td>2016-12-10</td>\n",
              "    </tr>\n",
              "    <tr>\n",
              "      <th>11</th>\n",
              "      <td>830329091</td>\n",
              "      <td>830329091</td>\n",
              "      <td>5000</td>\n",
              "      <td>5000.00</td>\n",
              "      <td>2016-12-07T16:34:04</td>\n",
              "      <td>40.75</td>\n",
              "      <td>GreenCook</td>\n",
              "      <td>US</td>\n",
              "      <td>US</td>\n",
              "      <td>09</td>\n",
              "      <td>...</td>\n",
              "      <td>2015-08-06</td>\n",
              "      <td>885</td>\n",
              "      <td>885</td>\n",
              "      <td>3143</td>\n",
              "      <td>PURCHASE</td>\n",
              "      <td>0.00</td>\n",
              "      <td>0</td>\n",
              "      <td>0</td>\n",
              "      <td>0</td>\n",
              "      <td>2016-12-07</td>\n",
              "    </tr>\n",
              "    <tr>\n",
              "      <th>12</th>\n",
              "      <td>830329091</td>\n",
              "      <td>830329091</td>\n",
              "      <td>5000</td>\n",
              "      <td>4959.25</td>\n",
              "      <td>2016-12-14T10:00:35</td>\n",
              "      <td>40.75</td>\n",
              "      <td>GreenCook</td>\n",
              "      <td>US</td>\n",
              "      <td>US</td>\n",
              "      <td>09</td>\n",
              "      <td>...</td>\n",
              "      <td>2015-08-06</td>\n",
              "      <td>885</td>\n",
              "      <td>885</td>\n",
              "      <td>3143</td>\n",
              "      <td>PURCHASE</td>\n",
              "      <td>40.75</td>\n",
              "      <td>0</td>\n",
              "      <td>0</td>\n",
              "      <td>0</td>\n",
              "      <td>2016-12-14</td>\n",
              "    </tr>\n",
              "    <tr>\n",
              "      <th>13</th>\n",
              "      <td>830329091</td>\n",
              "      <td>830329091</td>\n",
              "      <td>5000</td>\n",
              "      <td>4918.50</td>\n",
              "      <td>2016-12-20T18:38:23</td>\n",
              "      <td>40.75</td>\n",
              "      <td>GreenCook</td>\n",
              "      <td>US</td>\n",
              "      <td>US</td>\n",
              "      <td>09</td>\n",
              "      <td>...</td>\n",
              "      <td>2015-08-06</td>\n",
              "      <td>885</td>\n",
              "      <td>885</td>\n",
              "      <td>3143</td>\n",
              "      <td>PURCHASE</td>\n",
              "      <td>81.50</td>\n",
              "      <td>0</td>\n",
              "      <td>0</td>\n",
              "      <td>0</td>\n",
              "      <td>2016-12-20</td>\n",
              "    </tr>\n",
              "    <tr>\n",
              "      <th>...</th>\n",
              "      <td>...</td>\n",
              "      <td>...</td>\n",
              "      <td>...</td>\n",
              "      <td>...</td>\n",
              "      <td>...</td>\n",
              "      <td>...</td>\n",
              "      <td>...</td>\n",
              "      <td>...</td>\n",
              "      <td>...</td>\n",
              "      <td>...</td>\n",
              "      <td>...</td>\n",
              "      <td>...</td>\n",
              "      <td>...</td>\n",
              "      <td>...</td>\n",
              "      <td>...</td>\n",
              "      <td>...</td>\n",
              "      <td>...</td>\n",
              "      <td>...</td>\n",
              "      <td>...</td>\n",
              "      <td>...</td>\n",
              "      <td>...</td>\n",
              "    </tr>\n",
              "    <tr>\n",
              "      <th>786346</th>\n",
              "      <td>732852505</td>\n",
              "      <td>732852505</td>\n",
              "      <td>50000</td>\n",
              "      <td>49536.24</td>\n",
              "      <td>2016-11-22T19:30:16</td>\n",
              "      <td>51.48</td>\n",
              "      <td>Sunoco Gas #380975</td>\n",
              "      <td>US</td>\n",
              "      <td>US</td>\n",
              "      <td>05</td>\n",
              "      <td>...</td>\n",
              "      <td>2012-08-23</td>\n",
              "      <td>936</td>\n",
              "      <td>936</td>\n",
              "      <td>3783</td>\n",
              "      <td>PURCHASE</td>\n",
              "      <td>463.76</td>\n",
              "      <td>1</td>\n",
              "      <td>0</td>\n",
              "      <td>0</td>\n",
              "      <td>2016-11-22</td>\n",
              "    </tr>\n",
              "    <tr>\n",
              "      <th>786348</th>\n",
              "      <td>732852505</td>\n",
              "      <td>732852505</td>\n",
              "      <td>50000</td>\n",
              "      <td>49251.72</td>\n",
              "      <td>2016-11-25T13:39:10</td>\n",
              "      <td>18.89</td>\n",
              "      <td>hulu.com</td>\n",
              "      <td>US</td>\n",
              "      <td>US</td>\n",
              "      <td>09</td>\n",
              "      <td>...</td>\n",
              "      <td>2012-08-23</td>\n",
              "      <td>939</td>\n",
              "      <td>939</td>\n",
              "      <td>3388</td>\n",
              "      <td>PURCHASE</td>\n",
              "      <td>748.28</td>\n",
              "      <td>0</td>\n",
              "      <td>0</td>\n",
              "      <td>0</td>\n",
              "      <td>2016-11-25</td>\n",
              "    </tr>\n",
              "    <tr>\n",
              "      <th>786352</th>\n",
              "      <td>732852505</td>\n",
              "      <td>732852505</td>\n",
              "      <td>50000</td>\n",
              "      <td>49848.35</td>\n",
              "      <td>2016-12-07T14:05:14</td>\n",
              "      <td>51.48</td>\n",
              "      <td>Sunoco Gas #380975</td>\n",
              "      <td>US</td>\n",
              "      <td>US</td>\n",
              "      <td>05</td>\n",
              "      <td>...</td>\n",
              "      <td>2012-08-23</td>\n",
              "      <td>936</td>\n",
              "      <td>936</td>\n",
              "      <td>3783</td>\n",
              "      <td>PURCHASE</td>\n",
              "      <td>151.65</td>\n",
              "      <td>1</td>\n",
              "      <td>0</td>\n",
              "      <td>0</td>\n",
              "      <td>2016-12-07</td>\n",
              "    </tr>\n",
              "    <tr>\n",
              "      <th>786357</th>\n",
              "      <td>732852505</td>\n",
              "      <td>732852505</td>\n",
              "      <td>50000</td>\n",
              "      <td>48956.44</td>\n",
              "      <td>2016-12-22T07:27:23</td>\n",
              "      <td>51.48</td>\n",
              "      <td>Sunoco Gas #380975</td>\n",
              "      <td>US</td>\n",
              "      <td>US</td>\n",
              "      <td>05</td>\n",
              "      <td>...</td>\n",
              "      <td>2012-08-23</td>\n",
              "      <td>936</td>\n",
              "      <td>936</td>\n",
              "      <td>3783</td>\n",
              "      <td>PURCHASE</td>\n",
              "      <td>1043.56</td>\n",
              "      <td>1</td>\n",
              "      <td>0</td>\n",
              "      <td>0</td>\n",
              "      <td>2016-12-22</td>\n",
              "    </tr>\n",
              "    <tr>\n",
              "      <th>786359</th>\n",
              "      <td>732852505</td>\n",
              "      <td>732852505</td>\n",
              "      <td>50000</td>\n",
              "      <td>48785.04</td>\n",
              "      <td>2016-12-25T16:20:34</td>\n",
              "      <td>18.89</td>\n",
              "      <td>hulu.com</td>\n",
              "      <td>US</td>\n",
              "      <td>US</td>\n",
              "      <td>09</td>\n",
              "      <td>...</td>\n",
              "      <td>2012-08-23</td>\n",
              "      <td>939</td>\n",
              "      <td>939</td>\n",
              "      <td>3388</td>\n",
              "      <td>PURCHASE</td>\n",
              "      <td>1214.96</td>\n",
              "      <td>0</td>\n",
              "      <td>0</td>\n",
              "      <td>0</td>\n",
              "      <td>2016-12-25</td>\n",
              "    </tr>\n",
              "  </tbody>\n",
              "</table>\n",
              "<p>82890 rows × 24 columns</p>\n",
              "</div>\n",
              "      <button class=\"colab-df-convert\" onclick=\"convertToInteractive('df-6bce6e60-5235-41da-91d1-40c5e8d8fd21')\"\n",
              "              title=\"Convert this dataframe to an interactive table.\"\n",
              "              style=\"display:none;\">\n",
              "        \n",
              "  <svg xmlns=\"http://www.w3.org/2000/svg\" height=\"24px\"viewBox=\"0 0 24 24\"\n",
              "       width=\"24px\">\n",
              "    <path d=\"M0 0h24v24H0V0z\" fill=\"none\"/>\n",
              "    <path d=\"M18.56 5.44l.94 2.06.94-2.06 2.06-.94-2.06-.94-.94-2.06-.94 2.06-2.06.94zm-11 1L8.5 8.5l.94-2.06 2.06-.94-2.06-.94L8.5 2.5l-.94 2.06-2.06.94zm10 10l.94 2.06.94-2.06 2.06-.94-2.06-.94-.94-2.06-.94 2.06-2.06.94z\"/><path d=\"M17.41 7.96l-1.37-1.37c-.4-.4-.92-.59-1.43-.59-.52 0-1.04.2-1.43.59L10.3 9.45l-7.72 7.72c-.78.78-.78 2.05 0 2.83L4 21.41c.39.39.9.59 1.41.59.51 0 1.02-.2 1.41-.59l7.78-7.78 2.81-2.81c.8-.78.8-2.07 0-2.86zM5.41 20L4 18.59l7.72-7.72 1.47 1.35L5.41 20z\"/>\n",
              "  </svg>\n",
              "      </button>\n",
              "      \n",
              "  <style>\n",
              "    .colab-df-container {\n",
              "      display:flex;\n",
              "      flex-wrap:wrap;\n",
              "      gap: 12px;\n",
              "    }\n",
              "\n",
              "    .colab-df-convert {\n",
              "      background-color: #E8F0FE;\n",
              "      border: none;\n",
              "      border-radius: 50%;\n",
              "      cursor: pointer;\n",
              "      display: none;\n",
              "      fill: #1967D2;\n",
              "      height: 32px;\n",
              "      padding: 0 0 0 0;\n",
              "      width: 32px;\n",
              "    }\n",
              "\n",
              "    .colab-df-convert:hover {\n",
              "      background-color: #E2EBFA;\n",
              "      box-shadow: 0px 1px 2px rgba(60, 64, 67, 0.3), 0px 1px 3px 1px rgba(60, 64, 67, 0.15);\n",
              "      fill: #174EA6;\n",
              "    }\n",
              "\n",
              "    [theme=dark] .colab-df-convert {\n",
              "      background-color: #3B4455;\n",
              "      fill: #D2E3FC;\n",
              "    }\n",
              "\n",
              "    [theme=dark] .colab-df-convert:hover {\n",
              "      background-color: #434B5C;\n",
              "      box-shadow: 0px 1px 3px 1px rgba(0, 0, 0, 0.15);\n",
              "      filter: drop-shadow(0px 1px 2px rgba(0, 0, 0, 0.3));\n",
              "      fill: #FFFFFF;\n",
              "    }\n",
              "  </style>\n",
              "\n",
              "      <script>\n",
              "        const buttonEl =\n",
              "          document.querySelector('#df-6bce6e60-5235-41da-91d1-40c5e8d8fd21 button.colab-df-convert');\n",
              "        buttonEl.style.display =\n",
              "          google.colab.kernel.accessAllowed ? 'block' : 'none';\n",
              "\n",
              "        async function convertToInteractive(key) {\n",
              "          const element = document.querySelector('#df-6bce6e60-5235-41da-91d1-40c5e8d8fd21');\n",
              "          const dataTable =\n",
              "            await google.colab.kernel.invokeFunction('convertToInteractive',\n",
              "                                                     [key], {});\n",
              "          if (!dataTable) return;\n",
              "\n",
              "          const docLinkHtml = 'Like what you see? Visit the ' +\n",
              "            '<a target=\"_blank\" href=https://colab.research.google.com/notebooks/data_table.ipynb>data table notebook</a>'\n",
              "            + ' to learn more about interactive tables.';\n",
              "          element.innerHTML = '';\n",
              "          dataTable['output_type'] = 'display_data';\n",
              "          await google.colab.output.renderOutput(dataTable, element);\n",
              "          const docLink = document.createElement('div');\n",
              "          docLink.innerHTML = docLinkHtml;\n",
              "          element.appendChild(docLink);\n",
              "        }\n",
              "      </script>\n",
              "    </div>\n",
              "  </div>\n",
              "  "
            ]
          },
          "metadata": {},
          "execution_count": 159
        }
      ]
    },
    {
      "cell_type": "code",
      "source": [
        "import datetime\n",
        "\n",
        "MultiSwipeTrans = []\n",
        "for i, g in NonRevDup.groupby(['accountNumber', 'transactionAmount','merchantName', 'acqCountry' , 'accountOpenDate' ,'merchantCategoryCode','cardLast4Digits' ]):\n",
        "    prev_interval = datetime.datetime.strptime('1000-05-05T22:47:50', '%Y-%m-%dT%H:%M:%S')\n",
        "    g['transactionDateTime'] = g['transactionDateTime'].apply(timeToDaTe)\n",
        "    g = g.sort_values(by=['transactionDateTime'])\n",
        "  \n",
        "    for r_i, row in g.iterrows():\n",
        "        time = row['transactionDateTime']\n",
        "        if time < prev_interval:\n",
        "            MultiSwipeTrans.append(r_i)\n",
        "        prev_interval = (time + datetime.timedelta(seconds=180))\n",
        "MultiSwipeDf = df.iloc[MultiSwipeTrans]"
      ],
      "metadata": {
        "id": "wAroo6k9o2fA"
      },
      "execution_count": null,
      "outputs": []
    },
    {
      "cell_type": "markdown",
      "source": [
        "**Multi Swipe Transactions come out to be = 7422**\n",
        "\n",
        "**Total Transaction Amount = 1098489.81**"
      ],
      "metadata": {
        "id": "os8ux5kKo6AE"
      }
    },
    {
      "cell_type": "code",
      "source": [
        "\n",
        "print(\"MultiSwipe Transactions: \", len(MultiSwipeDf))\n",
        "print(\"Total of transactions amount\", np.sum(MultiSwipeDf['transactionAmount']))"
      ],
      "metadata": {
        "colab": {
          "base_uri": "https://localhost:8080/"
        },
        "id": "3Qpy3h17o6WX",
        "outputId": "d3b195cb-9fd4-4654-e881-b4ff8cd4f418"
      },
      "execution_count": null,
      "outputs": [
        {
          "output_type": "stream",
          "name": "stdout",
          "text": [
            "MultiSwipe Transactions:  7422\n",
            "Total of transactions amount 1098489.81\n"
          ]
        }
      ]
    },
    {
      "cell_type": "markdown",
      "source": [
        "**The most Frauds happening in the Multi-Swipe Transaction subset are:**\n",
        "\n",
        "**Top 3:**\n",
        "\n",
        "\n",
        "\n",
        "1.   **ebay.com**\n",
        "2.   **sears.com**\n",
        "\n",
        "1.   **cheapfast.com**"
      ],
      "metadata": {
        "id": "syMHnj78o-7J"
      }
    },
    {
      "cell_type": "code",
      "source": [
        "ms_trans_fraud = MultiSwipeDf.loc[MultiSwipeDf['isFraud'] == 1, ['merchantName']]\n",
        "\n",
        "ms_ext = ms_trans_fraud['merchantName'].value_counts()\n",
        "ms_ext = ms_ext.loc[ms_ext.values >= 5]\n",
        "print(\"Most Frauds Happening within Multi-Swipe Transactions are at these places:\")\n",
        "ms_ext"
      ],
      "metadata": {
        "colab": {
          "base_uri": "https://localhost:8080/"
        },
        "id": "eFmUjcz3o_QL",
        "outputId": "d3b7c9d0-a737-4d35-f078-f12c2f8d6d5c"
      },
      "execution_count": null,
      "outputs": [
        {
          "output_type": "stream",
          "name": "stdout",
          "text": [
            "Most Frauds Happening within Multi-Swipe Transactions are at these places:\n"
          ]
        },
        {
          "output_type": "execute_result",
          "data": {
            "text/plain": [
              "ebay.com                         10\n",
              "walmart.com                       7\n",
              "cheapfast.com                     7\n",
              "Uber                              7\n",
              "sears.com                         7\n",
              "American Airlines                 6\n",
              "Blue Mountain Online Services     5\n",
              "discount.com                      5\n",
              "Name: merchantName, dtype: int64"
            ]
          },
          "metadata": {},
          "execution_count": 162
        }
      ]
    },
    {
      "cell_type": "markdown",
      "source": [
        "**Fraud Ratio in Duplicated Transactions are: 0.9%**"
      ],
      "metadata": {
        "id": "KX50SovnpGpK"
      }
    },
    {
      "cell_type": "code",
      "source": [
        "duplicate_trans['isFraud'].value_counts()"
      ],
      "metadata": {
        "colab": {
          "base_uri": "https://localhost:8080/"
        },
        "id": "ZGics1u9pG-N",
        "outputId": "d23f47ec-ca1b-46a0-b872-1f6b12e6a32d"
      },
      "execution_count": null,
      "outputs": [
        {
          "output_type": "execute_result",
          "data": {
            "text/plain": [
              "0    99793\n",
              "1      923\n",
              "Name: isFraud, dtype: int64"
            ]
          },
          "metadata": {},
          "execution_count": 163
        }
      ]
    },
    {
      "cell_type": "markdown",
      "source": [
        "**Fraud Ratio in Reversal Transactions of Duplicated Data subset = 1.7%**"
      ],
      "metadata": {
        "id": "zjEnZaPrpQKi"
      }
    },
    {
      "cell_type": "code",
      "source": [
        "dup_rev = duplicate_trans.loc[duplicate_trans['transactionType'] == 'REVERSAL']\n",
        "dup_rev['isFraud'].value_counts()"
      ],
      "metadata": {
        "colab": {
          "base_uri": "https://localhost:8080/"
        },
        "id": "zyPQMFI-pQfN",
        "outputId": "9ff4083a-acf6-4e75-af20-4d9b62ec27f6"
      },
      "execution_count": null,
      "outputs": [
        {
          "output_type": "execute_result",
          "data": {
            "text/plain": [
              "0    17522\n",
              "1      304\n",
              "Name: isFraud, dtype: int64"
            ]
          },
          "metadata": {},
          "execution_count": 164
        }
      ]
    },
    {
      "cell_type": "markdown",
      "source": [
        "**Fraud Ratio in Reversal Transactions of Original Data Set = 1.68%**"
      ],
      "metadata": {
        "id": "52ldP5_JpWWt"
      }
    },
    {
      "cell_type": "code",
      "source": [
        "df2_rev = df_2.loc[df_2['transactionType'] == 'REVERSAL']\n",
        "df2_rev['isFraud'].value_counts()"
      ],
      "metadata": {
        "colab": {
          "base_uri": "https://localhost:8080/"
        },
        "id": "E-LoouFGpWps",
        "outputId": "ba332287-174f-4467-b2d5-9f37a27ef4bc"
      },
      "execution_count": null,
      "outputs": [
        {
          "output_type": "execute_result",
          "data": {
            "text/plain": [
              "0    19966\n",
              "1      337\n",
              "Name: isFraud, dtype: int64"
            ]
          },
          "metadata": {},
          "execution_count": 165
        }
      ]
    },
    {
      "cell_type": "markdown",
      "source": [
        "**Fraud Ratio in Multi-Swipe Transactions = 1.76%**"
      ],
      "metadata": {
        "id": "4aqryN41pbky"
      }
    },
    {
      "cell_type": "code",
      "source": [
        "MultiSwipeDf['isFraud'].value_counts()"
      ],
      "metadata": {
        "colab": {
          "base_uri": "https://localhost:8080/"
        },
        "id": "sbuwg3Glpdit",
        "outputId": "6c787bac-d24a-4c89-f17a-a5f2ce8b702e"
      },
      "execution_count": null,
      "outputs": [
        {
          "output_type": "execute_result",
          "data": {
            "text/plain": [
              "0    7293\n",
              "1     129\n",
              "Name: isFraud, dtype: int64"
            ]
          },
          "metadata": {},
          "execution_count": 166
        }
      ]
    },
    {
      "cell_type": "markdown",
      "source": [
        "# **Model, Classification, Removing Outliers, Further Cleaning, Feature Encoding, Feature Engineering, Metrics, Evaluation, Results, Further Improvement and Domains**\n"
      ],
      "metadata": {
        "id": "iKKClQszFD6w"
      }
    },
    {
      "cell_type": "markdown",
      "source": [
        "**Interquartile Ranges are generally used for removing the outliers in a numerical attribute**"
      ],
      "metadata": {
        "id": "rbd9lou8FMUD"
      }
    },
    {
      "cell_type": "code",
      "source": [
        "def remove_outlier(df_in, col_name):\n",
        "    q1 = df_in[col_name].quantile(0.25)\n",
        "    q3 = df_in[col_name].quantile(0.75)\n",
        "    iqr = q3-q1 #Interquartile range\n",
        "    fence_low  = q1-1.5*iqr\n",
        "    fence_high = q3+1.5*iqr\n",
        "    df_out = df_in.loc[(df_in[col_name] > fence_low) & (df_in[col_name] < fence_high)]\n",
        "    return df_out"
      ],
      "metadata": {
        "id": "bOiTvGeDFNJw"
      },
      "execution_count": null,
      "outputs": []
    },
    {
      "cell_type": "code",
      "source": [
        "df = remove_outlier(df, 'creditLimit' )\n",
        "df"
      ],
      "metadata": {
        "colab": {
          "base_uri": "https://localhost:8080/",
          "height": 574
        },
        "id": "MRpcM_J5FQvA",
        "outputId": "18309a38-6b76-4016-fa40-a97e7ee7ab3b"
      },
      "execution_count": null,
      "outputs": [
        {
          "output_type": "execute_result",
          "data": {
            "text/plain": [
              "        accountNumber  customerId  creditLimit  availableMoney  \\\n",
              "0           737265056   737265056         5000         5000.00   \n",
              "1           737265056   737265056         5000         5000.00   \n",
              "2           737265056   737265056         5000         5000.00   \n",
              "3           737265056   737265056         5000         5000.00   \n",
              "4           830329091   830329091         5000         5000.00   \n",
              "...               ...         ...          ...             ...   \n",
              "786248      638498773   638498773        10000          916.10   \n",
              "786249      638498773   638498773        10000          904.54   \n",
              "786250      638498773   638498773        10000          641.03   \n",
              "786251      638498773   638498773        10000         6278.77   \n",
              "786252      638498773   638498773        10000         6253.58   \n",
              "\n",
              "        transactionDateTime  transactionAmount         merchantName  \\\n",
              "0       2016-08-13T14:27:32              98.55                 Uber   \n",
              "1       2016-10-11T05:05:54              74.51          AMC #191138   \n",
              "2       2016-11-08T09:18:39               7.47           Play Store   \n",
              "3       2016-12-10T02:14:50               7.47           Play Store   \n",
              "4       2016-03-24T21:04:46              71.18  Tim Hortons #947751   \n",
              "...                     ...                ...                  ...   \n",
              "786248  2016-12-26T23:47:39              11.56      Popeyes #846110   \n",
              "786249  2016-12-27T06:20:13             263.51     Hardee's #855967   \n",
              "786250  2016-12-27T19:37:19             184.59          AMC #724446   \n",
              "786251  2016-12-28T07:43:14              25.19    Shell Gas #898217   \n",
              "786252  2016-12-29T21:25:38              28.29  Shake Shack #124891   \n",
              "\n",
              "       acqCountry merchantCountryCode posEntryMode  ... accountOpenDate  \\\n",
              "0              US                  US           02  ...      2015-03-14   \n",
              "1              US                  US           09  ...      2015-03-14   \n",
              "2              US                  US           09  ...      2015-03-14   \n",
              "3              US                  US           09  ...      2015-03-14   \n",
              "4              US                  US           02  ...      2015-08-06   \n",
              "...           ...                 ...          ...  ...             ...   \n",
              "786248         US                  US           09  ...      2014-11-17   \n",
              "786249         US                  US           90  ...      2014-11-17   \n",
              "786250         US                  US           05  ...      2014-11-17   \n",
              "786251         US                  US           05  ...      2014-11-17   \n",
              "786252         US                  US           09  ...      2014-11-17   \n",
              "\n",
              "       dateOfLastAddressChange cardCVV enteredCVV cardLast4Digits  \\\n",
              "0                   2015-03-14     414        414            1803   \n",
              "1                   2015-03-14     486        486             767   \n",
              "2                   2015-03-14     486        486             767   \n",
              "3                   2015-03-14     486        486             767   \n",
              "4                   2015-08-06     885        885            3143   \n",
              "...                        ...     ...        ...             ...   \n",
              "786248              2014-11-17     387        387            4635   \n",
              "786249              2014-11-17     387        387            4635   \n",
              "786250              2014-11-17     387        387            4635   \n",
              "786251              2014-11-17     175        175             321   \n",
              "786252              2014-11-17     387        387            4635   \n",
              "\n",
              "        transactionType  currentBalance  cardPresent expirationDateKeyInMatch  \\\n",
              "0              PURCHASE            0.00            0                        0   \n",
              "1              PURCHASE            0.00            1                        0   \n",
              "2              PURCHASE            0.00            0                        0   \n",
              "3              PURCHASE            0.00            0                        0   \n",
              "4              PURCHASE            0.00            1                        0   \n",
              "...                 ...             ...          ...                      ...   \n",
              "786248         PURCHASE         9083.90            1                        0   \n",
              "786249         PURCHASE         9095.46            1                        0   \n",
              "786250         PURCHASE         9358.97            1                        0   \n",
              "786251         PURCHASE         3721.23            1                        0   \n",
              "786252         PURCHASE         3746.42            1                        0   \n",
              "\n",
              "        isFraud  \n",
              "0             0  \n",
              "1             0  \n",
              "2             0  \n",
              "3             0  \n",
              "4             0  \n",
              "...         ...  \n",
              "786248        0  \n",
              "786249        0  \n",
              "786250        0  \n",
              "786251        0  \n",
              "786252        0  \n",
              "\n",
              "[737582 rows x 23 columns]"
            ],
            "text/html": [
              "\n",
              "  <div id=\"df-2a06656a-249f-45e5-974a-acb83f41267b\">\n",
              "    <div class=\"colab-df-container\">\n",
              "      <div>\n",
              "<style scoped>\n",
              "    .dataframe tbody tr th:only-of-type {\n",
              "        vertical-align: middle;\n",
              "    }\n",
              "\n",
              "    .dataframe tbody tr th {\n",
              "        vertical-align: top;\n",
              "    }\n",
              "\n",
              "    .dataframe thead th {\n",
              "        text-align: right;\n",
              "    }\n",
              "</style>\n",
              "<table border=\"1\" class=\"dataframe\">\n",
              "  <thead>\n",
              "    <tr style=\"text-align: right;\">\n",
              "      <th></th>\n",
              "      <th>accountNumber</th>\n",
              "      <th>customerId</th>\n",
              "      <th>creditLimit</th>\n",
              "      <th>availableMoney</th>\n",
              "      <th>transactionDateTime</th>\n",
              "      <th>transactionAmount</th>\n",
              "      <th>merchantName</th>\n",
              "      <th>acqCountry</th>\n",
              "      <th>merchantCountryCode</th>\n",
              "      <th>posEntryMode</th>\n",
              "      <th>...</th>\n",
              "      <th>accountOpenDate</th>\n",
              "      <th>dateOfLastAddressChange</th>\n",
              "      <th>cardCVV</th>\n",
              "      <th>enteredCVV</th>\n",
              "      <th>cardLast4Digits</th>\n",
              "      <th>transactionType</th>\n",
              "      <th>currentBalance</th>\n",
              "      <th>cardPresent</th>\n",
              "      <th>expirationDateKeyInMatch</th>\n",
              "      <th>isFraud</th>\n",
              "    </tr>\n",
              "  </thead>\n",
              "  <tbody>\n",
              "    <tr>\n",
              "      <th>0</th>\n",
              "      <td>737265056</td>\n",
              "      <td>737265056</td>\n",
              "      <td>5000</td>\n",
              "      <td>5000.00</td>\n",
              "      <td>2016-08-13T14:27:32</td>\n",
              "      <td>98.55</td>\n",
              "      <td>Uber</td>\n",
              "      <td>US</td>\n",
              "      <td>US</td>\n",
              "      <td>02</td>\n",
              "      <td>...</td>\n",
              "      <td>2015-03-14</td>\n",
              "      <td>2015-03-14</td>\n",
              "      <td>414</td>\n",
              "      <td>414</td>\n",
              "      <td>1803</td>\n",
              "      <td>PURCHASE</td>\n",
              "      <td>0.00</td>\n",
              "      <td>0</td>\n",
              "      <td>0</td>\n",
              "      <td>0</td>\n",
              "    </tr>\n",
              "    <tr>\n",
              "      <th>1</th>\n",
              "      <td>737265056</td>\n",
              "      <td>737265056</td>\n",
              "      <td>5000</td>\n",
              "      <td>5000.00</td>\n",
              "      <td>2016-10-11T05:05:54</td>\n",
              "      <td>74.51</td>\n",
              "      <td>AMC #191138</td>\n",
              "      <td>US</td>\n",
              "      <td>US</td>\n",
              "      <td>09</td>\n",
              "      <td>...</td>\n",
              "      <td>2015-03-14</td>\n",
              "      <td>2015-03-14</td>\n",
              "      <td>486</td>\n",
              "      <td>486</td>\n",
              "      <td>767</td>\n",
              "      <td>PURCHASE</td>\n",
              "      <td>0.00</td>\n",
              "      <td>1</td>\n",
              "      <td>0</td>\n",
              "      <td>0</td>\n",
              "    </tr>\n",
              "    <tr>\n",
              "      <th>2</th>\n",
              "      <td>737265056</td>\n",
              "      <td>737265056</td>\n",
              "      <td>5000</td>\n",
              "      <td>5000.00</td>\n",
              "      <td>2016-11-08T09:18:39</td>\n",
              "      <td>7.47</td>\n",
              "      <td>Play Store</td>\n",
              "      <td>US</td>\n",
              "      <td>US</td>\n",
              "      <td>09</td>\n",
              "      <td>...</td>\n",
              "      <td>2015-03-14</td>\n",
              "      <td>2015-03-14</td>\n",
              "      <td>486</td>\n",
              "      <td>486</td>\n",
              "      <td>767</td>\n",
              "      <td>PURCHASE</td>\n",
              "      <td>0.00</td>\n",
              "      <td>0</td>\n",
              "      <td>0</td>\n",
              "      <td>0</td>\n",
              "    </tr>\n",
              "    <tr>\n",
              "      <th>3</th>\n",
              "      <td>737265056</td>\n",
              "      <td>737265056</td>\n",
              "      <td>5000</td>\n",
              "      <td>5000.00</td>\n",
              "      <td>2016-12-10T02:14:50</td>\n",
              "      <td>7.47</td>\n",
              "      <td>Play Store</td>\n",
              "      <td>US</td>\n",
              "      <td>US</td>\n",
              "      <td>09</td>\n",
              "      <td>...</td>\n",
              "      <td>2015-03-14</td>\n",
              "      <td>2015-03-14</td>\n",
              "      <td>486</td>\n",
              "      <td>486</td>\n",
              "      <td>767</td>\n",
              "      <td>PURCHASE</td>\n",
              "      <td>0.00</td>\n",
              "      <td>0</td>\n",
              "      <td>0</td>\n",
              "      <td>0</td>\n",
              "    </tr>\n",
              "    <tr>\n",
              "      <th>4</th>\n",
              "      <td>830329091</td>\n",
              "      <td>830329091</td>\n",
              "      <td>5000</td>\n",
              "      <td>5000.00</td>\n",
              "      <td>2016-03-24T21:04:46</td>\n",
              "      <td>71.18</td>\n",
              "      <td>Tim Hortons #947751</td>\n",
              "      <td>US</td>\n",
              "      <td>US</td>\n",
              "      <td>02</td>\n",
              "      <td>...</td>\n",
              "      <td>2015-08-06</td>\n",
              "      <td>2015-08-06</td>\n",
              "      <td>885</td>\n",
              "      <td>885</td>\n",
              "      <td>3143</td>\n",
              "      <td>PURCHASE</td>\n",
              "      <td>0.00</td>\n",
              "      <td>1</td>\n",
              "      <td>0</td>\n",
              "      <td>0</td>\n",
              "    </tr>\n",
              "    <tr>\n",
              "      <th>...</th>\n",
              "      <td>...</td>\n",
              "      <td>...</td>\n",
              "      <td>...</td>\n",
              "      <td>...</td>\n",
              "      <td>...</td>\n",
              "      <td>...</td>\n",
              "      <td>...</td>\n",
              "      <td>...</td>\n",
              "      <td>...</td>\n",
              "      <td>...</td>\n",
              "      <td>...</td>\n",
              "      <td>...</td>\n",
              "      <td>...</td>\n",
              "      <td>...</td>\n",
              "      <td>...</td>\n",
              "      <td>...</td>\n",
              "      <td>...</td>\n",
              "      <td>...</td>\n",
              "      <td>...</td>\n",
              "      <td>...</td>\n",
              "      <td>...</td>\n",
              "    </tr>\n",
              "    <tr>\n",
              "      <th>786248</th>\n",
              "      <td>638498773</td>\n",
              "      <td>638498773</td>\n",
              "      <td>10000</td>\n",
              "      <td>916.10</td>\n",
              "      <td>2016-12-26T23:47:39</td>\n",
              "      <td>11.56</td>\n",
              "      <td>Popeyes #846110</td>\n",
              "      <td>US</td>\n",
              "      <td>US</td>\n",
              "      <td>09</td>\n",
              "      <td>...</td>\n",
              "      <td>2014-11-17</td>\n",
              "      <td>2014-11-17</td>\n",
              "      <td>387</td>\n",
              "      <td>387</td>\n",
              "      <td>4635</td>\n",
              "      <td>PURCHASE</td>\n",
              "      <td>9083.90</td>\n",
              "      <td>1</td>\n",
              "      <td>0</td>\n",
              "      <td>0</td>\n",
              "    </tr>\n",
              "    <tr>\n",
              "      <th>786249</th>\n",
              "      <td>638498773</td>\n",
              "      <td>638498773</td>\n",
              "      <td>10000</td>\n",
              "      <td>904.54</td>\n",
              "      <td>2016-12-27T06:20:13</td>\n",
              "      <td>263.51</td>\n",
              "      <td>Hardee's #855967</td>\n",
              "      <td>US</td>\n",
              "      <td>US</td>\n",
              "      <td>90</td>\n",
              "      <td>...</td>\n",
              "      <td>2014-11-17</td>\n",
              "      <td>2014-11-17</td>\n",
              "      <td>387</td>\n",
              "      <td>387</td>\n",
              "      <td>4635</td>\n",
              "      <td>PURCHASE</td>\n",
              "      <td>9095.46</td>\n",
              "      <td>1</td>\n",
              "      <td>0</td>\n",
              "      <td>0</td>\n",
              "    </tr>\n",
              "    <tr>\n",
              "      <th>786250</th>\n",
              "      <td>638498773</td>\n",
              "      <td>638498773</td>\n",
              "      <td>10000</td>\n",
              "      <td>641.03</td>\n",
              "      <td>2016-12-27T19:37:19</td>\n",
              "      <td>184.59</td>\n",
              "      <td>AMC #724446</td>\n",
              "      <td>US</td>\n",
              "      <td>US</td>\n",
              "      <td>05</td>\n",
              "      <td>...</td>\n",
              "      <td>2014-11-17</td>\n",
              "      <td>2014-11-17</td>\n",
              "      <td>387</td>\n",
              "      <td>387</td>\n",
              "      <td>4635</td>\n",
              "      <td>PURCHASE</td>\n",
              "      <td>9358.97</td>\n",
              "      <td>1</td>\n",
              "      <td>0</td>\n",
              "      <td>0</td>\n",
              "    </tr>\n",
              "    <tr>\n",
              "      <th>786251</th>\n",
              "      <td>638498773</td>\n",
              "      <td>638498773</td>\n",
              "      <td>10000</td>\n",
              "      <td>6278.77</td>\n",
              "      <td>2016-12-28T07:43:14</td>\n",
              "      <td>25.19</td>\n",
              "      <td>Shell Gas #898217</td>\n",
              "      <td>US</td>\n",
              "      <td>US</td>\n",
              "      <td>05</td>\n",
              "      <td>...</td>\n",
              "      <td>2014-11-17</td>\n",
              "      <td>2014-11-17</td>\n",
              "      <td>175</td>\n",
              "      <td>175</td>\n",
              "      <td>321</td>\n",
              "      <td>PURCHASE</td>\n",
              "      <td>3721.23</td>\n",
              "      <td>1</td>\n",
              "      <td>0</td>\n",
              "      <td>0</td>\n",
              "    </tr>\n",
              "    <tr>\n",
              "      <th>786252</th>\n",
              "      <td>638498773</td>\n",
              "      <td>638498773</td>\n",
              "      <td>10000</td>\n",
              "      <td>6253.58</td>\n",
              "      <td>2016-12-29T21:25:38</td>\n",
              "      <td>28.29</td>\n",
              "      <td>Shake Shack #124891</td>\n",
              "      <td>US</td>\n",
              "      <td>US</td>\n",
              "      <td>09</td>\n",
              "      <td>...</td>\n",
              "      <td>2014-11-17</td>\n",
              "      <td>2014-11-17</td>\n",
              "      <td>387</td>\n",
              "      <td>387</td>\n",
              "      <td>4635</td>\n",
              "      <td>PURCHASE</td>\n",
              "      <td>3746.42</td>\n",
              "      <td>1</td>\n",
              "      <td>0</td>\n",
              "      <td>0</td>\n",
              "    </tr>\n",
              "  </tbody>\n",
              "</table>\n",
              "<p>737582 rows × 23 columns</p>\n",
              "</div>\n",
              "      <button class=\"colab-df-convert\" onclick=\"convertToInteractive('df-2a06656a-249f-45e5-974a-acb83f41267b')\"\n",
              "              title=\"Convert this dataframe to an interactive table.\"\n",
              "              style=\"display:none;\">\n",
              "        \n",
              "  <svg xmlns=\"http://www.w3.org/2000/svg\" height=\"24px\"viewBox=\"0 0 24 24\"\n",
              "       width=\"24px\">\n",
              "    <path d=\"M0 0h24v24H0V0z\" fill=\"none\"/>\n",
              "    <path d=\"M18.56 5.44l.94 2.06.94-2.06 2.06-.94-2.06-.94-.94-2.06-.94 2.06-2.06.94zm-11 1L8.5 8.5l.94-2.06 2.06-.94-2.06-.94L8.5 2.5l-.94 2.06-2.06.94zm10 10l.94 2.06.94-2.06 2.06-.94-2.06-.94-.94-2.06-.94 2.06-2.06.94z\"/><path d=\"M17.41 7.96l-1.37-1.37c-.4-.4-.92-.59-1.43-.59-.52 0-1.04.2-1.43.59L10.3 9.45l-7.72 7.72c-.78.78-.78 2.05 0 2.83L4 21.41c.39.39.9.59 1.41.59.51 0 1.02-.2 1.41-.59l7.78-7.78 2.81-2.81c.8-.78.8-2.07 0-2.86zM5.41 20L4 18.59l7.72-7.72 1.47 1.35L5.41 20z\"/>\n",
              "  </svg>\n",
              "      </button>\n",
              "      \n",
              "  <style>\n",
              "    .colab-df-container {\n",
              "      display:flex;\n",
              "      flex-wrap:wrap;\n",
              "      gap: 12px;\n",
              "    }\n",
              "\n",
              "    .colab-df-convert {\n",
              "      background-color: #E8F0FE;\n",
              "      border: none;\n",
              "      border-radius: 50%;\n",
              "      cursor: pointer;\n",
              "      display: none;\n",
              "      fill: #1967D2;\n",
              "      height: 32px;\n",
              "      padding: 0 0 0 0;\n",
              "      width: 32px;\n",
              "    }\n",
              "\n",
              "    .colab-df-convert:hover {\n",
              "      background-color: #E2EBFA;\n",
              "      box-shadow: 0px 1px 2px rgba(60, 64, 67, 0.3), 0px 1px 3px 1px rgba(60, 64, 67, 0.15);\n",
              "      fill: #174EA6;\n",
              "    }\n",
              "\n",
              "    [theme=dark] .colab-df-convert {\n",
              "      background-color: #3B4455;\n",
              "      fill: #D2E3FC;\n",
              "    }\n",
              "\n",
              "    [theme=dark] .colab-df-convert:hover {\n",
              "      background-color: #434B5C;\n",
              "      box-shadow: 0px 1px 3px 1px rgba(0, 0, 0, 0.15);\n",
              "      filter: drop-shadow(0px 1px 2px rgba(0, 0, 0, 0.3));\n",
              "      fill: #FFFFFF;\n",
              "    }\n",
              "  </style>\n",
              "\n",
              "      <script>\n",
              "        const buttonEl =\n",
              "          document.querySelector('#df-2a06656a-249f-45e5-974a-acb83f41267b button.colab-df-convert');\n",
              "        buttonEl.style.display =\n",
              "          google.colab.kernel.accessAllowed ? 'block' : 'none';\n",
              "\n",
              "        async function convertToInteractive(key) {\n",
              "          const element = document.querySelector('#df-2a06656a-249f-45e5-974a-acb83f41267b');\n",
              "          const dataTable =\n",
              "            await google.colab.kernel.invokeFunction('convertToInteractive',\n",
              "                                                     [key], {});\n",
              "          if (!dataTable) return;\n",
              "\n",
              "          const docLinkHtml = 'Like what you see? Visit the ' +\n",
              "            '<a target=\"_blank\" href=https://colab.research.google.com/notebooks/data_table.ipynb>data table notebook</a>'\n",
              "            + ' to learn more about interactive tables.';\n",
              "          element.innerHTML = '';\n",
              "          dataTable['output_type'] = 'display_data';\n",
              "          await google.colab.output.renderOutput(dataTable, element);\n",
              "          const docLink = document.createElement('div');\n",
              "          docLink.innerHTML = docLinkHtml;\n",
              "          element.appendChild(docLink);\n",
              "        }\n",
              "      </script>\n",
              "    </div>\n",
              "  </div>\n",
              "  "
            ]
          },
          "metadata": {},
          "execution_count": 168
        }
      ]
    },
    {
      "cell_type": "markdown",
      "source": [
        "**We can see which buckets are removed from the dataset, as for Models to generalize the dataset well it is advised to remove outliers.**"
      ],
      "metadata": {
        "id": "crjg3Xr0FZk8"
      }
    },
    {
      "cell_type": "code",
      "source": [
        "e=pd.DataFrame(df.creditLimit.value_counts()).reset_index(drop=False)\n",
        "e.columns=['creditLimit','Frequency'] # rename columns\n",
        "plt.figure(figsize=(14,6)) # adjust figure size\n",
        "ax = sns.barplot(x=\"creditLimit\", y=\"Frequency\", data=e) # draw barplot"
      ],
      "metadata": {
        "colab": {
          "base_uri": "https://localhost:8080/",
          "height": 388
        },
        "id": "Vv5LQYWyFVEY",
        "outputId": "6b413fae-00ea-4b68-b601-492fd0b3bb84"
      },
      "execution_count": null,
      "outputs": [
        {
          "output_type": "display_data",
          "data": {
            "text/plain": [
              "<Figure size 1008x432 with 1 Axes>"
            ],
            "image/png": "[encoded data removed]"
          },
          "metadata": {
            "needs_background": "light"
          }
        }
      ]
    },
    {
      "cell_type": "code",
      "source": [
        "plt.hist(df['creditLimit'], bins = 30)\n",
        "plt.ylabel('Frequency', fontsize = 16)\n",
        "plt.xlabel('creditLimit', fontsize = 16)"
      ],
      "metadata": {
        "colab": {
          "base_uri": "https://localhost:8080/",
          "height": 302
        },
        "id": "Cl8jxy3gFecb",
        "outputId": "5b056b50-15da-4f23-ab59-292153b743ea"
      },
      "execution_count": null,
      "outputs": [
        {
          "output_type": "execute_result",
          "data": {
            "text/plain": [
              "Text(0.5, 0, 'creditLimit')"
            ]
          },
          "metadata": {},
          "execution_count": 170
        },
        {
          "output_type": "display_data",
          "data": {
            "text/plain": [
              "<Figure size 432x288 with 1 Axes>"
            ],
            "image/png": "[encoded data removed]"
          },
          "metadata": {
            "needs_background": "light"
          }
        }
      ]
    },
    {
      "cell_type": "code",
      "source": [
        "df = remove_outlier(df, 'availableMoney' )\n",
        "\n",
        "plt.hist(df['availableMoney'], bins = 30)\n",
        "plt.ylabel('Frequency', fontsize = 16)\n",
        "plt.xlabel('availableMoney', fontsize = 16)"
      ],
      "metadata": {
        "colab": {
          "base_uri": "https://localhost:8080/",
          "height": 303
        },
        "id": "kuZVpUbQlsmM",
        "outputId": "42b3f12f-c9fd-4eca-e5ac-3072de81c7c8"
      },
      "execution_count": null,
      "outputs": [
        {
          "output_type": "execute_result",
          "data": {
            "text/plain": [
              "Text(0.5, 0, 'availableMoney')"
            ]
          },
          "metadata": {},
          "execution_count": 171
        },
        {
          "output_type": "display_data",
          "data": {
            "text/plain": [
              "<Figure size 432x288 with 1 Axes>"
            ],
            "image/png": "[encoded data removed]"
          },
          "metadata": {
            "needs_background": "light"
          }
        }
      ]
    },
    {
      "cell_type": "code",
      "source": [
        "df = remove_outlier(df, 'transactionAmount' )\n",
        "\n",
        "plt.hist(df['transactionAmount'], bins = 30)\n",
        "plt.ylabel('Frequency', fontsize = 16)\n",
        "plt.xlabel('transactionAmount', fontsize = 16)"
      ],
      "metadata": {
        "colab": {
          "base_uri": "https://localhost:8080/",
          "height": 306
        },
        "id": "xwv656Ral1PL",
        "outputId": "89f527c0-67ad-45ae-d1f5-955a40f8854c"
      },
      "execution_count": null,
      "outputs": [
        {
          "output_type": "execute_result",
          "data": {
            "text/plain": [
              "Text(0.5, 0, 'transactionAmount')"
            ]
          },
          "metadata": {},
          "execution_count": 172
        },
        {
          "output_type": "display_data",
          "data": {
            "text/plain": [
              "<Figure size 432x288 with 1 Axes>"
            ],
            "image/png": "[encoded data removed]"
          },
          "metadata": {
            "needs_background": "light"
          }
        }
      ]
    },
    {
      "cell_type": "code",
      "source": [
        "df = remove_outlier(df, 'currentBalance' )\n",
        "\n",
        "plt.hist(df['currentBalance'], bins = 20)\n",
        "plt.ylabel('Frequency', fontsize = 16)\n",
        "plt.xlabel('currentBalance', fontsize = 16)"
      ],
      "metadata": {
        "colab": {
          "base_uri": "https://localhost:8080/",
          "height": 302
        },
        "id": "stowS1pEl3v7",
        "outputId": "f6423022-6c51-43e1-acda-812254eb7b19"
      },
      "execution_count": null,
      "outputs": [
        {
          "output_type": "execute_result",
          "data": {
            "text/plain": [
              "Text(0.5, 0, 'currentBalance')"
            ]
          },
          "metadata": {},
          "execution_count": 173
        },
        {
          "output_type": "display_data",
          "data": {
            "text/plain": [
              "<Figure size 432x288 with 1 Axes>"
            ],
            "image/png": "[encoded data removed]"
          },
          "metadata": {
            "needs_background": "light"
          }
        }
      ]
    },
    {
      "cell_type": "code",
      "source": [
        ""
      ],
      "metadata": {
        "id": "4Jo3jELWl6Mg"
      },
      "execution_count": null,
      "outputs": []
    },
    {
      "cell_type": "markdown",
      "source": [
        "**Now Box Plots are again drawn to help visualize how outliers were impacting the overall skewness**"
      ],
      "metadata": {
        "id": "HLlKWri_l80f"
      }
    },
    {
      "cell_type": "code",
      "source": [
        "sns.boxplot(data=df['creditLimit'])"
      ],
      "metadata": {
        "colab": {
          "base_uri": "https://localhost:8080/",
          "height": 283
        },
        "id": "AzEsKezxl9SQ",
        "outputId": "04f1bd8d-e359-4876-f1df-963cdc1aa4fc"
      },
      "execution_count": null,
      "outputs": [
        {
          "output_type": "execute_result",
          "data": {
            "text/plain": [
              "<matplotlib.axes._subplots.AxesSubplot at 0x7f53fb958b10>"
            ]
          },
          "metadata": {},
          "execution_count": 174
        },
        {
          "output_type": "display_data",
          "data": {
            "text/plain": [
              "<Figure size 432x288 with 1 Axes>"
            ],
            "image/png": "[encoded data removed]"
          },
          "metadata": {
            "needs_background": "light"
          }
        }
      ]
    },
    {
      "cell_type": "code",
      "source": [
        "sns.boxplot(data=df['availableMoney'])"
      ],
      "metadata": {
        "colab": {
          "base_uri": "https://localhost:8080/",
          "height": 283
        },
        "id": "HkiUrhrumARu",
        "outputId": "2b421e21-347a-4f8d-b626-9a24daccf8ac"
      },
      "execution_count": null,
      "outputs": [
        {
          "output_type": "execute_result",
          "data": {
            "text/plain": [
              "<matplotlib.axes._subplots.AxesSubplot at 0x7f53fb936c50>"
            ]
          },
          "metadata": {},
          "execution_count": 175
        },
        {
          "output_type": "display_data",
          "data": {
            "text/plain": [
              "<Figure size 432x288 with 1 Axes>"
            ],
            "image/png": "[encoded data removed]"
          },
          "metadata": {
            "needs_background": "light"
          }
        }
      ]
    },
    {
      "cell_type": "code",
      "source": [
        "sns.boxplot(data=df['transactionAmount'])"
      ],
      "metadata": {
        "colab": {
          "base_uri": "https://localhost:8080/",
          "height": 283
        },
        "id": "dureCKyimCVD",
        "outputId": "251b7816-633e-45fa-a0f4-29e8c8a30b3c"
      },
      "execution_count": null,
      "outputs": [
        {
          "output_type": "execute_result",
          "data": {
            "text/plain": [
              "<matplotlib.axes._subplots.AxesSubplot at 0x7f53fb98e890>"
            ]
          },
          "metadata": {},
          "execution_count": 176
        },
        {
          "output_type": "display_data",
          "data": {
            "text/plain": [
              "<Figure size 432x288 with 1 Axes>"
            ],
            "image/png": "[encoded data removed]"
          },
          "metadata": {
            "needs_background": "light"
          }
        }
      ]
    },
    {
      "cell_type": "code",
      "source": [
        "sns.boxplot(data=df['currentBalance'])"
      ],
      "metadata": {
        "colab": {
          "base_uri": "https://localhost:8080/",
          "height": 283
        },
        "id": "F3oeXUK8mEey",
        "outputId": "f372c8d7-fbb2-4427-ca61-7c2f01bb5634"
      },
      "execution_count": null,
      "outputs": [
        {
          "output_type": "execute_result",
          "data": {
            "text/plain": [
              "<matplotlib.axes._subplots.AxesSubplot at 0x7f53fb9e3790>"
            ]
          },
          "metadata": {},
          "execution_count": 177
        },
        {
          "output_type": "display_data",
          "data": {
            "text/plain": [
              "<Figure size 432x288 with 1 Axes>"
            ],
            "image/png": "[encoded data removed]"
          },
          "metadata": {
            "needs_background": "light"
          }
        }
      ]
    },
    {
      "cell_type": "code",
      "source": [
        "df.shape"
      ],
      "metadata": {
        "colab": {
          "base_uri": "https://localhost:8080/"
        },
        "id": "Ht7w7l6LmGZU",
        "outputId": "8b5373b9-7c9d-40ee-ccf9-a0e443d4d16e"
      },
      "execution_count": null,
      "outputs": [
        {
          "output_type": "execute_result",
          "data": {
            "text/plain": [
              "(617105, 23)"
            ]
          },
          "metadata": {},
          "execution_count": 178
        }
      ]
    },
    {
      "cell_type": "markdown",
      "source": [
        "#**Feature Engineering**\n",
        "\n",
        "**Making an additional Column derived from the equality of CardCVV and EnteredCVV as shown**"
      ],
      "metadata": {
        "id": "fb6QbxEjmK_2"
      }
    },
    {
      "cell_type": "code",
      "source": [
        "df['CVVMatched'] = df['cardCVV'] == df['enteredCVV']"
      ],
      "metadata": {
        "id": "FY56nGs1mNn0"
      },
      "execution_count": null,
      "outputs": []
    },
    {
      "cell_type": "markdown",
      "source": [
        "**4 times that represent morning, afternoon/evening, night and late/mid night are also added as feature**"
      ],
      "metadata": {
        "id": "PVT9RrxymUfj"
      }
    },
    {
      "cell_type": "code",
      "source": [
        "def time(t):\n",
        "  if isinstance(t, str):\n",
        "    t = datetime.datetime.strptime(t,'%Y-%m-%dT%H:%M:%S').time()\n",
        "\n",
        "    t1 = datetime.datetime.strptime('05:00:00','%H:%M:%S').time()\n",
        "    t2 = datetime.datetime.strptime('11:00:00','%H:%M:%S').time()\n",
        "    t3 = datetime.datetime.strptime('17:00:00','%H:%M:%S').time()\n",
        "    t4 = datetime.datetime.strptime('23:00:00','%H:%M:%S').time()    \n",
        "\n",
        "    if t >= t1 and t < t2:\n",
        "      return 0\n",
        "    elif t >= t2 and t < t3:\n",
        "      return 1\n",
        "    elif t >= t3 and t < t4:\n",
        "      return 2\n",
        "    elif t >= t4 or t < t1:\n",
        "      return 3\n",
        "      \n",
        "df['transactionTimeCat'] = df['transactionDateTime'].apply(time) "
      ],
      "metadata": {
        "id": "OMf7jVqOmU89"
      },
      "execution_count": null,
      "outputs": []
    },
    {
      "cell_type": "code",
      "source": [
        "df['transactionTimeCat'].value_counts()"
      ],
      "metadata": {
        "colab": {
          "base_uri": "https://localhost:8080/"
        },
        "id": "epXh2WBomXdH",
        "outputId": "f35dc2e1-cccf-4ba7-f656-086b784a93b0"
      },
      "execution_count": null,
      "outputs": [
        {
          "output_type": "execute_result",
          "data": {
            "text/plain": [
              "2    154956\n",
              "1    154273\n",
              "0    154011\n",
              "3    153865\n",
              "Name: transactionTimeCat, dtype: int64"
            ]
          },
          "metadata": {},
          "execution_count": 181
        }
      ]
    },
    {
      "cell_type": "code",
      "source": [
        "df['CVVMatched'].value_counts()"
      ],
      "metadata": {
        "colab": {
          "base_uri": "https://localhost:8080/"
        },
        "id": "jGAstNs5mZad",
        "outputId": "b48138dd-f495-467a-f042-833d47597ebb"
      },
      "execution_count": null,
      "outputs": [
        {
          "output_type": "execute_result",
          "data": {
            "text/plain": [
              "True     611545\n",
              "False      5560\n",
              "Name: CVVMatched, dtype: int64"
            ]
          },
          "metadata": {},
          "execution_count": 182
        }
      ]
    },
    {
      "cell_type": "markdown",
      "source": [
        "**The Final Numbers of Columns Selected are 16, I removed the unique identifiers and empty columns.**\n",
        "\n",
        "**Further Principal Component Analysis can also be tried to reduce the dimensions further but for the given case it is not required.**\n",
        "\n",
        "**Variance of the dataset is still maintained to be 99%**"
      ],
      "metadata": {
        "id": "ne21sGgsmdz-"
      }
    },
    {
      "cell_type": "code",
      "source": [
        "df = df.drop(columns=['accountNumber','customerId', 'transactionDateTime', 'transactionDateTime', 'cardLast4Digits', 'cardCVV', 'enteredCVV', 'accountOpenDate', 'dateOfLastAddressChange', 'currentExpDate'])\n",
        "print('Final total columns: ', len(df.columns))"
      ],
      "metadata": {
        "colab": {
          "base_uri": "https://localhost:8080/"
        },
        "id": "BR1aApMFmhD6",
        "outputId": "34abb540-047e-48c9-dad7-2791ad7aa17e"
      },
      "execution_count": null,
      "outputs": [
        {
          "output_type": "stream",
          "name": "stdout",
          "text": [
            "Final total columns:  16\n"
          ]
        }
      ]
    },
    {
      "cell_type": "markdown",
      "source": [
        "**Transormation from Categorical and Booleans to Numerical**"
      ],
      "metadata": {
        "id": "4k7FS-oTmnZY"
      }
    },
    {
      "cell_type": "code",
      "source": [
        "df[[\"CVVMatched\" ]] *= 1"
      ],
      "metadata": {
        "id": "4hSNm8rSmny6"
      },
      "execution_count": null,
      "outputs": []
    },
    {
      "cell_type": "code",
      "source": [
        "from sklearn.preprocessing import LabelEncoder\n",
        "\n",
        "\n",
        "le = LabelEncoder()\n",
        "columns = ['merchantName', 'acqCountry', 'merchantCountryCode', 'merchantCategoryCode', 'transactionType', 'posEntryMode', 'posConditionCode']\n",
        "for i in columns:\n",
        "    df[i] = le.fit_transform(df[i])"
      ],
      "metadata": {
        "id": "9K6RV51umqi-"
      },
      "execution_count": null,
      "outputs": []
    },
    {
      "cell_type": "code",
      "source": [
        "for i in df.columns:\n",
        "    df[i] = df[i].fillna(df[i].mode()[0])"
      ],
      "metadata": {
        "id": "4rO-O9ymmsWw"
      },
      "execution_count": null,
      "outputs": []
    },
    {
      "cell_type": "markdown",
      "source": [
        "**As the Data is Imbalanced, so to run classification models efficiently it is advised to use a Down or Upper Sampling technique to balance the dataset for better results**\n",
        "\n",
        "**Here Metrics are very important:**\n",
        "\n",
        "*   **For Imblanced Data Sets F1 Score is a good metric.**\n",
        "*   **Precision and Recall can also be checked as Precision is important in identifying fraud cases precisely because banks do not want to decline a valid transaction.**\n",
        "\n",
        "*   **Accuracy Measure can only be used after making the dataset balanced, in our modelling that can also come handy**\n"
      ],
      "metadata": {
        "id": "ZdQ3n-0ImwpZ"
      }
    },
    {
      "cell_type": "markdown",
      "source": [
        "**Using UnderSampling Technique**"
      ],
      "metadata": {
        "id": "0UQck_f7m0CN"
      }
    },
    {
      "cell_type": "code",
      "source": [
        "from imblearn.under_sampling import RandomUnderSampler\n",
        "\n",
        "\n",
        "y = df['isFraud']\n",
        "X = df.drop(columns = ['isFraud'])\n",
        "RUS = RandomUnderSampler()\n",
        "X, y = RUS.fit_resample(X, y)\n",
        "print(len(X), len(y))"
      ],
      "metadata": {
        "colab": {
          "base_uri": "https://localhost:8080/"
        },
        "id": "GOZ7j21Tm2E_",
        "outputId": "b69c066f-8951-4be6-c6ba-666c7e60be00"
      },
      "execution_count": null,
      "outputs": [
        {
          "output_type": "stream",
          "name": "stdout",
          "text": [
            "17694 17694\n"
          ]
        }
      ]
    },
    {
      "cell_type": "markdown",
      "source": [
        "**For Model Evaluation Always Train the model on Training dataset and Verify the evaluation metrics on test data sets.**\n"
      ],
      "metadata": {
        "id": "jZeLEYP9m_Nt"
      }
    },
    {
      "cell_type": "code",
      "source": [
        "from sklearn.model_selection import train_test_split\n",
        "\n",
        "X_train, X_test, y_train, y_test = train_test_split(X, y, test_size = 0.20)\n",
        "print(len(X_train), len(X_test))\n",
        "print(len(y_train), len(y_test))"
      ],
      "metadata": {
        "colab": {
          "base_uri": "https://localhost:8080/"
        },
        "id": "zYpRKdc7m_m9",
        "outputId": "2a616c2e-fb93-49d2-ad87-20f489b37027"
      },
      "execution_count": null,
      "outputs": [
        {
          "output_type": "stream",
          "name": "stdout",
          "text": [
            "14155 3539\n",
            "14155 3539\n"
          ]
        }
      ]
    },
    {
      "cell_type": "markdown",
      "source": [
        "**Class for Training and Evaluation:**"
      ],
      "metadata": {
        "id": "Cr-kW3eXnEsK"
      }
    },
    {
      "cell_type": "code",
      "source": [
        "class TrainAndEval:\n",
        "\n",
        "  def __init__(self, clf, X_train, y_train, X_test, y_test):\n",
        "    self.clf = clf\n",
        "    self.X_train = X_train\n",
        "    self.y_train = y_train\n",
        "    self.X_test = X_test\n",
        "    self.y_test = y_test\n",
        "\n",
        "  def train(self):\n",
        "    return self.clf.fit(self.X_train, self.y_train)\n",
        "\n",
        "  def eval(self):\n",
        "    y_pred = self.clf.predict(self.X_test)\n",
        "    tn, fp, fn, tp = confusion_matrix(self.y_test,y_pred).ravel()\n",
        "    print('True Negatives:', tn)\n",
        "    print('False Positives:', fp)\n",
        "    print('False Negatives:', fn)\n",
        "    print('True Positives:', tp)\n",
        "    print(classification_report(self.y_test,y_pred))"
      ],
      "metadata": {
        "id": "H5ul6_1qnBkR"
      },
      "execution_count": null,
      "outputs": []
    },
    {
      "cell_type": "markdown",
      "source": [
        "**Reason for choosing Classifiers and Particularly Tree Structures:**\n",
        "\n",
        "\n",
        "\n",
        "*   **Whenever you have a given label to model around, classification is the best choice.**\n",
        "\n",
        "*   **Tree Based Classifiers are best in terms of interpretation of the end results. Because in real world scenarios, detecting fraud is just one part. But what actions to take to handle and optimize the processes, these tree structures help through the attributes hierarchy that which actions can be taken and some buckets can be made to start with.**\n",
        "\n",
        "*   **Simple SVM and Logistic regression are always the best baselines to compare-with**\n"
      ],
      "metadata": {
        "id": "14995pWQnMKC"
      }
    },
    {
      "cell_type": "markdown",
      "source": [
        "# **Gradient Boosting Classifier:**"
      ],
      "metadata": {
        "id": "mxY6z-3rnP8x"
      }
    },
    {
      "cell_type": "code",
      "source": [
        "from sklearn.model_selection import GridSearchCV\n",
        "from sklearn.ensemble import GradientBoostingClassifier\n",
        "params = {'n_estimators': [10, 50, 125, 500], 'max_depth': [1, 3, 5], \n",
        "          'learning_rate': [0.05, 0.1, 0.5, 0.9]}\n",
        "grid = t(estimator=GradientBoostingClassifier(random_state = 0), param_grid=params, cv=5, verbose=3)\n",
        "grid = grid.fit(X_train, y_train)"
      ],
      "metadata": {
        "colab": {
          "base_uri": "https://localhost:8080/"
        },
        "id": "aw30z9jKnJT4",
        "outputId": "76e11e24-5ea8-4d30-d598-3a45a334258b"
      },
      "execution_count": null,
      "outputs": [
        {
          "output_type": "stream",
          "name": "stdout",
          "text": [
            "Fitting 5 folds for each of 48 candidates, totalling 240 fits\n",
            "[CV 1/5] END learning_rate=0.05, max_depth=1, n_estimators=10;, score=0.624 total time=   0.1s\n",
            "[CV 2/5] END learning_rate=0.05, max_depth=1, n_estimators=10;, score=0.619 total time=   0.1s\n",
            "[CV 3/5] END learning_rate=0.05, max_depth=1, n_estimators=10;, score=0.632 total time=   0.1s\n",
            "[CV 4/5] END learning_rate=0.05, max_depth=1, n_estimators=10;, score=0.619 total time=   0.1s\n",
            "[CV 5/5] END learning_rate=0.05, max_depth=1, n_estimators=10;, score=0.616 total time=   0.1s\n",
            "[CV 1/5] END learning_rate=0.05, max_depth=1, n_estimators=50;, score=0.657 total time=   0.4s\n",
            "[CV 2/5] END learning_rate=0.05, max_depth=1, n_estimators=50;, score=0.627 total time=   0.4s\n",
            "[CV 3/5] END learning_rate=0.05, max_depth=1, n_estimators=50;, score=0.653 total time=   0.4s\n",
            "[CV 4/5] END learning_rate=0.05, max_depth=1, n_estimators=50;, score=0.661 total time=   0.4s\n",
            "[CV 5/5] END learning_rate=0.05, max_depth=1, n_estimators=50;, score=0.653 total time=   0.4s\n",
            "[CV 1/5] END learning_rate=0.05, max_depth=1, n_estimators=125;, score=0.672 total time=   0.9s\n",
            "[CV 2/5] END learning_rate=0.05, max_depth=1, n_estimators=125;, score=0.654 total time=   0.9s\n",
            "[CV 3/5] END learning_rate=0.05, max_depth=1, n_estimators=125;, score=0.658 total time=   0.9s\n",
            "[CV 4/5] END learning_rate=0.05, max_depth=1, n_estimators=125;, score=0.669 total time=   0.9s\n",
            "[CV 5/5] END learning_rate=0.05, max_depth=1, n_estimators=125;, score=0.667 total time=   0.9s\n",
            "[CV 1/5] END learning_rate=0.05, max_depth=1, n_estimators=500;, score=0.687 total time=   3.6s\n",
            "[CV 2/5] END learning_rate=0.05, max_depth=1, n_estimators=500;, score=0.659 total time=   3.6s\n",
            "[CV 3/5] END learning_rate=0.05, max_depth=1, n_estimators=500;, score=0.675 total time=   3.6s\n",
            "[CV 4/5] END learning_rate=0.05, max_depth=1, n_estimators=500;, score=0.677 total time=   3.5s\n",
            "[CV 5/5] END learning_rate=0.05, max_depth=1, n_estimators=500;, score=0.681 total time=   3.6s\n",
            "[CV 1/5] END learning_rate=0.05, max_depth=3, n_estimators=10;, score=0.666 total time=   0.2s\n",
            "[CV 2/5] END learning_rate=0.05, max_depth=3, n_estimators=10;, score=0.644 total time=   0.2s\n",
            "[CV 3/5] END learning_rate=0.05, max_depth=3, n_estimators=10;, score=0.658 total time=   0.2s\n",
            "[CV 4/5] END learning_rate=0.05, max_depth=3, n_estimators=10;, score=0.659 total time=   0.2s\n",
            "[CV 5/5] END learning_rate=0.05, max_depth=3, n_estimators=10;, score=0.661 total time=   0.2s\n",
            "[CV 1/5] END learning_rate=0.05, max_depth=3, n_estimators=50;, score=0.688 total time=   0.9s\n",
            "[CV 2/5] END learning_rate=0.05, max_depth=3, n_estimators=50;, score=0.660 total time=   0.9s\n",
            "[CV 3/5] END learning_rate=0.05, max_depth=3, n_estimators=50;, score=0.676 total time=   0.9s\n",
            "[CV 4/5] END learning_rate=0.05, max_depth=3, n_estimators=50;, score=0.687 total time=   0.9s\n",
            "[CV 5/5] END learning_rate=0.05, max_depth=3, n_estimators=50;, score=0.684 total time=   0.9s\n",
            "[CV 1/5] END learning_rate=0.05, max_depth=3, n_estimators=125;, score=0.694 total time=   2.2s\n",
            "[CV 2/5] END learning_rate=0.05, max_depth=3, n_estimators=125;, score=0.670 total time=   2.2s\n",
            "[CV 3/5] END learning_rate=0.05, max_depth=3, n_estimators=125;, score=0.675 total time=   2.3s\n",
            "[CV 4/5] END learning_rate=0.05, max_depth=3, n_estimators=125;, score=0.691 total time=   2.2s\n",
            "[CV 5/5] END learning_rate=0.05, max_depth=3, n_estimators=125;, score=0.693 total time=   2.3s\n",
            "[CV 1/5] END learning_rate=0.05, max_depth=3, n_estimators=500;, score=0.709 total time=   8.9s\n",
            "[CV 2/5] END learning_rate=0.05, max_depth=3, n_estimators=500;, score=0.692 total time=   8.9s\n",
            "[CV 3/5] END learning_rate=0.05, max_depth=3, n_estimators=500;, score=0.708 total time=   8.9s\n",
            "[CV 4/5] END learning_rate=0.05, max_depth=3, n_estimators=500;, score=0.704 total time=   8.9s\n",
            "[CV 5/5] END learning_rate=0.05, max_depth=3, n_estimators=500;, score=0.713 total time=   8.9s\n",
            "[CV 1/5] END learning_rate=0.05, max_depth=5, n_estimators=10;, score=0.685 total time=   0.3s\n",
            "[CV 2/5] END learning_rate=0.05, max_depth=5, n_estimators=10;, score=0.665 total time=   0.3s\n",
            "[CV 3/5] END learning_rate=0.05, max_depth=5, n_estimators=10;, score=0.677 total time=   0.3s\n",
            "[CV 4/5] END learning_rate=0.05, max_depth=5, n_estimators=10;, score=0.675 total time=   0.3s\n",
            "[CV 5/5] END learning_rate=0.05, max_depth=5, n_estimators=10;, score=0.691 total time=   0.3s\n",
            "[CV 1/5] END learning_rate=0.05, max_depth=5, n_estimators=50;, score=0.692 total time=   1.8s\n",
            "[CV 2/5] END learning_rate=0.05, max_depth=5, n_estimators=50;, score=0.671 total time=   2.0s\n",
            "[CV 3/5] END learning_rate=0.05, max_depth=5, n_estimators=50;, score=0.694 total time=   1.5s\n",
            "[CV 4/5] END learning_rate=0.05, max_depth=5, n_estimators=50;, score=0.697 total time=   1.4s\n",
            "[CV 5/5] END learning_rate=0.05, max_depth=5, n_estimators=50;, score=0.698 total time=   1.4s\n",
            "[CV 1/5] END learning_rate=0.05, max_depth=5, n_estimators=125;, score=0.709 total time=   3.5s\n",
            "[CV 2/5] END learning_rate=0.05, max_depth=5, n_estimators=125;, score=0.685 total time=   3.6s\n",
            "[CV 3/5] END learning_rate=0.05, max_depth=5, n_estimators=125;, score=0.703 total time=   3.5s\n",
            "[CV 4/5] END learning_rate=0.05, max_depth=5, n_estimators=125;, score=0.704 total time=   3.5s\n",
            "[CV 5/5] END learning_rate=0.05, max_depth=5, n_estimators=125;, score=0.704 total time=   3.6s\n",
            "[CV 1/5] END learning_rate=0.05, max_depth=5, n_estimators=500;, score=0.720 total time=  14.3s\n",
            "[CV 2/5] END learning_rate=0.05, max_depth=5, n_estimators=500;, score=0.698 total time=  14.2s\n",
            "[CV 3/5] END learning_rate=0.05, max_depth=5, n_estimators=500;, score=0.703 total time=  14.2s\n",
            "[CV 4/5] END learning_rate=0.05, max_depth=5, n_estimators=500;, score=0.701 total time=  14.2s\n",
            "[CV 5/5] END learning_rate=0.05, max_depth=5, n_estimators=500;, score=0.721 total time=  14.3s\n",
            "[CV 1/5] END learning_rate=0.1, max_depth=1, n_estimators=10;, score=0.635 total time=   0.1s\n",
            "[CV 2/5] END learning_rate=0.1, max_depth=1, n_estimators=10;, score=0.622 total time=   0.1s\n",
            "[CV 3/5] END learning_rate=0.1, max_depth=1, n_estimators=10;, score=0.634 total time=   0.1s\n",
            "[CV 4/5] END learning_rate=0.1, max_depth=1, n_estimators=10;, score=0.650 total time=   0.1s\n",
            "[CV 5/5] END learning_rate=0.1, max_depth=1, n_estimators=10;, score=0.630 total time=   0.1s\n",
            "[CV 1/5] END learning_rate=0.1, max_depth=1, n_estimators=50;, score=0.671 total time=   0.4s\n",
            "[CV 2/5] END learning_rate=0.1, max_depth=1, n_estimators=50;, score=0.651 total time=   0.4s\n",
            "[CV 3/5] END learning_rate=0.1, max_depth=1, n_estimators=50;, score=0.658 total time=   0.4s\n",
            "[CV 4/5] END learning_rate=0.1, max_depth=1, n_estimators=50;, score=0.667 total time=   0.4s\n",
            "[CV 5/5] END learning_rate=0.1, max_depth=1, n_estimators=50;, score=0.662 total time=   0.4s\n",
            "[CV 1/5] END learning_rate=0.1, max_depth=1, n_estimators=125;, score=0.677 total time=   0.9s\n",
            "[CV 2/5] END learning_rate=0.1, max_depth=1, n_estimators=125;, score=0.661 total time=   0.9s\n",
            "[CV 3/5] END learning_rate=0.1, max_depth=1, n_estimators=125;, score=0.665 total time=   0.9s\n",
            "[CV 4/5] END learning_rate=0.1, max_depth=1, n_estimators=125;, score=0.680 total time=   0.9s\n",
            "[CV 5/5] END learning_rate=0.1, max_depth=1, n_estimators=125;, score=0.673 total time=   0.9s\n",
            "[CV 1/5] END learning_rate=0.1, max_depth=1, n_estimators=500;, score=0.687 total time=   3.6s\n",
            "[CV 2/5] END learning_rate=0.1, max_depth=1, n_estimators=500;, score=0.663 total time=   3.6s\n",
            "[CV 3/5] END learning_rate=0.1, max_depth=1, n_estimators=500;, score=0.679 total time=   3.6s\n",
            "[CV 4/5] END learning_rate=0.1, max_depth=1, n_estimators=500;, score=0.679 total time=   3.6s\n",
            "[CV 5/5] END learning_rate=0.1, max_depth=1, n_estimators=500;, score=0.688 total time=   3.5s\n",
            "[CV 1/5] END learning_rate=0.1, max_depth=3, n_estimators=10;, score=0.673 total time=   0.2s\n",
            "[CV 2/5] END learning_rate=0.1, max_depth=3, n_estimators=10;, score=0.651 total time=   0.2s\n",
            "[CV 3/5] END learning_rate=0.1, max_depth=3, n_estimators=10;, score=0.664 total time=   0.2s\n",
            "[CV 4/5] END learning_rate=0.1, max_depth=3, n_estimators=10;, score=0.673 total time=   0.2s\n",
            "[CV 5/5] END learning_rate=0.1, max_depth=3, n_estimators=10;, score=0.667 total time=   0.2s\n",
            "[CV 1/5] END learning_rate=0.1, max_depth=3, n_estimators=50;, score=0.694 total time=   0.9s\n",
            "[CV 2/5] END learning_rate=0.1, max_depth=3, n_estimators=50;, score=0.670 total time=   0.9s\n",
            "[CV 3/5] END learning_rate=0.1, max_depth=3, n_estimators=50;, score=0.677 total time=   0.9s\n",
            "[CV 4/5] END learning_rate=0.1, max_depth=3, n_estimators=50;, score=0.690 total time=   0.9s\n",
            "[CV 5/5] END learning_rate=0.1, max_depth=3, n_estimators=50;, score=0.693 total time=   0.9s\n",
            "[CV 1/5] END learning_rate=0.1, max_depth=3, n_estimators=125;, score=0.705 total time=   2.2s\n",
            "[CV 2/5] END learning_rate=0.1, max_depth=3, n_estimators=125;, score=0.684 total time=   2.2s\n",
            "[CV 3/5] END learning_rate=0.1, max_depth=3, n_estimators=125;, score=0.700 total time=   2.3s\n",
            "[CV 4/5] END learning_rate=0.1, max_depth=3, n_estimators=125;, score=0.698 total time=   2.2s\n",
            "[CV 5/5] END learning_rate=0.1, max_depth=3, n_estimators=125;, score=0.698 total time=   2.2s\n",
            "[CV 1/5] END learning_rate=0.1, max_depth=3, n_estimators=500;, score=0.707 total time=   8.9s\n",
            "[CV 2/5] END learning_rate=0.1, max_depth=3, n_estimators=500;, score=0.696 total time=   8.9s\n",
            "[CV 3/5] END learning_rate=0.1, max_depth=3, n_estimators=500;, score=0.709 total time=   8.9s\n",
            "[CV 4/5] END learning_rate=0.1, max_depth=3, n_estimators=500;, score=0.699 total time=   8.9s\n",
            "[CV 5/5] END learning_rate=0.1, max_depth=3, n_estimators=500;, score=0.715 total time=   8.9s\n",
            "[CV 1/5] END learning_rate=0.1, max_depth=5, n_estimators=10;, score=0.684 total time=   0.3s\n",
            "[CV 2/5] END learning_rate=0.1, max_depth=5, n_estimators=10;, score=0.661 total time=   0.3s\n",
            "[CV 3/5] END learning_rate=0.1, max_depth=5, n_estimators=10;, score=0.682 total time=   0.3s\n",
            "[CV 4/5] END learning_rate=0.1, max_depth=5, n_estimators=10;, score=0.687 total time=   0.3s\n",
            "[CV 5/5] END learning_rate=0.1, max_depth=5, n_estimators=10;, score=0.693 total time=   0.3s\n",
            "[CV 1/5] END learning_rate=0.1, max_depth=5, n_estimators=50;, score=0.706 total time=   1.4s\n",
            "[CV 2/5] END learning_rate=0.1, max_depth=5, n_estimators=50;, score=0.688 total time=   1.4s\n",
            "[CV 3/5] END learning_rate=0.1, max_depth=5, n_estimators=50;, score=0.699 total time=   1.4s\n",
            "[CV 4/5] END learning_rate=0.1, max_depth=5, n_estimators=50;, score=0.707 total time=   1.4s\n",
            "[CV 5/5] END learning_rate=0.1, max_depth=5, n_estimators=50;, score=0.703 total time=   1.4s\n",
            "[CV 1/5] END learning_rate=0.1, max_depth=5, n_estimators=125;, score=0.713 total time=   3.6s\n",
            "[CV 2/5] END learning_rate=0.1, max_depth=5, n_estimators=125;, score=0.696 total time=   3.6s\n",
            "[CV 3/5] END learning_rate=0.1, max_depth=5, n_estimators=125;, score=0.704 total time=   3.6s\n",
            "[CV 4/5] END learning_rate=0.1, max_depth=5, n_estimators=125;, score=0.710 total time=   3.6s\n",
            "[CV 5/5] END learning_rate=0.1, max_depth=5, n_estimators=125;, score=0.719 total time=   3.6s\n",
            "[CV 1/5] END learning_rate=0.1, max_depth=5, n_estimators=500;, score=0.718 total time=  14.4s\n",
            "[CV 2/5] END learning_rate=0.1, max_depth=5, n_estimators=500;, score=0.700 total time=  14.2s\n",
            "[CV 3/5] END learning_rate=0.1, max_depth=5, n_estimators=500;, score=0.709 total time=  14.2s\n",
            "[CV 4/5] END learning_rate=0.1, max_depth=5, n_estimators=500;, score=0.702 total time=  15.1s\n",
            "[CV 5/5] END learning_rate=0.1, max_depth=5, n_estimators=500;, score=0.721 total time=  14.5s\n",
            "[CV 1/5] END learning_rate=0.5, max_depth=1, n_estimators=10;, score=0.661 total time=   0.1s\n",
            "[CV 2/5] END learning_rate=0.5, max_depth=1, n_estimators=10;, score=0.643 total time=   0.1s\n",
            "[CV 3/5] END learning_rate=0.5, max_depth=1, n_estimators=10;, score=0.662 total time=   0.1s\n",
            "[CV 4/5] END learning_rate=0.5, max_depth=1, n_estimators=10;, score=0.679 total time=   0.1s\n",
            "[CV 5/5] END learning_rate=0.5, max_depth=1, n_estimators=10;, score=0.657 total time=   0.1s\n",
            "[CV 1/5] END learning_rate=0.5, max_depth=1, n_estimators=50;, score=0.685 total time=   0.4s\n",
            "[CV 2/5] END learning_rate=0.5, max_depth=1, n_estimators=50;, score=0.655 total time=   0.4s\n",
            "[CV 3/5] END learning_rate=0.5, max_depth=1, n_estimators=50;, score=0.674 total time=   0.4s\n",
            "[CV 4/5] END learning_rate=0.5, max_depth=1, n_estimators=50;, score=0.682 total time=   0.4s\n",
            "[CV 5/5] END learning_rate=0.5, max_depth=1, n_estimators=50;, score=0.682 total time=   0.4s\n",
            "[CV 1/5] END learning_rate=0.5, max_depth=1, n_estimators=125;, score=0.682 total time=   0.9s\n",
            "[CV 2/5] END learning_rate=0.5, max_depth=1, n_estimators=125;, score=0.666 total time=   0.9s\n",
            "[CV 3/5] END learning_rate=0.5, max_depth=1, n_estimators=125;, score=0.679 total time=   0.9s\n",
            "[CV 4/5] END learning_rate=0.5, max_depth=1, n_estimators=125;, score=0.681 total time=   0.9s\n",
            "[CV 5/5] END learning_rate=0.5, max_depth=1, n_estimators=125;, score=0.682 total time=   0.9s\n",
            "[CV 1/5] END learning_rate=0.5, max_depth=1, n_estimators=500;, score=0.692 total time=   3.5s\n",
            "[CV 2/5] END learning_rate=0.5, max_depth=1, n_estimators=500;, score=0.680 total time=   3.6s\n",
            "[CV 3/5] END learning_rate=0.5, max_depth=1, n_estimators=500;, score=0.699 total time=   3.6s\n",
            "[CV 4/5] END learning_rate=0.5, max_depth=1, n_estimators=500;, score=0.687 total time=   3.6s\n",
            "[CV 5/5] END learning_rate=0.5, max_depth=1, n_estimators=500;, score=0.690 total time=   3.6s\n",
            "[CV 1/5] END learning_rate=0.5, max_depth=3, n_estimators=10;, score=0.692 total time=   0.2s\n",
            "[CV 2/5] END learning_rate=0.5, max_depth=3, n_estimators=10;, score=0.672 total time=   0.2s\n",
            "[CV 3/5] END learning_rate=0.5, max_depth=3, n_estimators=10;, score=0.680 total time=   0.2s\n",
            "[CV 4/5] END learning_rate=0.5, max_depth=3, n_estimators=10;, score=0.693 total time=   0.2s\n",
            "[CV 5/5] END learning_rate=0.5, max_depth=3, n_estimators=10;, score=0.694 total time=   0.2s\n",
            "[CV 1/5] END learning_rate=0.5, max_depth=3, n_estimators=50;, score=0.708 total time=   0.9s\n",
            "[CV 2/5] END learning_rate=0.5, max_depth=3, n_estimators=50;, score=0.689 total time=   0.9s\n",
            "[CV 3/5] END learning_rate=0.5, max_depth=3, n_estimators=50;, score=0.706 total time=   0.9s\n",
            "[CV 4/5] END learning_rate=0.5, max_depth=3, n_estimators=50;, score=0.695 total time=   0.9s\n",
            "[CV 5/5] END learning_rate=0.5, max_depth=3, n_estimators=50;, score=0.703 total time=   0.9s\n",
            "[CV 1/5] END learning_rate=0.5, max_depth=3, n_estimators=125;, score=0.697 total time=   2.2s\n",
            "[CV 2/5] END learning_rate=0.5, max_depth=3, n_estimators=125;, score=0.693 total time=   2.2s\n",
            "[CV 3/5] END learning_rate=0.5, max_depth=3, n_estimators=125;, score=0.705 total time=   2.2s\n",
            "[CV 4/5] END learning_rate=0.5, max_depth=3, n_estimators=125;, score=0.690 total time=   2.2s\n",
            "[CV 5/5] END learning_rate=0.5, max_depth=3, n_estimators=125;, score=0.699 total time=   2.3s\n",
            "[CV 1/5] END learning_rate=0.5, max_depth=3, n_estimators=500;, score=0.700 total time=   8.8s\n",
            "[CV 2/5] END learning_rate=0.5, max_depth=3, n_estimators=500;, score=0.678 total time=   8.9s\n",
            "[CV 3/5] END learning_rate=0.5, max_depth=3, n_estimators=500;, score=0.695 total time=   8.9s\n",
            "[CV 4/5] END learning_rate=0.5, max_depth=3, n_estimators=500;, score=0.685 total time=   8.9s\n",
            "[CV 5/5] END learning_rate=0.5, max_depth=3, n_estimators=500;, score=0.692 total time=   8.8s\n",
            "[CV 1/5] END learning_rate=0.5, max_depth=5, n_estimators=10;, score=0.692 total time=   0.3s\n",
            "[CV 2/5] END learning_rate=0.5, max_depth=5, n_estimators=10;, score=0.680 total time=   0.3s\n",
            "[CV 3/5] END learning_rate=0.5, max_depth=5, n_estimators=10;, score=0.692 total time=   0.3s\n",
            "[CV 4/5] END learning_rate=0.5, max_depth=5, n_estimators=10;, score=0.704 total time=   0.3s\n",
            "[CV 5/5] END learning_rate=0.5, max_depth=5, n_estimators=10;, score=0.706 total time=   0.3s\n",
            "[CV 1/5] END learning_rate=0.5, max_depth=5, n_estimators=50;, score=0.718 total time=   1.4s\n",
            "[CV 2/5] END learning_rate=0.5, max_depth=5, n_estimators=50;, score=0.681 total time=   1.4s\n",
            "[CV 3/5] END learning_rate=0.5, max_depth=5, n_estimators=50;, score=0.705 total time=   1.4s\n",
            "[CV 4/5] END learning_rate=0.5, max_depth=5, n_estimators=50;, score=0.696 total time=   1.5s\n",
            "[CV 5/5] END learning_rate=0.5, max_depth=5, n_estimators=50;, score=0.708 total time=   1.4s\n",
            "[CV 1/5] END learning_rate=0.5, max_depth=5, n_estimators=125;, score=0.703 total time=   3.6s\n",
            "[CV 2/5] END learning_rate=0.5, max_depth=5, n_estimators=125;, score=0.672 total time=   3.5s\n",
            "[CV 3/5] END learning_rate=0.5, max_depth=5, n_estimators=125;, score=0.691 total time=   3.6s\n",
            "[CV 4/5] END learning_rate=0.5, max_depth=5, n_estimators=125;, score=0.694 total time=   3.6s\n",
            "[CV 5/5] END learning_rate=0.5, max_depth=5, n_estimators=125;, score=0.709 total time=   3.6s\n",
            "[CV 1/5] END learning_rate=0.5, max_depth=5, n_estimators=500;, score=0.700 total time=  14.3s\n",
            "[CV 2/5] END learning_rate=0.5, max_depth=5, n_estimators=500;, score=0.682 total time=  14.2s\n",
            "[CV 3/5] END learning_rate=0.5, max_depth=5, n_estimators=500;, score=0.684 total time=  14.2s\n",
            "[CV 4/5] END learning_rate=0.5, max_depth=5, n_estimators=500;, score=0.684 total time=  14.2s\n",
            "[CV 5/5] END learning_rate=0.5, max_depth=5, n_estimators=500;, score=0.698 total time=  14.2s\n",
            "[CV 1/5] END learning_rate=0.9, max_depth=1, n_estimators=10;, score=0.666 total time=   0.1s\n",
            "[CV 2/5] END learning_rate=0.9, max_depth=1, n_estimators=10;, score=0.637 total time=   0.1s\n",
            "[CV 3/5] END learning_rate=0.9, max_depth=1, n_estimators=10;, score=0.663 total time=   0.1s\n",
            "[CV 4/5] END learning_rate=0.9, max_depth=1, n_estimators=10;, score=0.676 total time=   0.1s\n",
            "[CV 5/5] END learning_rate=0.9, max_depth=1, n_estimators=10;, score=0.658 total time=   0.1s\n",
            "[CV 1/5] END learning_rate=0.9, max_depth=1, n_estimators=50;, score=0.676 total time=   0.4s\n",
            "[CV 2/5] END learning_rate=0.9, max_depth=1, n_estimators=50;, score=0.665 total time=   0.4s\n",
            "[CV 3/5] END learning_rate=0.9, max_depth=1, n_estimators=50;, score=0.679 total time=   0.4s\n",
            "[CV 4/5] END learning_rate=0.9, max_depth=1, n_estimators=50;, score=0.681 total time=   0.4s\n",
            "[CV 5/5] END learning_rate=0.9, max_depth=1, n_estimators=50;, score=0.685 total time=   0.4s\n",
            "[CV 1/5] END learning_rate=0.9, max_depth=1, n_estimators=125;, score=0.683 total time=   0.9s\n",
            "[CV 2/5] END learning_rate=0.9, max_depth=1, n_estimators=125;, score=0.679 total time=   0.9s\n",
            "[CV 3/5] END learning_rate=0.9, max_depth=1, n_estimators=125;, score=0.692 total time=   0.9s\n",
            "[CV 4/5] END learning_rate=0.9, max_depth=1, n_estimators=125;, score=0.685 total time=   0.9s\n",
            "[CV 5/5] END learning_rate=0.9, max_depth=1, n_estimators=125;, score=0.694 total time=   0.9s\n",
            "[CV 1/5] END learning_rate=0.9, max_depth=1, n_estimators=500;, score=0.693 total time=   3.6s\n",
            "[CV 2/5] END learning_rate=0.9, max_depth=1, n_estimators=500;, score=0.686 total time=   3.5s\n",
            "[CV 3/5] END learning_rate=0.9, max_depth=1, n_estimators=500;, score=0.693 total time=   3.5s\n",
            "[CV 4/5] END learning_rate=0.9, max_depth=1, n_estimators=500;, score=0.686 total time=   3.6s\n",
            "[CV 5/5] END learning_rate=0.9, max_depth=1, n_estimators=500;, score=0.690 total time=   3.6s\n",
            "[CV 1/5] END learning_rate=0.9, max_depth=3, n_estimators=10;, score=0.692 total time=   0.2s\n",
            "[CV 2/5] END learning_rate=0.9, max_depth=3, n_estimators=10;, score=0.670 total time=   0.2s\n",
            "[CV 3/5] END learning_rate=0.9, max_depth=3, n_estimators=10;, score=0.683 total time=   0.2s\n",
            "[CV 4/5] END learning_rate=0.9, max_depth=3, n_estimators=10;, score=0.687 total time=   0.2s\n",
            "[CV 5/5] END learning_rate=0.9, max_depth=3, n_estimators=10;, score=0.702 total time=   0.2s\n",
            "[CV 1/5] END learning_rate=0.9, max_depth=3, n_estimators=50;, score=0.701 total time=   0.9s\n",
            "[CV 2/5] END learning_rate=0.9, max_depth=3, n_estimators=50;, score=0.686 total time=   0.9s\n",
            "[CV 3/5] END learning_rate=0.9, max_depth=3, n_estimators=50;, score=0.694 total time=   0.9s\n",
            "[CV 4/5] END learning_rate=0.9, max_depth=3, n_estimators=50;, score=0.684 total time=   0.9s\n",
            "[CV 5/5] END learning_rate=0.9, max_depth=3, n_estimators=50;, score=0.714 total time=   0.9s\n",
            "[CV 1/5] END learning_rate=0.9, max_depth=3, n_estimators=125;, score=0.691 total time=   2.2s\n",
            "[CV 2/5] END learning_rate=0.9, max_depth=3, n_estimators=125;, score=0.677 total time=   2.2s\n",
            "[CV 3/5] END learning_rate=0.9, max_depth=3, n_estimators=125;, score=0.686 total time=   2.2s\n",
            "[CV 4/5] END learning_rate=0.9, max_depth=3, n_estimators=125;, score=0.680 total time=   2.2s\n",
            "[CV 5/5] END learning_rate=0.9, max_depth=3, n_estimators=125;, score=0.694 total time=   2.2s\n",
            "[CV 1/5] END learning_rate=0.9, max_depth=3, n_estimators=500;, score=0.679 total time=   8.9s\n",
            "[CV 2/5] END learning_rate=0.9, max_depth=3, n_estimators=500;, score=0.669 total time=   9.0s\n",
            "[CV 3/5] END learning_rate=0.9, max_depth=3, n_estimators=500;, score=0.667 total time=   9.9s\n",
            "[CV 4/5] END learning_rate=0.9, max_depth=3, n_estimators=500;, score=0.668 total time=   8.8s\n",
            "[CV 5/5] END learning_rate=0.9, max_depth=3, n_estimators=500;, score=0.676 total time=   8.8s\n",
            "[CV 1/5] END learning_rate=0.9, max_depth=5, n_estimators=10;, score=0.700 total time=   0.3s\n",
            "[CV 2/5] END learning_rate=0.9, max_depth=5, n_estimators=10;, score=0.685 total time=   0.3s\n",
            "[CV 3/5] END learning_rate=0.9, max_depth=5, n_estimators=10;, score=0.693 total time=   0.3s\n",
            "[CV 4/5] END learning_rate=0.9, max_depth=5, n_estimators=10;, score=0.694 total time=   0.3s\n",
            "[CV 5/5] END learning_rate=0.9, max_depth=5, n_estimators=10;, score=0.704 total time=   0.3s\n",
            "[CV 1/5] END learning_rate=0.9, max_depth=5, n_estimators=50;, score=0.700 total time=   1.4s\n",
            "[CV 2/5] END learning_rate=0.9, max_depth=5, n_estimators=50;, score=0.684 total time=   1.4s\n",
            "[CV 3/5] END learning_rate=0.9, max_depth=5, n_estimators=50;, score=0.683 total time=   1.4s\n",
            "[CV 4/5] END learning_rate=0.9, max_depth=5, n_estimators=50;, score=0.694 total time=   1.4s\n",
            "[CV 5/5] END learning_rate=0.9, max_depth=5, n_estimators=50;, score=0.700 total time=   1.4s\n",
            "[CV 1/5] END learning_rate=0.9, max_depth=5, n_estimators=125;, score=0.693 total time=   3.6s\n",
            "[CV 2/5] END learning_rate=0.9, max_depth=5, n_estimators=125;, score=0.666 total time=   3.5s\n",
            "[CV 3/5] END learning_rate=0.9, max_depth=5, n_estimators=125;, score=0.689 total time=   3.6s\n",
            "[CV 4/5] END learning_rate=0.9, max_depth=5, n_estimators=125;, score=0.668 total time=   3.6s\n",
            "[CV 5/5] END learning_rate=0.9, max_depth=5, n_estimators=125;, score=0.680 total time=   3.6s\n",
            "[CV 1/5] END learning_rate=0.9, max_depth=5, n_estimators=500;, score=0.686 total time=  14.1s\n",
            "[CV 2/5] END learning_rate=0.9, max_depth=5, n_estimators=500;, score=0.666 total time=  22.7s\n",
            "[CV 3/5] END learning_rate=0.9, max_depth=5, n_estimators=500;, score=0.688 total time=  14.2s\n",
            "[CV 4/5] END learning_rate=0.9, max_depth=5, n_estimators=500;, score=0.684 total time=  14.3s\n",
            "[CV 5/5] END learning_rate=0.9, max_depth=5, n_estimators=500;, score=0.685 total time=  14.1s\n"
          ]
        }
      ]
    },
    {
      "cell_type": "code",
      "source": [
        "clf = grid.best_estimator_\n",
        "GBT = TrainAndEval(clf, X_train, y_train, X_test, y_test)\n",
        "GBT.eval()"
      ],
      "metadata": {
        "colab": {
          "base_uri": "https://localhost:8080/"
        },
        "id": "INWNulbVnVdc",
        "outputId": "0da71d42-1482-409e-f276-d3a9f77518a2"
      },
      "execution_count": null,
      "outputs": [
        {
          "output_type": "stream",
          "name": "stdout",
          "text": [
            "True Negatives: 1248\n",
            "False Positives: 490\n",
            "False Negatives: 492\n",
            "True Positives: 1309\n",
            "              precision    recall  f1-score   support\n",
            "\n",
            "           0       0.72      0.72      0.72      1738\n",
            "           1       0.73      0.73      0.73      1801\n",
            "\n",
            "    accuracy                           0.72      3539\n",
            "   macro avg       0.72      0.72      0.72      3539\n",
            "weighted avg       0.72      0.72      0.72      3539\n",
            "\n"
          ]
        }
      ]
    },
    {
      "cell_type": "markdown",
      "source": [
        "**We can see that Gradient Boosting Classifier gave good results:**\n",
        "\n",
        "\n",
        "*   **F1 Score = 73%**\n",
        "*   **Precision = 73%**\n",
        "*   **Recall = 73%**\n",
        "*   **Accuracy = 72%**"
      ],
      "metadata": {
        "id": "haV6k4m5nblj"
      }
    },
    {
      "cell_type": "markdown",
      "source": [
        "# **XGBoost**"
      ],
      "metadata": {
        "id": "kww_P04SneWm"
      }
    },
    {
      "cell_type": "code",
      "source": [
        "params = {'n_estimators': [10, 50, 125, 500], 'max_depth': [1, 3, 5], \n",
        "          'learning_rate': [0.05, 0.1, 0.5,  0.9]\n",
        "        }\n",
        "\n",
        "gridXGB = GridSearchCV(estimator=XGBClassifier(), param_grid=params, cv=5, verbose=3)\n",
        "gridXGB = gridXGB.fit(X_train, y_train)"
      ],
      "metadata": {
        "colab": {
          "base_uri": "https://localhost:8080/"
        },
        "id": "I3Z8U0AInZJG",
        "outputId": "24ddc2b6-3eea-4603-d7bd-4327c835bb4b"
      },
      "execution_count": null,
      "outputs": [
        {
          "output_type": "stream",
          "name": "stdout",
          "text": [
            "Fitting 5 folds for each of 48 candidates, totalling 240 fits\n",
            "[CV 1/5] END learning_rate=0.05, max_depth=1, n_estimators=10;, score=0.624 total time=   0.0s\n",
            "[CV 2/5] END learning_rate=0.05, max_depth=1, n_estimators=10;, score=0.619 total time=   0.0s\n",
            "[CV 3/5] END learning_rate=0.05, max_depth=1, n_estimators=10;, score=0.632 total time=   0.0s\n",
            "[CV 4/5] END learning_rate=0.05, max_depth=1, n_estimators=10;, score=0.627 total time=   0.0s\n",
            "[CV 5/5] END learning_rate=0.05, max_depth=1, n_estimators=10;, score=0.616 total time=   0.0s\n",
            "[CV 1/5] END learning_rate=0.05, max_depth=1, n_estimators=50;, score=0.659 total time=   0.2s\n",
            "[CV 2/5] END learning_rate=0.05, max_depth=1, n_estimators=50;, score=0.627 total time=   0.2s\n",
            "[CV 3/5] END learning_rate=0.05, max_depth=1, n_estimators=50;, score=0.653 total time=   0.2s\n",
            "[CV 4/5] END learning_rate=0.05, max_depth=1, n_estimators=50;, score=0.657 total time=   0.1s\n",
            "[CV 5/5] END learning_rate=0.05, max_depth=1, n_estimators=50;, score=0.653 total time=   0.2s\n",
            "[CV 1/5] END learning_rate=0.05, max_depth=1, n_estimators=125;, score=0.670 total time=   0.4s\n",
            "[CV 2/5] END learning_rate=0.05, max_depth=1, n_estimators=125;, score=0.653 total time=   0.3s\n",
            "[CV 3/5] END learning_rate=0.05, max_depth=1, n_estimators=125;, score=0.659 total time=   0.3s\n",
            "[CV 4/5] END learning_rate=0.05, max_depth=1, n_estimators=125;, score=0.669 total time=   0.4s\n",
            "[CV 5/5] END learning_rate=0.05, max_depth=1, n_estimators=125;, score=0.667 total time=   0.8s\n",
            "[CV 1/5] END learning_rate=0.05, max_depth=1, n_estimators=500;, score=0.687 total time=   2.2s\n",
            "[CV 2/5] END learning_rate=0.05, max_depth=1, n_estimators=500;, score=0.657 total time=   1.3s\n",
            "[CV 3/5] END learning_rate=0.05, max_depth=1, n_estimators=500;, score=0.675 total time=   1.3s\n",
            "[CV 4/5] END learning_rate=0.05, max_depth=1, n_estimators=500;, score=0.676 total time=   1.3s\n",
            "[CV 5/5] END learning_rate=0.05, max_depth=1, n_estimators=500;, score=0.681 total time=   1.3s\n",
            "[CV 1/5] END learning_rate=0.05, max_depth=3, n_estimators=10;, score=0.666 total time=   0.1s\n",
            "[CV 2/5] END learning_rate=0.05, max_depth=3, n_estimators=10;, score=0.644 total time=   0.1s\n",
            "[CV 3/5] END learning_rate=0.05, max_depth=3, n_estimators=10;, score=0.660 total time=   0.1s\n",
            "[CV 4/5] END learning_rate=0.05, max_depth=3, n_estimators=10;, score=0.657 total time=   0.1s\n",
            "[CV 5/5] END learning_rate=0.05, max_depth=3, n_estimators=10;, score=0.661 total time=   0.1s\n",
            "[CV 1/5] END learning_rate=0.05, max_depth=3, n_estimators=50;, score=0.686 total time=   0.3s\n",
            "[CV 2/5] END learning_rate=0.05, max_depth=3, n_estimators=50;, score=0.661 total time=   0.3s\n",
            "[CV 3/5] END learning_rate=0.05, max_depth=3, n_estimators=50;, score=0.675 total time=   0.3s\n",
            "[CV 4/5] END learning_rate=0.05, max_depth=3, n_estimators=50;, score=0.688 total time=   0.3s\n",
            "[CV 5/5] END learning_rate=0.05, max_depth=3, n_estimators=50;, score=0.683 total time=   0.3s\n",
            "[CV 1/5] END learning_rate=0.05, max_depth=3, n_estimators=125;, score=0.694 total time=   0.7s\n",
            "[CV 2/5] END learning_rate=0.05, max_depth=3, n_estimators=125;, score=0.672 total time=   0.8s\n",
            "[CV 3/5] END learning_rate=0.05, max_depth=3, n_estimators=125;, score=0.676 total time=   0.8s\n",
            "[CV 4/5] END learning_rate=0.05, max_depth=3, n_estimators=125;, score=0.691 total time=   0.7s\n",
            "[CV 5/5] END learning_rate=0.05, max_depth=3, n_estimators=125;, score=0.694 total time=   0.7s\n",
            "[CV 1/5] END learning_rate=0.05, max_depth=3, n_estimators=500;, score=0.710 total time=   2.9s\n",
            "[CV 2/5] END learning_rate=0.05, max_depth=3, n_estimators=500;, score=0.697 total time=   2.9s\n",
            "[CV 3/5] END learning_rate=0.05, max_depth=3, n_estimators=500;, score=0.708 total time=   2.9s\n",
            "[CV 4/5] END learning_rate=0.05, max_depth=3, n_estimators=500;, score=0.703 total time=   2.9s\n",
            "[CV 5/5] END learning_rate=0.05, max_depth=3, n_estimators=500;, score=0.708 total time=   2.9s\n",
            "[CV 1/5] END learning_rate=0.05, max_depth=5, n_estimators=10;, score=0.685 total time=   0.1s\n",
            "[CV 2/5] END learning_rate=0.05, max_depth=5, n_estimators=10;, score=0.656 total time=   0.1s\n",
            "[CV 3/5] END learning_rate=0.05, max_depth=5, n_estimators=10;, score=0.674 total time=   0.1s\n",
            "[CV 4/5] END learning_rate=0.05, max_depth=5, n_estimators=10;, score=0.680 total time=   0.1s\n",
            "[CV 5/5] END learning_rate=0.05, max_depth=5, n_estimators=10;, score=0.694 total time=   0.1s\n",
            "[CV 1/5] END learning_rate=0.05, max_depth=5, n_estimators=50;, score=0.692 total time=   0.6s\n",
            "[CV 2/5] END learning_rate=0.05, max_depth=5, n_estimators=50;, score=0.673 total time=   0.5s\n",
            "[CV 3/5] END learning_rate=0.05, max_depth=5, n_estimators=50;, score=0.687 total time=   0.6s\n",
            "[CV 4/5] END learning_rate=0.05, max_depth=5, n_estimators=50;, score=0.693 total time=   0.5s\n",
            "[CV 5/5] END learning_rate=0.05, max_depth=5, n_estimators=50;, score=0.699 total time=   0.6s\n",
            "[CV 1/5] END learning_rate=0.05, max_depth=5, n_estimators=125;, score=0.708 total time=   1.3s\n",
            "[CV 2/5] END learning_rate=0.05, max_depth=5, n_estimators=125;, score=0.685 total time=   1.3s\n",
            "[CV 3/5] END learning_rate=0.05, max_depth=5, n_estimators=125;, score=0.699 total time=   1.3s\n",
            "[CV 4/5] END learning_rate=0.05, max_depth=5, n_estimators=125;, score=0.705 total time=   1.3s\n",
            "[CV 5/5] END learning_rate=0.05, max_depth=5, n_estimators=125;, score=0.713 total time=   1.3s\n",
            "[CV 1/5] END learning_rate=0.05, max_depth=5, n_estimators=500;, score=0.714 total time=   4.7s\n",
            "[CV 2/5] END learning_rate=0.05, max_depth=5, n_estimators=500;, score=0.701 total time=   4.7s\n",
            "[CV 3/5] END learning_rate=0.05, max_depth=5, n_estimators=500;, score=0.710 total time=   4.7s\n",
            "[CV 4/5] END learning_rate=0.05, max_depth=5, n_estimators=500;, score=0.703 total time=   4.7s\n",
            "[CV 5/5] END learning_rate=0.05, max_depth=5, n_estimators=500;, score=0.729 total time=   4.8s\n",
            "[CV 1/5] END learning_rate=0.1, max_depth=1, n_estimators=10;, score=0.636 total time=   0.0s\n",
            "[CV 2/5] END learning_rate=0.1, max_depth=1, n_estimators=10;, score=0.622 total time=   0.0s\n",
            "[CV 3/5] END learning_rate=0.1, max_depth=1, n_estimators=10;, score=0.633 total time=   0.0s\n",
            "[CV 4/5] END learning_rate=0.1, max_depth=1, n_estimators=10;, score=0.650 total time=   0.0s\n",
            "[CV 5/5] END learning_rate=0.1, max_depth=1, n_estimators=10;, score=0.630 total time=   0.0s\n",
            "[CV 1/5] END learning_rate=0.1, max_depth=1, n_estimators=50;, score=0.670 total time=   0.1s\n",
            "[CV 2/5] END learning_rate=0.1, max_depth=1, n_estimators=50;, score=0.651 total time=   0.2s\n",
            "[CV 3/5] END learning_rate=0.1, max_depth=1, n_estimators=50;, score=0.658 total time=   0.2s\n",
            "[CV 4/5] END learning_rate=0.1, max_depth=1, n_estimators=50;, score=0.666 total time=   0.1s\n",
            "[CV 5/5] END learning_rate=0.1, max_depth=1, n_estimators=50;, score=0.662 total time=   0.1s\n",
            "[CV 1/5] END learning_rate=0.1, max_depth=1, n_estimators=125;, score=0.674 total time=   0.3s\n",
            "[CV 2/5] END learning_rate=0.1, max_depth=1, n_estimators=125;, score=0.661 total time=   0.3s\n",
            "[CV 3/5] END learning_rate=0.1, max_depth=1, n_estimators=125;, score=0.668 total time=   0.3s\n",
            "[CV 4/5] END learning_rate=0.1, max_depth=1, n_estimators=125;, score=0.680 total time=   0.4s\n",
            "[CV 5/5] END learning_rate=0.1, max_depth=1, n_estimators=125;, score=0.673 total time=   0.3s\n",
            "[CV 1/5] END learning_rate=0.1, max_depth=1, n_estimators=500;, score=0.688 total time=   1.3s\n",
            "[CV 2/5] END learning_rate=0.1, max_depth=1, n_estimators=500;, score=0.664 total time=   1.3s\n",
            "[CV 3/5] END learning_rate=0.1, max_depth=1, n_estimators=500;, score=0.679 total time=   1.3s\n",
            "[CV 4/5] END learning_rate=0.1, max_depth=1, n_estimators=500;, score=0.679 total time=   1.3s\n",
            "[CV 5/5] END learning_rate=0.1, max_depth=1, n_estimators=500;, score=0.689 total time=   1.3s\n",
            "[CV 1/5] END learning_rate=0.1, max_depth=3, n_estimators=10;, score=0.670 total time=   0.1s\n",
            "[CV 2/5] END learning_rate=0.1, max_depth=3, n_estimators=10;, score=0.655 total time=   0.1s\n",
            "[CV 3/5] END learning_rate=0.1, max_depth=3, n_estimators=10;, score=0.664 total time=   0.1s\n",
            "[CV 4/5] END learning_rate=0.1, max_depth=3, n_estimators=10;, score=0.663 total time=   0.1s\n",
            "[CV 5/5] END learning_rate=0.1, max_depth=3, n_estimators=10;, score=0.668 total time=   0.1s\n",
            "[CV 1/5] END learning_rate=0.1, max_depth=3, n_estimators=50;, score=0.695 total time=   0.3s\n",
            "[CV 2/5] END learning_rate=0.1, max_depth=3, n_estimators=50;, score=0.669 total time=   0.3s\n",
            "[CV 3/5] END learning_rate=0.1, max_depth=3, n_estimators=50;, score=0.676 total time=   0.3s\n",
            "[CV 4/5] END learning_rate=0.1, max_depth=3, n_estimators=50;, score=0.689 total time=   0.3s\n",
            "[CV 5/5] END learning_rate=0.1, max_depth=3, n_estimators=50;, score=0.692 total time=   0.3s\n",
            "[CV 1/5] END learning_rate=0.1, max_depth=3, n_estimators=125;, score=0.698 total time=   0.7s\n",
            "[CV 2/5] END learning_rate=0.1, max_depth=3, n_estimators=125;, score=0.684 total time=   0.7s\n",
            "[CV 3/5] END learning_rate=0.1, max_depth=3, n_estimators=125;, score=0.698 total time=   0.7s\n",
            "[CV 4/5] END learning_rate=0.1, max_depth=3, n_estimators=125;, score=0.702 total time=   0.8s\n",
            "[CV 5/5] END learning_rate=0.1, max_depth=3, n_estimators=125;, score=0.698 total time=   0.7s\n",
            "[CV 1/5] END learning_rate=0.1, max_depth=3, n_estimators=500;, score=0.707 total time=   2.9s\n",
            "[CV 2/5] END learning_rate=0.1, max_depth=3, n_estimators=500;, score=0.698 total time=   2.9s\n",
            "[CV 3/5] END learning_rate=0.1, max_depth=3, n_estimators=500;, score=0.708 total time=   2.9s\n",
            "[CV 4/5] END learning_rate=0.1, max_depth=3, n_estimators=500;, score=0.700 total time=   2.9s\n",
            "[CV 5/5] END learning_rate=0.1, max_depth=3, n_estimators=500;, score=0.713 total time=   2.9s\n",
            "[CV 1/5] END learning_rate=0.1, max_depth=5, n_estimators=10;, score=0.685 total time=   0.1s\n",
            "[CV 2/5] END learning_rate=0.1, max_depth=5, n_estimators=10;, score=0.668 total time=   0.1s\n",
            "[CV 3/5] END learning_rate=0.1, max_depth=5, n_estimators=10;, score=0.680 total time=   0.1s\n",
            "[CV 4/5] END learning_rate=0.1, max_depth=5, n_estimators=10;, score=0.682 total time=   0.1s\n",
            "[CV 5/5] END learning_rate=0.1, max_depth=5, n_estimators=10;, score=0.693 total time=   0.1s\n",
            "[CV 1/5] END learning_rate=0.1, max_depth=5, n_estimators=50;, score=0.698 total time=   0.5s\n",
            "[CV 2/5] END learning_rate=0.1, max_depth=5, n_estimators=50;, score=0.680 total time=   0.5s\n",
            "[CV 3/5] END learning_rate=0.1, max_depth=5, n_estimators=50;, score=0.697 total time=   0.5s\n",
            "[CV 4/5] END learning_rate=0.1, max_depth=5, n_estimators=50;, score=0.700 total time=   0.5s\n",
            "[CV 5/5] END learning_rate=0.1, max_depth=5, n_estimators=50;, score=0.703 total time=   0.5s\n",
            "[CV 1/5] END learning_rate=0.1, max_depth=5, n_estimators=125;, score=0.706 total time=   1.2s\n",
            "[CV 2/5] END learning_rate=0.1, max_depth=5, n_estimators=125;, score=0.696 total time=   1.2s\n",
            "[CV 3/5] END learning_rate=0.1, max_depth=5, n_estimators=125;, score=0.710 total time=   1.2s\n",
            "[CV 4/5] END learning_rate=0.1, max_depth=5, n_estimators=125;, score=0.709 total time=   1.2s\n",
            "[CV 5/5] END learning_rate=0.1, max_depth=5, n_estimators=125;, score=0.715 total time=   1.2s\n",
            "[CV 1/5] END learning_rate=0.1, max_depth=5, n_estimators=500;, score=0.716 total time=   4.7s\n",
            "[CV 2/5] END learning_rate=0.1, max_depth=5, n_estimators=500;, score=0.702 total time=   4.7s\n",
            "[CV 3/5] END learning_rate=0.1, max_depth=5, n_estimators=500;, score=0.715 total time=   6.0s\n",
            "[CV 4/5] END learning_rate=0.1, max_depth=5, n_estimators=500;, score=0.707 total time=   4.7s\n",
            "[CV 5/5] END learning_rate=0.1, max_depth=5, n_estimators=500;, score=0.719 total time=   4.7s\n",
            "[CV 1/5] END learning_rate=0.5, max_depth=1, n_estimators=10;, score=0.661 total time=   0.0s\n",
            "[CV 2/5] END learning_rate=0.5, max_depth=1, n_estimators=10;, score=0.643 total time=   0.0s\n",
            "[CV 3/5] END learning_rate=0.5, max_depth=1, n_estimators=10;, score=0.662 total time=   0.0s\n",
            "[CV 4/5] END learning_rate=0.5, max_depth=1, n_estimators=10;, score=0.679 total time=   0.0s\n",
            "[CV 5/5] END learning_rate=0.5, max_depth=1, n_estimators=10;, score=0.657 total time=   0.0s\n",
            "[CV 1/5] END learning_rate=0.5, max_depth=1, n_estimators=50;, score=0.681 total time=   0.1s\n",
            "[CV 2/5] END learning_rate=0.5, max_depth=1, n_estimators=50;, score=0.658 total time=   0.2s\n",
            "[CV 3/5] END learning_rate=0.5, max_depth=1, n_estimators=50;, score=0.674 total time=   0.2s\n",
            "[CV 4/5] END learning_rate=0.5, max_depth=1, n_estimators=50;, score=0.681 total time=   0.1s\n",
            "[CV 5/5] END learning_rate=0.5, max_depth=1, n_estimators=50;, score=0.682 total time=   0.1s\n",
            "[CV 1/5] END learning_rate=0.5, max_depth=1, n_estimators=125;, score=0.681 total time=   0.3s\n",
            "[CV 2/5] END learning_rate=0.5, max_depth=1, n_estimators=125;, score=0.667 total time=   0.3s\n",
            "[CV 3/5] END learning_rate=0.5, max_depth=1, n_estimators=125;, score=0.678 total time=   0.3s\n",
            "[CV 4/5] END learning_rate=0.5, max_depth=1, n_estimators=125;, score=0.682 total time=   0.3s\n",
            "[CV 5/5] END learning_rate=0.5, max_depth=1, n_estimators=125;, score=0.683 total time=   0.3s\n",
            "[CV 1/5] END learning_rate=0.5, max_depth=1, n_estimators=500;, score=0.692 total time=   1.3s\n",
            "[CV 2/5] END learning_rate=0.5, max_depth=1, n_estimators=500;, score=0.681 total time=   1.3s\n",
            "[CV 3/5] END learning_rate=0.5, max_depth=1, n_estimators=500;, score=0.696 total time=   1.3s\n",
            "[CV 4/5] END learning_rate=0.5, max_depth=1, n_estimators=500;, score=0.691 total time=   1.3s\n",
            "[CV 5/5] END learning_rate=0.5, max_depth=1, n_estimators=500;, score=0.689 total time=   1.3s\n",
            "[CV 1/5] END learning_rate=0.5, max_depth=3, n_estimators=10;, score=0.702 total time=   0.1s\n",
            "[CV 2/5] END learning_rate=0.5, max_depth=3, n_estimators=10;, score=0.671 total time=   0.1s\n",
            "[CV 3/5] END learning_rate=0.5, max_depth=3, n_estimators=10;, score=0.692 total time=   0.1s\n",
            "[CV 4/5] END learning_rate=0.5, max_depth=3, n_estimators=10;, score=0.688 total time=   0.1s\n",
            "[CV 5/5] END learning_rate=0.5, max_depth=3, n_estimators=10;, score=0.680 total time=   0.1s\n",
            "[CV 1/5] END learning_rate=0.5, max_depth=3, n_estimators=50;, score=0.701 total time=   0.3s\n",
            "[CV 2/5] END learning_rate=0.5, max_depth=3, n_estimators=50;, score=0.688 total time=   0.3s\n",
            "[CV 3/5] END learning_rate=0.5, max_depth=3, n_estimators=50;, score=0.704 total time=   0.3s\n",
            "[CV 4/5] END learning_rate=0.5, max_depth=3, n_estimators=50;, score=0.704 total time=   0.3s\n",
            "[CV 5/5] END learning_rate=0.5, max_depth=3, n_estimators=50;, score=0.711 total time=   0.3s\n",
            "[CV 1/5] END learning_rate=0.5, max_depth=3, n_estimators=125;, score=0.700 total time=   0.8s\n",
            "[CV 2/5] END learning_rate=0.5, max_depth=3, n_estimators=125;, score=0.694 total time=   0.8s\n",
            "[CV 3/5] END learning_rate=0.5, max_depth=3, n_estimators=125;, score=0.705 total time=   0.7s\n",
            "[CV 4/5] END learning_rate=0.5, max_depth=3, n_estimators=125;, score=0.697 total time=   0.7s\n",
            "[CV 5/5] END learning_rate=0.5, max_depth=3, n_estimators=125;, score=0.713 total time=   0.7s\n",
            "[CV 1/5] END learning_rate=0.5, max_depth=3, n_estimators=500;, score=0.699 total time=   2.9s\n",
            "[CV 2/5] END learning_rate=0.5, max_depth=3, n_estimators=500;, score=0.690 total time=   2.8s\n",
            "[CV 3/5] END learning_rate=0.5, max_depth=3, n_estimators=500;, score=0.702 total time=   2.9s\n",
            "[CV 4/5] END learning_rate=0.5, max_depth=3, n_estimators=500;, score=0.685 total time=   2.9s\n",
            "[CV 5/5] END learning_rate=0.5, max_depth=3, n_estimators=500;, score=0.691 total time=   2.9s\n",
            "[CV 1/5] END learning_rate=0.5, max_depth=5, n_estimators=10;, score=0.701 total time=   0.1s\n",
            "[CV 2/5] END learning_rate=0.5, max_depth=5, n_estimators=10;, score=0.684 total time=   0.1s\n",
            "[CV 3/5] END learning_rate=0.5, max_depth=5, n_estimators=10;, score=0.704 total time=   0.1s\n",
            "[CV 4/5] END learning_rate=0.5, max_depth=5, n_estimators=10;, score=0.691 total time=   0.1s\n",
            "[CV 5/5] END learning_rate=0.5, max_depth=5, n_estimators=10;, score=0.711 total time=   0.1s\n",
            "[CV 1/5] END learning_rate=0.5, max_depth=5, n_estimators=50;, score=0.708 total time=   0.5s\n",
            "[CV 2/5] END learning_rate=0.5, max_depth=5, n_estimators=50;, score=0.699 total time=   0.5s\n",
            "[CV 3/5] END learning_rate=0.5, max_depth=5, n_estimators=50;, score=0.716 total time=   0.5s\n",
            "[CV 4/5] END learning_rate=0.5, max_depth=5, n_estimators=50;, score=0.696 total time=   0.5s\n",
            "[CV 5/5] END learning_rate=0.5, max_depth=5, n_estimators=50;, score=0.719 total time=   0.5s\n",
            "[CV 1/5] END learning_rate=0.5, max_depth=5, n_estimators=125;, score=0.704 total time=   1.2s\n",
            "[CV 2/5] END learning_rate=0.5, max_depth=5, n_estimators=125;, score=0.688 total time=   1.2s\n",
            "[CV 3/5] END learning_rate=0.5, max_depth=5, n_estimators=125;, score=0.708 total time=   1.2s\n",
            "[CV 4/5] END learning_rate=0.5, max_depth=5, n_estimators=125;, score=0.689 total time=   1.2s\n",
            "[CV 5/5] END learning_rate=0.5, max_depth=5, n_estimators=125;, score=0.714 total time=   1.2s\n",
            "[CV 1/5] END learning_rate=0.5, max_depth=5, n_estimators=500;, score=0.694 total time=   4.7s\n",
            "[CV 2/5] END learning_rate=0.5, max_depth=5, n_estimators=500;, score=0.678 total time=   4.7s\n",
            "[CV 3/5] END learning_rate=0.5, max_depth=5, n_estimators=500;, score=0.690 total time=   4.7s\n",
            "[CV 4/5] END learning_rate=0.5, max_depth=5, n_estimators=500;, score=0.675 total time=   4.8s\n",
            "[CV 5/5] END learning_rate=0.5, max_depth=5, n_estimators=500;, score=0.693 total time=   4.6s\n",
            "[CV 1/5] END learning_rate=0.9, max_depth=1, n_estimators=10;, score=0.667 total time=   0.0s\n",
            "[CV 2/5] END learning_rate=0.9, max_depth=1, n_estimators=10;, score=0.637 total time=   0.0s\n",
            "[CV 3/5] END learning_rate=0.9, max_depth=1, n_estimators=10;, score=0.664 total time=   0.0s\n",
            "[CV 4/5] END learning_rate=0.9, max_depth=1, n_estimators=10;, score=0.676 total time=   0.0s\n",
            "[CV 5/5] END learning_rate=0.9, max_depth=1, n_estimators=10;, score=0.658 total time=   0.0s\n",
            "[CV 1/5] END learning_rate=0.9, max_depth=1, n_estimators=50;, score=0.676 total time=   0.1s\n",
            "[CV 2/5] END learning_rate=0.9, max_depth=1, n_estimators=50;, score=0.663 total time=   0.2s\n",
            "[CV 3/5] END learning_rate=0.9, max_depth=1, n_estimators=50;, score=0.683 total time=   0.1s\n",
            "[CV 4/5] END learning_rate=0.9, max_depth=1, n_estimators=50;, score=0.675 total time=   0.2s\n",
            "[CV 5/5] END learning_rate=0.9, max_depth=1, n_estimators=50;, score=0.685 total time=   0.1s\n",
            "[CV 1/5] END learning_rate=0.9, max_depth=1, n_estimators=125;, score=0.687 total time=   0.3s\n",
            "[CV 2/5] END learning_rate=0.9, max_depth=1, n_estimators=125;, score=0.679 total time=   0.3s\n",
            "[CV 3/5] END learning_rate=0.9, max_depth=1, n_estimators=125;, score=0.690 total time=   0.3s\n",
            "[CV 4/5] END learning_rate=0.9, max_depth=1, n_estimators=125;, score=0.687 total time=   0.3s\n",
            "[CV 5/5] END learning_rate=0.9, max_depth=1, n_estimators=125;, score=0.691 total time=   0.3s\n",
            "[CV 1/5] END learning_rate=0.9, max_depth=1, n_estimators=500;, score=0.696 total time=   1.3s\n",
            "[CV 2/5] END learning_rate=0.9, max_depth=1, n_estimators=500;, score=0.686 total time=   1.3s\n",
            "[CV 3/5] END learning_rate=0.9, max_depth=1, n_estimators=500;, score=0.692 total time=   1.3s\n",
            "[CV 4/5] END learning_rate=0.9, max_depth=1, n_estimators=500;, score=0.687 total time=   1.3s\n",
            "[CV 5/5] END learning_rate=0.9, max_depth=1, n_estimators=500;, score=0.689 total time=   1.3s\n",
            "[CV 1/5] END learning_rate=0.9, max_depth=3, n_estimators=10;, score=0.688 total time=   0.1s\n",
            "[CV 2/5] END learning_rate=0.9, max_depth=3, n_estimators=10;, score=0.679 total time=   0.1s\n",
            "[CV 3/5] END learning_rate=0.9, max_depth=3, n_estimators=10;, score=0.687 total time=   0.1s\n",
            "[CV 4/5] END learning_rate=0.9, max_depth=3, n_estimators=10;, score=0.688 total time=   0.1s\n",
            "[CV 5/5] END learning_rate=0.9, max_depth=3, n_estimators=10;, score=0.698 total time=   0.1s\n",
            "[CV 1/5] END learning_rate=0.9, max_depth=3, n_estimators=50;, score=0.709 total time=   0.3s\n",
            "[CV 2/5] END learning_rate=0.9, max_depth=3, n_estimators=50;, score=0.690 total time=   0.3s\n",
            "[CV 3/5] END learning_rate=0.9, max_depth=3, n_estimators=50;, score=0.700 total time=   0.3s\n",
            "[CV 4/5] END learning_rate=0.9, max_depth=3, n_estimators=50;, score=0.693 total time=   0.3s\n",
            "[CV 5/5] END learning_rate=0.9, max_depth=3, n_estimators=50;, score=0.704 total time=   0.3s\n",
            "[CV 1/5] END learning_rate=0.9, max_depth=3, n_estimators=125;, score=0.709 total time=   0.7s\n",
            "[CV 2/5] END learning_rate=0.9, max_depth=3, n_estimators=125;, score=0.687 total time=   0.7s\n",
            "[CV 3/5] END learning_rate=0.9, max_depth=3, n_estimators=125;, score=0.691 total time=   0.7s\n",
            "[CV 4/5] END learning_rate=0.9, max_depth=3, n_estimators=125;, score=0.686 total time=   0.7s\n",
            "[CV 5/5] END learning_rate=0.9, max_depth=3, n_estimators=125;, score=0.701 total time=   0.7s\n",
            "[CV 1/5] END learning_rate=0.9, max_depth=3, n_estimators=500;, score=0.691 total time=   2.9s\n",
            "[CV 2/5] END learning_rate=0.9, max_depth=3, n_estimators=500;, score=0.680 total time=   2.9s\n",
            "[CV 3/5] END learning_rate=0.9, max_depth=3, n_estimators=500;, score=0.685 total time=   2.9s\n",
            "[CV 4/5] END learning_rate=0.9, max_depth=3, n_estimators=500;, score=0.670 total time=   2.9s\n",
            "[CV 5/5] END learning_rate=0.9, max_depth=3, n_estimators=500;, score=0.682 total time=   2.9s\n",
            "[CV 1/5] END learning_rate=0.9, max_depth=5, n_estimators=10;, score=0.705 total time=   0.1s\n",
            "[CV 2/5] END learning_rate=0.9, max_depth=5, n_estimators=10;, score=0.696 total time=   0.1s\n",
            "[CV 3/5] END learning_rate=0.9, max_depth=5, n_estimators=10;, score=0.706 total time=   0.1s\n",
            "[CV 4/5] END learning_rate=0.9, max_depth=5, n_estimators=10;, score=0.681 total time=   0.1s\n",
            "[CV 5/5] END learning_rate=0.9, max_depth=5, n_estimators=10;, score=0.699 total time=   0.1s\n",
            "[CV 1/5] END learning_rate=0.9, max_depth=5, n_estimators=50;, score=0.697 total time=   0.5s\n",
            "[CV 2/5] END learning_rate=0.9, max_depth=5, n_estimators=50;, score=0.688 total time=   0.5s\n",
            "[CV 3/5] END learning_rate=0.9, max_depth=5, n_estimators=50;, score=0.694 total time=   0.5s\n",
            "[CV 4/5] END learning_rate=0.9, max_depth=5, n_estimators=50;, score=0.688 total time=   0.5s\n",
            "[CV 5/5] END learning_rate=0.9, max_depth=5, n_estimators=50;, score=0.699 total time=   0.5s\n",
            "[CV 1/5] END learning_rate=0.9, max_depth=5, n_estimators=125;, score=0.688 total time=   1.2s\n",
            "[CV 2/5] END learning_rate=0.9, max_depth=5, n_estimators=125;, score=0.668 total time=   1.2s\n",
            "[CV 3/5] END learning_rate=0.9, max_depth=5, n_estimators=125;, score=0.681 total time=   1.2s\n",
            "[CV 4/5] END learning_rate=0.9, max_depth=5, n_estimators=125;, score=0.678 total time=   1.2s\n",
            "[CV 5/5] END learning_rate=0.9, max_depth=5, n_estimators=125;, score=0.692 total time=   1.2s\n",
            "[CV 1/5] END learning_rate=0.9, max_depth=5, n_estimators=500;, score=0.678 total time=   4.7s\n",
            "[CV 2/5] END learning_rate=0.9, max_depth=5, n_estimators=500;, score=0.673 total time=   4.7s\n",
            "[CV 3/5] END learning_rate=0.9, max_depth=5, n_estimators=500;, score=0.678 total time=   4.8s\n",
            "[CV 4/5] END learning_rate=0.9, max_depth=5, n_estimators=500;, score=0.671 total time=   4.8s\n",
            "[CV 5/5] END learning_rate=0.9, max_depth=5, n_estimators=500;, score=0.687 total time=   4.7s\n"
          ]
        }
      ]
    },
    {
      "cell_type": "code",
      "source": [
        "gridXGB = gridXGB.best_estimator_\n",
        "XGB = TrainAndEval(gridXGB, X_train, y_train, X_test, y_test)\n",
        "XGB.eval()"
      ],
      "metadata": {
        "colab": {
          "base_uri": "https://localhost:8080/"
        },
        "id": "422YGp8MnjRe",
        "outputId": "ef0df982-1959-4c0a-ae12-10cfcc72e96c"
      },
      "execution_count": null,
      "outputs": [
        {
          "output_type": "stream",
          "name": "stdout",
          "text": [
            "True Negatives: 1238\n",
            "False Positives: 500\n",
            "False Negatives: 472\n",
            "True Positives: 1329\n",
            "              precision    recall  f1-score   support\n",
            "\n",
            "           0       0.72      0.71      0.72      1738\n",
            "           1       0.73      0.74      0.73      1801\n",
            "\n",
            "    accuracy                           0.73      3539\n",
            "   macro avg       0.73      0.73      0.73      3539\n",
            "weighted avg       0.73      0.73      0.73      3539\n",
            "\n"
          ]
        }
      ]
    },
    {
      "cell_type": "markdown",
      "source": [
        "**We can see that Grid XGBoost Classifier gave better results than the last one:**\n",
        "\n",
        "\n",
        "*   **F1 Score = 73%**\n",
        "*   **Precision = 73%**\n",
        "*   **Recall = 74%**\n",
        "*   **Accuracy = 73%**"
      ],
      "metadata": {
        "id": "G4zZ58K1nmjX"
      }
    },
    {
      "cell_type": "markdown",
      "source": [
        "# **SVM**"
      ],
      "metadata": {
        "id": "mrvHGAQgnpSG"
      }
    },
    {
      "cell_type": "code",
      "source": [
        "params = {\n",
        "    'C': [0.05, 0.1, 0.5, 1, 10, 50, 100],\n",
        "    'kernel': ['poly', 'rbf'],\n",
        "    'degree': [1, 2, 3, 4]\n",
        "}\n",
        "\n",
        "gridSVM = GridSearchCV(estimator=SVC(), param_grid=params, cv=5, verbose=3)\n",
        "gridSVM = gridSVM.fit(X_train, y_train)"
      ],
      "metadata": {
        "colab": {
          "base_uri": "https://localhost:8080/"
        },
        "id": "y_2SmLGwnkBw",
        "outputId": "b2d32ae2-803e-47d8-9191-a2d3ca5c8f29"
      },
      "execution_count": null,
      "outputs": [
        {
          "output_type": "stream",
          "name": "stdout",
          "text": [
            "Fitting 5 folds for each of 56 candidates, totalling 280 fits\n",
            "[CV 1/5] END .....C=0.05, degree=1, kernel=poly;, score=0.531 total time=   6.3s\n",
            "[CV 2/5] END .....C=0.05, degree=1, kernel=poly;, score=0.513 total time=   6.3s\n",
            "[CV 3/5] END .....C=0.05, degree=1, kernel=poly;, score=0.518 total time=   6.2s\n",
            "[CV 4/5] END .....C=0.05, degree=1, kernel=poly;, score=0.499 total time=   6.3s\n",
            "[CV 5/5] END .....C=0.05, degree=1, kernel=poly;, score=0.527 total time=   6.3s\n",
            "[CV 1/5] END ......C=0.05, degree=1, kernel=rbf;, score=0.534 total time=  10.2s\n",
            "[CV 2/5] END ......C=0.05, degree=1, kernel=rbf;, score=0.551 total time=  10.3s\n",
            "[CV 3/5] END ......C=0.05, degree=1, kernel=rbf;, score=0.566 total time=  10.1s\n",
            "[CV 4/5] END ......C=0.05, degree=1, kernel=rbf;, score=0.532 total time=  10.3s\n",
            "[CV 5/5] END ......C=0.05, degree=1, kernel=rbf;, score=0.546 total time=  10.2s\n",
            "[CV 1/5] END .....C=0.05, degree=2, kernel=poly;, score=0.504 total time=   6.8s\n",
            "[CV 2/5] END .....C=0.05, degree=2, kernel=poly;, score=0.514 total time=   6.7s\n",
            "[CV 3/5] END .....C=0.05, degree=2, kernel=poly;, score=0.505 total time=   6.6s\n",
            "[CV 4/5] END .....C=0.05, degree=2, kernel=poly;, score=0.498 total time=   6.9s\n",
            "[CV 5/5] END .....C=0.05, degree=2, kernel=poly;, score=0.510 total time=   6.8s\n",
            "[CV 1/5] END ......C=0.05, degree=2, kernel=rbf;, score=0.534 total time=  11.2s\n",
            "[CV 2/5] END ......C=0.05, degree=2, kernel=rbf;, score=0.551 total time=  10.3s\n",
            "[CV 3/5] END ......C=0.05, degree=2, kernel=rbf;, score=0.566 total time=  10.1s\n",
            "[CV 4/5] END ......C=0.05, degree=2, kernel=rbf;, score=0.532 total time=  10.4s\n",
            "[CV 5/5] END ......C=0.05, degree=2, kernel=rbf;, score=0.546 total time=  10.2s\n",
            "[CV 1/5] END .....C=0.05, degree=3, kernel=poly;, score=0.513 total time=   6.8s\n",
            "[CV 2/5] END .....C=0.05, degree=3, kernel=poly;, score=0.520 total time=   7.2s\n",
            "[CV 3/5] END .....C=0.05, degree=3, kernel=poly;, score=0.509 total time=   6.6s\n",
            "[CV 4/5] END .....C=0.05, degree=3, kernel=poly;, score=0.507 total time=   7.0s\n",
            "[CV 5/5] END .....C=0.05, degree=3, kernel=poly;, score=0.515 total time=   6.9s\n",
            "[CV 1/5] END ......C=0.05, degree=3, kernel=rbf;, score=0.534 total time=  10.1s\n",
            "[CV 2/5] END ......C=0.05, degree=3, kernel=rbf;, score=0.551 total time=  10.3s\n",
            "[CV 3/5] END ......C=0.05, degree=3, kernel=rbf;, score=0.566 total time=  10.2s\n",
            "[CV 4/5] END ......C=0.05, degree=3, kernel=rbf;, score=0.532 total time=  10.2s\n",
            "[CV 5/5] END ......C=0.05, degree=3, kernel=rbf;, score=0.546 total time=  10.2s\n",
            "[CV 1/5] END .....C=0.05, degree=4, kernel=poly;, score=0.527 total time=   7.6s\n",
            "[CV 2/5] END .....C=0.05, degree=4, kernel=poly;, score=0.522 total time=   7.4s\n",
            "[CV 3/5] END .....C=0.05, degree=4, kernel=poly;, score=0.518 total time=   7.6s\n",
            "[CV 4/5] END .....C=0.05, degree=4, kernel=poly;, score=0.514 total time=   7.5s\n",
            "[CV 5/5] END .....C=0.05, degree=4, kernel=poly;, score=0.522 total time=   7.4s\n",
            "[CV 1/5] END ......C=0.05, degree=4, kernel=rbf;, score=0.534 total time=  10.2s\n",
            "[CV 2/5] END ......C=0.05, degree=4, kernel=rbf;, score=0.551 total time=  10.3s\n",
            "[CV 3/5] END ......C=0.05, degree=4, kernel=rbf;, score=0.566 total time=  10.2s\n",
            "[CV 4/5] END ......C=0.05, degree=4, kernel=rbf;, score=0.532 total time=  10.2s\n",
            "[CV 5/5] END ......C=0.05, degree=4, kernel=rbf;, score=0.546 total time=  10.2s\n",
            "[CV 1/5] END ......C=0.1, degree=1, kernel=poly;, score=0.499 total time=   6.2s\n",
            "[CV 2/5] END ......C=0.1, degree=1, kernel=poly;, score=0.537 total time=   6.2s\n",
            "[CV 3/5] END ......C=0.1, degree=1, kernel=poly;, score=0.562 total time=   6.2s\n",
            "[CV 4/5] END ......C=0.1, degree=1, kernel=poly;, score=0.516 total time=   6.3s\n",
            "[CV 5/5] END ......C=0.1, degree=1, kernel=poly;, score=0.534 total time=   6.2s\n",
            "[CV 1/5] END .......C=0.1, degree=1, kernel=rbf;, score=0.515 total time=  11.2s\n",
            "[CV 2/5] END .......C=0.1, degree=1, kernel=rbf;, score=0.529 total time=  10.3s\n",
            "[CV 3/5] END .......C=0.1, degree=1, kernel=rbf;, score=0.559 total time=  10.3s\n",
            "[CV 4/5] END .......C=0.1, degree=1, kernel=rbf;, score=0.515 total time=  10.1s\n",
            "[CV 5/5] END .......C=0.1, degree=1, kernel=rbf;, score=0.542 total time=  10.1s\n",
            "[CV 1/5] END ......C=0.1, degree=2, kernel=poly;, score=0.506 total time=   6.8s\n",
            "[CV 2/5] END ......C=0.1, degree=2, kernel=poly;, score=0.519 total time=   6.5s\n",
            "[CV 3/5] END ......C=0.1, degree=2, kernel=poly;, score=0.514 total time=   6.8s\n",
            "[CV 4/5] END ......C=0.1, degree=2, kernel=poly;, score=0.502 total time=   6.6s\n",
            "[CV 5/5] END ......C=0.1, degree=2, kernel=poly;, score=0.511 total time=   6.4s\n",
            "[CV 1/5] END .......C=0.1, degree=2, kernel=rbf;, score=0.515 total time=  10.2s\n",
            "[CV 2/5] END .......C=0.1, degree=2, kernel=rbf;, score=0.529 total time=  10.2s\n",
            "[CV 3/5] END .......C=0.1, degree=2, kernel=rbf;, score=0.559 total time=  10.3s\n",
            "[CV 4/5] END .......C=0.1, degree=2, kernel=rbf;, score=0.515 total time=  10.0s\n",
            "[CV 5/5] END .......C=0.1, degree=2, kernel=rbf;, score=0.542 total time=  10.1s\n",
            "[CV 1/5] END ......C=0.1, degree=3, kernel=poly;, score=0.524 total time=   7.0s\n",
            "[CV 2/5] END ......C=0.1, degree=3, kernel=poly;, score=0.524 total time=   7.0s\n",
            "[CV 3/5] END ......C=0.1, degree=3, kernel=poly;, score=0.515 total time=   6.8s\n",
            "[CV 4/5] END ......C=0.1, degree=3, kernel=poly;, score=0.510 total time=   6.9s\n",
            "[CV 5/5] END ......C=0.1, degree=3, kernel=poly;, score=0.521 total time=   7.1s\n",
            "[CV 1/5] END .......C=0.1, degree=3, kernel=rbf;, score=0.515 total time=  10.2s\n",
            "[CV 2/5] END .......C=0.1, degree=3, kernel=rbf;, score=0.529 total time=  10.2s\n",
            "[CV 3/5] END .......C=0.1, degree=3, kernel=rbf;, score=0.559 total time=  10.2s\n",
            "[CV 4/5] END .......C=0.1, degree=3, kernel=rbf;, score=0.515 total time=  10.2s\n",
            "[CV 5/5] END .......C=0.1, degree=3, kernel=rbf;, score=0.542 total time=  10.2s\n",
            "[CV 1/5] END ......C=0.1, degree=4, kernel=poly;, score=0.529 total time=   7.9s\n",
            "[CV 2/5] END ......C=0.1, degree=4, kernel=poly;, score=0.521 total time=   7.3s\n",
            "[CV 3/5] END ......C=0.1, degree=4, kernel=poly;, score=0.523 total time=   7.7s\n",
            "[CV 4/5] END ......C=0.1, degree=4, kernel=poly;, score=0.517 total time=   7.2s\n",
            "[CV 5/5] END ......C=0.1, degree=4, kernel=poly;, score=0.520 total time=   7.4s\n",
            "[CV 1/5] END .......C=0.1, degree=4, kernel=rbf;, score=0.515 total time=  11.2s\n",
            "[CV 2/5] END .......C=0.1, degree=4, kernel=rbf;, score=0.529 total time=  10.2s\n",
            "[CV 3/5] END .......C=0.1, degree=4, kernel=rbf;, score=0.559 total time=  10.3s\n",
            "[CV 4/5] END .......C=0.1, degree=4, kernel=rbf;, score=0.515 total time=  10.1s\n",
            "[CV 5/5] END .......C=0.1, degree=4, kernel=rbf;, score=0.542 total time=  10.1s\n",
            "[CV 1/5] END ......C=0.5, degree=1, kernel=poly;, score=0.507 total time=   6.2s\n",
            "[CV 2/5] END ......C=0.5, degree=1, kernel=poly;, score=0.539 total time=   6.2s\n",
            "[CV 3/5] END ......C=0.5, degree=1, kernel=poly;, score=0.550 total time=   6.1s\n",
            "[CV 4/5] END ......C=0.5, degree=1, kernel=poly;, score=0.519 total time=   6.2s\n",
            "[CV 5/5] END ......C=0.5, degree=1, kernel=poly;, score=0.529 total time=   6.4s\n",
            "[CV 1/5] END .......C=0.5, degree=1, kernel=rbf;, score=0.538 total time=  10.1s\n",
            "[CV 2/5] END .......C=0.5, degree=1, kernel=rbf;, score=0.555 total time=  10.0s\n",
            "[CV 3/5] END .......C=0.5, degree=1, kernel=rbf;, score=0.576 total time=  10.0s\n",
            "[CV 4/5] END .......C=0.5, degree=1, kernel=rbf;, score=0.542 total time=  10.0s\n",
            "[CV 5/5] END .......C=0.5, degree=1, kernel=rbf;, score=0.546 total time=  10.0s\n",
            "[CV 1/5] END ......C=0.5, degree=2, kernel=poly;, score=0.553 total time=   6.8s\n",
            "[CV 2/5] END ......C=0.5, degree=2, kernel=poly;, score=0.544 total time=   6.5s\n",
            "[CV 3/5] END ......C=0.5, degree=2, kernel=poly;, score=0.540 total time=   6.7s\n",
            "[CV 4/5] END ......C=0.5, degree=2, kernel=poly;, score=0.529 total time=   6.8s\n",
            "[CV 5/5] END ......C=0.5, degree=2, kernel=poly;, score=0.545 total time=   6.7s\n",
            "[CV 1/5] END .......C=0.5, degree=2, kernel=rbf;, score=0.538 total time=  10.0s\n",
            "[CV 2/5] END .......C=0.5, degree=2, kernel=rbf;, score=0.555 total time=  10.1s\n",
            "[CV 3/5] END .......C=0.5, degree=2, kernel=rbf;, score=0.576 total time=  10.0s\n",
            "[CV 4/5] END .......C=0.5, degree=2, kernel=rbf;, score=0.542 total time=  10.0s\n",
            "[CV 5/5] END .......C=0.5, degree=2, kernel=rbf;, score=0.546 total time=  10.0s\n",
            "[CV 1/5] END ......C=0.5, degree=3, kernel=poly;, score=0.534 total time=   7.3s\n",
            "[CV 2/5] END ......C=0.5, degree=3, kernel=poly;, score=0.527 total time=   7.2s\n",
            "[CV 3/5] END ......C=0.5, degree=3, kernel=poly;, score=0.531 total time=   6.9s\n",
            "[CV 4/5] END ......C=0.5, degree=3, kernel=poly;, score=0.522 total time=   7.0s\n",
            "[CV 5/5] END ......C=0.5, degree=3, kernel=poly;, score=0.525 total time=   6.8s\n",
            "[CV 1/5] END .......C=0.5, degree=3, kernel=rbf;, score=0.538 total time=  10.0s\n",
            "[CV 2/5] END .......C=0.5, degree=3, kernel=rbf;, score=0.555 total time=  11.1s\n",
            "[CV 3/5] END .......C=0.5, degree=3, kernel=rbf;, score=0.576 total time=  10.0s\n",
            "[CV 4/5] END .......C=0.5, degree=3, kernel=rbf;, score=0.542 total time=  10.0s\n",
            "[CV 5/5] END .......C=0.5, degree=3, kernel=rbf;, score=0.546 total time=  10.0s\n",
            "[CV 1/5] END ......C=0.5, degree=4, kernel=poly;, score=0.531 total time=   8.0s\n",
            "[CV 2/5] END ......C=0.5, degree=4, kernel=poly;, score=0.529 total time=   8.0s\n",
            "[CV 3/5] END ......C=0.5, degree=4, kernel=poly;, score=0.528 total time=   8.0s\n",
            "[CV 4/5] END ......C=0.5, degree=4, kernel=poly;, score=0.520 total time=   8.1s\n",
            "[CV 5/5] END ......C=0.5, degree=4, kernel=poly;, score=0.528 total time=   7.7s\n",
            "[CV 1/5] END .......C=0.5, degree=4, kernel=rbf;, score=0.538 total time=  10.0s\n",
            "[CV 2/5] END .......C=0.5, degree=4, kernel=rbf;, score=0.555 total time=  10.0s\n",
            "[CV 3/5] END .......C=0.5, degree=4, kernel=rbf;, score=0.576 total time=  10.2s\n",
            "[CV 4/5] END .......C=0.5, degree=4, kernel=rbf;, score=0.542 total time=  10.0s\n",
            "[CV 5/5] END .......C=0.5, degree=4, kernel=rbf;, score=0.546 total time=  10.0s\n",
            "[CV 1/5] END ........C=1, degree=1, kernel=poly;, score=0.522 total time=   6.2s\n",
            "[CV 2/5] END ........C=1, degree=1, kernel=poly;, score=0.558 total time=   6.2s\n",
            "[CV 3/5] END ........C=1, degree=1, kernel=poly;, score=0.566 total time=   6.1s\n",
            "[CV 4/5] END ........C=1, degree=1, kernel=poly;, score=0.537 total time=   6.3s\n",
            "[CV 5/5] END ........C=1, degree=1, kernel=poly;, score=0.553 total time=   6.3s\n",
            "[CV 1/5] END .........C=1, degree=1, kernel=rbf;, score=0.550 total time=   9.9s\n",
            "[CV 2/5] END .........C=1, degree=1, kernel=rbf;, score=0.577 total time=   9.7s\n",
            "[CV 3/5] END .........C=1, degree=1, kernel=rbf;, score=0.606 total time=   9.9s\n",
            "[CV 4/5] END .........C=1, degree=1, kernel=rbf;, score=0.564 total time=  10.1s\n",
            "[CV 5/5] END .........C=1, degree=1, kernel=rbf;, score=0.570 total time=   9.9s\n",
            "[CV 1/5] END ........C=1, degree=2, kernel=poly;, score=0.591 total time=   6.5s\n",
            "[CV 2/5] END ........C=1, degree=2, kernel=poly;, score=0.558 total time=   6.5s\n",
            "[CV 3/5] END ........C=1, degree=2, kernel=poly;, score=0.566 total time=   7.0s\n",
            "[CV 4/5] END ........C=1, degree=2, kernel=poly;, score=0.569 total time=   6.9s\n",
            "[CV 5/5] END ........C=1, degree=2, kernel=poly;, score=0.567 total time=   6.9s\n",
            "[CV 1/5] END .........C=1, degree=2, kernel=rbf;, score=0.550 total time=   9.9s\n",
            "[CV 2/5] END .........C=1, degree=2, kernel=rbf;, score=0.577 total time=  10.7s\n",
            "[CV 3/5] END .........C=1, degree=2, kernel=rbf;, score=0.606 total time=   9.8s\n",
            "[CV 4/5] END .........C=1, degree=2, kernel=rbf;, score=0.564 total time=   9.9s\n",
            "[CV 5/5] END .........C=1, degree=2, kernel=rbf;, score=0.570 total time=   9.9s\n",
            "[CV 1/5] END ........C=1, degree=3, kernel=poly;, score=0.537 total time=   6.8s\n",
            "[CV 2/5] END ........C=1, degree=3, kernel=poly;, score=0.535 total time=   7.4s\n",
            "[CV 3/5] END ........C=1, degree=3, kernel=poly;, score=0.537 total time=   7.0s\n",
            "[CV 4/5] END ........C=1, degree=3, kernel=poly;, score=0.527 total time=   6.8s\n",
            "[CV 5/5] END ........C=1, degree=3, kernel=poly;, score=0.532 total time=   7.0s\n",
            "[CV 1/5] END .........C=1, degree=3, kernel=rbf;, score=0.550 total time=   9.9s\n",
            "[CV 2/5] END .........C=1, degree=3, kernel=rbf;, score=0.577 total time=   9.8s\n",
            "[CV 3/5] END .........C=1, degree=3, kernel=rbf;, score=0.606 total time=   9.8s\n",
            "[CV 4/5] END .........C=1, degree=3, kernel=rbf;, score=0.564 total time=   9.9s\n",
            "[CV 5/5] END .........C=1, degree=3, kernel=rbf;, score=0.570 total time=   9.9s\n",
            "[CV 1/5] END ........C=1, degree=4, kernel=poly;, score=0.533 total time=   8.3s\n",
            "[CV 2/5] END ........C=1, degree=4, kernel=poly;, score=0.528 total time=   8.6s\n",
            "[CV 3/5] END ........C=1, degree=4, kernel=poly;, score=0.528 total time=   8.1s\n",
            "[CV 4/5] END ........C=1, degree=4, kernel=poly;, score=0.522 total time=   8.7s\n",
            "[CV 5/5] END ........C=1, degree=4, kernel=poly;, score=0.528 total time=   7.7s\n",
            "[CV 1/5] END .........C=1, degree=4, kernel=rbf;, score=0.550 total time=  10.0s\n",
            "[CV 2/5] END .........C=1, degree=4, kernel=rbf;, score=0.577 total time=   9.8s\n",
            "[CV 3/5] END .........C=1, degree=4, kernel=rbf;, score=0.606 total time=   9.8s\n",
            "[CV 4/5] END .........C=1, degree=4, kernel=rbf;, score=0.564 total time=   9.9s\n",
            "[CV 5/5] END .........C=1, degree=4, kernel=rbf;, score=0.570 total time=  10.0s\n",
            "[CV 1/5] END .......C=10, degree=1, kernel=poly;, score=0.612 total time=   6.7s\n",
            "[CV 2/5] END .......C=10, degree=1, kernel=poly;, score=0.593 total time=   6.7s\n",
            "[CV 3/5] END .......C=10, degree=1, kernel=poly;, score=0.599 total time=   6.9s\n",
            "[CV 4/5] END .......C=10, degree=1, kernel=poly;, score=0.608 total time=   6.8s\n",
            "[CV 5/5] END .......C=10, degree=1, kernel=poly;, score=0.603 total time=   6.8s\n",
            "[CV 1/5] END ........C=10, degree=1, kernel=rbf;, score=0.622 total time=   9.4s\n",
            "[CV 2/5] END ........C=10, degree=1, kernel=rbf;, score=0.613 total time=  10.3s\n",
            "[CV 3/5] END ........C=10, degree=1, kernel=rbf;, score=0.621 total time=   9.4s\n",
            "[CV 4/5] END ........C=10, degree=1, kernel=rbf;, score=0.612 total time=   9.2s\n",
            "[CV 5/5] END ........C=10, degree=1, kernel=rbf;, score=0.613 total time=   9.3s\n",
            "[CV 1/5] END .......C=10, degree=2, kernel=poly;, score=0.573 total time=   7.7s\n",
            "[CV 2/5] END .......C=10, degree=2, kernel=poly;, score=0.591 total time=   7.7s\n",
            "[CV 3/5] END .......C=10, degree=2, kernel=poly;, score=0.603 total time=   7.3s\n",
            "[CV 4/5] END .......C=10, degree=2, kernel=poly;, score=0.584 total time=   7.5s\n",
            "[CV 5/5] END .......C=10, degree=2, kernel=poly;, score=0.599 total time=   7.6s\n",
            "[CV 1/5] END ........C=10, degree=2, kernel=rbf;, score=0.622 total time=   9.4s\n",
            "[CV 2/5] END ........C=10, degree=2, kernel=rbf;, score=0.613 total time=   9.2s\n",
            "[CV 3/5] END ........C=10, degree=2, kernel=rbf;, score=0.621 total time=   9.3s\n",
            "[CV 4/5] END ........C=10, degree=2, kernel=rbf;, score=0.612 total time=   9.2s\n",
            "[CV 5/5] END ........C=10, degree=2, kernel=rbf;, score=0.613 total time=   9.3s\n",
            "[CV 1/5] END .......C=10, degree=3, kernel=poly;, score=0.578 total time=   8.8s\n",
            "[CV 2/5] END .......C=10, degree=3, kernel=poly;, score=0.565 total time=   9.2s\n",
            "[CV 3/5] END .......C=10, degree=3, kernel=poly;, score=0.583 total time=   9.1s\n",
            "[CV 4/5] END .......C=10, degree=3, kernel=poly;, score=0.559 total time=   9.0s\n",
            "[CV 5/5] END .......C=10, degree=3, kernel=poly;, score=0.574 total time=   9.3s\n",
            "[CV 1/5] END ........C=10, degree=3, kernel=rbf;, score=0.622 total time=   9.4s\n",
            "[CV 2/5] END ........C=10, degree=3, kernel=rbf;, score=0.613 total time=   9.3s\n",
            "[CV 3/5] END ........C=10, degree=3, kernel=rbf;, score=0.621 total time=   9.4s\n",
            "[CV 4/5] END ........C=10, degree=3, kernel=rbf;, score=0.612 total time=   9.2s\n",
            "[CV 5/5] END ........C=10, degree=3, kernel=rbf;, score=0.613 total time=   9.2s\n",
            "[CV 1/5] END .......C=10, degree=4, kernel=poly;, score=0.539 total time=  14.6s\n",
            "[CV 2/5] END .......C=10, degree=4, kernel=poly;, score=0.542 total time=  13.1s\n",
            "[CV 3/5] END .......C=10, degree=4, kernel=poly;, score=0.537 total time=  11.7s\n",
            "[CV 4/5] END .......C=10, degree=4, kernel=poly;, score=0.531 total time=  14.0s\n",
            "[CV 5/5] END .......C=10, degree=4, kernel=poly;, score=0.538 total time=  11.8s\n",
            "[CV 1/5] END ........C=10, degree=4, kernel=rbf;, score=0.622 total time=   9.4s\n",
            "[CV 2/5] END ........C=10, degree=4, kernel=rbf;, score=0.613 total time=   9.2s\n",
            "[CV 3/5] END ........C=10, degree=4, kernel=rbf;, score=0.621 total time=   9.3s\n",
            "[CV 4/5] END ........C=10, degree=4, kernel=rbf;, score=0.612 total time=   9.2s\n",
            "[CV 5/5] END ........C=10, degree=4, kernel=rbf;, score=0.613 total time=   9.2s\n",
            "[CV 1/5] END .......C=50, degree=1, kernel=poly;, score=0.614 total time=   7.9s\n",
            "[CV 2/5] END .......C=50, degree=1, kernel=poly;, score=0.599 total time=   8.0s\n",
            "[CV 3/5] END .......C=50, degree=1, kernel=poly;, score=0.608 total time=   8.7s\n",
            "[CV 4/5] END .......C=50, degree=1, kernel=poly;, score=0.611 total time=   8.1s\n",
            "[CV 5/5] END .......C=50, degree=1, kernel=poly;, score=0.608 total time=   8.6s\n",
            "[CV 1/5] END ........C=50, degree=1, kernel=rbf;, score=0.619 total time=   9.4s\n",
            "[CV 2/5] END ........C=50, degree=1, kernel=rbf;, score=0.615 total time=   9.4s\n",
            "[CV 3/5] END ........C=50, degree=1, kernel=rbf;, score=0.625 total time=   9.6s\n",
            "[CV 4/5] END ........C=50, degree=1, kernel=rbf;, score=0.619 total time=   9.5s\n",
            "[CV 5/5] END ........C=50, degree=1, kernel=rbf;, score=0.617 total time=   9.6s\n",
            "[CV 1/5] END .......C=50, degree=2, kernel=poly;, score=0.586 total time=   9.7s\n",
            "[CV 2/5] END .......C=50, degree=2, kernel=poly;, score=0.597 total time=   9.2s\n",
            "[CV 3/5] END .......C=50, degree=2, kernel=poly;, score=0.611 total time=   9.1s\n",
            "[CV 4/5] END .......C=50, degree=2, kernel=poly;, score=0.598 total time=   9.3s\n",
            "[CV 5/5] END .......C=50, degree=2, kernel=poly;, score=0.604 total time=   9.2s\n",
            "[CV 1/5] END ........C=50, degree=2, kernel=rbf;, score=0.619 total time=   9.4s\n",
            "[CV 2/5] END ........C=50, degree=2, kernel=rbf;, score=0.615 total time=   9.4s\n",
            "[CV 3/5] END ........C=50, degree=2, kernel=rbf;, score=0.625 total time=   9.5s\n",
            "[CV 4/5] END ........C=50, degree=2, kernel=rbf;, score=0.619 total time=   9.5s\n",
            "[CV 5/5] END ........C=50, degree=2, kernel=rbf;, score=0.617 total time=   9.5s\n",
            "[CV 1/5] END .......C=50, degree=3, kernel=poly;, score=0.575 total time=  16.9s\n",
            "[CV 2/5] END .......C=50, degree=3, kernel=poly;, score=0.589 total time=  14.1s\n",
            "[CV 3/5] END .......C=50, degree=3, kernel=poly;, score=0.596 total time=  15.0s\n",
            "[CV 4/5] END .......C=50, degree=3, kernel=poly;, score=0.579 total time=  15.5s\n",
            "[CV 5/5] END .......C=50, degree=3, kernel=poly;, score=0.591 total time=  15.1s\n",
            "[CV 1/5] END ........C=50, degree=3, kernel=rbf;, score=0.619 total time=   9.5s\n",
            "[CV 2/5] END ........C=50, degree=3, kernel=rbf;, score=0.615 total time=   9.5s\n",
            "[CV 3/5] END ........C=50, degree=3, kernel=rbf;, score=0.625 total time=   9.5s\n",
            "[CV 4/5] END ........C=50, degree=3, kernel=rbf;, score=0.619 total time=   9.5s\n",
            "[CV 5/5] END ........C=50, degree=3, kernel=rbf;, score=0.617 total time=   9.6s\n",
            "[CV 1/5] END .......C=50, degree=4, kernel=poly;, score=0.560 total time=  28.0s\n",
            "[CV 2/5] END .......C=50, degree=4, kernel=poly;, score=0.558 total time=  26.0s\n",
            "[CV 3/5] END .......C=50, degree=4, kernel=poly;, score=0.566 total time=  20.2s\n",
            "[CV 4/5] END .......C=50, degree=4, kernel=poly;, score=0.545 total time=  25.3s\n",
            "[CV 5/5] END .......C=50, degree=4, kernel=poly;, score=0.561 total time=  25.9s\n",
            "[CV 1/5] END ........C=50, degree=4, kernel=rbf;, score=0.619 total time=   9.5s\n",
            "[CV 2/5] END ........C=50, degree=4, kernel=rbf;, score=0.615 total time=  10.6s\n",
            "[CV 3/5] END ........C=50, degree=4, kernel=rbf;, score=0.625 total time=   9.6s\n",
            "[CV 4/5] END ........C=50, degree=4, kernel=rbf;, score=0.619 total time=   9.6s\n",
            "[CV 5/5] END ........C=50, degree=4, kernel=rbf;, score=0.617 total time=   9.5s\n",
            "[CV 1/5] END ......C=100, degree=1, kernel=poly;, score=0.616 total time=   9.0s\n",
            "[CV 2/5] END ......C=100, degree=1, kernel=poly;, score=0.599 total time=   9.0s\n",
            "[CV 3/5] END ......C=100, degree=1, kernel=poly;, score=0.607 total time=   9.5s\n",
            "[CV 4/5] END ......C=100, degree=1, kernel=poly;, score=0.613 total time=   9.1s\n",
            "[CV 5/5] END ......C=100, degree=1, kernel=poly;, score=0.609 total time=   9.7s\n",
            "[CV 1/5] END .......C=100, degree=1, kernel=rbf;, score=0.621 total time=   9.9s\n",
            "[CV 2/5] END .......C=100, degree=1, kernel=rbf;, score=0.615 total time=   9.9s\n",
            "[CV 3/5] END .......C=100, degree=1, kernel=rbf;, score=0.626 total time=   9.7s\n",
            "[CV 4/5] END .......C=100, degree=1, kernel=rbf;, score=0.619 total time=   9.9s\n",
            "[CV 5/5] END .......C=100, degree=1, kernel=rbf;, score=0.620 total time=   9.9s\n",
            "[CV 1/5] END ......C=100, degree=2, kernel=poly;, score=0.594 total time=  10.9s\n",
            "[CV 2/5] END ......C=100, degree=2, kernel=poly;, score=0.595 total time=  11.3s\n",
            "[CV 3/5] END ......C=100, degree=2, kernel=poly;, score=0.611 total time=  11.0s\n",
            "[CV 4/5] END ......C=100, degree=2, kernel=poly;, score=0.602 total time=  11.0s\n",
            "[CV 5/5] END ......C=100, degree=2, kernel=poly;, score=0.604 total time=  10.7s\n",
            "[CV 1/5] END .......C=100, degree=2, kernel=rbf;, score=0.621 total time=   9.8s\n",
            "[CV 2/5] END .......C=100, degree=2, kernel=rbf;, score=0.615 total time=   9.8s\n",
            "[CV 3/5] END .......C=100, degree=2, kernel=rbf;, score=0.626 total time=   9.6s\n",
            "[CV 4/5] END .......C=100, degree=2, kernel=rbf;, score=0.619 total time=   9.8s\n",
            "[CV 5/5] END .......C=100, degree=2, kernel=rbf;, score=0.620 total time=  10.0s\n",
            "[CV 1/5] END ......C=100, degree=3, kernel=poly;, score=0.575 total time=  23.0s\n",
            "[CV 2/5] END ......C=100, degree=3, kernel=poly;, score=0.585 total time=  20.9s\n",
            "[CV 3/5] END ......C=100, degree=3, kernel=poly;, score=0.597 total time=  18.8s\n",
            "[CV 4/5] END ......C=100, degree=3, kernel=poly;, score=0.580 total time=  21.7s\n",
            "[CV 5/5] END ......C=100, degree=3, kernel=poly;, score=0.592 total time=  20.2s\n",
            "[CV 1/5] END .......C=100, degree=3, kernel=rbf;, score=0.621 total time=   9.9s\n",
            "[CV 2/5] END .......C=100, degree=3, kernel=rbf;, score=0.615 total time=   9.8s\n",
            "[CV 3/5] END .......C=100, degree=3, kernel=rbf;, score=0.626 total time=   9.5s\n",
            "[CV 4/5] END .......C=100, degree=3, kernel=rbf;, score=0.619 total time=   9.9s\n",
            "[CV 5/5] END .......C=100, degree=3, kernel=rbf;, score=0.620 total time=  10.0s\n",
            "[CV 1/5] END ......C=100, degree=4, kernel=poly;, score=0.564 total time=  45.1s\n",
            "[CV 2/5] END ......C=100, degree=4, kernel=poly;, score=0.566 total time=  37.0s\n",
            "[CV 3/5] END ......C=100, degree=4, kernel=poly;, score=0.576 total time=  35.0s\n",
            "[CV 4/5] END ......C=100, degree=4, kernel=poly;, score=0.551 total time=  43.1s\n",
            "[CV 5/5] END ......C=100, degree=4, kernel=poly;, score=0.573 total time=  38.0s\n",
            "[CV 1/5] END .......C=100, degree=4, kernel=rbf;, score=0.621 total time=   9.8s\n",
            "[CV 2/5] END .......C=100, degree=4, kernel=rbf;, score=0.615 total time=   9.8s\n",
            "[CV 3/5] END .......C=100, degree=4, kernel=rbf;, score=0.626 total time=   9.6s\n",
            "[CV 4/5] END .......C=100, degree=4, kernel=rbf;, score=0.619 total time=  10.0s\n",
            "[CV 5/5] END .......C=100, degree=4, kernel=rbf;, score=0.620 total time=  10.0s\n"
          ]
        }
      ]
    },
    {
      "cell_type": "code",
      "source": [
        "gridSVM = gridSVM.best_estimator_\n",
        "SVM = TrainAndEval(gridSVM, X_train, y_train, X_test, y_test)\n",
        "SVM.eval()"
      ],
      "metadata": {
        "colab": {
          "base_uri": "https://localhost:8080/"
        },
        "id": "XQuwPG77nrT4",
        "outputId": "1887a6f8-353b-4283-979f-27aecb057513"
      },
      "execution_count": null,
      "outputs": [
        {
          "output_type": "stream",
          "name": "stdout",
          "text": [
            "True Negatives: 1217\n",
            "False Positives: 521\n",
            "False Negatives: 832\n",
            "True Positives: 969\n",
            "              precision    recall  f1-score   support\n",
            "\n",
            "           0       0.59      0.70      0.64      1738\n",
            "           1       0.65      0.54      0.59      1801\n",
            "\n",
            "    accuracy                           0.62      3539\n",
            "   macro avg       0.62      0.62      0.62      3539\n",
            "weighted avg       0.62      0.62      0.62      3539\n",
            "\n"
          ]
        }
      ]
    },
    {
      "cell_type": "markdown",
      "source": [
        "**The Results of Grid SVM Classifier:**\n",
        "\n",
        "\n",
        "*   **F1 Score = 59%**\n",
        "*   **Precision = 65%**\n",
        "*   **Recall = 54%**\n",
        "*   **Accuracy = 62%**"
      ],
      "metadata": {
        "id": "NC2TVqaUnw_3"
      }
    },
    {
      "cell_type": "markdown",
      "source": [
        "**The reason Random Forest is used but not simple Decision Tree becasue decision trees tend to over-fit quickly.**"
      ],
      "metadata": {
        "id": "Wck0-WN5n2ed"
      }
    },
    {
      "cell_type": "markdown",
      "source": [
        "# **Random Forest**"
      ],
      "metadata": {
        "id": "D0wwyemgn5Ei"
      }
    },
    {
      "cell_type": "code",
      "source": [
        "from sklearn.ensemble import RandomForestClassifier\n",
        "params = {\n",
        "    'n_estimators': [10, 50, 100, 300, 500],\n",
        "    'max_depth': [1, 3, 5],\n",
        "    'bootstrap': [True, False],\n",
        "    'min_samples_leaf': [1, 2, 4],\n",
        "    'min_samples_split': [2, 5, 10]\n",
        "}\n",
        "\n",
        "gridRF = GridSearchCV(estimator=RandomForestClassifier(), param_grid=params, cv=5, verbose=3)\n",
        "gridRF = gridRF.fit(X_train, y_train)"
      ],
      "metadata": {
        "colab": {
          "base_uri": "https://localhost:8080/"
        },
        "id": "3omI-N1cnt_6",
        "outputId": "2bc0abe7-1435-4b81-8515-b863b0081288"
      },
      "execution_count": null,
      "outputs": [
        {
          "output_type": "stream",
          "name": "stdout",
          "text": [
            "Fitting 5 folds for each of 270 candidates, totalling 1350 fits\n",
            "[CV 1/5] END bootstrap=True, max_depth=1, min_samples_leaf=1, min_samples_split=2, n_estimators=10;, score=0.585 total time=   0.0s\n",
            "[CV 2/5] END bootstrap=True, max_depth=1, min_samples_leaf=1, min_samples_split=2, n_estimators=10;, score=0.591 total time=   0.0s\n",
            "[CV 3/5] END bootstrap=True, max_depth=1, min_samples_leaf=1, min_samples_split=2, n_estimators=10;, score=0.645 total time=   0.0s\n",
            "[CV 4/5] END bootstrap=True, max_depth=1, min_samples_leaf=1, min_samples_split=2, n_estimators=10;, score=0.641 total time=   0.0s\n",
            "[CV 5/5] END bootstrap=True, max_depth=1, min_samples_leaf=1, min_samples_split=2, n_estimators=10;, score=0.642 total time=   0.0s\n",
            "[CV 1/5] END bootstrap=True, max_depth=1, min_samples_leaf=1, min_samples_split=2, n_estimators=50;, score=0.617 total time=   0.2s\n",
            "[CV 2/5] END bootstrap=True, max_depth=1, min_samples_leaf=1, min_samples_split=2, n_estimators=50;, score=0.637 total time=   0.2s\n",
            "[CV 3/5] END bootstrap=True, max_depth=1, min_samples_leaf=1, min_samples_split=2, n_estimators=50;, score=0.645 total time=   0.2s\n",
            "[CV 4/5] END bootstrap=True, max_depth=1, min_samples_leaf=1, min_samples_split=2, n_estimators=50;, score=0.628 total time=   0.2s\n",
            "[CV 5/5] END bootstrap=True, max_depth=1, min_samples_leaf=1, min_samples_split=2, n_estimators=50;, score=0.633 total time=   0.2s\n",
            "[CV 1/5] END bootstrap=True, max_depth=1, min_samples_leaf=1, min_samples_split=2, n_estimators=100;, score=0.638 total time=   0.3s\n",
            "[CV 2/5] END bootstrap=True, max_depth=1, min_samples_leaf=1, min_samples_split=2, n_estimators=100;, score=0.638 total time=   0.3s\n",
            "[CV 3/5] END bootstrap=True, max_depth=1, min_samples_leaf=1, min_samples_split=2, n_estimators=100;, score=0.645 total time=   0.3s\n",
            "[CV 4/5] END bootstrap=True, max_depth=1, min_samples_leaf=1, min_samples_split=2, n_estimators=100;, score=0.649 total time=   0.3s\n",
            "[CV 5/5] END bootstrap=True, max_depth=1, min_samples_leaf=1, min_samples_split=2, n_estimators=100;, score=0.642 total time=   0.3s\n",
            "[CV 1/5] END bootstrap=True, max_depth=1, min_samples_leaf=1, min_samples_split=2, n_estimators=300;, score=0.642 total time=   1.0s\n",
            "[CV 2/5] END bootstrap=True, max_depth=1, min_samples_leaf=1, min_samples_split=2, n_estimators=300;, score=0.634 total time=   0.9s\n",
            "[CV 3/5] END bootstrap=True, max_depth=1, min_samples_leaf=1, min_samples_split=2, n_estimators=300;, score=0.647 total time=   0.9s\n",
            "[CV 4/5] END bootstrap=True, max_depth=1, min_samples_leaf=1, min_samples_split=2, n_estimators=300;, score=0.638 total time=   0.9s\n",
            "[CV 5/5] END bootstrap=True, max_depth=1, min_samples_leaf=1, min_samples_split=2, n_estimators=300;, score=0.645 total time=   0.9s\n",
            "[CV 1/5] END bootstrap=True, max_depth=1, min_samples_leaf=1, min_samples_split=2, n_estimators=500;, score=0.644 total time=   1.5s\n",
            "[CV 2/5] END bootstrap=True, max_depth=1, min_samples_leaf=1, min_samples_split=2, n_estimators=500;, score=0.635 total time=   1.5s\n",
            "[CV 3/5] END bootstrap=True, max_depth=1, min_samples_leaf=1, min_samples_split=2, n_estimators=500;, score=0.647 total time=   1.5s\n",
            "[CV 4/5] END bootstrap=True, max_depth=1, min_samples_leaf=1, min_samples_split=2, n_estimators=500;, score=0.637 total time=   1.5s\n",
            "[CV 5/5] END bootstrap=True, max_depth=1, min_samples_leaf=1, min_samples_split=2, n_estimators=500;, score=0.643 total time=   1.5s\n",
            "[CV 1/5] END bootstrap=True, max_depth=1, min_samples_leaf=1, min_samples_split=5, n_estimators=10;, score=0.604 total time=   0.0s\n",
            "[CV 2/5] END bootstrap=True, max_depth=1, min_samples_leaf=1, min_samples_split=5, n_estimators=10;, score=0.643 total time=   0.0s\n",
            "[CV 3/5] END bootstrap=True, max_depth=1, min_samples_leaf=1, min_samples_split=5, n_estimators=10;, score=0.616 total time=   0.0s\n",
            "[CV 4/5] END bootstrap=True, max_depth=1, min_samples_leaf=1, min_samples_split=5, n_estimators=10;, score=0.594 total time=   0.0s\n",
            "[CV 5/5] END bootstrap=True, max_depth=1, min_samples_leaf=1, min_samples_split=5, n_estimators=10;, score=0.632 total time=   0.0s\n",
            "[CV 1/5] END bootstrap=True, max_depth=1, min_samples_leaf=1, min_samples_split=5, n_estimators=50;, score=0.645 total time=   0.2s\n",
            "[CV 2/5] END bootstrap=True, max_depth=1, min_samples_leaf=1, min_samples_split=5, n_estimators=50;, score=0.636 total time=   0.2s\n",
            "[CV 3/5] END bootstrap=True, max_depth=1, min_samples_leaf=1, min_samples_split=5, n_estimators=50;, score=0.647 total time=   0.2s\n",
            "[CV 4/5] END bootstrap=True, max_depth=1, min_samples_leaf=1, min_samples_split=5, n_estimators=50;, score=0.630 total time=   0.2s\n",
            "[CV 5/5] END bootstrap=True, max_depth=1, min_samples_leaf=1, min_samples_split=5, n_estimators=50;, score=0.638 total time=   0.2s\n",
            "[CV 1/5] END bootstrap=True, max_depth=1, min_samples_leaf=1, min_samples_split=5, n_estimators=100;, score=0.628 total time=   0.3s\n",
            "[CV 2/5] END bootstrap=True, max_depth=1, min_samples_leaf=1, min_samples_split=5, n_estimators=100;, score=0.638 total time=   0.3s\n",
            "[CV 3/5] END bootstrap=True, max_depth=1, min_samples_leaf=1, min_samples_split=5, n_estimators=100;, score=0.656 total time=   0.3s\n",
            "[CV 4/5] END bootstrap=True, max_depth=1, min_samples_leaf=1, min_samples_split=5, n_estimators=100;, score=0.633 total time=   0.3s\n",
            "[CV 5/5] END bootstrap=True, max_depth=1, min_samples_leaf=1, min_samples_split=5, n_estimators=100;, score=0.648 total time=   0.3s\n",
            "[CV 1/5] END bootstrap=True, max_depth=1, min_samples_leaf=1, min_samples_split=5, n_estimators=300;, score=0.648 total time=   0.9s\n",
            "[CV 2/5] END bootstrap=True, max_depth=1, min_samples_leaf=1, min_samples_split=5, n_estimators=300;, score=0.640 total time=   0.9s\n",
            "[CV 3/5] END bootstrap=True, max_depth=1, min_samples_leaf=1, min_samples_split=5, n_estimators=300;, score=0.647 total time=   0.9s\n",
            "[CV 4/5] END bootstrap=True, max_depth=1, min_samples_leaf=1, min_samples_split=5, n_estimators=300;, score=0.634 total time=   0.9s\n",
            "[CV 5/5] END bootstrap=True, max_depth=1, min_samples_leaf=1, min_samples_split=5, n_estimators=300;, score=0.646 total time=   0.9s\n",
            "[CV 1/5] END bootstrap=True, max_depth=1, min_samples_leaf=1, min_samples_split=5, n_estimators=500;, score=0.644 total time=   1.5s\n",
            "[CV 2/5] END bootstrap=True, max_depth=1, min_samples_leaf=1, min_samples_split=5, n_estimators=500;, score=0.635 total time=   1.5s\n",
            "[CV 3/5] END bootstrap=True, max_depth=1, min_samples_leaf=1, min_samples_split=5, n_estimators=500;, score=0.648 total time=   1.7s\n",
            "[CV 4/5] END bootstrap=True, max_depth=1, min_samples_leaf=1, min_samples_split=5, n_estimators=500;, score=0.635 total time=   1.6s\n",
            "[CV 5/5] END bootstrap=True, max_depth=1, min_samples_leaf=1, min_samples_split=5, n_estimators=500;, score=0.651 total time=   1.5s\n",
            "[CV 1/5] END bootstrap=True, max_depth=1, min_samples_leaf=1, min_samples_split=10, n_estimators=10;, score=0.612 total time=   0.0s\n",
            "[CV 2/5] END bootstrap=True, max_depth=1, min_samples_leaf=1, min_samples_split=10, n_estimators=10;, score=0.638 total time=   0.0s\n",
            "[CV 3/5] END bootstrap=True, max_depth=1, min_samples_leaf=1, min_samples_split=10, n_estimators=10;, score=0.657 total time=   0.0s\n",
            "[CV 4/5] END bootstrap=True, max_depth=1, min_samples_leaf=1, min_samples_split=10, n_estimators=10;, score=0.648 total time=   0.0s\n",
            "[CV 5/5] END bootstrap=True, max_depth=1, min_samples_leaf=1, min_samples_split=10, n_estimators=10;, score=0.642 total time=   0.0s\n",
            "[CV 1/5] END bootstrap=True, max_depth=1, min_samples_leaf=1, min_samples_split=10, n_estimators=50;, score=0.653 total time=   0.2s\n",
            "[CV 2/5] END bootstrap=True, max_depth=1, min_samples_leaf=1, min_samples_split=10, n_estimators=50;, score=0.639 total time=   0.2s\n",
            "[CV 3/5] END bootstrap=True, max_depth=1, min_samples_leaf=1, min_samples_split=10, n_estimators=50;, score=0.654 total time=   0.2s\n",
            "[CV 4/5] END bootstrap=True, max_depth=1, min_samples_leaf=1, min_samples_split=10, n_estimators=50;, score=0.649 total time=   0.2s\n",
            "[CV 5/5] END bootstrap=True, max_depth=1, min_samples_leaf=1, min_samples_split=10, n_estimators=50;, score=0.652 total time=   0.2s\n",
            "[CV 1/5] END bootstrap=True, max_depth=1, min_samples_leaf=1, min_samples_split=10, n_estimators=100;, score=0.647 total time=   0.3s\n",
            "[CV 2/5] END bootstrap=True, max_depth=1, min_samples_leaf=1, min_samples_split=10, n_estimators=100;, score=0.635 total time=   0.3s\n",
            "[CV 3/5] END bootstrap=True, max_depth=1, min_samples_leaf=1, min_samples_split=10, n_estimators=100;, score=0.657 total time=   0.3s\n",
            "[CV 4/5] END bootstrap=True, max_depth=1, min_samples_leaf=1, min_samples_split=10, n_estimators=100;, score=0.636 total time=   0.3s\n",
            "[CV 5/5] END bootstrap=True, max_depth=1, min_samples_leaf=1, min_samples_split=10, n_estimators=100;, score=0.645 total time=   0.3s\n",
            "[CV 1/5] END bootstrap=True, max_depth=1, min_samples_leaf=1, min_samples_split=10, n_estimators=300;, score=0.642 total time=   1.0s\n",
            "[CV 2/5] END bootstrap=True, max_depth=1, min_samples_leaf=1, min_samples_split=10, n_estimators=300;, score=0.635 total time=   0.9s\n",
            "[CV 3/5] END bootstrap=True, max_depth=1, min_samples_leaf=1, min_samples_split=10, n_estimators=300;, score=0.657 total time=   0.9s\n",
            "[CV 4/5] END bootstrap=True, max_depth=1, min_samples_leaf=1, min_samples_split=10, n_estimators=300;, score=0.635 total time=   0.9s\n",
            "[CV 5/5] END bootstrap=True, max_depth=1, min_samples_leaf=1, min_samples_split=10, n_estimators=300;, score=0.640 total time=   0.9s\n",
            "[CV 1/5] END bootstrap=True, max_depth=1, min_samples_leaf=1, min_samples_split=10, n_estimators=500;, score=0.621 total time=   1.6s\n",
            "[CV 2/5] END bootstrap=True, max_depth=1, min_samples_leaf=1, min_samples_split=10, n_estimators=500;, score=0.634 total time=   1.5s\n",
            "[CV 3/5] END bootstrap=True, max_depth=1, min_samples_leaf=1, min_samples_split=10, n_estimators=500;, score=0.649 total time=   1.6s\n",
            "[CV 4/5] END bootstrap=True, max_depth=1, min_samples_leaf=1, min_samples_split=10, n_estimators=500;, score=0.632 total time=   1.5s\n",
            "[CV 5/5] END bootstrap=True, max_depth=1, min_samples_leaf=1, min_samples_split=10, n_estimators=500;, score=0.644 total time=   1.6s\n",
            "[CV 1/5] END bootstrap=True, max_depth=1, min_samples_leaf=2, min_samples_split=2, n_estimators=10;, score=0.605 total time=   0.0s\n",
            "[CV 2/5] END bootstrap=True, max_depth=1, min_samples_leaf=2, min_samples_split=2, n_estimators=10;, score=0.632 total time=   0.0s\n",
            "[CV 3/5] END bootstrap=True, max_depth=1, min_samples_leaf=2, min_samples_split=2, n_estimators=10;, score=0.612 total time=   0.0s\n",
            "[CV 4/5] END bootstrap=True, max_depth=1, min_samples_leaf=2, min_samples_split=2, n_estimators=10;, score=0.635 total time=   0.0s\n",
            "[CV 5/5] END bootstrap=True, max_depth=1, min_samples_leaf=2, min_samples_split=2, n_estimators=10;, score=0.641 total time=   0.0s\n",
            "[CV 1/5] END bootstrap=True, max_depth=1, min_samples_leaf=2, min_samples_split=2, n_estimators=50;, score=0.648 total time=   0.2s\n",
            "[CV 2/5] END bootstrap=True, max_depth=1, min_samples_leaf=2, min_samples_split=2, n_estimators=50;, score=0.617 total time=   0.2s\n",
            "[CV 3/5] END bootstrap=True, max_depth=1, min_samples_leaf=2, min_samples_split=2, n_estimators=50;, score=0.643 total time=   0.2s\n",
            "[CV 4/5] END bootstrap=True, max_depth=1, min_samples_leaf=2, min_samples_split=2, n_estimators=50;, score=0.636 total time=   0.2s\n",
            "[CV 5/5] END bootstrap=True, max_depth=1, min_samples_leaf=2, min_samples_split=2, n_estimators=50;, score=0.645 total time=   0.2s\n",
            "[CV 1/5] END bootstrap=True, max_depth=1, min_samples_leaf=2, min_samples_split=2, n_estimators=100;, score=0.651 total time=   0.3s\n",
            "[CV 2/5] END bootstrap=True, max_depth=1, min_samples_leaf=2, min_samples_split=2, n_estimators=100;, score=0.646 total time=   0.3s\n",
            "[CV 3/5] END bootstrap=True, max_depth=1, min_samples_leaf=2, min_samples_split=2, n_estimators=100;, score=0.649 total time=   0.3s\n",
            "[CV 4/5] END bootstrap=True, max_depth=1, min_samples_leaf=2, min_samples_split=2, n_estimators=100;, score=0.632 total time=   0.3s\n",
            "[CV 5/5] END bootstrap=True, max_depth=1, min_samples_leaf=2, min_samples_split=2, n_estimators=100;, score=0.648 total time=   0.3s\n",
            "[CV 1/5] END bootstrap=True, max_depth=1, min_samples_leaf=2, min_samples_split=2, n_estimators=300;, score=0.640 total time=   1.0s\n",
            "[CV 2/5] END bootstrap=True, max_depth=1, min_samples_leaf=2, min_samples_split=2, n_estimators=300;, score=0.639 total time=   0.9s\n",
            "[CV 3/5] END bootstrap=True, max_depth=1, min_samples_leaf=2, min_samples_split=2, n_estimators=300;, score=0.657 total time=   1.0s\n",
            "[CV 4/5] END bootstrap=True, max_depth=1, min_samples_leaf=2, min_samples_split=2, n_estimators=300;, score=0.637 total time=   0.9s\n",
            "[CV 5/5] END bootstrap=True, max_depth=1, min_samples_leaf=2, min_samples_split=2, n_estimators=300;, score=0.641 total time=   0.9s\n",
            "[CV 1/5] END bootstrap=True, max_depth=1, min_samples_leaf=2, min_samples_split=2, n_estimators=500;, score=0.640 total time=   1.6s\n",
            "[CV 2/5] END bootstrap=True, max_depth=1, min_samples_leaf=2, min_samples_split=2, n_estimators=500;, score=0.636 total time=   1.6s\n",
            "[CV 3/5] END bootstrap=True, max_depth=1, min_samples_leaf=2, min_samples_split=2, n_estimators=500;, score=0.647 total time=   1.6s\n",
            "[CV 4/5] END bootstrap=True, max_depth=1, min_samples_leaf=2, min_samples_split=2, n_estimators=500;, score=0.634 total time=   1.6s\n",
            "[CV 5/5] END bootstrap=True, max_depth=1, min_samples_leaf=2, min_samples_split=2, n_estimators=500;, score=0.638 total time=   1.5s\n",
            "[CV 1/5] END bootstrap=True, max_depth=1, min_samples_leaf=2, min_samples_split=5, n_estimators=10;, score=0.624 total time=   0.0s\n",
            "[CV 2/5] END bootstrap=True, max_depth=1, min_samples_leaf=2, min_samples_split=5, n_estimators=10;, score=0.631 total time=   0.0s\n",
            "[CV 3/5] END bootstrap=True, max_depth=1, min_samples_leaf=2, min_samples_split=5, n_estimators=10;, score=0.645 total time=   0.0s\n",
            "[CV 4/5] END bootstrap=True, max_depth=1, min_samples_leaf=2, min_samples_split=5, n_estimators=10;, score=0.609 total time=   0.0s\n",
            "[CV 5/5] END bootstrap=True, max_depth=1, min_samples_leaf=2, min_samples_split=5, n_estimators=10;, score=0.647 total time=   0.0s\n",
            "[CV 1/5] END bootstrap=True, max_depth=1, min_samples_leaf=2, min_samples_split=5, n_estimators=50;, score=0.594 total time=   0.2s\n",
            "[CV 2/5] END bootstrap=True, max_depth=1, min_samples_leaf=2, min_samples_split=5, n_estimators=50;, score=0.639 total time=   0.2s\n",
            "[CV 3/5] END bootstrap=True, max_depth=1, min_samples_leaf=2, min_samples_split=5, n_estimators=50;, score=0.655 total time=   0.2s\n",
            "[CV 4/5] END bootstrap=True, max_depth=1, min_samples_leaf=2, min_samples_split=5, n_estimators=50;, score=0.644 total time=   0.2s\n",
            "[CV 5/5] END bootstrap=True, max_depth=1, min_samples_leaf=2, min_samples_split=5, n_estimators=50;, score=0.631 total time=   0.2s\n",
            "[CV 1/5] END bootstrap=True, max_depth=1, min_samples_leaf=2, min_samples_split=5, n_estimators=100;, score=0.643 total time=   0.3s\n",
            "[CV 2/5] END bootstrap=True, max_depth=1, min_samples_leaf=2, min_samples_split=5, n_estimators=100;, score=0.635 total time=   0.3s\n",
            "[CV 3/5] END bootstrap=True, max_depth=1, min_samples_leaf=2, min_samples_split=5, n_estimators=100;, score=0.631 total time=   0.3s\n",
            "[CV 4/5] END bootstrap=True, max_depth=1, min_samples_leaf=2, min_samples_split=5, n_estimators=100;, score=0.637 total time=   0.3s\n",
            "[CV 5/5] END bootstrap=True, max_depth=1, min_samples_leaf=2, min_samples_split=5, n_estimators=100;, score=0.644 total time=   0.3s\n",
            "[CV 1/5] END bootstrap=True, max_depth=1, min_samples_leaf=2, min_samples_split=5, n_estimators=300;, score=0.643 total time=   0.9s\n",
            "[CV 2/5] END bootstrap=True, max_depth=1, min_samples_leaf=2, min_samples_split=5, n_estimators=300;, score=0.632 total time=   1.0s\n",
            "[CV 3/5] END bootstrap=True, max_depth=1, min_samples_leaf=2, min_samples_split=5, n_estimators=300;, score=0.656 total time=   0.9s\n",
            "[CV 4/5] END bootstrap=True, max_depth=1, min_samples_leaf=2, min_samples_split=5, n_estimators=300;, score=0.629 total time=   0.9s\n",
            "[CV 5/5] END bootstrap=True, max_depth=1, min_samples_leaf=2, min_samples_split=5, n_estimators=300;, score=0.652 total time=   0.9s\n",
            "[CV 1/5] END bootstrap=True, max_depth=1, min_samples_leaf=2, min_samples_split=5, n_estimators=500;, score=0.644 total time=   1.5s\n",
            "[CV 2/5] END bootstrap=True, max_depth=1, min_samples_leaf=2, min_samples_split=5, n_estimators=500;, score=0.640 total time=   1.5s\n",
            "[CV 3/5] END bootstrap=True, max_depth=1, min_samples_leaf=2, min_samples_split=5, n_estimators=500;, score=0.646 total time=   1.5s\n",
            "[CV 4/5] END bootstrap=True, max_depth=1, min_samples_leaf=2, min_samples_split=5, n_estimators=500;, score=0.635 total time=   1.5s\n",
            "[CV 5/5] END bootstrap=True, max_depth=1, min_samples_leaf=2, min_samples_split=5, n_estimators=500;, score=0.643 total time=   1.5s\n",
            "[CV 1/5] END bootstrap=True, max_depth=1, min_samples_leaf=2, min_samples_split=10, n_estimators=10;, score=0.604 total time=   0.0s\n",
            "[CV 2/5] END bootstrap=True, max_depth=1, min_samples_leaf=2, min_samples_split=10, n_estimators=10;, score=0.617 total time=   0.0s\n",
            "[CV 3/5] END bootstrap=True, max_depth=1, min_samples_leaf=2, min_samples_split=10, n_estimators=10;, score=0.651 total time=   0.0s\n",
            "[CV 4/5] END bootstrap=True, max_depth=1, min_samples_leaf=2, min_samples_split=10, n_estimators=10;, score=0.637 total time=   0.0s\n",
            "[CV 5/5] END bootstrap=True, max_depth=1, min_samples_leaf=2, min_samples_split=10, n_estimators=10;, score=0.637 total time=   0.0s\n",
            "[CV 1/5] END bootstrap=True, max_depth=1, min_samples_leaf=2, min_samples_split=10, n_estimators=50;, score=0.643 total time=   0.2s\n",
            "[CV 2/5] END bootstrap=True, max_depth=1, min_samples_leaf=2, min_samples_split=10, n_estimators=50;, score=0.643 total time=   0.2s\n",
            "[CV 3/5] END bootstrap=True, max_depth=1, min_samples_leaf=2, min_samples_split=10, n_estimators=50;, score=0.652 total time=   0.2s\n",
            "[CV 4/5] END bootstrap=True, max_depth=1, min_samples_leaf=2, min_samples_split=10, n_estimators=50;, score=0.637 total time=   0.2s\n",
            "[CV 5/5] END bootstrap=True, max_depth=1, min_samples_leaf=2, min_samples_split=10, n_estimators=50;, score=0.636 total time=   0.2s\n",
            "[CV 1/5] END bootstrap=True, max_depth=1, min_samples_leaf=2, min_samples_split=10, n_estimators=100;, score=0.640 total time=   0.3s\n",
            "[CV 2/5] END bootstrap=True, max_depth=1, min_samples_leaf=2, min_samples_split=10, n_estimators=100;, score=0.644 total time=   0.3s\n",
            "[CV 3/5] END bootstrap=True, max_depth=1, min_samples_leaf=2, min_samples_split=10, n_estimators=100;, score=0.629 total time=   0.3s\n",
            "[CV 4/5] END bootstrap=True, max_depth=1, min_samples_leaf=2, min_samples_split=10, n_estimators=100;, score=0.636 total time=   0.3s\n",
            "[CV 5/5] END bootstrap=True, max_depth=1, min_samples_leaf=2, min_samples_split=10, n_estimators=100;, score=0.645 total time=   0.3s\n",
            "[CV 1/5] END bootstrap=True, max_depth=1, min_samples_leaf=2, min_samples_split=10, n_estimators=300;, score=0.644 total time=   0.9s\n",
            "[CV 2/5] END bootstrap=True, max_depth=1, min_samples_leaf=2, min_samples_split=10, n_estimators=300;, score=0.634 total time=   0.9s\n",
            "[CV 3/5] END bootstrap=True, max_depth=1, min_samples_leaf=2, min_samples_split=10, n_estimators=300;, score=0.651 total time=   0.9s\n",
            "[CV 4/5] END bootstrap=True, max_depth=1, min_samples_leaf=2, min_samples_split=10, n_estimators=300;, score=0.634 total time=   0.9s\n",
            "[CV 5/5] END bootstrap=True, max_depth=1, min_samples_leaf=2, min_samples_split=10, n_estimators=300;, score=0.639 total time=   0.9s\n",
            "[CV 1/5] END bootstrap=True, max_depth=1, min_samples_leaf=2, min_samples_split=10, n_estimators=500;, score=0.621 total time=   1.5s\n",
            "[CV 2/5] END bootstrap=True, max_depth=1, min_samples_leaf=2, min_samples_split=10, n_estimators=500;, score=0.634 total time=   1.6s\n",
            "[CV 3/5] END bootstrap=True, max_depth=1, min_samples_leaf=2, min_samples_split=10, n_estimators=500;, score=0.645 total time=   1.6s\n",
            "[CV 4/5] END bootstrap=True, max_depth=1, min_samples_leaf=2, min_samples_split=10, n_estimators=500;, score=0.637 total time=   1.5s\n",
            "[CV 5/5] END bootstrap=True, max_depth=1, min_samples_leaf=2, min_samples_split=10, n_estimators=500;, score=0.641 total time=   1.6s\n",
            "[CV 1/5] END bootstrap=True, max_depth=1, min_samples_leaf=4, min_samples_split=2, n_estimators=10;, score=0.629 total time=   0.0s\n",
            "[CV 2/5] END bootstrap=True, max_depth=1, min_samples_leaf=4, min_samples_split=2, n_estimators=10;, score=0.618 total time=   0.0s\n",
            "[CV 3/5] END bootstrap=True, max_depth=1, min_samples_leaf=4, min_samples_split=2, n_estimators=10;, score=0.644 total time=   0.0s\n",
            "[CV 4/5] END bootstrap=True, max_depth=1, min_samples_leaf=4, min_samples_split=2, n_estimators=10;, score=0.642 total time=   0.0s\n",
            "[CV 5/5] END bootstrap=True, max_depth=1, min_samples_leaf=4, min_samples_split=2, n_estimators=10;, score=0.588 total time=   0.0s\n",
            "[CV 1/5] END bootstrap=True, max_depth=1, min_samples_leaf=4, min_samples_split=2, n_estimators=50;, score=0.641 total time=   0.2s\n",
            "[CV 2/5] END bootstrap=True, max_depth=1, min_samples_leaf=4, min_samples_split=2, n_estimators=50;, score=0.635 total time=   0.2s\n",
            "[CV 3/5] END bootstrap=True, max_depth=1, min_samples_leaf=4, min_samples_split=2, n_estimators=50;, score=0.651 total time=   0.2s\n",
            "[CV 4/5] END bootstrap=True, max_depth=1, min_samples_leaf=4, min_samples_split=2, n_estimators=50;, score=0.646 total time=   0.2s\n",
            "[CV 5/5] END bootstrap=True, max_depth=1, min_samples_leaf=4, min_samples_split=2, n_estimators=50;, score=0.652 total time=   0.2s\n",
            "[CV 1/5] END bootstrap=True, max_depth=1, min_samples_leaf=4, min_samples_split=2, n_estimators=100;, score=0.642 total time=   0.3s\n",
            "[CV 2/5] END bootstrap=True, max_depth=1, min_samples_leaf=4, min_samples_split=2, n_estimators=100;, score=0.637 total time=   0.3s\n",
            "[CV 3/5] END bootstrap=True, max_depth=1, min_samples_leaf=4, min_samples_split=2, n_estimators=100;, score=0.647 total time=   0.3s\n",
            "[CV 4/5] END bootstrap=True, max_depth=1, min_samples_leaf=4, min_samples_split=2, n_estimators=100;, score=0.631 total time=   0.3s\n",
            "[CV 5/5] END bootstrap=True, max_depth=1, min_samples_leaf=4, min_samples_split=2, n_estimators=100;, score=0.641 total time=   0.3s\n",
            "[CV 1/5] END bootstrap=True, max_depth=1, min_samples_leaf=4, min_samples_split=2, n_estimators=300;, score=0.643 total time=   0.9s\n",
            "[CV 2/5] END bootstrap=True, max_depth=1, min_samples_leaf=4, min_samples_split=2, n_estimators=300;, score=0.639 total time=   0.9s\n",
            "[CV 3/5] END bootstrap=True, max_depth=1, min_samples_leaf=4, min_samples_split=2, n_estimators=300;, score=0.648 total time=   1.0s\n",
            "[CV 4/5] END bootstrap=True, max_depth=1, min_samples_leaf=4, min_samples_split=2, n_estimators=300;, score=0.633 total time=   1.0s\n",
            "[CV 5/5] END bootstrap=True, max_depth=1, min_samples_leaf=4, min_samples_split=2, n_estimators=300;, score=0.652 total time=   0.9s\n",
            "[CV 1/5] END bootstrap=True, max_depth=1, min_samples_leaf=4, min_samples_split=2, n_estimators=500;, score=0.645 total time=   1.6s\n",
            "[CV 2/5] END bootstrap=True, max_depth=1, min_samples_leaf=4, min_samples_split=2, n_estimators=500;, score=0.640 total time=   1.5s\n",
            "[CV 3/5] END bootstrap=True, max_depth=1, min_samples_leaf=4, min_samples_split=2, n_estimators=500;, score=0.655 total time=   1.9s\n",
            "[CV 4/5] END bootstrap=True, max_depth=1, min_samples_leaf=4, min_samples_split=2, n_estimators=500;, score=0.636 total time=   2.3s\n",
            "[CV 5/5] END bootstrap=True, max_depth=1, min_samples_leaf=4, min_samples_split=2, n_estimators=500;, score=0.643 total time=   1.5s\n",
            "[CV 1/5] END bootstrap=True, max_depth=1, min_samples_leaf=4, min_samples_split=5, n_estimators=10;, score=0.629 total time=   0.0s\n",
            "[CV 2/5] END bootstrap=True, max_depth=1, min_samples_leaf=4, min_samples_split=5, n_estimators=10;, score=0.639 total time=   0.0s\n",
            "[CV 3/5] END bootstrap=True, max_depth=1, min_samples_leaf=4, min_samples_split=5, n_estimators=10;, score=0.619 total time=   0.0s\n",
            "[CV 4/5] END bootstrap=True, max_depth=1, min_samples_leaf=4, min_samples_split=5, n_estimators=10;, score=0.608 total time=   0.0s\n",
            "[CV 5/5] END bootstrap=True, max_depth=1, min_samples_leaf=4, min_samples_split=5, n_estimators=10;, score=0.650 total time=   0.0s\n",
            "[CV 1/5] END bootstrap=True, max_depth=1, min_samples_leaf=4, min_samples_split=5, n_estimators=50;, score=0.618 total time=   0.2s\n",
            "[CV 2/5] END bootstrap=True, max_depth=1, min_samples_leaf=4, min_samples_split=5, n_estimators=50;, score=0.638 total time=   0.2s\n",
            "[CV 3/5] END bootstrap=True, max_depth=1, min_samples_leaf=4, min_samples_split=5, n_estimators=50;, score=0.650 total time=   0.2s\n",
            "[CV 4/5] END bootstrap=True, max_depth=1, min_samples_leaf=4, min_samples_split=5, n_estimators=50;, score=0.616 total time=   0.2s\n",
            "[CV 5/5] END bootstrap=True, max_depth=1, min_samples_leaf=4, min_samples_split=5, n_estimators=50;, score=0.640 total time=   0.2s\n",
            "[CV 1/5] END bootstrap=True, max_depth=1, min_samples_leaf=4, min_samples_split=5, n_estimators=100;, score=0.617 total time=   0.3s\n",
            "[CV 2/5] END bootstrap=True, max_depth=1, min_samples_leaf=4, min_samples_split=5, n_estimators=100;, score=0.639 total time=   0.3s\n",
            "[CV 3/5] END bootstrap=True, max_depth=1, min_samples_leaf=4, min_samples_split=5, n_estimators=100;, score=0.644 total time=   0.3s\n",
            "[CV 4/5] END bootstrap=True, max_depth=1, min_samples_leaf=4, min_samples_split=5, n_estimators=100;, score=0.637 total time=   0.3s\n",
            "[CV 5/5] END bootstrap=True, max_depth=1, min_samples_leaf=4, min_samples_split=5, n_estimators=100;, score=0.642 total time=   0.3s\n",
            "[CV 1/5] END bootstrap=True, max_depth=1, min_samples_leaf=4, min_samples_split=5, n_estimators=300;, score=0.638 total time=   0.9s\n",
            "[CV 2/5] END bootstrap=True, max_depth=1, min_samples_leaf=4, min_samples_split=5, n_estimators=300;, score=0.637 total time=   0.9s\n",
            "[CV 3/5] END bootstrap=True, max_depth=1, min_samples_leaf=4, min_samples_split=5, n_estimators=300;, score=0.651 total time=   0.9s\n",
            "[CV 4/5] END bootstrap=True, max_depth=1, min_samples_leaf=4, min_samples_split=5, n_estimators=300;, score=0.633 total time=   0.9s\n",
            "[CV 5/5] END bootstrap=True, max_depth=1, min_samples_leaf=4, min_samples_split=5, n_estimators=300;, score=0.650 total time=   0.9s\n",
            "[CV 1/5] END bootstrap=True, max_depth=1, min_samples_leaf=4, min_samples_split=5, n_estimators=500;, score=0.647 total time=   1.5s\n",
            "[CV 2/5] END bootstrap=True, max_depth=1, min_samples_leaf=4, min_samples_split=5, n_estimators=500;, score=0.638 total time=   1.6s\n",
            "[CV 3/5] END bootstrap=True, max_depth=1, min_samples_leaf=4, min_samples_split=5, n_estimators=500;, score=0.651 total time=   1.5s\n",
            "[CV 4/5] END bootstrap=True, max_depth=1, min_samples_leaf=4, min_samples_split=5, n_estimators=500;, score=0.633 total time=   1.6s\n",
            "[CV 5/5] END bootstrap=True, max_depth=1, min_samples_leaf=4, min_samples_split=5, n_estimators=500;, score=0.640 total time=   1.5s\n",
            "[CV 1/5] END bootstrap=True, max_depth=1, min_samples_leaf=4, min_samples_split=10, n_estimators=10;, score=0.618 total time=   0.0s\n",
            "[CV 2/5] END bootstrap=True, max_depth=1, min_samples_leaf=4, min_samples_split=10, n_estimators=10;, score=0.627 total time=   0.0s\n",
            "[CV 3/5] END bootstrap=True, max_depth=1, min_samples_leaf=4, min_samples_split=10, n_estimators=10;, score=0.640 total time=   0.0s\n",
            "[CV 4/5] END bootstrap=True, max_depth=1, min_samples_leaf=4, min_samples_split=10, n_estimators=10;, score=0.638 total time=   0.0s\n",
            "[CV 5/5] END bootstrap=True, max_depth=1, min_samples_leaf=4, min_samples_split=10, n_estimators=10;, score=0.637 total time=   0.0s\n",
            "[CV 1/5] END bootstrap=True, max_depth=1, min_samples_leaf=4, min_samples_split=10, n_estimators=50;, score=0.641 total time=   0.2s\n",
            "[CV 2/5] END bootstrap=True, max_depth=1, min_samples_leaf=4, min_samples_split=10, n_estimators=50;, score=0.635 total time=   0.2s\n",
            "[CV 3/5] END bootstrap=True, max_depth=1, min_samples_leaf=4, min_samples_split=10, n_estimators=50;, score=0.655 total time=   0.2s\n",
            "[CV 4/5] END bootstrap=True, max_depth=1, min_samples_leaf=4, min_samples_split=10, n_estimators=50;, score=0.644 total time=   0.2s\n",
            "[CV 5/5] END bootstrap=True, max_depth=1, min_samples_leaf=4, min_samples_split=10, n_estimators=50;, score=0.625 total time=   0.2s\n",
            "[CV 1/5] END bootstrap=True, max_depth=1, min_samples_leaf=4, min_samples_split=10, n_estimators=100;, score=0.646 total time=   0.3s\n",
            "[CV 2/5] END bootstrap=True, max_depth=1, min_samples_leaf=4, min_samples_split=10, n_estimators=100;, score=0.633 total time=   0.3s\n",
            "[CV 3/5] END bootstrap=True, max_depth=1, min_samples_leaf=4, min_samples_split=10, n_estimators=100;, score=0.651 total time=   0.3s\n",
            "[CV 4/5] END bootstrap=True, max_depth=1, min_samples_leaf=4, min_samples_split=10, n_estimators=100;, score=0.636 total time=   0.3s\n",
            "[CV 5/5] END bootstrap=True, max_depth=1, min_samples_leaf=4, min_samples_split=10, n_estimators=100;, score=0.643 total time=   0.3s\n",
            "[CV 1/5] END bootstrap=True, max_depth=1, min_samples_leaf=4, min_samples_split=10, n_estimators=300;, score=0.619 total time=   0.9s\n",
            "[CV 2/5] END bootstrap=True, max_depth=1, min_samples_leaf=4, min_samples_split=10, n_estimators=300;, score=0.638 total time=   1.0s\n",
            "[CV 3/5] END bootstrap=True, max_depth=1, min_samples_leaf=4, min_samples_split=10, n_estimators=300;, score=0.651 total time=   0.9s\n",
            "[CV 4/5] END bootstrap=True, max_depth=1, min_samples_leaf=4, min_samples_split=10, n_estimators=300;, score=0.635 total time=   0.9s\n",
            "[CV 5/5] END bootstrap=True, max_depth=1, min_samples_leaf=4, min_samples_split=10, n_estimators=300;, score=0.643 total time=   0.9s\n",
            "[CV 1/5] END bootstrap=True, max_depth=1, min_samples_leaf=4, min_samples_split=10, n_estimators=500;, score=0.643 total time=   1.5s\n",
            "[CV 2/5] END bootstrap=True, max_depth=1, min_samples_leaf=4, min_samples_split=10, n_estimators=500;, score=0.640 total time=   1.5s\n",
            "[CV 3/5] END bootstrap=True, max_depth=1, min_samples_leaf=4, min_samples_split=10, n_estimators=500;, score=0.655 total time=   1.6s\n",
            "[CV 4/5] END bootstrap=True, max_depth=1, min_samples_leaf=4, min_samples_split=10, n_estimators=500;, score=0.633 total time=   1.6s\n",
            "[CV 5/5] END bootstrap=True, max_depth=1, min_samples_leaf=4, min_samples_split=10, n_estimators=500;, score=0.645 total time=   1.6s\n",
            "[CV 1/5] END bootstrap=True, max_depth=3, min_samples_leaf=1, min_samples_split=2, n_estimators=10;, score=0.663 total time=   0.1s\n",
            "[CV 2/5] END bootstrap=True, max_depth=3, min_samples_leaf=1, min_samples_split=2, n_estimators=10;, score=0.644 total time=   0.1s\n",
            "[CV 3/5] END bootstrap=True, max_depth=3, min_samples_leaf=1, min_samples_split=2, n_estimators=10;, score=0.660 total time=   0.1s\n",
            "[CV 4/5] END bootstrap=True, max_depth=3, min_samples_leaf=1, min_samples_split=2, n_estimators=10;, score=0.653 total time=   0.1s\n",
            "[CV 5/5] END bootstrap=True, max_depth=3, min_samples_leaf=1, min_samples_split=2, n_estimators=10;, score=0.661 total time=   0.1s\n",
            "[CV 1/5] END bootstrap=True, max_depth=3, min_samples_leaf=1, min_samples_split=2, n_estimators=50;, score=0.667 total time=   0.3s\n",
            "[CV 2/5] END bootstrap=True, max_depth=3, min_samples_leaf=1, min_samples_split=2, n_estimators=50;, score=0.650 total time=   0.2s\n",
            "[CV 3/5] END bootstrap=True, max_depth=3, min_samples_leaf=1, min_samples_split=2, n_estimators=50;, score=0.662 total time=   0.2s\n",
            "[CV 4/5] END bootstrap=True, max_depth=3, min_samples_leaf=1, min_samples_split=2, n_estimators=50;, score=0.658 total time=   0.2s\n",
            "[CV 5/5] END bootstrap=True, max_depth=3, min_samples_leaf=1, min_samples_split=2, n_estimators=50;, score=0.662 total time=   0.2s\n",
            "[CV 1/5] END bootstrap=True, max_depth=3, min_samples_leaf=1, min_samples_split=2, n_estimators=100;, score=0.655 total time=   0.5s\n",
            "[CV 2/5] END bootstrap=True, max_depth=3, min_samples_leaf=1, min_samples_split=2, n_estimators=100;, score=0.650 total time=   0.5s\n",
            "[CV 3/5] END bootstrap=True, max_depth=3, min_samples_leaf=1, min_samples_split=2, n_estimators=100;, score=0.668 total time=   0.5s\n",
            "[CV 4/5] END bootstrap=True, max_depth=3, min_samples_leaf=1, min_samples_split=2, n_estimators=100;, score=0.655 total time=   0.5s\n",
            "[CV 5/5] END bootstrap=True, max_depth=3, min_samples_leaf=1, min_samples_split=2, n_estimators=100;, score=0.656 total time=   0.5s\n",
            "[CV 1/5] END bootstrap=True, max_depth=3, min_samples_leaf=1, min_samples_split=2, n_estimators=300;, score=0.658 total time=   1.4s\n",
            "[CV 2/5] END bootstrap=True, max_depth=3, min_samples_leaf=1, min_samples_split=2, n_estimators=300;, score=0.652 total time=   1.4s\n",
            "[CV 3/5] END bootstrap=True, max_depth=3, min_samples_leaf=1, min_samples_split=2, n_estimators=300;, score=0.670 total time=   1.4s\n",
            "[CV 4/5] END bootstrap=True, max_depth=3, min_samples_leaf=1, min_samples_split=2, n_estimators=300;, score=0.657 total time=   1.5s\n",
            "[CV 5/5] END bootstrap=True, max_depth=3, min_samples_leaf=1, min_samples_split=2, n_estimators=300;, score=0.658 total time=   1.4s\n",
            "[CV 1/5] END bootstrap=True, max_depth=3, min_samples_leaf=1, min_samples_split=2, n_estimators=500;, score=0.657 total time=   2.3s\n",
            "[CV 2/5] END bootstrap=True, max_depth=3, min_samples_leaf=1, min_samples_split=2, n_estimators=500;, score=0.651 total time=   2.3s\n",
            "[CV 3/5] END bootstrap=True, max_depth=3, min_samples_leaf=1, min_samples_split=2, n_estimators=500;, score=0.672 total time=   2.4s\n",
            "[CV 4/5] END bootstrap=True, max_depth=3, min_samples_leaf=1, min_samples_split=2, n_estimators=500;, score=0.655 total time=   2.4s\n",
            "[CV 5/5] END bootstrap=True, max_depth=3, min_samples_leaf=1, min_samples_split=2, n_estimators=500;, score=0.661 total time=   2.3s\n",
            "[CV 1/5] END bootstrap=True, max_depth=3, min_samples_leaf=1, min_samples_split=5, n_estimators=10;, score=0.665 total time=   0.1s\n",
            "[CV 2/5] END bootstrap=True, max_depth=3, min_samples_leaf=1, min_samples_split=5, n_estimators=10;, score=0.650 total time=   0.1s\n",
            "[CV 3/5] END bootstrap=True, max_depth=3, min_samples_leaf=1, min_samples_split=5, n_estimators=10;, score=0.662 total time=   0.1s\n",
            "[CV 4/5] END bootstrap=True, max_depth=3, min_samples_leaf=1, min_samples_split=5, n_estimators=10;, score=0.658 total time=   0.1s\n",
            "[CV 5/5] END bootstrap=True, max_depth=3, min_samples_leaf=1, min_samples_split=5, n_estimators=10;, score=0.642 total time=   0.1s\n",
            "[CV 1/5] END bootstrap=True, max_depth=3, min_samples_leaf=1, min_samples_split=5, n_estimators=50;, score=0.653 total time=   0.2s\n",
            "[CV 2/5] END bootstrap=True, max_depth=3, min_samples_leaf=1, min_samples_split=5, n_estimators=50;, score=0.646 total time=   0.2s\n",
            "[CV 3/5] END bootstrap=True, max_depth=3, min_samples_leaf=1, min_samples_split=5, n_estimators=50;, score=0.672 total time=   0.2s\n",
            "[CV 4/5] END bootstrap=True, max_depth=3, min_samples_leaf=1, min_samples_split=5, n_estimators=50;, score=0.659 total time=   0.2s\n",
            "[CV 5/5] END bootstrap=True, max_depth=3, min_samples_leaf=1, min_samples_split=5, n_estimators=50;, score=0.667 total time=   0.3s\n",
            "[CV 1/5] END bootstrap=True, max_depth=3, min_samples_leaf=1, min_samples_split=5, n_estimators=100;, score=0.661 total time=   0.5s\n",
            "[CV 2/5] END bootstrap=True, max_depth=3, min_samples_leaf=1, min_samples_split=5, n_estimators=100;, score=0.656 total time=   0.5s\n",
            "[CV 3/5] END bootstrap=True, max_depth=3, min_samples_leaf=1, min_samples_split=5, n_estimators=100;, score=0.665 total time=   0.5s\n",
            "[CV 4/5] END bootstrap=True, max_depth=3, min_samples_leaf=1, min_samples_split=5, n_estimators=100;, score=0.658 total time=   0.5s\n",
            "[CV 5/5] END bootstrap=True, max_depth=3, min_samples_leaf=1, min_samples_split=5, n_estimators=100;, score=0.662 total time=   0.5s\n",
            "[CV 1/5] END bootstrap=True, max_depth=3, min_samples_leaf=1, min_samples_split=5, n_estimators=300;, score=0.658 total time=   1.4s\n",
            "[CV 2/5] END bootstrap=True, max_depth=3, min_samples_leaf=1, min_samples_split=5, n_estimators=300;, score=0.650 total time=   1.4s\n",
            "[CV 3/5] END bootstrap=True, max_depth=3, min_samples_leaf=1, min_samples_split=5, n_estimators=300;, score=0.670 total time=   1.4s\n",
            "[CV 4/5] END bootstrap=True, max_depth=3, min_samples_leaf=1, min_samples_split=5, n_estimators=300;, score=0.649 total time=   1.4s\n",
            "[CV 5/5] END bootstrap=True, max_depth=3, min_samples_leaf=1, min_samples_split=5, n_estimators=300;, score=0.663 total time=   1.4s\n",
            "[CV 1/5] END bootstrap=True, max_depth=3, min_samples_leaf=1, min_samples_split=5, n_estimators=500;, score=0.662 total time=   2.3s\n",
            "[CV 2/5] END bootstrap=True, max_depth=3, min_samples_leaf=1, min_samples_split=5, n_estimators=500;, score=0.654 total time=   2.3s\n",
            "[CV 3/5] END bootstrap=True, max_depth=3, min_samples_leaf=1, min_samples_split=5, n_estimators=500;, score=0.670 total time=   2.3s\n",
            "[CV 4/5] END bootstrap=True, max_depth=3, min_samples_leaf=1, min_samples_split=5, n_estimators=500;, score=0.656 total time=   2.3s\n",
            "[CV 5/5] END bootstrap=True, max_depth=3, min_samples_leaf=1, min_samples_split=5, n_estimators=500;, score=0.661 total time=   2.3s\n",
            "[CV 1/5] END bootstrap=True, max_depth=3, min_samples_leaf=1, min_samples_split=10, n_estimators=10;, score=0.653 total time=   0.1s\n",
            "[CV 2/5] END bootstrap=True, max_depth=3, min_samples_leaf=1, min_samples_split=10, n_estimators=10;, score=0.650 total time=   0.1s\n",
            "[CV 3/5] END bootstrap=True, max_depth=3, min_samples_leaf=1, min_samples_split=10, n_estimators=10;, score=0.660 total time=   0.1s\n",
            "[CV 4/5] END bootstrap=True, max_depth=3, min_samples_leaf=1, min_samples_split=10, n_estimators=10;, score=0.654 total time=   0.1s\n",
            "[CV 5/5] END bootstrap=True, max_depth=3, min_samples_leaf=1, min_samples_split=10, n_estimators=10;, score=0.659 total time=   0.1s\n",
            "[CV 1/5] END bootstrap=True, max_depth=3, min_samples_leaf=1, min_samples_split=10, n_estimators=50;, score=0.654 total time=   0.2s\n",
            "[CV 2/5] END bootstrap=True, max_depth=3, min_samples_leaf=1, min_samples_split=10, n_estimators=50;, score=0.652 total time=   0.2s\n",
            "[CV 3/5] END bootstrap=True, max_depth=3, min_samples_leaf=1, min_samples_split=10, n_estimators=50;, score=0.668 total time=   0.2s\n",
            "[CV 4/5] END bootstrap=True, max_depth=3, min_samples_leaf=1, min_samples_split=10, n_estimators=50;, score=0.648 total time=   0.2s\n",
            "[CV 5/5] END bootstrap=True, max_depth=3, min_samples_leaf=1, min_samples_split=10, n_estimators=50;, score=0.661 total time=   0.3s\n",
            "[CV 1/5] END bootstrap=True, max_depth=3, min_samples_leaf=1, min_samples_split=10, n_estimators=100;, score=0.661 total time=   0.5s\n",
            "[CV 2/5] END bootstrap=True, max_depth=3, min_samples_leaf=1, min_samples_split=10, n_estimators=100;, score=0.650 total time=   0.5s\n",
            "[CV 3/5] END bootstrap=True, max_depth=3, min_samples_leaf=1, min_samples_split=10, n_estimators=100;, score=0.671 total time=   0.5s\n",
            "[CV 4/5] END bootstrap=True, max_depth=3, min_samples_leaf=1, min_samples_split=10, n_estimators=100;, score=0.648 total time=   0.5s\n",
            "[CV 5/5] END bootstrap=True, max_depth=3, min_samples_leaf=1, min_samples_split=10, n_estimators=100;, score=0.661 total time=   0.5s\n",
            "[CV 1/5] END bootstrap=True, max_depth=3, min_samples_leaf=1, min_samples_split=10, n_estimators=300;, score=0.657 total time=   1.4s\n",
            "[CV 2/5] END bootstrap=True, max_depth=3, min_samples_leaf=1, min_samples_split=10, n_estimators=300;, score=0.649 total time=   1.4s\n",
            "[CV 3/5] END bootstrap=True, max_depth=3, min_samples_leaf=1, min_samples_split=10, n_estimators=300;, score=0.672 total time=   1.4s\n",
            "[CV 4/5] END bootstrap=True, max_depth=3, min_samples_leaf=1, min_samples_split=10, n_estimators=300;, score=0.652 total time=   1.4s\n",
            "[CV 5/5] END bootstrap=True, max_depth=3, min_samples_leaf=1, min_samples_split=10, n_estimators=300;, score=0.660 total time=   1.4s\n",
            "[CV 1/5] END bootstrap=True, max_depth=3, min_samples_leaf=1, min_samples_split=10, n_estimators=500;, score=0.662 total time=   2.3s\n",
            "[CV 2/5] END bootstrap=True, max_depth=3, min_samples_leaf=1, min_samples_split=10, n_estimators=500;, score=0.652 total time=   2.3s\n",
            "[CV 3/5] END bootstrap=True, max_depth=3, min_samples_leaf=1, min_samples_split=10, n_estimators=500;, score=0.672 total time=   2.4s\n",
            "[CV 4/5] END bootstrap=True, max_depth=3, min_samples_leaf=1, min_samples_split=10, n_estimators=500;, score=0.646 total time=   2.3s\n",
            "[CV 5/5] END bootstrap=True, max_depth=3, min_samples_leaf=1, min_samples_split=10, n_estimators=500;, score=0.655 total time=   2.3s\n",
            "[CV 1/5] END bootstrap=True, max_depth=3, min_samples_leaf=2, min_samples_split=2, n_estimators=10;, score=0.641 total time=   0.1s\n",
            "[CV 2/5] END bootstrap=True, max_depth=3, min_samples_leaf=2, min_samples_split=2, n_estimators=10;, score=0.646 total time=   0.1s\n",
            "[CV 3/5] END bootstrap=True, max_depth=3, min_samples_leaf=2, min_samples_split=2, n_estimators=10;, score=0.668 total time=   0.1s\n",
            "[CV 4/5] END bootstrap=True, max_depth=3, min_samples_leaf=2, min_samples_split=2, n_estimators=10;, score=0.639 total time=   0.1s\n",
            "[CV 5/5] END bootstrap=True, max_depth=3, min_samples_leaf=2, min_samples_split=2, n_estimators=10;, score=0.658 total time=   0.1s\n",
            "[CV 1/5] END bootstrap=True, max_depth=3, min_samples_leaf=2, min_samples_split=2, n_estimators=50;, score=0.670 total time=   0.2s\n",
            "[CV 2/5] END bootstrap=True, max_depth=3, min_samples_leaf=2, min_samples_split=2, n_estimators=50;, score=0.649 total time=   0.2s\n",
            "[CV 3/5] END bootstrap=True, max_depth=3, min_samples_leaf=2, min_samples_split=2, n_estimators=50;, score=0.664 total time=   0.2s\n",
            "[CV 4/5] END bootstrap=True, max_depth=3, min_samples_leaf=2, min_samples_split=2, n_estimators=50;, score=0.657 total time=   0.2s\n",
            "[CV 5/5] END bootstrap=True, max_depth=3, min_samples_leaf=2, min_samples_split=2, n_estimators=50;, score=0.661 total time=   0.3s\n",
            "[CV 1/5] END bootstrap=True, max_depth=3, min_samples_leaf=2, min_samples_split=2, n_estimators=100;, score=0.658 total time=   0.5s\n",
            "[CV 2/5] END bootstrap=True, max_depth=3, min_samples_leaf=2, min_samples_split=2, n_estimators=100;, score=0.649 total time=   0.5s\n",
            "[CV 3/5] END bootstrap=True, max_depth=3, min_samples_leaf=2, min_samples_split=2, n_estimators=100;, score=0.667 total time=   0.5s\n",
            "[CV 4/5] END bootstrap=True, max_depth=3, min_samples_leaf=2, min_samples_split=2, n_estimators=100;, score=0.645 total time=   0.5s\n",
            "[CV 5/5] END bootstrap=True, max_depth=3, min_samples_leaf=2, min_samples_split=2, n_estimators=100;, score=0.659 total time=   0.5s\n",
            "[CV 1/5] END bootstrap=True, max_depth=3, min_samples_leaf=2, min_samples_split=2, n_estimators=300;, score=0.664 total time=   1.4s\n",
            "[CV 2/5] END bootstrap=True, max_depth=3, min_samples_leaf=2, min_samples_split=2, n_estimators=300;, score=0.651 total time=   1.4s\n",
            "[CV 3/5] END bootstrap=True, max_depth=3, min_samples_leaf=2, min_samples_split=2, n_estimators=300;, score=0.670 total time=   1.4s\n",
            "[CV 4/5] END bootstrap=True, max_depth=3, min_samples_leaf=2, min_samples_split=2, n_estimators=300;, score=0.646 total time=   1.4s\n",
            "[CV 5/5] END bootstrap=True, max_depth=3, min_samples_leaf=2, min_samples_split=2, n_estimators=300;, score=0.662 total time=   1.4s\n",
            "[CV 1/5] END bootstrap=True, max_depth=3, min_samples_leaf=2, min_samples_split=2, n_estimators=500;, score=0.659 total time=   2.3s\n",
            "[CV 2/5] END bootstrap=True, max_depth=3, min_samples_leaf=2, min_samples_split=2, n_estimators=500;, score=0.652 total time=   2.3s\n",
            "[CV 3/5] END bootstrap=True, max_depth=3, min_samples_leaf=2, min_samples_split=2, n_estimators=500;, score=0.663 total time=   2.3s\n",
            "[CV 4/5] END bootstrap=True, max_depth=3, min_samples_leaf=2, min_samples_split=2, n_estimators=500;, score=0.648 total time=   2.3s\n",
            "[CV 5/5] END bootstrap=True, max_depth=3, min_samples_leaf=2, min_samples_split=2, n_estimators=500;, score=0.665 total time=   2.3s\n",
            "[CV 1/5] END bootstrap=True, max_depth=3, min_samples_leaf=2, min_samples_split=5, n_estimators=10;, score=0.658 total time=   0.1s\n",
            "[CV 2/5] END bootstrap=True, max_depth=3, min_samples_leaf=2, min_samples_split=5, n_estimators=10;, score=0.650 total time=   0.1s\n",
            "[CV 3/5] END bootstrap=True, max_depth=3, min_samples_leaf=2, min_samples_split=5, n_estimators=10;, score=0.663 total time=   0.1s\n",
            "[CV 4/5] END bootstrap=True, max_depth=3, min_samples_leaf=2, min_samples_split=5, n_estimators=10;, score=0.646 total time=   0.1s\n",
            "[CV 5/5] END bootstrap=True, max_depth=3, min_samples_leaf=2, min_samples_split=5, n_estimators=10;, score=0.651 total time=   0.1s\n",
            "[CV 1/5] END bootstrap=True, max_depth=3, min_samples_leaf=2, min_samples_split=5, n_estimators=50;, score=0.658 total time=   0.2s\n",
            "[CV 2/5] END bootstrap=True, max_depth=3, min_samples_leaf=2, min_samples_split=5, n_estimators=50;, score=0.651 total time=   0.2s\n",
            "[CV 3/5] END bootstrap=True, max_depth=3, min_samples_leaf=2, min_samples_split=5, n_estimators=50;, score=0.666 total time=   0.3s\n",
            "[CV 4/5] END bootstrap=True, max_depth=3, min_samples_leaf=2, min_samples_split=5, n_estimators=50;, score=0.648 total time=   0.3s\n",
            "[CV 5/5] END bootstrap=True, max_depth=3, min_samples_leaf=2, min_samples_split=5, n_estimators=50;, score=0.656 total time=   0.2s\n",
            "[CV 1/5] END bootstrap=True, max_depth=3, min_samples_leaf=2, min_samples_split=5, n_estimators=100;, score=0.667 total time=   0.5s\n",
            "[CV 2/5] END bootstrap=True, max_depth=3, min_samples_leaf=2, min_samples_split=5, n_estimators=100;, score=0.651 total time=   0.5s\n",
            "[CV 3/5] END bootstrap=True, max_depth=3, min_samples_leaf=2, min_samples_split=5, n_estimators=100;, score=0.664 total time=   0.5s\n",
            "[CV 4/5] END bootstrap=True, max_depth=3, min_samples_leaf=2, min_samples_split=5, n_estimators=100;, score=0.656 total time=   0.5s\n",
            "[CV 5/5] END bootstrap=True, max_depth=3, min_samples_leaf=2, min_samples_split=5, n_estimators=100;, score=0.656 total time=   0.5s\n",
            "[CV 1/5] END bootstrap=True, max_depth=3, min_samples_leaf=2, min_samples_split=5, n_estimators=300;, score=0.663 total time=   1.4s\n",
            "[CV 2/5] END bootstrap=True, max_depth=3, min_samples_leaf=2, min_samples_split=5, n_estimators=300;, score=0.652 total time=   1.4s\n",
            "[CV 3/5] END bootstrap=True, max_depth=3, min_samples_leaf=2, min_samples_split=5, n_estimators=300;, score=0.672 total time=   1.4s\n",
            "[CV 4/5] END bootstrap=True, max_depth=3, min_samples_leaf=2, min_samples_split=5, n_estimators=300;, score=0.649 total time=   1.4s\n",
            "[CV 5/5] END bootstrap=True, max_depth=3, min_samples_leaf=2, min_samples_split=5, n_estimators=300;, score=0.667 total time=   1.4s\n",
            "[CV 1/5] END bootstrap=True, max_depth=3, min_samples_leaf=2, min_samples_split=5, n_estimators=500;, score=0.658 total time=   2.3s\n",
            "[CV 2/5] END bootstrap=True, max_depth=3, min_samples_leaf=2, min_samples_split=5, n_estimators=500;, score=0.653 total time=   2.3s\n",
            "[CV 3/5] END bootstrap=True, max_depth=3, min_samples_leaf=2, min_samples_split=5, n_estimators=500;, score=0.668 total time=   2.3s\n",
            "[CV 4/5] END bootstrap=True, max_depth=3, min_samples_leaf=2, min_samples_split=5, n_estimators=500;, score=0.656 total time=   2.3s\n",
            "[CV 5/5] END bootstrap=True, max_depth=3, min_samples_leaf=2, min_samples_split=5, n_estimators=500;, score=0.663 total time=   2.4s\n",
            "[CV 1/5] END bootstrap=True, max_depth=3, min_samples_leaf=2, min_samples_split=10, n_estimators=10;, score=0.669 total time=   0.1s\n",
            "[CV 2/5] END bootstrap=True, max_depth=3, min_samples_leaf=2, min_samples_split=10, n_estimators=10;, score=0.640 total time=   0.1s\n",
            "[CV 3/5] END bootstrap=True, max_depth=3, min_samples_leaf=2, min_samples_split=10, n_estimators=10;, score=0.652 total time=   0.0s\n",
            "[CV 4/5] END bootstrap=True, max_depth=3, min_samples_leaf=2, min_samples_split=10, n_estimators=10;, score=0.662 total time=   0.1s\n",
            "[CV 5/5] END bootstrap=True, max_depth=3, min_samples_leaf=2, min_samples_split=10, n_estimators=10;, score=0.646 total time=   0.0s\n",
            "[CV 1/5] END bootstrap=True, max_depth=3, min_samples_leaf=2, min_samples_split=10, n_estimators=50;, score=0.653 total time=   0.2s\n",
            "[CV 2/5] END bootstrap=True, max_depth=3, min_samples_leaf=2, min_samples_split=10, n_estimators=50;, score=0.649 total time=   0.3s\n",
            "[CV 3/5] END bootstrap=True, max_depth=3, min_samples_leaf=2, min_samples_split=10, n_estimators=50;, score=0.669 total time=   0.2s\n",
            "[CV 4/5] END bootstrap=True, max_depth=3, min_samples_leaf=2, min_samples_split=10, n_estimators=50;, score=0.653 total time=   0.2s\n",
            "[CV 5/5] END bootstrap=True, max_depth=3, min_samples_leaf=2, min_samples_split=10, n_estimators=50;, score=0.664 total time=   0.3s\n",
            "[CV 1/5] END bootstrap=True, max_depth=3, min_samples_leaf=2, min_samples_split=10, n_estimators=100;, score=0.657 total time=   0.5s\n",
            "[CV 2/5] END bootstrap=True, max_depth=3, min_samples_leaf=2, min_samples_split=10, n_estimators=100;, score=0.653 total time=   0.5s\n",
            "[CV 3/5] END bootstrap=True, max_depth=3, min_samples_leaf=2, min_samples_split=10, n_estimators=100;, score=0.668 total time=   0.5s\n",
            "[CV 4/5] END bootstrap=True, max_depth=3, min_samples_leaf=2, min_samples_split=10, n_estimators=100;, score=0.657 total time=   0.5s\n",
            "[CV 5/5] END bootstrap=True, max_depth=3, min_samples_leaf=2, min_samples_split=10, n_estimators=100;, score=0.664 total time=   0.5s\n",
            "[CV 1/5] END bootstrap=True, max_depth=3, min_samples_leaf=2, min_samples_split=10, n_estimators=300;, score=0.657 total time=   1.4s\n",
            "[CV 2/5] END bootstrap=True, max_depth=3, min_samples_leaf=2, min_samples_split=10, n_estimators=300;, score=0.656 total time=   1.4s\n",
            "[CV 3/5] END bootstrap=True, max_depth=3, min_samples_leaf=2, min_samples_split=10, n_estimators=300;, score=0.666 total time=   1.4s\n",
            "[CV 4/5] END bootstrap=True, max_depth=3, min_samples_leaf=2, min_samples_split=10, n_estimators=300;, score=0.653 total time=   1.4s\n",
            "[CV 5/5] END bootstrap=True, max_depth=3, min_samples_leaf=2, min_samples_split=10, n_estimators=300;, score=0.662 total time=   1.4s\n",
            "[CV 1/5] END bootstrap=True, max_depth=3, min_samples_leaf=2, min_samples_split=10, n_estimators=500;, score=0.666 total time=   2.3s\n",
            "[CV 2/5] END bootstrap=True, max_depth=3, min_samples_leaf=2, min_samples_split=10, n_estimators=500;, score=0.652 total time=   2.3s\n",
            "[CV 3/5] END bootstrap=True, max_depth=3, min_samples_leaf=2, min_samples_split=10, n_estimators=500;, score=0.673 total time=   2.3s\n",
            "[CV 4/5] END bootstrap=True, max_depth=3, min_samples_leaf=2, min_samples_split=10, n_estimators=500;, score=0.652 total time=   2.3s\n",
            "[CV 5/5] END bootstrap=True, max_depth=3, min_samples_leaf=2, min_samples_split=10, n_estimators=500;, score=0.662 total time=   2.3s\n",
            "[CV 1/5] END bootstrap=True, max_depth=3, min_samples_leaf=4, min_samples_split=2, n_estimators=10;, score=0.653 total time=   0.1s\n",
            "[CV 2/5] END bootstrap=True, max_depth=3, min_samples_leaf=4, min_samples_split=2, n_estimators=10;, score=0.642 total time=   0.1s\n",
            "[CV 3/5] END bootstrap=True, max_depth=3, min_samples_leaf=4, min_samples_split=2, n_estimators=10;, score=0.667 total time=   0.1s\n",
            "[CV 4/5] END bootstrap=True, max_depth=3, min_samples_leaf=4, min_samples_split=2, n_estimators=10;, score=0.633 total time=   0.1s\n",
            "[CV 5/5] END bootstrap=True, max_depth=3, min_samples_leaf=4, min_samples_split=2, n_estimators=10;, score=0.654 total time=   0.1s\n",
            "[CV 1/5] END bootstrap=True, max_depth=3, min_samples_leaf=4, min_samples_split=2, n_estimators=50;, score=0.652 total time=   0.2s\n",
            "[CV 2/5] END bootstrap=True, max_depth=3, min_samples_leaf=4, min_samples_split=2, n_estimators=50;, score=0.649 total time=   0.2s\n",
            "[CV 3/5] END bootstrap=True, max_depth=3, min_samples_leaf=4, min_samples_split=2, n_estimators=50;, score=0.664 total time=   0.2s\n",
            "[CV 4/5] END bootstrap=True, max_depth=3, min_samples_leaf=4, min_samples_split=2, n_estimators=50;, score=0.646 total time=   0.3s\n",
            "[CV 5/5] END bootstrap=True, max_depth=3, min_samples_leaf=4, min_samples_split=2, n_estimators=50;, score=0.665 total time=   0.2s\n",
            "[CV 1/5] END bootstrap=True, max_depth=3, min_samples_leaf=4, min_samples_split=2, n_estimators=100;, score=0.656 total time=   0.5s\n",
            "[CV 2/5] END bootstrap=True, max_depth=3, min_samples_leaf=4, min_samples_split=2, n_estimators=100;, score=0.652 total time=   0.5s\n",
            "[CV 3/5] END bootstrap=True, max_depth=3, min_samples_leaf=4, min_samples_split=2, n_estimators=100;, score=0.663 total time=   0.5s\n",
            "[CV 4/5] END bootstrap=True, max_depth=3, min_samples_leaf=4, min_samples_split=2, n_estimators=100;, score=0.649 total time=   0.5s\n",
            "[CV 5/5] END bootstrap=True, max_depth=3, min_samples_leaf=4, min_samples_split=2, n_estimators=100;, score=0.663 total time=   0.5s\n",
            "[CV 1/5] END bootstrap=True, max_depth=3, min_samples_leaf=4, min_samples_split=2, n_estimators=300;, score=0.655 total time=   1.4s\n",
            "[CV 2/5] END bootstrap=True, max_depth=3, min_samples_leaf=4, min_samples_split=2, n_estimators=300;, score=0.655 total time=   1.4s\n",
            "[CV 3/5] END bootstrap=True, max_depth=3, min_samples_leaf=4, min_samples_split=2, n_estimators=300;, score=0.669 total time=   1.4s\n",
            "[CV 4/5] END bootstrap=True, max_depth=3, min_samples_leaf=4, min_samples_split=2, n_estimators=300;, score=0.649 total time=   1.4s\n",
            "[CV 5/5] END bootstrap=True, max_depth=3, min_samples_leaf=4, min_samples_split=2, n_estimators=300;, score=0.662 total time=   1.4s\n",
            "[CV 1/5] END bootstrap=True, max_depth=3, min_samples_leaf=4, min_samples_split=2, n_estimators=500;, score=0.658 total time=   2.3s\n",
            "[CV 2/5] END bootstrap=True, max_depth=3, min_samples_leaf=4, min_samples_split=2, n_estimators=500;, score=0.652 total time=   2.3s\n",
            "[CV 3/5] END bootstrap=True, max_depth=3, min_samples_leaf=4, min_samples_split=2, n_estimators=500;, score=0.674 total time=   2.4s\n",
            "[CV 4/5] END bootstrap=True, max_depth=3, min_samples_leaf=4, min_samples_split=2, n_estimators=500;, score=0.656 total time=   2.3s\n",
            "[CV 5/5] END bootstrap=True, max_depth=3, min_samples_leaf=4, min_samples_split=2, n_estimators=500;, score=0.660 total time=   2.3s\n",
            "[CV 1/5] END bootstrap=True, max_depth=3, min_samples_leaf=4, min_samples_split=5, n_estimators=10;, score=0.664 total time=   0.1s\n",
            "[CV 2/5] END bootstrap=True, max_depth=3, min_samples_leaf=4, min_samples_split=5, n_estimators=10;, score=0.646 total time=   0.1s\n",
            "[CV 3/5] END bootstrap=True, max_depth=3, min_samples_leaf=4, min_samples_split=5, n_estimators=10;, score=0.655 total time=   0.1s\n",
            "[CV 4/5] END bootstrap=True, max_depth=3, min_samples_leaf=4, min_samples_split=5, n_estimators=10;, score=0.656 total time=   0.1s\n",
            "[CV 5/5] END bootstrap=True, max_depth=3, min_samples_leaf=4, min_samples_split=5, n_estimators=10;, score=0.665 total time=   0.1s\n",
            "[CV 1/5] END bootstrap=True, max_depth=3, min_samples_leaf=4, min_samples_split=5, n_estimators=50;, score=0.664 total time=   0.2s\n",
            "[CV 2/5] END bootstrap=True, max_depth=3, min_samples_leaf=4, min_samples_split=5, n_estimators=50;, score=0.651 total time=   0.2s\n",
            "[CV 3/5] END bootstrap=True, max_depth=3, min_samples_leaf=4, min_samples_split=5, n_estimators=50;, score=0.668 total time=   0.2s\n",
            "[CV 4/5] END bootstrap=True, max_depth=3, min_samples_leaf=4, min_samples_split=5, n_estimators=50;, score=0.656 total time=   0.2s\n",
            "[CV 5/5] END bootstrap=True, max_depth=3, min_samples_leaf=4, min_samples_split=5, n_estimators=50;, score=0.665 total time=   0.2s\n",
            "[CV 1/5] END bootstrap=True, max_depth=3, min_samples_leaf=4, min_samples_split=5, n_estimators=100;, score=0.655 total time=   0.5s\n",
            "[CV 2/5] END bootstrap=True, max_depth=3, min_samples_leaf=4, min_samples_split=5, n_estimators=100;, score=0.650 total time=   0.5s\n",
            "[CV 3/5] END bootstrap=True, max_depth=3, min_samples_leaf=4, min_samples_split=5, n_estimators=100;, score=0.670 total time=   0.5s\n",
            "[CV 4/5] END bootstrap=True, max_depth=3, min_samples_leaf=4, min_samples_split=5, n_estimators=100;, score=0.650 total time=   0.5s\n",
            "[CV 5/5] END bootstrap=True, max_depth=3, min_samples_leaf=4, min_samples_split=5, n_estimators=100;, score=0.656 total time=   0.5s\n",
            "[CV 1/5] END bootstrap=True, max_depth=3, min_samples_leaf=4, min_samples_split=5, n_estimators=300;, score=0.661 total time=   1.4s\n",
            "[CV 2/5] END bootstrap=True, max_depth=3, min_samples_leaf=4, min_samples_split=5, n_estimators=300;, score=0.649 total time=   1.4s\n",
            "[CV 3/5] END bootstrap=True, max_depth=3, min_samples_leaf=4, min_samples_split=5, n_estimators=300;, score=0.668 total time=   1.4s\n",
            "[CV 4/5] END bootstrap=True, max_depth=3, min_samples_leaf=4, min_samples_split=5, n_estimators=300;, score=0.649 total time=   1.4s\n",
            "[CV 5/5] END bootstrap=True, max_depth=3, min_samples_leaf=4, min_samples_split=5, n_estimators=300;, score=0.659 total time=   1.4s\n",
            "[CV 1/5] END bootstrap=True, max_depth=3, min_samples_leaf=4, min_samples_split=5, n_estimators=500;, score=0.659 total time=   2.3s\n",
            "[CV 2/5] END bootstrap=True, max_depth=3, min_samples_leaf=4, min_samples_split=5, n_estimators=500;, score=0.650 total time=   2.4s\n",
            "[CV 3/5] END bootstrap=True, max_depth=3, min_samples_leaf=4, min_samples_split=5, n_estimators=500;, score=0.674 total time=   2.3s\n",
            "[CV 4/5] END bootstrap=True, max_depth=3, min_samples_leaf=4, min_samples_split=5, n_estimators=500;, score=0.650 total time=   2.3s\n",
            "[CV 5/5] END bootstrap=True, max_depth=3, min_samples_leaf=4, min_samples_split=5, n_estimators=500;, score=0.655 total time=   2.3s\n",
            "[CV 1/5] END bootstrap=True, max_depth=3, min_samples_leaf=4, min_samples_split=10, n_estimators=10;, score=0.662 total time=   0.1s\n",
            "[CV 2/5] END bootstrap=True, max_depth=3, min_samples_leaf=4, min_samples_split=10, n_estimators=10;, score=0.651 total time=   0.1s\n",
            "[CV 3/5] END bootstrap=True, max_depth=3, min_samples_leaf=4, min_samples_split=10, n_estimators=10;, score=0.645 total time=   0.1s\n",
            "[CV 4/5] END bootstrap=True, max_depth=3, min_samples_leaf=4, min_samples_split=10, n_estimators=10;, score=0.657 total time=   0.1s\n",
            "[CV 5/5] END bootstrap=True, max_depth=3, min_samples_leaf=4, min_samples_split=10, n_estimators=10;, score=0.656 total time=   0.1s\n",
            "[CV 1/5] END bootstrap=True, max_depth=3, min_samples_leaf=4, min_samples_split=10, n_estimators=50;, score=0.661 total time=   0.2s\n",
            "[CV 2/5] END bootstrap=True, max_depth=3, min_samples_leaf=4, min_samples_split=10, n_estimators=50;, score=0.650 total time=   0.2s\n",
            "[CV 3/5] END bootstrap=True, max_depth=3, min_samples_leaf=4, min_samples_split=10, n_estimators=50;, score=0.668 total time=   0.2s\n",
            "[CV 4/5] END bootstrap=True, max_depth=3, min_samples_leaf=4, min_samples_split=10, n_estimators=50;, score=0.657 total time=   0.3s\n",
            "[CV 5/5] END bootstrap=True, max_depth=3, min_samples_leaf=4, min_samples_split=10, n_estimators=50;, score=0.659 total time=   0.2s\n",
            "[CV 1/5] END bootstrap=True, max_depth=3, min_samples_leaf=4, min_samples_split=10, n_estimators=100;, score=0.656 total time=   0.5s\n",
            "[CV 2/5] END bootstrap=True, max_depth=3, min_samples_leaf=4, min_samples_split=10, n_estimators=100;, score=0.648 total time=   0.5s\n",
            "[CV 3/5] END bootstrap=True, max_depth=3, min_samples_leaf=4, min_samples_split=10, n_estimators=100;, score=0.665 total time=   0.5s\n",
            "[CV 4/5] END bootstrap=True, max_depth=3, min_samples_leaf=4, min_samples_split=10, n_estimators=100;, score=0.648 total time=   0.5s\n",
            "[CV 5/5] END bootstrap=True, max_depth=3, min_samples_leaf=4, min_samples_split=10, n_estimators=100;, score=0.662 total time=   0.5s\n",
            "[CV 1/5] END bootstrap=True, max_depth=3, min_samples_leaf=4, min_samples_split=10, n_estimators=300;, score=0.661 total time=   1.4s\n",
            "[CV 2/5] END bootstrap=True, max_depth=3, min_samples_leaf=4, min_samples_split=10, n_estimators=300;, score=0.652 total time=   1.4s\n",
            "[CV 3/5] END bootstrap=True, max_depth=3, min_samples_leaf=4, min_samples_split=10, n_estimators=300;, score=0.670 total time=   1.4s\n",
            "[CV 4/5] END bootstrap=True, max_depth=3, min_samples_leaf=4, min_samples_split=10, n_estimators=300;, score=0.647 total time=   1.4s\n",
            "[CV 5/5] END bootstrap=True, max_depth=3, min_samples_leaf=4, min_samples_split=10, n_estimators=300;, score=0.661 total time=   1.4s\n",
            "[CV 1/5] END bootstrap=True, max_depth=3, min_samples_leaf=4, min_samples_split=10, n_estimators=500;, score=0.657 total time=   2.3s\n",
            "[CV 2/5] END bootstrap=True, max_depth=3, min_samples_leaf=4, min_samples_split=10, n_estimators=500;, score=0.652 total time=   2.3s\n",
            "[CV 3/5] END bootstrap=True, max_depth=3, min_samples_leaf=4, min_samples_split=10, n_estimators=500;, score=0.670 total time=   2.3s\n",
            "[CV 4/5] END bootstrap=True, max_depth=3, min_samples_leaf=4, min_samples_split=10, n_estimators=500;, score=0.657 total time=   2.4s\n",
            "[CV 5/5] END bootstrap=True, max_depth=3, min_samples_leaf=4, min_samples_split=10, n_estimators=500;, score=0.664 total time=   2.3s\n",
            "[CV 1/5] END bootstrap=True, max_depth=5, min_samples_leaf=1, min_samples_split=2, n_estimators=10;, score=0.676 total time=   0.1s\n",
            "[CV 2/5] END bootstrap=True, max_depth=5, min_samples_leaf=1, min_samples_split=2, n_estimators=10;, score=0.662 total time=   0.1s\n",
            "[CV 3/5] END bootstrap=True, max_depth=5, min_samples_leaf=1, min_samples_split=2, n_estimators=10;, score=0.665 total time=   0.1s\n",
            "[CV 4/5] END bootstrap=True, max_depth=5, min_samples_leaf=1, min_samples_split=2, n_estimators=10;, score=0.657 total time=   0.1s\n",
            "[CV 5/5] END bootstrap=True, max_depth=5, min_samples_leaf=1, min_samples_split=2, n_estimators=10;, score=0.679 total time=   0.1s\n",
            "[CV 1/5] END bootstrap=True, max_depth=5, min_samples_leaf=1, min_samples_split=2, n_estimators=50;, score=0.675 total time=   0.3s\n",
            "[CV 2/5] END bootstrap=True, max_depth=5, min_samples_leaf=1, min_samples_split=2, n_estimators=50;, score=0.663 total time=   0.3s\n",
            "[CV 3/5] END bootstrap=True, max_depth=5, min_samples_leaf=1, min_samples_split=2, n_estimators=50;, score=0.677 total time=   0.3s\n",
            "[CV 4/5] END bootstrap=True, max_depth=5, min_samples_leaf=1, min_samples_split=2, n_estimators=50;, score=0.660 total time=   0.3s\n",
            "[CV 5/5] END bootstrap=True, max_depth=5, min_samples_leaf=1, min_samples_split=2, n_estimators=50;, score=0.669 total time=   0.3s\n",
            "[CV 1/5] END bootstrap=True, max_depth=5, min_samples_leaf=1, min_samples_split=2, n_estimators=100;, score=0.674 total time=   0.6s\n",
            "[CV 2/5] END bootstrap=True, max_depth=5, min_samples_leaf=1, min_samples_split=2, n_estimators=100;, score=0.663 total time=   0.7s\n",
            "[CV 3/5] END bootstrap=True, max_depth=5, min_samples_leaf=1, min_samples_split=2, n_estimators=100;, score=0.679 total time=   0.6s\n",
            "[CV 4/5] END bootstrap=True, max_depth=5, min_samples_leaf=1, min_samples_split=2, n_estimators=100;, score=0.671 total time=   0.6s\n",
            "[CV 5/5] END bootstrap=True, max_depth=5, min_samples_leaf=1, min_samples_split=2, n_estimators=100;, score=0.672 total time=   0.6s\n",
            "[CV 1/5] END bootstrap=True, max_depth=5, min_samples_leaf=1, min_samples_split=2, n_estimators=300;, score=0.671 total time=   1.8s\n",
            "[CV 2/5] END bootstrap=True, max_depth=5, min_samples_leaf=1, min_samples_split=2, n_estimators=300;, score=0.664 total time=   1.8s\n",
            "[CV 3/5] END bootstrap=True, max_depth=5, min_samples_leaf=1, min_samples_split=2, n_estimators=300;, score=0.681 total time=   1.9s\n",
            "[CV 4/5] END bootstrap=True, max_depth=5, min_samples_leaf=1, min_samples_split=2, n_estimators=300;, score=0.665 total time=   1.9s\n",
            "[CV 5/5] END bootstrap=True, max_depth=5, min_samples_leaf=1, min_samples_split=2, n_estimators=300;, score=0.671 total time=   2.5s\n",
            "[CV 1/5] END bootstrap=True, max_depth=5, min_samples_leaf=1, min_samples_split=2, n_estimators=500;, score=0.675 total time=   3.4s\n",
            "[CV 2/5] END bootstrap=True, max_depth=5, min_samples_leaf=1, min_samples_split=2, n_estimators=500;, score=0.664 total time=   3.0s\n",
            "[CV 3/5] END bootstrap=True, max_depth=5, min_samples_leaf=1, min_samples_split=2, n_estimators=500;, score=0.679 total time=   3.1s\n",
            "[CV 4/5] END bootstrap=True, max_depth=5, min_samples_leaf=1, min_samples_split=2, n_estimators=500;, score=0.668 total time=   3.0s\n",
            "[CV 5/5] END bootstrap=True, max_depth=5, min_samples_leaf=1, min_samples_split=2, n_estimators=500;, score=0.671 total time=   3.1s\n",
            "[CV 1/5] END bootstrap=True, max_depth=5, min_samples_leaf=1, min_samples_split=5, n_estimators=10;, score=0.667 total time=   0.1s\n",
            "[CV 2/5] END bootstrap=True, max_depth=5, min_samples_leaf=1, min_samples_split=5, n_estimators=10;, score=0.661 total time=   0.1s\n",
            "[CV 3/5] END bootstrap=True, max_depth=5, min_samples_leaf=1, min_samples_split=5, n_estimators=10;, score=0.674 total time=   0.1s\n",
            "[CV 4/5] END bootstrap=True, max_depth=5, min_samples_leaf=1, min_samples_split=5, n_estimators=10;, score=0.652 total time=   0.1s\n",
            "[CV 5/5] END bootstrap=True, max_depth=5, min_samples_leaf=1, min_samples_split=5, n_estimators=10;, score=0.667 total time=   0.1s\n",
            "[CV 1/5] END bootstrap=True, max_depth=5, min_samples_leaf=1, min_samples_split=5, n_estimators=50;, score=0.667 total time=   0.3s\n",
            "[CV 2/5] END bootstrap=True, max_depth=5, min_samples_leaf=1, min_samples_split=5, n_estimators=50;, score=0.662 total time=   0.3s\n",
            "[CV 3/5] END bootstrap=True, max_depth=5, min_samples_leaf=1, min_samples_split=5, n_estimators=50;, score=0.674 total time=   0.3s\n",
            "[CV 4/5] END bootstrap=True, max_depth=5, min_samples_leaf=1, min_samples_split=5, n_estimators=50;, score=0.667 total time=   0.3s\n",
            "[CV 5/5] END bootstrap=True, max_depth=5, min_samples_leaf=1, min_samples_split=5, n_estimators=50;, score=0.662 total time=   0.3s\n",
            "[CV 1/5] END bootstrap=True, max_depth=5, min_samples_leaf=1, min_samples_split=5, n_estimators=100;, score=0.673 total time=   0.6s\n",
            "[CV 2/5] END bootstrap=True, max_depth=5, min_samples_leaf=1, min_samples_split=5, n_estimators=100;, score=0.660 total time=   0.7s\n",
            "[CV 3/5] END bootstrap=True, max_depth=5, min_samples_leaf=1, min_samples_split=5, n_estimators=100;, score=0.678 total time=   0.6s\n",
            "[CV 4/5] END bootstrap=True, max_depth=5, min_samples_leaf=1, min_samples_split=5, n_estimators=100;, score=0.668 total time=   0.6s\n",
            "[CV 5/5] END bootstrap=True, max_depth=5, min_samples_leaf=1, min_samples_split=5, n_estimators=100;, score=0.673 total time=   0.6s\n",
            "[CV 1/5] END bootstrap=True, max_depth=5, min_samples_leaf=1, min_samples_split=5, n_estimators=300;, score=0.674 total time=   1.8s\n",
            "[CV 2/5] END bootstrap=True, max_depth=5, min_samples_leaf=1, min_samples_split=5, n_estimators=300;, score=0.665 total time=   1.8s\n",
            "[CV 3/5] END bootstrap=True, max_depth=5, min_samples_leaf=1, min_samples_split=5, n_estimators=300;, score=0.675 total time=   1.9s\n",
            "[CV 4/5] END bootstrap=True, max_depth=5, min_samples_leaf=1, min_samples_split=5, n_estimators=300;, score=0.665 total time=   1.9s\n",
            "[CV 5/5] END bootstrap=True, max_depth=5, min_samples_leaf=1, min_samples_split=5, n_estimators=300;, score=0.672 total time=   1.8s\n",
            "[CV 1/5] END bootstrap=True, max_depth=5, min_samples_leaf=1, min_samples_split=5, n_estimators=500;, score=0.674 total time=   3.1s\n",
            "[CV 2/5] END bootstrap=True, max_depth=5, min_samples_leaf=1, min_samples_split=5, n_estimators=500;, score=0.665 total time=   3.1s\n",
            "[CV 3/5] END bootstrap=True, max_depth=5, min_samples_leaf=1, min_samples_split=5, n_estimators=500;, score=0.680 total time=   3.1s\n",
            "[CV 4/5] END bootstrap=True, max_depth=5, min_samples_leaf=1, min_samples_split=5, n_estimators=500;, score=0.670 total time=   3.1s\n",
            "[CV 5/5] END bootstrap=True, max_depth=5, min_samples_leaf=1, min_samples_split=5, n_estimators=500;, score=0.674 total time=   3.0s\n",
            "[CV 1/5] END bootstrap=True, max_depth=5, min_samples_leaf=1, min_samples_split=10, n_estimators=10;, score=0.665 total time=   0.1s\n",
            "[CV 2/5] END bootstrap=True, max_depth=5, min_samples_leaf=1, min_samples_split=10, n_estimators=10;, score=0.663 total time=   0.1s\n",
            "[CV 3/5] END bootstrap=True, max_depth=5, min_samples_leaf=1, min_samples_split=10, n_estimators=10;, score=0.673 total time=   0.1s\n",
            "[CV 4/5] END bootstrap=True, max_depth=5, min_samples_leaf=1, min_samples_split=10, n_estimators=10;, score=0.670 total time=   0.1s\n",
            "[CV 5/5] END bootstrap=True, max_depth=5, min_samples_leaf=1, min_samples_split=10, n_estimators=10;, score=0.673 total time=   0.1s\n",
            "[CV 1/5] END bootstrap=True, max_depth=5, min_samples_leaf=1, min_samples_split=10, n_estimators=50;, score=0.674 total time=   0.3s\n",
            "[CV 2/5] END bootstrap=True, max_depth=5, min_samples_leaf=1, min_samples_split=10, n_estimators=50;, score=0.663 total time=   0.3s\n",
            "[CV 3/5] END bootstrap=True, max_depth=5, min_samples_leaf=1, min_samples_split=10, n_estimators=50;, score=0.680 total time=   0.3s\n",
            "[CV 4/5] END bootstrap=True, max_depth=5, min_samples_leaf=1, min_samples_split=10, n_estimators=50;, score=0.659 total time=   0.3s\n",
            "[CV 5/5] END bootstrap=True, max_depth=5, min_samples_leaf=1, min_samples_split=10, n_estimators=50;, score=0.671 total time=   0.3s\n",
            "[CV 1/5] END bootstrap=True, max_depth=5, min_samples_leaf=1, min_samples_split=10, n_estimators=100;, score=0.671 total time=   0.6s\n",
            "[CV 2/5] END bootstrap=True, max_depth=5, min_samples_leaf=1, min_samples_split=10, n_estimators=100;, score=0.660 total time=   0.6s\n",
            "[CV 3/5] END bootstrap=True, max_depth=5, min_samples_leaf=1, min_samples_split=10, n_estimators=100;, score=0.677 total time=   0.7s\n",
            "[CV 4/5] END bootstrap=True, max_depth=5, min_samples_leaf=1, min_samples_split=10, n_estimators=100;, score=0.669 total time=   0.6s\n",
            "[CV 5/5] END bootstrap=True, max_depth=5, min_samples_leaf=1, min_samples_split=10, n_estimators=100;, score=0.670 total time=   0.6s\n",
            "[CV 1/5] END bootstrap=True, max_depth=5, min_samples_leaf=1, min_samples_split=10, n_estimators=300;, score=0.675 total time=   1.8s\n",
            "[CV 2/5] END bootstrap=True, max_depth=5, min_samples_leaf=1, min_samples_split=10, n_estimators=300;, score=0.667 total time=   1.9s\n",
            "[CV 3/5] END bootstrap=True, max_depth=5, min_samples_leaf=1, min_samples_split=10, n_estimators=300;, score=0.679 total time=   1.9s\n",
            "[CV 4/5] END bootstrap=True, max_depth=5, min_samples_leaf=1, min_samples_split=10, n_estimators=300;, score=0.667 total time=   1.8s\n",
            "[CV 5/5] END bootstrap=True, max_depth=5, min_samples_leaf=1, min_samples_split=10, n_estimators=300;, score=0.671 total time=   1.9s\n",
            "[CV 1/5] END bootstrap=True, max_depth=5, min_samples_leaf=1, min_samples_split=10, n_estimators=500;, score=0.674 total time=   3.1s\n",
            "[CV 2/5] END bootstrap=True, max_depth=5, min_samples_leaf=1, min_samples_split=10, n_estimators=500;, score=0.664 total time=   3.0s\n",
            "[CV 3/5] END bootstrap=True, max_depth=5, min_samples_leaf=1, min_samples_split=10, n_estimators=500;, score=0.675 total time=   3.1s\n",
            "[CV 4/5] END bootstrap=True, max_depth=5, min_samples_leaf=1, min_samples_split=10, n_estimators=500;, score=0.667 total time=   3.0s\n",
            "[CV 5/5] END bootstrap=True, max_depth=5, min_samples_leaf=1, min_samples_split=10, n_estimators=500;, score=0.674 total time=   3.0s\n",
            "[CV 1/5] END bootstrap=True, max_depth=5, min_samples_leaf=2, min_samples_split=2, n_estimators=10;, score=0.670 total time=   0.1s\n",
            "[CV 2/5] END bootstrap=True, max_depth=5, min_samples_leaf=2, min_samples_split=2, n_estimators=10;, score=0.668 total time=   0.1s\n",
            "[CV 3/5] END bootstrap=True, max_depth=5, min_samples_leaf=2, min_samples_split=2, n_estimators=10;, score=0.677 total time=   0.1s\n",
            "[CV 4/5] END bootstrap=True, max_depth=5, min_samples_leaf=2, min_samples_split=2, n_estimators=10;, score=0.668 total time=   0.1s\n",
            "[CV 5/5] END bootstrap=True, max_depth=5, min_samples_leaf=2, min_samples_split=2, n_estimators=10;, score=0.676 total time=   0.1s\n",
            "[CV 1/5] END bootstrap=True, max_depth=5, min_samples_leaf=2, min_samples_split=2, n_estimators=50;, score=0.673 total time=   0.3s\n",
            "[CV 2/5] END bootstrap=True, max_depth=5, min_samples_leaf=2, min_samples_split=2, n_estimators=50;, score=0.663 total time=   0.3s\n",
            "[CV 3/5] END bootstrap=True, max_depth=5, min_samples_leaf=2, min_samples_split=2, n_estimators=50;, score=0.672 total time=   0.3s\n",
            "[CV 4/5] END bootstrap=True, max_depth=5, min_samples_leaf=2, min_samples_split=2, n_estimators=50;, score=0.665 total time=   0.3s\n",
            "[CV 5/5] END bootstrap=True, max_depth=5, min_samples_leaf=2, min_samples_split=2, n_estimators=50;, score=0.662 total time=   0.3s\n",
            "[CV 1/5] END bootstrap=True, max_depth=5, min_samples_leaf=2, min_samples_split=2, n_estimators=100;, score=0.673 total time=   0.6s\n",
            "[CV 2/5] END bootstrap=True, max_depth=5, min_samples_leaf=2, min_samples_split=2, n_estimators=100;, score=0.659 total time=   0.6s\n",
            "[CV 3/5] END bootstrap=True, max_depth=5, min_samples_leaf=2, min_samples_split=2, n_estimators=100;, score=0.677 total time=   0.6s\n",
            "[CV 4/5] END bootstrap=True, max_depth=5, min_samples_leaf=2, min_samples_split=2, n_estimators=100;, score=0.668 total time=   0.6s\n",
            "[CV 5/5] END bootstrap=True, max_depth=5, min_samples_leaf=2, min_samples_split=2, n_estimators=100;, score=0.674 total time=   0.7s\n",
            "[CV 1/5] END bootstrap=True, max_depth=5, min_samples_leaf=2, min_samples_split=2, n_estimators=300;, score=0.674 total time=   1.8s\n",
            "[CV 2/5] END bootstrap=True, max_depth=5, min_samples_leaf=2, min_samples_split=2, n_estimators=300;, score=0.667 total time=   1.8s\n",
            "[CV 3/5] END bootstrap=True, max_depth=5, min_samples_leaf=2, min_samples_split=2, n_estimators=300;, score=0.679 total time=   1.9s\n",
            "[CV 4/5] END bootstrap=True, max_depth=5, min_samples_leaf=2, min_samples_split=2, n_estimators=300;, score=0.669 total time=   1.9s\n",
            "[CV 5/5] END bootstrap=True, max_depth=5, min_samples_leaf=2, min_samples_split=2, n_estimators=300;, score=0.675 total time=   1.9s\n",
            "[CV 1/5] END bootstrap=True, max_depth=5, min_samples_leaf=2, min_samples_split=2, n_estimators=500;, score=0.674 total time=   3.0s\n",
            "[CV 2/5] END bootstrap=True, max_depth=5, min_samples_leaf=2, min_samples_split=2, n_estimators=500;, score=0.663 total time=   3.1s\n",
            "[CV 3/5] END bootstrap=True, max_depth=5, min_samples_leaf=2, min_samples_split=2, n_estimators=500;, score=0.679 total time=   3.0s\n",
            "[CV 4/5] END bootstrap=True, max_depth=5, min_samples_leaf=2, min_samples_split=2, n_estimators=500;, score=0.668 total time=   3.1s\n",
            "[CV 5/5] END bootstrap=True, max_depth=5, min_samples_leaf=2, min_samples_split=2, n_estimators=500;, score=0.671 total time=   3.1s\n",
            "[CV 1/5] END bootstrap=True, max_depth=5, min_samples_leaf=2, min_samples_split=5, n_estimators=10;, score=0.667 total time=   0.1s\n",
            "[CV 2/5] END bootstrap=True, max_depth=5, min_samples_leaf=2, min_samples_split=5, n_estimators=10;, score=0.661 total time=   0.1s\n",
            "[CV 3/5] END bootstrap=True, max_depth=5, min_samples_leaf=2, min_samples_split=5, n_estimators=10;, score=0.668 total time=   0.1s\n",
            "[CV 4/5] END bootstrap=True, max_depth=5, min_samples_leaf=2, min_samples_split=5, n_estimators=10;, score=0.653 total time=   0.1s\n",
            "[CV 5/5] END bootstrap=True, max_depth=5, min_samples_leaf=2, min_samples_split=5, n_estimators=10;, score=0.663 total time=   0.1s\n",
            "[CV 1/5] END bootstrap=True, max_depth=5, min_samples_leaf=2, min_samples_split=5, n_estimators=50;, score=0.677 total time=   0.3s\n",
            "[CV 2/5] END bootstrap=True, max_depth=5, min_samples_leaf=2, min_samples_split=5, n_estimators=50;, score=0.662 total time=   0.3s\n",
            "[CV 3/5] END bootstrap=True, max_depth=5, min_samples_leaf=2, min_samples_split=5, n_estimators=50;, score=0.673 total time=   0.3s\n",
            "[CV 4/5] END bootstrap=True, max_depth=5, min_samples_leaf=2, min_samples_split=5, n_estimators=50;, score=0.664 total time=   0.3s\n",
            "[CV 5/5] END bootstrap=True, max_depth=5, min_samples_leaf=2, min_samples_split=5, n_estimators=50;, score=0.672 total time=   0.3s\n",
            "[CV 1/5] END bootstrap=True, max_depth=5, min_samples_leaf=2, min_samples_split=5, n_estimators=100;, score=0.675 total time=   0.6s\n",
            "[CV 2/5] END bootstrap=True, max_depth=5, min_samples_leaf=2, min_samples_split=5, n_estimators=100;, score=0.659 total time=   0.6s\n",
            "[CV 3/5] END bootstrap=True, max_depth=5, min_samples_leaf=2, min_samples_split=5, n_estimators=100;, score=0.677 total time=   0.6s\n",
            "[CV 4/5] END bootstrap=True, max_depth=5, min_samples_leaf=2, min_samples_split=5, n_estimators=100;, score=0.669 total time=   0.6s\n",
            "[CV 5/5] END bootstrap=True, max_depth=5, min_samples_leaf=2, min_samples_split=5, n_estimators=100;, score=0.675 total time=   0.6s\n",
            "[CV 1/5] END bootstrap=True, max_depth=5, min_samples_leaf=2, min_samples_split=5, n_estimators=300;, score=0.673 total time=   1.8s\n",
            "[CV 2/5] END bootstrap=True, max_depth=5, min_samples_leaf=2, min_samples_split=5, n_estimators=300;, score=0.666 total time=   1.9s\n",
            "[CV 3/5] END bootstrap=True, max_depth=5, min_samples_leaf=2, min_samples_split=5, n_estimators=300;, score=0.677 total time=   1.8s\n",
            "[CV 4/5] END bootstrap=True, max_depth=5, min_samples_leaf=2, min_samples_split=5, n_estimators=300;, score=0.669 total time=   1.9s\n",
            "[CV 5/5] END bootstrap=True, max_depth=5, min_samples_leaf=2, min_samples_split=5, n_estimators=300;, score=0.675 total time=   1.8s\n",
            "[CV 1/5] END bootstrap=True, max_depth=5, min_samples_leaf=2, min_samples_split=5, n_estimators=500;, score=0.675 total time=   3.0s\n",
            "[CV 2/5] END bootstrap=True, max_depth=5, min_samples_leaf=2, min_samples_split=5, n_estimators=500;, score=0.664 total time=   3.1s\n",
            "[CV 3/5] END bootstrap=True, max_depth=5, min_samples_leaf=2, min_samples_split=5, n_estimators=500;, score=0.678 total time=   3.1s\n",
            "[CV 4/5] END bootstrap=True, max_depth=5, min_samples_leaf=2, min_samples_split=5, n_estimators=500;, score=0.671 total time=   3.0s\n",
            "[CV 5/5] END bootstrap=True, max_depth=5, min_samples_leaf=2, min_samples_split=5, n_estimators=500;, score=0.673 total time=   3.1s\n",
            "[CV 1/5] END bootstrap=True, max_depth=5, min_samples_leaf=2, min_samples_split=10, n_estimators=10;, score=0.673 total time=   0.1s\n",
            "[CV 2/5] END bootstrap=True, max_depth=5, min_samples_leaf=2, min_samples_split=10, n_estimators=10;, score=0.663 total time=   0.1s\n",
            "[CV 3/5] END bootstrap=True, max_depth=5, min_samples_leaf=2, min_samples_split=10, n_estimators=10;, score=0.674 total time=   0.1s\n",
            "[CV 4/5] END bootstrap=True, max_depth=5, min_samples_leaf=2, min_samples_split=10, n_estimators=10;, score=0.659 total time=   0.1s\n",
            "[CV 5/5] END bootstrap=True, max_depth=5, min_samples_leaf=2, min_samples_split=10, n_estimators=10;, score=0.677 total time=   0.1s\n",
            "[CV 1/5] END bootstrap=True, max_depth=5, min_samples_leaf=2, min_samples_split=10, n_estimators=50;, score=0.676 total time=   0.3s\n",
            "[CV 2/5] END bootstrap=True, max_depth=5, min_samples_leaf=2, min_samples_split=10, n_estimators=50;, score=0.665 total time=   0.3s\n",
            "[CV 3/5] END bootstrap=True, max_depth=5, min_samples_leaf=2, min_samples_split=10, n_estimators=50;, score=0.681 total time=   0.3s\n",
            "[CV 4/5] END bootstrap=True, max_depth=5, min_samples_leaf=2, min_samples_split=10, n_estimators=50;, score=0.674 total time=   0.3s\n",
            "[CV 5/5] END bootstrap=True, max_depth=5, min_samples_leaf=2, min_samples_split=10, n_estimators=50;, score=0.672 total time=   0.3s\n",
            "[CV 1/5] END bootstrap=True, max_depth=5, min_samples_leaf=2, min_samples_split=10, n_estimators=100;, score=0.668 total time=   0.6s\n",
            "[CV 2/5] END bootstrap=True, max_depth=5, min_samples_leaf=2, min_samples_split=10, n_estimators=100;, score=0.666 total time=   0.6s\n",
            "[CV 3/5] END bootstrap=True, max_depth=5, min_samples_leaf=2, min_samples_split=10, n_estimators=100;, score=0.678 total time=   0.6s\n",
            "[CV 4/5] END bootstrap=True, max_depth=5, min_samples_leaf=2, min_samples_split=10, n_estimators=100;, score=0.672 total time=   0.6s\n",
            "[CV 5/5] END bootstrap=True, max_depth=5, min_samples_leaf=2, min_samples_split=10, n_estimators=100;, score=0.671 total time=   0.6s\n",
            "[CV 1/5] END bootstrap=True, max_depth=5, min_samples_leaf=2, min_samples_split=10, n_estimators=300;, score=0.673 total time=   1.9s\n",
            "[CV 2/5] END bootstrap=True, max_depth=5, min_samples_leaf=2, min_samples_split=10, n_estimators=300;, score=0.668 total time=   1.8s\n",
            "[CV 3/5] END bootstrap=True, max_depth=5, min_samples_leaf=2, min_samples_split=10, n_estimators=300;, score=0.679 total time=   1.8s\n",
            "[CV 4/5] END bootstrap=True, max_depth=5, min_samples_leaf=2, min_samples_split=10, n_estimators=300;, score=0.670 total time=   1.8s\n",
            "[CV 5/5] END bootstrap=True, max_depth=5, min_samples_leaf=2, min_samples_split=10, n_estimators=300;, score=0.671 total time=   1.8s\n",
            "[CV 1/5] END bootstrap=True, max_depth=5, min_samples_leaf=2, min_samples_split=10, n_estimators=500;, score=0.673 total time=   3.1s\n",
            "[CV 2/5] END bootstrap=True, max_depth=5, min_samples_leaf=2, min_samples_split=10, n_estimators=500;, score=0.663 total time=   3.0s\n",
            "[CV 3/5] END bootstrap=True, max_depth=5, min_samples_leaf=2, min_samples_split=10, n_estimators=500;, score=0.676 total time=   3.0s\n",
            "[CV 4/5] END bootstrap=True, max_depth=5, min_samples_leaf=2, min_samples_split=10, n_estimators=500;, score=0.668 total time=   3.0s\n",
            "[CV 5/5] END bootstrap=True, max_depth=5, min_samples_leaf=2, min_samples_split=10, n_estimators=500;, score=0.670 total time=   3.1s\n",
            "[CV 1/5] END bootstrap=True, max_depth=5, min_samples_leaf=4, min_samples_split=2, n_estimators=10;, score=0.669 total time=   0.1s\n",
            "[CV 2/5] END bootstrap=True, max_depth=5, min_samples_leaf=4, min_samples_split=2, n_estimators=10;, score=0.658 total time=   0.1s\n",
            "[CV 3/5] END bootstrap=True, max_depth=5, min_samples_leaf=4, min_samples_split=2, n_estimators=10;, score=0.686 total time=   0.1s\n",
            "[CV 4/5] END bootstrap=True, max_depth=5, min_samples_leaf=4, min_samples_split=2, n_estimators=10;, score=0.661 total time=   0.1s\n",
            "[CV 5/5] END bootstrap=True, max_depth=5, min_samples_leaf=4, min_samples_split=2, n_estimators=10;, score=0.665 total time=   0.1s\n",
            "[CV 1/5] END bootstrap=True, max_depth=5, min_samples_leaf=4, min_samples_split=2, n_estimators=50;, score=0.675 total time=   0.3s\n",
            "[CV 2/5] END bootstrap=True, max_depth=5, min_samples_leaf=4, min_samples_split=2, n_estimators=50;, score=0.667 total time=   0.3s\n",
            "[CV 3/5] END bootstrap=True, max_depth=5, min_samples_leaf=4, min_samples_split=2, n_estimators=50;, score=0.678 total time=   0.3s\n",
            "[CV 4/5] END bootstrap=True, max_depth=5, min_samples_leaf=4, min_samples_split=2, n_estimators=50;, score=0.669 total time=   0.3s\n",
            "[CV 5/5] END bootstrap=True, max_depth=5, min_samples_leaf=4, min_samples_split=2, n_estimators=50;, score=0.673 total time=   0.3s\n",
            "[CV 1/5] END bootstrap=True, max_depth=5, min_samples_leaf=4, min_samples_split=2, n_estimators=100;, score=0.676 total time=   0.6s\n",
            "[CV 2/5] END bootstrap=True, max_depth=5, min_samples_leaf=4, min_samples_split=2, n_estimators=100;, score=0.665 total time=   0.6s\n",
            "[CV 3/5] END bootstrap=True, max_depth=5, min_samples_leaf=4, min_samples_split=2, n_estimators=100;, score=0.675 total time=   0.6s\n",
            "[CV 4/5] END bootstrap=True, max_depth=5, min_samples_leaf=4, min_samples_split=2, n_estimators=100;, score=0.672 total time=   0.6s\n",
            "[CV 5/5] END bootstrap=True, max_depth=5, min_samples_leaf=4, min_samples_split=2, n_estimators=100;, score=0.673 total time=   0.6s\n",
            "[CV 1/5] END bootstrap=True, max_depth=5, min_samples_leaf=4, min_samples_split=2, n_estimators=300;, score=0.676 total time=   1.8s\n",
            "[CV 2/5] END bootstrap=True, max_depth=5, min_samples_leaf=4, min_samples_split=2, n_estimators=300;, score=0.667 total time=   1.8s\n",
            "[CV 3/5] END bootstrap=True, max_depth=5, min_samples_leaf=4, min_samples_split=2, n_estimators=300;, score=0.678 total time=   1.8s\n",
            "[CV 4/5] END bootstrap=True, max_depth=5, min_samples_leaf=4, min_samples_split=2, n_estimators=300;, score=0.671 total time=   1.8s\n",
            "[CV 5/5] END bootstrap=True, max_depth=5, min_samples_leaf=4, min_samples_split=2, n_estimators=300;, score=0.674 total time=   1.8s\n",
            "[CV 1/5] END bootstrap=True, max_depth=5, min_samples_leaf=4, min_samples_split=2, n_estimators=500;, score=0.670 total time=   3.0s\n",
            "[CV 2/5] END bootstrap=True, max_depth=5, min_samples_leaf=4, min_samples_split=2, n_estimators=500;, score=0.664 total time=   3.0s\n",
            "[CV 3/5] END bootstrap=True, max_depth=5, min_samples_leaf=4, min_samples_split=2, n_estimators=500;, score=0.680 total time=   3.1s\n",
            "[CV 4/5] END bootstrap=True, max_depth=5, min_samples_leaf=4, min_samples_split=2, n_estimators=500;, score=0.671 total time=   3.0s\n",
            "[CV 5/5] END bootstrap=True, max_depth=5, min_samples_leaf=4, min_samples_split=2, n_estimators=500;, score=0.674 total time=   3.1s\n",
            "[CV 1/5] END bootstrap=True, max_depth=5, min_samples_leaf=4, min_samples_split=5, n_estimators=10;, score=0.662 total time=   0.1s\n",
            "[CV 2/5] END bootstrap=True, max_depth=5, min_samples_leaf=4, min_samples_split=5, n_estimators=10;, score=0.649 total time=   0.1s\n",
            "[CV 3/5] END bootstrap=True, max_depth=5, min_samples_leaf=4, min_samples_split=5, n_estimators=10;, score=0.675 total time=   0.1s\n",
            "[CV 4/5] END bootstrap=True, max_depth=5, min_samples_leaf=4, min_samples_split=5, n_estimators=10;, score=0.659 total time=   0.1s\n",
            "[CV 5/5] END bootstrap=True, max_depth=5, min_samples_leaf=4, min_samples_split=5, n_estimators=10;, score=0.674 total time=   0.1s\n",
            "[CV 1/5] END bootstrap=True, max_depth=5, min_samples_leaf=4, min_samples_split=5, n_estimators=50;, score=0.673 total time=   0.3s\n",
            "[CV 2/5] END bootstrap=True, max_depth=5, min_samples_leaf=4, min_samples_split=5, n_estimators=50;, score=0.668 total time=   0.3s\n",
            "[CV 3/5] END bootstrap=True, max_depth=5, min_samples_leaf=4, min_samples_split=5, n_estimators=50;, score=0.684 total time=   0.3s\n",
            "[CV 4/5] END bootstrap=True, max_depth=5, min_samples_leaf=4, min_samples_split=5, n_estimators=50;, score=0.669 total time=   0.3s\n",
            "[CV 5/5] END bootstrap=True, max_depth=5, min_samples_leaf=4, min_samples_split=5, n_estimators=50;, score=0.674 total time=   0.3s\n",
            "[CV 1/5] END bootstrap=True, max_depth=5, min_samples_leaf=4, min_samples_split=5, n_estimators=100;, score=0.672 total time=   0.7s\n",
            "[CV 2/5] END bootstrap=True, max_depth=5, min_samples_leaf=4, min_samples_split=5, n_estimators=100;, score=0.664 total time=   0.6s\n",
            "[CV 3/5] END bootstrap=True, max_depth=5, min_samples_leaf=4, min_samples_split=5, n_estimators=100;, score=0.679 total time=   0.6s\n",
            "[CV 4/5] END bootstrap=True, max_depth=5, min_samples_leaf=4, min_samples_split=5, n_estimators=100;, score=0.670 total time=   0.6s\n",
            "[CV 5/5] END bootstrap=True, max_depth=5, min_samples_leaf=4, min_samples_split=5, n_estimators=100;, score=0.671 total time=   0.6s\n",
            "[CV 1/5] END bootstrap=True, max_depth=5, min_samples_leaf=4, min_samples_split=5, n_estimators=300;, score=0.673 total time=   1.8s\n",
            "[CV 2/5] END bootstrap=True, max_depth=5, min_samples_leaf=4, min_samples_split=5, n_estimators=300;, score=0.664 total time=   1.9s\n",
            "[CV 3/5] END bootstrap=True, max_depth=5, min_samples_leaf=4, min_samples_split=5, n_estimators=300;, score=0.681 total time=   1.8s\n",
            "[CV 4/5] END bootstrap=True, max_depth=5, min_samples_leaf=4, min_samples_split=5, n_estimators=300;, score=0.671 total time=   1.9s\n",
            "[CV 5/5] END bootstrap=True, max_depth=5, min_samples_leaf=4, min_samples_split=5, n_estimators=300;, score=0.673 total time=   1.8s\n",
            "[CV 1/5] END bootstrap=True, max_depth=5, min_samples_leaf=4, min_samples_split=5, n_estimators=500;, score=0.674 total time=   3.1s\n",
            "[CV 2/5] END bootstrap=True, max_depth=5, min_samples_leaf=4, min_samples_split=5, n_estimators=500;, score=0.663 total time=   3.1s\n",
            "[CV 3/5] END bootstrap=True, max_depth=5, min_samples_leaf=4, min_samples_split=5, n_estimators=500;, score=0.682 total time=   3.0s\n",
            "[CV 4/5] END bootstrap=True, max_depth=5, min_samples_leaf=4, min_samples_split=5, n_estimators=500;, score=0.667 total time=   3.1s\n",
            "[CV 5/5] END bootstrap=True, max_depth=5, min_samples_leaf=4, min_samples_split=5, n_estimators=500;, score=0.672 total time=   3.1s\n",
            "[CV 1/5] END bootstrap=True, max_depth=5, min_samples_leaf=4, min_samples_split=10, n_estimators=10;, score=0.667 total time=   0.1s\n",
            "[CV 2/5] END bootstrap=True, max_depth=5, min_samples_leaf=4, min_samples_split=10, n_estimators=10;, score=0.654 total time=   0.1s\n",
            "[CV 3/5] END bootstrap=True, max_depth=5, min_samples_leaf=4, min_samples_split=10, n_estimators=10;, score=0.675 total time=   0.1s\n",
            "[CV 4/5] END bootstrap=True, max_depth=5, min_samples_leaf=4, min_samples_split=10, n_estimators=10;, score=0.668 total time=   0.1s\n",
            "[CV 5/5] END bootstrap=True, max_depth=5, min_samples_leaf=4, min_samples_split=10, n_estimators=10;, score=0.671 total time=   0.1s\n",
            "[CV 1/5] END bootstrap=True, max_depth=5, min_samples_leaf=4, min_samples_split=10, n_estimators=50;, score=0.668 total time=   0.3s\n",
            "[CV 2/5] END bootstrap=True, max_depth=5, min_samples_leaf=4, min_samples_split=10, n_estimators=50;, score=0.668 total time=   0.3s\n",
            "[CV 3/5] END bootstrap=True, max_depth=5, min_samples_leaf=4, min_samples_split=10, n_estimators=50;, score=0.675 total time=   0.3s\n",
            "[CV 4/5] END bootstrap=True, max_depth=5, min_samples_leaf=4, min_samples_split=10, n_estimators=50;, score=0.669 total time=   0.3s\n",
            "[CV 5/5] END bootstrap=True, max_depth=5, min_samples_leaf=4, min_samples_split=10, n_estimators=50;, score=0.670 total time=   0.3s\n",
            "[CV 1/5] END bootstrap=True, max_depth=5, min_samples_leaf=4, min_samples_split=10, n_estimators=100;, score=0.675 total time=   0.6s\n",
            "[CV 2/5] END bootstrap=True, max_depth=5, min_samples_leaf=4, min_samples_split=10, n_estimators=100;, score=0.664 total time=   0.6s\n",
            "[CV 3/5] END bootstrap=True, max_depth=5, min_samples_leaf=4, min_samples_split=10, n_estimators=100;, score=0.683 total time=   0.6s\n",
            "[CV 4/5] END bootstrap=True, max_depth=5, min_samples_leaf=4, min_samples_split=10, n_estimators=100;, score=0.671 total time=   0.6s\n",
            "[CV 5/5] END bootstrap=True, max_depth=5, min_samples_leaf=4, min_samples_split=10, n_estimators=100;, score=0.676 total time=   0.6s\n",
            "[CV 1/5] END bootstrap=True, max_depth=5, min_samples_leaf=4, min_samples_split=10, n_estimators=300;, score=0.670 total time=   1.8s\n",
            "[CV 2/5] END bootstrap=True, max_depth=5, min_samples_leaf=4, min_samples_split=10, n_estimators=300;, score=0.667 total time=   1.8s\n",
            "[CV 3/5] END bootstrap=True, max_depth=5, min_samples_leaf=4, min_samples_split=10, n_estimators=300;, score=0.680 total time=   1.8s\n",
            "[CV 4/5] END bootstrap=True, max_depth=5, min_samples_leaf=4, min_samples_split=10, n_estimators=300;, score=0.668 total time=   1.8s\n",
            "[CV 5/5] END bootstrap=True, max_depth=5, min_samples_leaf=4, min_samples_split=10, n_estimators=300;, score=0.671 total time=   1.8s\n",
            "[CV 1/5] END bootstrap=True, max_depth=5, min_samples_leaf=4, min_samples_split=10, n_estimators=500;, score=0.673 total time=   3.1s\n",
            "[CV 2/5] END bootstrap=True, max_depth=5, min_samples_leaf=4, min_samples_split=10, n_estimators=500;, score=0.667 total time=   3.0s\n",
            "[CV 3/5] END bootstrap=True, max_depth=5, min_samples_leaf=4, min_samples_split=10, n_estimators=500;, score=0.681 total time=   3.1s\n",
            "[CV 4/5] END bootstrap=True, max_depth=5, min_samples_leaf=4, min_samples_split=10, n_estimators=500;, score=0.670 total time=   4.1s\n",
            "[CV 5/5] END bootstrap=True, max_depth=5, min_samples_leaf=4, min_samples_split=10, n_estimators=500;, score=0.675 total time=   3.0s\n",
            "[CV 1/5] END bootstrap=False, max_depth=1, min_samples_leaf=1, min_samples_split=2, n_estimators=10;, score=0.642 total time=   0.0s\n",
            "[CV 2/5] END bootstrap=False, max_depth=1, min_samples_leaf=1, min_samples_split=2, n_estimators=10;, score=0.630 total time=   0.0s\n",
            "[CV 3/5] END bootstrap=False, max_depth=1, min_samples_leaf=1, min_samples_split=2, n_estimators=10;, score=0.620 total time=   0.0s\n",
            "[CV 4/5] END bootstrap=False, max_depth=1, min_samples_leaf=1, min_samples_split=2, n_estimators=10;, score=0.608 total time=   0.0s\n",
            "[CV 5/5] END bootstrap=False, max_depth=1, min_samples_leaf=1, min_samples_split=2, n_estimators=10;, score=0.603 total time=   0.0s\n",
            "[CV 1/5] END bootstrap=False, max_depth=1, min_samples_leaf=1, min_samples_split=2, n_estimators=50;, score=0.602 total time=   0.2s\n",
            "[CV 2/5] END bootstrap=False, max_depth=1, min_samples_leaf=1, min_samples_split=2, n_estimators=50;, score=0.631 total time=   0.2s\n",
            "[CV 3/5] END bootstrap=False, max_depth=1, min_samples_leaf=1, min_samples_split=2, n_estimators=50;, score=0.643 total time=   0.2s\n",
            "[CV 4/5] END bootstrap=False, max_depth=1, min_samples_leaf=1, min_samples_split=2, n_estimators=50;, score=0.640 total time=   0.1s\n",
            "[CV 5/5] END bootstrap=False, max_depth=1, min_samples_leaf=1, min_samples_split=2, n_estimators=50;, score=0.643 total time=   0.2s\n",
            "[CV 1/5] END bootstrap=False, max_depth=1, min_samples_leaf=1, min_samples_split=2, n_estimators=100;, score=0.622 total time=   0.3s\n",
            "[CV 2/5] END bootstrap=False, max_depth=1, min_samples_leaf=1, min_samples_split=2, n_estimators=100;, score=0.628 total time=   0.3s\n",
            "[CV 3/5] END bootstrap=False, max_depth=1, min_samples_leaf=1, min_samples_split=2, n_estimators=100;, score=0.656 total time=   0.3s\n",
            "[CV 4/5] END bootstrap=False, max_depth=1, min_samples_leaf=1, min_samples_split=2, n_estimators=100;, score=0.632 total time=   0.3s\n",
            "[CV 5/5] END bootstrap=False, max_depth=1, min_samples_leaf=1, min_samples_split=2, n_estimators=100;, score=0.639 total time=   0.3s\n",
            "[CV 1/5] END bootstrap=False, max_depth=1, min_samples_leaf=1, min_samples_split=2, n_estimators=300;, score=0.646 total time=   0.9s\n",
            "[CV 2/5] END bootstrap=False, max_depth=1, min_samples_leaf=1, min_samples_split=2, n_estimators=300;, score=0.639 total time=   0.9s\n",
            "[CV 3/5] END bootstrap=False, max_depth=1, min_samples_leaf=1, min_samples_split=2, n_estimators=300;, score=0.653 total time=   0.9s\n",
            "[CV 4/5] END bootstrap=False, max_depth=1, min_samples_leaf=1, min_samples_split=2, n_estimators=300;, score=0.633 total time=   0.9s\n",
            "[CV 5/5] END bootstrap=False, max_depth=1, min_samples_leaf=1, min_samples_split=2, n_estimators=300;, score=0.646 total time=   0.9s\n",
            "[CV 1/5] END bootstrap=False, max_depth=1, min_samples_leaf=1, min_samples_split=2, n_estimators=500;, score=0.644 total time=   1.5s\n",
            "[CV 2/5] END bootstrap=False, max_depth=1, min_samples_leaf=1, min_samples_split=2, n_estimators=500;, score=0.635 total time=   1.5s\n",
            "[CV 3/5] END bootstrap=False, max_depth=1, min_samples_leaf=1, min_samples_split=2, n_estimators=500;, score=0.649 total time=   1.5s\n",
            "[CV 4/5] END bootstrap=False, max_depth=1, min_samples_leaf=1, min_samples_split=2, n_estimators=500;, score=0.632 total time=   1.5s\n",
            "[CV 5/5] END bootstrap=False, max_depth=1, min_samples_leaf=1, min_samples_split=2, n_estimators=500;, score=0.644 total time=   1.5s\n",
            "[CV 1/5] END bootstrap=False, max_depth=1, min_samples_leaf=1, min_samples_split=5, n_estimators=10;, score=0.634 total time=   0.0s\n",
            "[CV 2/5] END bootstrap=False, max_depth=1, min_samples_leaf=1, min_samples_split=5, n_estimators=10;, score=0.609 total time=   0.0s\n",
            "[CV 3/5] END bootstrap=False, max_depth=1, min_samples_leaf=1, min_samples_split=5, n_estimators=10;, score=0.619 total time=   0.0s\n",
            "[CV 4/5] END bootstrap=False, max_depth=1, min_samples_leaf=1, min_samples_split=5, n_estimators=10;, score=0.637 total time=   0.0s\n",
            "[CV 5/5] END bootstrap=False, max_depth=1, min_samples_leaf=1, min_samples_split=5, n_estimators=10;, score=0.645 total time=   0.0s\n",
            "[CV 1/5] END bootstrap=False, max_depth=1, min_samples_leaf=1, min_samples_split=5, n_estimators=50;, score=0.644 total time=   0.2s\n",
            "[CV 2/5] END bootstrap=False, max_depth=1, min_samples_leaf=1, min_samples_split=5, n_estimators=50;, score=0.639 total time=   0.1s\n",
            "[CV 3/5] END bootstrap=False, max_depth=1, min_samples_leaf=1, min_samples_split=5, n_estimators=50;, score=0.637 total time=   0.1s\n",
            "[CV 4/5] END bootstrap=False, max_depth=1, min_samples_leaf=1, min_samples_split=5, n_estimators=50;, score=0.632 total time=   0.2s\n",
            "[CV 5/5] END bootstrap=False, max_depth=1, min_samples_leaf=1, min_samples_split=5, n_estimators=50;, score=0.633 total time=   0.2s\n",
            "[CV 1/5] END bootstrap=False, max_depth=1, min_samples_leaf=1, min_samples_split=5, n_estimators=100;, score=0.637 total time=   0.3s\n",
            "[CV 2/5] END bootstrap=False, max_depth=1, min_samples_leaf=1, min_samples_split=5, n_estimators=100;, score=0.633 total time=   0.3s\n",
            "[CV 3/5] END bootstrap=False, max_depth=1, min_samples_leaf=1, min_samples_split=5, n_estimators=100;, score=0.648 total time=   0.3s\n",
            "[CV 4/5] END bootstrap=False, max_depth=1, min_samples_leaf=1, min_samples_split=5, n_estimators=100;, score=0.631 total time=   0.3s\n",
            "[CV 5/5] END bootstrap=False, max_depth=1, min_samples_leaf=1, min_samples_split=5, n_estimators=100;, score=0.635 total time=   0.3s\n",
            "[CV 1/5] END bootstrap=False, max_depth=1, min_samples_leaf=1, min_samples_split=5, n_estimators=300;, score=0.640 total time=   0.9s\n",
            "[CV 2/5] END bootstrap=False, max_depth=1, min_samples_leaf=1, min_samples_split=5, n_estimators=300;, score=0.631 total time=   0.9s\n",
            "[CV 3/5] END bootstrap=False, max_depth=1, min_samples_leaf=1, min_samples_split=5, n_estimators=300;, score=0.643 total time=   0.9s\n",
            "[CV 4/5] END bootstrap=False, max_depth=1, min_samples_leaf=1, min_samples_split=5, n_estimators=300;, score=0.633 total time=   0.9s\n",
            "[CV 5/5] END bootstrap=False, max_depth=1, min_samples_leaf=1, min_samples_split=5, n_estimators=300;, score=0.639 total time=   0.9s\n",
            "[CV 1/5] END bootstrap=False, max_depth=1, min_samples_leaf=1, min_samples_split=5, n_estimators=500;, score=0.649 total time=   1.5s\n",
            "[CV 2/5] END bootstrap=False, max_depth=1, min_samples_leaf=1, min_samples_split=5, n_estimators=500;, score=0.631 total time=   1.5s\n",
            "[CV 3/5] END bootstrap=False, max_depth=1, min_samples_leaf=1, min_samples_split=5, n_estimators=500;, score=0.648 total time=   1.5s\n",
            "[CV 4/5] END bootstrap=False, max_depth=1, min_samples_leaf=1, min_samples_split=5, n_estimators=500;, score=0.632 total time=   1.5s\n",
            "[CV 5/5] END bootstrap=False, max_depth=1, min_samples_leaf=1, min_samples_split=5, n_estimators=500;, score=0.645 total time=   1.6s\n",
            "[CV 1/5] END bootstrap=False, max_depth=1, min_samples_leaf=1, min_samples_split=10, n_estimators=10;, score=0.581 total time=   0.0s\n",
            "[CV 2/5] END bootstrap=False, max_depth=1, min_samples_leaf=1, min_samples_split=10, n_estimators=10;, score=0.609 total time=   0.0s\n",
            "[CV 3/5] END bootstrap=False, max_depth=1, min_samples_leaf=1, min_samples_split=10, n_estimators=10;, score=0.581 total time=   0.0s\n",
            "[CV 4/5] END bootstrap=False, max_depth=1, min_samples_leaf=1, min_samples_split=10, n_estimators=10;, score=0.626 total time=   0.0s\n",
            "[CV 5/5] END bootstrap=False, max_depth=1, min_samples_leaf=1, min_samples_split=10, n_estimators=10;, score=0.646 total time=   0.0s\n",
            "[CV 1/5] END bootstrap=False, max_depth=1, min_samples_leaf=1, min_samples_split=10, n_estimators=50;, score=0.615 total time=   0.2s\n",
            "[CV 2/5] END bootstrap=False, max_depth=1, min_samples_leaf=1, min_samples_split=10, n_estimators=50;, score=0.635 total time=   0.1s\n",
            "[CV 3/5] END bootstrap=False, max_depth=1, min_samples_leaf=1, min_samples_split=10, n_estimators=50;, score=0.644 total time=   0.1s\n",
            "[CV 4/5] END bootstrap=False, max_depth=1, min_samples_leaf=1, min_samples_split=10, n_estimators=50;, score=0.628 total time=   0.2s\n",
            "[CV 5/5] END bootstrap=False, max_depth=1, min_samples_leaf=1, min_samples_split=10, n_estimators=50;, score=0.630 total time=   0.2s\n",
            "[CV 1/5] END bootstrap=False, max_depth=1, min_samples_leaf=1, min_samples_split=10, n_estimators=100;, score=0.620 total time=   0.3s\n",
            "[CV 2/5] END bootstrap=False, max_depth=1, min_samples_leaf=1, min_samples_split=10, n_estimators=100;, score=0.630 total time=   0.3s\n",
            "[CV 3/5] END bootstrap=False, max_depth=1, min_samples_leaf=1, min_samples_split=10, n_estimators=100;, score=0.640 total time=   0.3s\n",
            "[CV 4/5] END bootstrap=False, max_depth=1, min_samples_leaf=1, min_samples_split=10, n_estimators=100;, score=0.631 total time=   0.3s\n",
            "[CV 5/5] END bootstrap=False, max_depth=1, min_samples_leaf=1, min_samples_split=10, n_estimators=100;, score=0.640 total time=   0.3s\n",
            "[CV 1/5] END bootstrap=False, max_depth=1, min_samples_leaf=1, min_samples_split=10, n_estimators=300;, score=0.620 total time=   0.9s\n",
            "[CV 2/5] END bootstrap=False, max_depth=1, min_samples_leaf=1, min_samples_split=10, n_estimators=300;, score=0.641 total time=   0.9s\n",
            "[CV 3/5] END bootstrap=False, max_depth=1, min_samples_leaf=1, min_samples_split=10, n_estimators=300;, score=0.641 total time=   0.9s\n",
            "[CV 4/5] END bootstrap=False, max_depth=1, min_samples_leaf=1, min_samples_split=10, n_estimators=300;, score=0.632 total time=   0.9s\n",
            "[CV 5/5] END bootstrap=False, max_depth=1, min_samples_leaf=1, min_samples_split=10, n_estimators=300;, score=0.635 total time=   0.9s\n",
            "[CV 1/5] END bootstrap=False, max_depth=1, min_samples_leaf=1, min_samples_split=10, n_estimators=500;, score=0.640 total time=   1.5s\n",
            "[CV 2/5] END bootstrap=False, max_depth=1, min_samples_leaf=1, min_samples_split=10, n_estimators=500;, score=0.631 total time=   1.5s\n",
            "[CV 3/5] END bootstrap=False, max_depth=1, min_samples_leaf=1, min_samples_split=10, n_estimators=500;, score=0.648 total time=   1.5s\n",
            "[CV 4/5] END bootstrap=False, max_depth=1, min_samples_leaf=1, min_samples_split=10, n_estimators=500;, score=0.635 total time=   1.5s\n",
            "[CV 5/5] END bootstrap=False, max_depth=1, min_samples_leaf=1, min_samples_split=10, n_estimators=500;, score=0.638 total time=   1.5s\n",
            "[CV 1/5] END bootstrap=False, max_depth=1, min_samples_leaf=2, min_samples_split=2, n_estimators=10;, score=0.581 total time=   0.0s\n",
            "[CV 2/5] END bootstrap=False, max_depth=1, min_samples_leaf=2, min_samples_split=2, n_estimators=10;, score=0.611 total time=   0.0s\n",
            "[CV 3/5] END bootstrap=False, max_depth=1, min_samples_leaf=2, min_samples_split=2, n_estimators=10;, score=0.652 total time=   0.0s\n",
            "[CV 4/5] END bootstrap=False, max_depth=1, min_samples_leaf=2, min_samples_split=2, n_estimators=10;, score=0.608 total time=   0.0s\n",
            "[CV 5/5] END bootstrap=False, max_depth=1, min_samples_leaf=2, min_samples_split=2, n_estimators=10;, score=0.616 total time=   0.0s\n",
            "[CV 1/5] END bootstrap=False, max_depth=1, min_samples_leaf=2, min_samples_split=2, n_estimators=50;, score=0.618 total time=   0.2s\n",
            "[CV 2/5] END bootstrap=False, max_depth=1, min_samples_leaf=2, min_samples_split=2, n_estimators=50;, score=0.630 total time=   0.2s\n",
            "[CV 3/5] END bootstrap=False, max_depth=1, min_samples_leaf=2, min_samples_split=2, n_estimators=50;, score=0.645 total time=   0.2s\n",
            "[CV 4/5] END bootstrap=False, max_depth=1, min_samples_leaf=2, min_samples_split=2, n_estimators=50;, score=0.610 total time=   0.2s\n",
            "[CV 5/5] END bootstrap=False, max_depth=1, min_samples_leaf=2, min_samples_split=2, n_estimators=50;, score=0.643 total time=   0.2s\n",
            "[CV 1/5] END bootstrap=False, max_depth=1, min_samples_leaf=2, min_samples_split=2, n_estimators=100;, score=0.618 total time=   0.3s\n",
            "[CV 2/5] END bootstrap=False, max_depth=1, min_samples_leaf=2, min_samples_split=2, n_estimators=100;, score=0.639 total time=   0.3s\n",
            "[CV 3/5] END bootstrap=False, max_depth=1, min_samples_leaf=2, min_samples_split=2, n_estimators=100;, score=0.646 total time=   0.3s\n",
            "[CV 4/5] END bootstrap=False, max_depth=1, min_samples_leaf=2, min_samples_split=2, n_estimators=100;, score=0.633 total time=   0.3s\n",
            "[CV 5/5] END bootstrap=False, max_depth=1, min_samples_leaf=2, min_samples_split=2, n_estimators=100;, score=0.634 total time=   0.3s\n",
            "[CV 1/5] END bootstrap=False, max_depth=1, min_samples_leaf=2, min_samples_split=2, n_estimators=300;, score=0.640 total time=   1.0s\n",
            "[CV 2/5] END bootstrap=False, max_depth=1, min_samples_leaf=2, min_samples_split=2, n_estimators=300;, score=0.640 total time=   0.9s\n",
            "[CV 3/5] END bootstrap=False, max_depth=1, min_samples_leaf=2, min_samples_split=2, n_estimators=300;, score=0.649 total time=   0.9s\n",
            "[CV 4/5] END bootstrap=False, max_depth=1, min_samples_leaf=2, min_samples_split=2, n_estimators=300;, score=0.636 total time=   0.9s\n",
            "[CV 5/5] END bootstrap=False, max_depth=1, min_samples_leaf=2, min_samples_split=2, n_estimators=300;, score=0.644 total time=   0.9s\n",
            "[CV 1/5] END bootstrap=False, max_depth=1, min_samples_leaf=2, min_samples_split=2, n_estimators=500;, score=0.618 total time=   1.5s\n",
            "[CV 2/5] END bootstrap=False, max_depth=1, min_samples_leaf=2, min_samples_split=2, n_estimators=500;, score=0.631 total time=   1.5s\n",
            "[CV 3/5] END bootstrap=False, max_depth=1, min_samples_leaf=2, min_samples_split=2, n_estimators=500;, score=0.649 total time=   1.5s\n",
            "[CV 4/5] END bootstrap=False, max_depth=1, min_samples_leaf=2, min_samples_split=2, n_estimators=500;, score=0.632 total time=   1.5s\n",
            "[CV 5/5] END bootstrap=False, max_depth=1, min_samples_leaf=2, min_samples_split=2, n_estimators=500;, score=0.642 total time=   1.5s\n",
            "[CV 1/5] END bootstrap=False, max_depth=1, min_samples_leaf=2, min_samples_split=5, n_estimators=10;, score=0.641 total time=   0.0s\n",
            "[CV 2/5] END bootstrap=False, max_depth=1, min_samples_leaf=2, min_samples_split=5, n_estimators=10;, score=0.609 total time=   0.0s\n",
            "[CV 3/5] END bootstrap=False, max_depth=1, min_samples_leaf=2, min_samples_split=5, n_estimators=10;, score=0.650 total time=   0.0s\n",
            "[CV 4/5] END bootstrap=False, max_depth=1, min_samples_leaf=2, min_samples_split=5, n_estimators=10;, score=0.627 total time=   0.0s\n",
            "[CV 5/5] END bootstrap=False, max_depth=1, min_samples_leaf=2, min_samples_split=5, n_estimators=10;, score=0.610 total time=   0.0s\n",
            "[CV 1/5] END bootstrap=False, max_depth=1, min_samples_leaf=2, min_samples_split=5, n_estimators=50;, score=0.594 total time=   0.2s\n",
            "[CV 2/5] END bootstrap=False, max_depth=1, min_samples_leaf=2, min_samples_split=5, n_estimators=50;, score=0.626 total time=   0.1s\n",
            "[CV 3/5] END bootstrap=False, max_depth=1, min_samples_leaf=2, min_samples_split=5, n_estimators=50;, score=0.643 total time=   0.2s\n",
            "[CV 4/5] END bootstrap=False, max_depth=1, min_samples_leaf=2, min_samples_split=5, n_estimators=50;, score=0.612 total time=   0.2s\n",
            "[CV 5/5] END bootstrap=False, max_depth=1, min_samples_leaf=2, min_samples_split=5, n_estimators=50;, score=0.635 total time=   0.2s\n",
            "[CV 1/5] END bootstrap=False, max_depth=1, min_samples_leaf=2, min_samples_split=5, n_estimators=100;, score=0.642 total time=   0.3s\n",
            "[CV 2/5] END bootstrap=False, max_depth=1, min_samples_leaf=2, min_samples_split=5, n_estimators=100;, score=0.622 total time=   0.3s\n",
            "[CV 3/5] END bootstrap=False, max_depth=1, min_samples_leaf=2, min_samples_split=5, n_estimators=100;, score=0.650 total time=   0.3s\n",
            "[CV 4/5] END bootstrap=False, max_depth=1, min_samples_leaf=2, min_samples_split=5, n_estimators=100;, score=0.632 total time=   0.3s\n",
            "[CV 5/5] END bootstrap=False, max_depth=1, min_samples_leaf=2, min_samples_split=5, n_estimators=100;, score=0.644 total time=   0.3s\n",
            "[CV 1/5] END bootstrap=False, max_depth=1, min_samples_leaf=2, min_samples_split=5, n_estimators=300;, score=0.619 total time=   0.9s\n",
            "[CV 2/5] END bootstrap=False, max_depth=1, min_samples_leaf=2, min_samples_split=5, n_estimators=300;, score=0.631 total time=   0.9s\n",
            "[CV 3/5] END bootstrap=False, max_depth=1, min_samples_leaf=2, min_samples_split=5, n_estimators=300;, score=0.655 total time=   0.9s\n",
            "[CV 4/5] END bootstrap=False, max_depth=1, min_samples_leaf=2, min_samples_split=5, n_estimators=300;, score=0.631 total time=   0.9s\n",
            "[CV 5/5] END bootstrap=False, max_depth=1, min_samples_leaf=2, min_samples_split=5, n_estimators=300;, score=0.638 total time=   0.9s\n",
            "[CV 1/5] END bootstrap=False, max_depth=1, min_samples_leaf=2, min_samples_split=5, n_estimators=500;, score=0.640 total time=   1.5s\n",
            "[CV 2/5] END bootstrap=False, max_depth=1, min_samples_leaf=2, min_samples_split=5, n_estimators=500;, score=0.640 total time=   1.5s\n",
            "[CV 3/5] END bootstrap=False, max_depth=1, min_samples_leaf=2, min_samples_split=5, n_estimators=500;, score=0.645 total time=   1.5s\n",
            "[CV 4/5] END bootstrap=False, max_depth=1, min_samples_leaf=2, min_samples_split=5, n_estimators=500;, score=0.633 total time=   1.6s\n",
            "[CV 5/5] END bootstrap=False, max_depth=1, min_samples_leaf=2, min_samples_split=5, n_estimators=500;, score=0.645 total time=   1.5s\n",
            "[CV 1/5] END bootstrap=False, max_depth=1, min_samples_leaf=2, min_samples_split=10, n_estimators=10;, score=0.624 total time=   0.0s\n",
            "[CV 2/5] END bootstrap=False, max_depth=1, min_samples_leaf=2, min_samples_split=10, n_estimators=10;, score=0.613 total time=   0.0s\n",
            "[CV 3/5] END bootstrap=False, max_depth=1, min_samples_leaf=2, min_samples_split=10, n_estimators=10;, score=0.627 total time=   0.0s\n",
            "[CV 4/5] END bootstrap=False, max_depth=1, min_samples_leaf=2, min_samples_split=10, n_estimators=10;, score=0.625 total time=   0.0s\n",
            "[CV 5/5] END bootstrap=False, max_depth=1, min_samples_leaf=2, min_samples_split=10, n_estimators=10;, score=0.598 total time=   0.0s\n",
            "[CV 1/5] END bootstrap=False, max_depth=1, min_samples_leaf=2, min_samples_split=10, n_estimators=50;, score=0.624 total time=   0.2s\n",
            "[CV 2/5] END bootstrap=False, max_depth=1, min_samples_leaf=2, min_samples_split=10, n_estimators=50;, score=0.627 total time=   0.2s\n",
            "[CV 3/5] END bootstrap=False, max_depth=1, min_samples_leaf=2, min_samples_split=10, n_estimators=50;, score=0.650 total time=   0.2s\n",
            "[CV 4/5] END bootstrap=False, max_depth=1, min_samples_leaf=2, min_samples_split=10, n_estimators=50;, score=0.633 total time=   0.2s\n",
            "[CV 5/5] END bootstrap=False, max_depth=1, min_samples_leaf=2, min_samples_split=10, n_estimators=50;, score=0.637 total time=   0.2s\n",
            "[CV 1/5] END bootstrap=False, max_depth=1, min_samples_leaf=2, min_samples_split=10, n_estimators=100;, score=0.617 total time=   0.3s\n",
            "[CV 2/5] END bootstrap=False, max_depth=1, min_samples_leaf=2, min_samples_split=10, n_estimators=100;, score=0.630 total time=   0.3s\n",
            "[CV 3/5] END bootstrap=False, max_depth=1, min_samples_leaf=2, min_samples_split=10, n_estimators=100;, score=0.643 total time=   0.3s\n",
            "[CV 4/5] END bootstrap=False, max_depth=1, min_samples_leaf=2, min_samples_split=10, n_estimators=100;, score=0.635 total time=   0.3s\n",
            "[CV 5/5] END bootstrap=False, max_depth=1, min_samples_leaf=2, min_samples_split=10, n_estimators=100;, score=0.650 total time=   0.3s\n",
            "[CV 1/5] END bootstrap=False, max_depth=1, min_samples_leaf=2, min_samples_split=10, n_estimators=300;, score=0.638 total time=   0.9s\n",
            "[CV 2/5] END bootstrap=False, max_depth=1, min_samples_leaf=2, min_samples_split=10, n_estimators=300;, score=0.632 total time=   0.9s\n",
            "[CV 3/5] END bootstrap=False, max_depth=1, min_samples_leaf=2, min_samples_split=10, n_estimators=300;, score=0.648 total time=   0.9s\n",
            "[CV 4/5] END bootstrap=False, max_depth=1, min_samples_leaf=2, min_samples_split=10, n_estimators=300;, score=0.636 total time=   0.9s\n",
            "[CV 5/5] END bootstrap=False, max_depth=1, min_samples_leaf=2, min_samples_split=10, n_estimators=300;, score=0.645 total time=   0.9s\n",
            "[CV 1/5] END bootstrap=False, max_depth=1, min_samples_leaf=2, min_samples_split=10, n_estimators=500;, score=0.619 total time=   1.5s\n",
            "[CV 2/5] END bootstrap=False, max_depth=1, min_samples_leaf=2, min_samples_split=10, n_estimators=500;, score=0.635 total time=   1.5s\n",
            "[CV 3/5] END bootstrap=False, max_depth=1, min_samples_leaf=2, min_samples_split=10, n_estimators=500;, score=0.644 total time=   1.5s\n",
            "[CV 4/5] END bootstrap=False, max_depth=1, min_samples_leaf=2, min_samples_split=10, n_estimators=500;, score=0.632 total time=   1.6s\n",
            "[CV 5/5] END bootstrap=False, max_depth=1, min_samples_leaf=2, min_samples_split=10, n_estimators=500;, score=0.643 total time=   1.5s\n",
            "[CV 1/5] END bootstrap=False, max_depth=1, min_samples_leaf=4, min_samples_split=2, n_estimators=10;, score=0.614 total time=   0.0s\n",
            "[CV 2/5] END bootstrap=False, max_depth=1, min_samples_leaf=4, min_samples_split=2, n_estimators=10;, score=0.635 total time=   0.0s\n",
            "[CV 3/5] END bootstrap=False, max_depth=1, min_samples_leaf=4, min_samples_split=2, n_estimators=10;, score=0.618 total time=   0.0s\n",
            "[CV 4/5] END bootstrap=False, max_depth=1, min_samples_leaf=4, min_samples_split=2, n_estimators=10;, score=0.636 total time=   0.0s\n",
            "[CV 5/5] END bootstrap=False, max_depth=1, min_samples_leaf=4, min_samples_split=2, n_estimators=10;, score=0.621 total time=   0.0s\n",
            "[CV 1/5] END bootstrap=False, max_depth=1, min_samples_leaf=4, min_samples_split=2, n_estimators=50;, score=0.624 total time=   0.2s\n",
            "[CV 2/5] END bootstrap=False, max_depth=1, min_samples_leaf=4, min_samples_split=2, n_estimators=50;, score=0.629 total time=   0.2s\n",
            "[CV 3/5] END bootstrap=False, max_depth=1, min_samples_leaf=4, min_samples_split=2, n_estimators=50;, score=0.634 total time=   0.2s\n",
            "[CV 4/5] END bootstrap=False, max_depth=1, min_samples_leaf=4, min_samples_split=2, n_estimators=50;, score=0.632 total time=   0.1s\n",
            "[CV 5/5] END bootstrap=False, max_depth=1, min_samples_leaf=4, min_samples_split=2, n_estimators=50;, score=0.642 total time=   0.2s\n",
            "[CV 1/5] END bootstrap=False, max_depth=1, min_samples_leaf=4, min_samples_split=2, n_estimators=100;, score=0.643 total time=   0.3s\n",
            "[CV 2/5] END bootstrap=False, max_depth=1, min_samples_leaf=4, min_samples_split=2, n_estimators=100;, score=0.641 total time=   0.3s\n",
            "[CV 3/5] END bootstrap=False, max_depth=1, min_samples_leaf=4, min_samples_split=2, n_estimators=100;, score=0.650 total time=   0.3s\n",
            "[CV 4/5] END bootstrap=False, max_depth=1, min_samples_leaf=4, min_samples_split=2, n_estimators=100;, score=0.640 total time=   0.3s\n",
            "[CV 5/5] END bootstrap=False, max_depth=1, min_samples_leaf=4, min_samples_split=2, n_estimators=100;, score=0.634 total time=   0.3s\n",
            "[CV 1/5] END bootstrap=False, max_depth=1, min_samples_leaf=4, min_samples_split=2, n_estimators=300;, score=0.638 total time=   0.9s\n",
            "[CV 2/5] END bootstrap=False, max_depth=1, min_samples_leaf=4, min_samples_split=2, n_estimators=300;, score=0.631 total time=   0.9s\n",
            "[CV 3/5] END bootstrap=False, max_depth=1, min_samples_leaf=4, min_samples_split=2, n_estimators=300;, score=0.647 total time=   0.9s\n",
            "[CV 4/5] END bootstrap=False, max_depth=1, min_samples_leaf=4, min_samples_split=2, n_estimators=300;, score=0.636 total time=   0.9s\n",
            "[CV 5/5] END bootstrap=False, max_depth=1, min_samples_leaf=4, min_samples_split=2, n_estimators=300;, score=0.641 total time=   0.9s\n",
            "[CV 1/5] END bootstrap=False, max_depth=1, min_samples_leaf=4, min_samples_split=2, n_estimators=500;, score=0.638 total time=   1.5s\n",
            "[CV 2/5] END bootstrap=False, max_depth=1, min_samples_leaf=4, min_samples_split=2, n_estimators=500;, score=0.632 total time=   1.5s\n",
            "[CV 3/5] END bootstrap=False, max_depth=1, min_samples_leaf=4, min_samples_split=2, n_estimators=500;, score=0.644 total time=   1.5s\n",
            "[CV 4/5] END bootstrap=False, max_depth=1, min_samples_leaf=4, min_samples_split=2, n_estimators=500;, score=0.635 total time=   1.5s\n",
            "[CV 5/5] END bootstrap=False, max_depth=1, min_samples_leaf=4, min_samples_split=2, n_estimators=500;, score=0.644 total time=   1.5s\n",
            "[CV 1/5] END bootstrap=False, max_depth=1, min_samples_leaf=4, min_samples_split=5, n_estimators=10;, score=0.585 total time=   0.0s\n",
            "[CV 2/5] END bootstrap=False, max_depth=1, min_samples_leaf=4, min_samples_split=5, n_estimators=10;, score=0.617 total time=   0.0s\n",
            "[CV 3/5] END bootstrap=False, max_depth=1, min_samples_leaf=4, min_samples_split=5, n_estimators=10;, score=0.598 total time=   0.0s\n",
            "[CV 4/5] END bootstrap=False, max_depth=1, min_samples_leaf=4, min_samples_split=5, n_estimators=10;, score=0.610 total time=   0.0s\n",
            "[CV 5/5] END bootstrap=False, max_depth=1, min_samples_leaf=4, min_samples_split=5, n_estimators=10;, score=0.618 total time=   0.0s\n",
            "[CV 1/5] END bootstrap=False, max_depth=1, min_samples_leaf=4, min_samples_split=5, n_estimators=50;, score=0.640 total time=   0.2s\n",
            "[CV 2/5] END bootstrap=False, max_depth=1, min_samples_leaf=4, min_samples_split=5, n_estimators=50;, score=0.623 total time=   0.2s\n",
            "[CV 3/5] END bootstrap=False, max_depth=1, min_samples_leaf=4, min_samples_split=5, n_estimators=50;, score=0.644 total time=   0.2s\n",
            "[CV 4/5] END bootstrap=False, max_depth=1, min_samples_leaf=4, min_samples_split=5, n_estimators=50;, score=0.626 total time=   0.2s\n",
            "[CV 5/5] END bootstrap=False, max_depth=1, min_samples_leaf=4, min_samples_split=5, n_estimators=50;, score=0.643 total time=   0.2s\n",
            "[CV 1/5] END bootstrap=False, max_depth=1, min_samples_leaf=4, min_samples_split=5, n_estimators=100;, score=0.639 total time=   0.3s\n",
            "[CV 2/5] END bootstrap=False, max_depth=1, min_samples_leaf=4, min_samples_split=5, n_estimators=100;, score=0.629 total time=   0.3s\n",
            "[CV 3/5] END bootstrap=False, max_depth=1, min_samples_leaf=4, min_samples_split=5, n_estimators=100;, score=0.644 total time=   0.3s\n",
            "[CV 4/5] END bootstrap=False, max_depth=1, min_samples_leaf=4, min_samples_split=5, n_estimators=100;, score=0.637 total time=   0.3s\n",
            "[CV 5/5] END bootstrap=False, max_depth=1, min_samples_leaf=4, min_samples_split=5, n_estimators=100;, score=0.641 total time=   0.3s\n",
            "[CV 1/5] END bootstrap=False, max_depth=1, min_samples_leaf=4, min_samples_split=5, n_estimators=300;, score=0.644 total time=   0.9s\n",
            "[CV 2/5] END bootstrap=False, max_depth=1, min_samples_leaf=4, min_samples_split=5, n_estimators=300;, score=0.635 total time=   0.9s\n",
            "[CV 3/5] END bootstrap=False, max_depth=1, min_samples_leaf=4, min_samples_split=5, n_estimators=300;, score=0.648 total time=   0.9s\n",
            "[CV 4/5] END bootstrap=False, max_depth=1, min_samples_leaf=4, min_samples_split=5, n_estimators=300;, score=0.634 total time=   0.9s\n",
            "[CV 5/5] END bootstrap=False, max_depth=1, min_samples_leaf=4, min_samples_split=5, n_estimators=300;, score=0.643 total time=   0.9s\n",
            "[CV 1/5] END bootstrap=False, max_depth=1, min_samples_leaf=4, min_samples_split=5, n_estimators=500;, score=0.642 total time=   1.5s\n",
            "[CV 2/5] END bootstrap=False, max_depth=1, min_samples_leaf=4, min_samples_split=5, n_estimators=500;, score=0.635 total time=   1.5s\n",
            "[CV 3/5] END bootstrap=False, max_depth=1, min_samples_leaf=4, min_samples_split=5, n_estimators=500;, score=0.644 total time=   1.5s\n",
            "[CV 4/5] END bootstrap=False, max_depth=1, min_samples_leaf=4, min_samples_split=5, n_estimators=500;, score=0.632 total time=   1.5s\n",
            "[CV 5/5] END bootstrap=False, max_depth=1, min_samples_leaf=4, min_samples_split=5, n_estimators=500;, score=0.637 total time=   1.5s\n",
            "[CV 1/5] END bootstrap=False, max_depth=1, min_samples_leaf=4, min_samples_split=10, n_estimators=10;, score=0.637 total time=   0.0s\n",
            "[CV 2/5] END bootstrap=False, max_depth=1, min_samples_leaf=4, min_samples_split=10, n_estimators=10;, score=0.635 total time=   0.0s\n",
            "[CV 3/5] END bootstrap=False, max_depth=1, min_samples_leaf=4, min_samples_split=10, n_estimators=10;, score=0.581 total time=   0.0s\n",
            "[CV 4/5] END bootstrap=False, max_depth=1, min_samples_leaf=4, min_samples_split=10, n_estimators=10;, score=0.639 total time=   0.0s\n",
            "[CV 5/5] END bootstrap=False, max_depth=1, min_samples_leaf=4, min_samples_split=10, n_estimators=10;, score=0.629 total time=   0.0s\n",
            "[CV 1/5] END bootstrap=False, max_depth=1, min_samples_leaf=4, min_samples_split=10, n_estimators=50;, score=0.616 total time=   0.2s\n",
            "[CV 2/5] END bootstrap=False, max_depth=1, min_samples_leaf=4, min_samples_split=10, n_estimators=50;, score=0.627 total time=   0.2s\n",
            "[CV 3/5] END bootstrap=False, max_depth=1, min_samples_leaf=4, min_samples_split=10, n_estimators=50;, score=0.648 total time=   0.2s\n",
            "[CV 4/5] END bootstrap=False, max_depth=1, min_samples_leaf=4, min_samples_split=10, n_estimators=50;, score=0.635 total time=   0.2s\n",
            "[CV 5/5] END bootstrap=False, max_depth=1, min_samples_leaf=4, min_samples_split=10, n_estimators=50;, score=0.635 total time=   0.2s\n",
            "[CV 1/5] END bootstrap=False, max_depth=1, min_samples_leaf=4, min_samples_split=10, n_estimators=100;, score=0.642 total time=   0.3s\n",
            "[CV 2/5] END bootstrap=False, max_depth=1, min_samples_leaf=4, min_samples_split=10, n_estimators=100;, score=0.638 total time=   0.3s\n",
            "[CV 3/5] END bootstrap=False, max_depth=1, min_samples_leaf=4, min_samples_split=10, n_estimators=100;, score=0.641 total time=   0.3s\n",
            "[CV 4/5] END bootstrap=False, max_depth=1, min_samples_leaf=4, min_samples_split=10, n_estimators=100;, score=0.637 total time=   0.3s\n",
            "[CV 5/5] END bootstrap=False, max_depth=1, min_samples_leaf=4, min_samples_split=10, n_estimators=100;, score=0.630 total time=   0.3s\n",
            "[CV 1/5] END bootstrap=False, max_depth=1, min_samples_leaf=4, min_samples_split=10, n_estimators=300;, score=0.620 total time=   0.9s\n",
            "[CV 2/5] END bootstrap=False, max_depth=1, min_samples_leaf=4, min_samples_split=10, n_estimators=300;, score=0.631 total time=   0.9s\n",
            "[CV 3/5] END bootstrap=False, max_depth=1, min_samples_leaf=4, min_samples_split=10, n_estimators=300;, score=0.644 total time=   1.0s\n",
            "[CV 4/5] END bootstrap=False, max_depth=1, min_samples_leaf=4, min_samples_split=10, n_estimators=300;, score=0.632 total time=   0.9s\n",
            "[CV 5/5] END bootstrap=False, max_depth=1, min_samples_leaf=4, min_samples_split=10, n_estimators=300;, score=0.638 total time=   0.9s\n",
            "[CV 1/5] END bootstrap=False, max_depth=1, min_samples_leaf=4, min_samples_split=10, n_estimators=500;, score=0.641 total time=   1.5s\n",
            "[CV 2/5] END bootstrap=False, max_depth=1, min_samples_leaf=4, min_samples_split=10, n_estimators=500;, score=0.629 total time=   1.5s\n",
            "[CV 3/5] END bootstrap=False, max_depth=1, min_samples_leaf=4, min_samples_split=10, n_estimators=500;, score=0.642 total time=   1.5s\n",
            "[CV 4/5] END bootstrap=False, max_depth=1, min_samples_leaf=4, min_samples_split=10, n_estimators=500;, score=0.633 total time=   1.6s\n",
            "[CV 5/5] END bootstrap=False, max_depth=1, min_samples_leaf=4, min_samples_split=10, n_estimators=500;, score=0.645 total time=   1.5s\n",
            "[CV 1/5] END bootstrap=False, max_depth=3, min_samples_leaf=1, min_samples_split=2, n_estimators=10;, score=0.651 total time=   0.1s\n",
            "[CV 2/5] END bootstrap=False, max_depth=3, min_samples_leaf=1, min_samples_split=2, n_estimators=10;, score=0.641 total time=   0.1s\n",
            "[CV 3/5] END bootstrap=False, max_depth=3, min_samples_leaf=1, min_samples_split=2, n_estimators=10;, score=0.658 total time=   0.1s\n",
            "[CV 4/5] END bootstrap=False, max_depth=3, min_samples_leaf=1, min_samples_split=2, n_estimators=10;, score=0.647 total time=   0.1s\n",
            "[CV 5/5] END bootstrap=False, max_depth=3, min_samples_leaf=1, min_samples_split=2, n_estimators=10;, score=0.655 total time=   0.1s\n",
            "[CV 1/5] END bootstrap=False, max_depth=3, min_samples_leaf=1, min_samples_split=2, n_estimators=50;, score=0.665 total time=   0.3s\n",
            "[CV 2/5] END bootstrap=False, max_depth=3, min_samples_leaf=1, min_samples_split=2, n_estimators=50;, score=0.645 total time=   0.3s\n",
            "[CV 3/5] END bootstrap=False, max_depth=3, min_samples_leaf=1, min_samples_split=2, n_estimators=50;, score=0.662 total time=   0.3s\n",
            "[CV 4/5] END bootstrap=False, max_depth=3, min_samples_leaf=1, min_samples_split=2, n_estimators=50;, score=0.655 total time=   0.3s\n",
            "[CV 5/5] END bootstrap=False, max_depth=3, min_samples_leaf=1, min_samples_split=2, n_estimators=50;, score=0.659 total time=   0.3s\n",
            "[CV 1/5] END bootstrap=False, max_depth=3, min_samples_leaf=1, min_samples_split=2, n_estimators=100;, score=0.656 total time=   0.6s\n",
            "[CV 2/5] END bootstrap=False, max_depth=3, min_samples_leaf=1, min_samples_split=2, n_estimators=100;, score=0.648 total time=   0.6s\n",
            "[CV 3/5] END bootstrap=False, max_depth=3, min_samples_leaf=1, min_samples_split=2, n_estimators=100;, score=0.671 total time=   0.6s\n",
            "[CV 4/5] END bootstrap=False, max_depth=3, min_samples_leaf=1, min_samples_split=2, n_estimators=100;, score=0.647 total time=   0.6s\n",
            "[CV 5/5] END bootstrap=False, max_depth=3, min_samples_leaf=1, min_samples_split=2, n_estimators=100;, score=0.655 total time=   0.6s\n",
            "[CV 1/5] END bootstrap=False, max_depth=3, min_samples_leaf=1, min_samples_split=2, n_estimators=300;, score=0.660 total time=   1.7s\n",
            "[CV 2/5] END bootstrap=False, max_depth=3, min_samples_leaf=1, min_samples_split=2, n_estimators=300;, score=0.649 total time=   1.6s\n",
            "[CV 3/5] END bootstrap=False, max_depth=3, min_samples_leaf=1, min_samples_split=2, n_estimators=300;, score=0.668 total time=   1.6s\n",
            "[CV 4/5] END bootstrap=False, max_depth=3, min_samples_leaf=1, min_samples_split=2, n_estimators=300;, score=0.651 total time=   1.6s\n",
            "[CV 5/5] END bootstrap=False, max_depth=3, min_samples_leaf=1, min_samples_split=2, n_estimators=300;, score=0.664 total time=   1.6s\n",
            "[CV 1/5] END bootstrap=False, max_depth=3, min_samples_leaf=1, min_samples_split=2, n_estimators=500;, score=0.656 total time=   2.7s\n",
            "[CV 2/5] END bootstrap=False, max_depth=3, min_samples_leaf=1, min_samples_split=2, n_estimators=500;, score=0.651 total time=   2.8s\n",
            "[CV 3/5] END bootstrap=False, max_depth=3, min_samples_leaf=1, min_samples_split=2, n_estimators=500;, score=0.668 total time=   2.8s\n",
            "[CV 4/5] END bootstrap=False, max_depth=3, min_samples_leaf=1, min_samples_split=2, n_estimators=500;, score=0.645 total time=   2.7s\n",
            "[CV 5/5] END bootstrap=False, max_depth=3, min_samples_leaf=1, min_samples_split=2, n_estimators=500;, score=0.659 total time=   2.6s\n",
            "[CV 1/5] END bootstrap=False, max_depth=3, min_samples_leaf=1, min_samples_split=5, n_estimators=10;, score=0.660 total time=   0.1s\n",
            "[CV 2/5] END bootstrap=False, max_depth=3, min_samples_leaf=1, min_samples_split=5, n_estimators=10;, score=0.645 total time=   0.1s\n",
            "[CV 3/5] END bootstrap=False, max_depth=3, min_samples_leaf=1, min_samples_split=5, n_estimators=10;, score=0.665 total time=   0.1s\n",
            "[CV 4/5] END bootstrap=False, max_depth=3, min_samples_leaf=1, min_samples_split=5, n_estimators=10;, score=0.637 total time=   0.1s\n",
            "[CV 5/5] END bootstrap=False, max_depth=3, min_samples_leaf=1, min_samples_split=5, n_estimators=10;, score=0.659 total time=   0.1s\n",
            "[CV 1/5] END bootstrap=False, max_depth=3, min_samples_leaf=1, min_samples_split=5, n_estimators=50;, score=0.653 total time=   0.3s\n",
            "[CV 2/5] END bootstrap=False, max_depth=3, min_samples_leaf=1, min_samples_split=5, n_estimators=50;, score=0.655 total time=   0.3s\n",
            "[CV 3/5] END bootstrap=False, max_depth=3, min_samples_leaf=1, min_samples_split=5, n_estimators=50;, score=0.661 total time=   0.3s\n",
            "[CV 4/5] END bootstrap=False, max_depth=3, min_samples_leaf=1, min_samples_split=5, n_estimators=50;, score=0.653 total time=   0.3s\n",
            "[CV 5/5] END bootstrap=False, max_depth=3, min_samples_leaf=1, min_samples_split=5, n_estimators=50;, score=0.656 total time=   0.3s\n",
            "[CV 1/5] END bootstrap=False, max_depth=3, min_samples_leaf=1, min_samples_split=5, n_estimators=100;, score=0.655 total time=   0.6s\n",
            "[CV 2/5] END bootstrap=False, max_depth=3, min_samples_leaf=1, min_samples_split=5, n_estimators=100;, score=0.651 total time=   0.5s\n",
            "[CV 3/5] END bootstrap=False, max_depth=3, min_samples_leaf=1, min_samples_split=5, n_estimators=100;, score=0.665 total time=   0.6s\n",
            "[CV 4/5] END bootstrap=False, max_depth=3, min_samples_leaf=1, min_samples_split=5, n_estimators=100;, score=0.650 total time=   0.6s\n",
            "[CV 5/5] END bootstrap=False, max_depth=3, min_samples_leaf=1, min_samples_split=5, n_estimators=100;, score=0.656 total time=   0.6s\n",
            "[CV 1/5] END bootstrap=False, max_depth=3, min_samples_leaf=1, min_samples_split=5, n_estimators=300;, score=0.657 total time=   1.7s\n",
            "[CV 2/5] END bootstrap=False, max_depth=3, min_samples_leaf=1, min_samples_split=5, n_estimators=300;, score=0.653 total time=   1.7s\n",
            "[CV 3/5] END bootstrap=False, max_depth=3, min_samples_leaf=1, min_samples_split=5, n_estimators=300;, score=0.669 total time=   1.6s\n",
            "[CV 4/5] END bootstrap=False, max_depth=3, min_samples_leaf=1, min_samples_split=5, n_estimators=300;, score=0.647 total time=   1.7s\n",
            "[CV 5/5] END bootstrap=False, max_depth=3, min_samples_leaf=1, min_samples_split=5, n_estimators=300;, score=0.662 total time=   1.7s\n",
            "[CV 1/5] END bootstrap=False, max_depth=3, min_samples_leaf=1, min_samples_split=5, n_estimators=500;, score=0.656 total time=   2.7s\n",
            "[CV 2/5] END bootstrap=False, max_depth=3, min_samples_leaf=1, min_samples_split=5, n_estimators=500;, score=0.648 total time=   2.8s\n",
            "[CV 3/5] END bootstrap=False, max_depth=3, min_samples_leaf=1, min_samples_split=5, n_estimators=500;, score=0.670 total time=   2.7s\n",
            "[CV 4/5] END bootstrap=False, max_depth=3, min_samples_leaf=1, min_samples_split=5, n_estimators=500;, score=0.651 total time=   2.8s\n",
            "[CV 5/5] END bootstrap=False, max_depth=3, min_samples_leaf=1, min_samples_split=5, n_estimators=500;, score=0.662 total time=   2.7s\n",
            "[CV 1/5] END bootstrap=False, max_depth=3, min_samples_leaf=1, min_samples_split=10, n_estimators=10;, score=0.649 total time=   0.1s\n",
            "[CV 2/5] END bootstrap=False, max_depth=3, min_samples_leaf=1, min_samples_split=10, n_estimators=10;, score=0.639 total time=   0.1s\n",
            "[CV 3/5] END bootstrap=False, max_depth=3, min_samples_leaf=1, min_samples_split=10, n_estimators=10;, score=0.654 total time=   0.1s\n",
            "[CV 4/5] END bootstrap=False, max_depth=3, min_samples_leaf=1, min_samples_split=10, n_estimators=10;, score=0.647 total time=   0.1s\n",
            "[CV 5/5] END bootstrap=False, max_depth=3, min_samples_leaf=1, min_samples_split=10, n_estimators=10;, score=0.657 total time=   0.1s\n",
            "[CV 1/5] END bootstrap=False, max_depth=3, min_samples_leaf=1, min_samples_split=10, n_estimators=50;, score=0.657 total time=   0.3s\n",
            "[CV 2/5] END bootstrap=False, max_depth=3, min_samples_leaf=1, min_samples_split=10, n_estimators=50;, score=0.641 total time=   0.3s\n",
            "[CV 3/5] END bootstrap=False, max_depth=3, min_samples_leaf=1, min_samples_split=10, n_estimators=50;, score=0.662 total time=   0.3s\n",
            "[CV 4/5] END bootstrap=False, max_depth=3, min_samples_leaf=1, min_samples_split=10, n_estimators=50;, score=0.658 total time=   0.3s\n",
            "[CV 5/5] END bootstrap=False, max_depth=3, min_samples_leaf=1, min_samples_split=10, n_estimators=50;, score=0.653 total time=   0.3s\n",
            "[CV 1/5] END bootstrap=False, max_depth=3, min_samples_leaf=1, min_samples_split=10, n_estimators=100;, score=0.659 total time=   0.6s\n",
            "[CV 2/5] END bootstrap=False, max_depth=3, min_samples_leaf=1, min_samples_split=10, n_estimators=100;, score=0.652 total time=   0.5s\n",
            "[CV 3/5] END bootstrap=False, max_depth=3, min_samples_leaf=1, min_samples_split=10, n_estimators=100;, score=0.664 total time=   0.6s\n",
            "[CV 4/5] END bootstrap=False, max_depth=3, min_samples_leaf=1, min_samples_split=10, n_estimators=100;, score=0.647 total time=   0.6s\n",
            "[CV 5/5] END bootstrap=False, max_depth=3, min_samples_leaf=1, min_samples_split=10, n_estimators=100;, score=0.657 total time=   0.6s\n",
            "[CV 1/5] END bootstrap=False, max_depth=3, min_samples_leaf=1, min_samples_split=10, n_estimators=300;, score=0.658 total time=   1.7s\n",
            "[CV 2/5] END bootstrap=False, max_depth=3, min_samples_leaf=1, min_samples_split=10, n_estimators=300;, score=0.654 total time=   1.7s\n",
            "[CV 3/5] END bootstrap=False, max_depth=3, min_samples_leaf=1, min_samples_split=10, n_estimators=300;, score=0.667 total time=   1.7s\n",
            "[CV 4/5] END bootstrap=False, max_depth=3, min_samples_leaf=1, min_samples_split=10, n_estimators=300;, score=0.647 total time=   1.7s\n",
            "[CV 5/5] END bootstrap=False, max_depth=3, min_samples_leaf=1, min_samples_split=10, n_estimators=300;, score=0.668 total time=   1.6s\n",
            "[CV 1/5] END bootstrap=False, max_depth=3, min_samples_leaf=1, min_samples_split=10, n_estimators=500;, score=0.656 total time=   2.8s\n",
            "[CV 2/5] END bootstrap=False, max_depth=3, min_samples_leaf=1, min_samples_split=10, n_estimators=500;, score=0.651 total time=   2.7s\n",
            "[CV 3/5] END bootstrap=False, max_depth=3, min_samples_leaf=1, min_samples_split=10, n_estimators=500;, score=0.668 total time=   2.8s\n",
            "[CV 4/5] END bootstrap=False, max_depth=3, min_samples_leaf=1, min_samples_split=10, n_estimators=500;, score=0.649 total time=   2.7s\n",
            "[CV 5/5] END bootstrap=False, max_depth=3, min_samples_leaf=1, min_samples_split=10, n_estimators=500;, score=0.663 total time=   2.8s\n",
            "[CV 1/5] END bootstrap=False, max_depth=3, min_samples_leaf=2, min_samples_split=2, n_estimators=10;, score=0.658 total time=   0.1s\n",
            "[CV 2/5] END bootstrap=False, max_depth=3, min_samples_leaf=2, min_samples_split=2, n_estimators=10;, score=0.641 total time=   0.1s\n",
            "[CV 3/5] END bootstrap=False, max_depth=3, min_samples_leaf=2, min_samples_split=2, n_estimators=10;, score=0.669 total time=   0.1s\n",
            "[CV 4/5] END bootstrap=False, max_depth=3, min_samples_leaf=2, min_samples_split=2, n_estimators=10;, score=0.653 total time=   0.1s\n",
            "[CV 5/5] END bootstrap=False, max_depth=3, min_samples_leaf=2, min_samples_split=2, n_estimators=10;, score=0.658 total time=   0.1s\n",
            "[CV 1/5] END bootstrap=False, max_depth=3, min_samples_leaf=2, min_samples_split=2, n_estimators=50;, score=0.667 total time=   0.3s\n",
            "[CV 2/5] END bootstrap=False, max_depth=3, min_samples_leaf=2, min_samples_split=2, n_estimators=50;, score=0.647 total time=   0.3s\n",
            "[CV 3/5] END bootstrap=False, max_depth=3, min_samples_leaf=2, min_samples_split=2, n_estimators=50;, score=0.664 total time=   0.3s\n",
            "[CV 4/5] END bootstrap=False, max_depth=3, min_samples_leaf=2, min_samples_split=2, n_estimators=50;, score=0.645 total time=   0.3s\n",
            "[CV 5/5] END bootstrap=False, max_depth=3, min_samples_leaf=2, min_samples_split=2, n_estimators=50;, score=0.658 total time=   0.3s\n",
            "[CV 1/5] END bootstrap=False, max_depth=3, min_samples_leaf=2, min_samples_split=2, n_estimators=100;, score=0.659 total time=   0.6s\n",
            "[CV 2/5] END bootstrap=False, max_depth=3, min_samples_leaf=2, min_samples_split=2, n_estimators=100;, score=0.649 total time=   0.5s\n",
            "[CV 3/5] END bootstrap=False, max_depth=3, min_samples_leaf=2, min_samples_split=2, n_estimators=100;, score=0.667 total time=   0.5s\n",
            "[CV 4/5] END bootstrap=False, max_depth=3, min_samples_leaf=2, min_samples_split=2, n_estimators=100;, score=0.648 total time=   0.6s\n",
            "[CV 5/5] END bootstrap=False, max_depth=3, min_samples_leaf=2, min_samples_split=2, n_estimators=100;, score=0.664 total time=   0.6s\n",
            "[CV 1/5] END bootstrap=False, max_depth=3, min_samples_leaf=2, min_samples_split=2, n_estimators=300;, score=0.666 total time=   1.6s\n",
            "[CV 2/5] END bootstrap=False, max_depth=3, min_samples_leaf=2, min_samples_split=2, n_estimators=300;, score=0.647 total time=   1.6s\n",
            "[CV 3/5] END bootstrap=False, max_depth=3, min_samples_leaf=2, min_samples_split=2, n_estimators=300;, score=0.671 total time=   1.7s\n",
            "[CV 4/5] END bootstrap=False, max_depth=3, min_samples_leaf=2, min_samples_split=2, n_estimators=300;, score=0.648 total time=   1.6s\n",
            "[CV 5/5] END bootstrap=False, max_depth=3, min_samples_leaf=2, min_samples_split=2, n_estimators=300;, score=0.657 total time=   1.7s\n",
            "[CV 1/5] END bootstrap=False, max_depth=3, min_samples_leaf=2, min_samples_split=2, n_estimators=500;, score=0.655 total time=   2.7s\n",
            "[CV 2/5] END bootstrap=False, max_depth=3, min_samples_leaf=2, min_samples_split=2, n_estimators=500;, score=0.652 total time=   2.7s\n",
            "[CV 3/5] END bootstrap=False, max_depth=3, min_samples_leaf=2, min_samples_split=2, n_estimators=500;, score=0.667 total time=   2.7s\n",
            "[CV 4/5] END bootstrap=False, max_depth=3, min_samples_leaf=2, min_samples_split=2, n_estimators=500;, score=0.657 total time=   2.7s\n",
            "[CV 5/5] END bootstrap=False, max_depth=3, min_samples_leaf=2, min_samples_split=2, n_estimators=500;, score=0.667 total time=   3.6s\n",
            "[CV 1/5] END bootstrap=False, max_depth=3, min_samples_leaf=2, min_samples_split=5, n_estimators=10;, score=0.668 total time=   0.1s\n",
            "[CV 2/5] END bootstrap=False, max_depth=3, min_samples_leaf=2, min_samples_split=5, n_estimators=10;, score=0.646 total time=   0.1s\n",
            "[CV 3/5] END bootstrap=False, max_depth=3, min_samples_leaf=2, min_samples_split=5, n_estimators=10;, score=0.665 total time=   0.1s\n",
            "[CV 4/5] END bootstrap=False, max_depth=3, min_samples_leaf=2, min_samples_split=5, n_estimators=10;, score=0.637 total time=   0.1s\n",
            "[CV 5/5] END bootstrap=False, max_depth=3, min_samples_leaf=2, min_samples_split=5, n_estimators=10;, score=0.652 total time=   0.1s\n",
            "[CV 1/5] END bootstrap=False, max_depth=3, min_samples_leaf=2, min_samples_split=5, n_estimators=50;, score=0.654 total time=   0.3s\n",
            "[CV 2/5] END bootstrap=False, max_depth=3, min_samples_leaf=2, min_samples_split=5, n_estimators=50;, score=0.647 total time=   0.3s\n",
            "[CV 3/5] END bootstrap=False, max_depth=3, min_samples_leaf=2, min_samples_split=5, n_estimators=50;, score=0.659 total time=   0.3s\n",
            "[CV 4/5] END bootstrap=False, max_depth=3, min_samples_leaf=2, min_samples_split=5, n_estimators=50;, score=0.648 total time=   0.3s\n",
            "[CV 5/5] END bootstrap=False, max_depth=3, min_samples_leaf=2, min_samples_split=5, n_estimators=50;, score=0.665 total time=   0.3s\n",
            "[CV 1/5] END bootstrap=False, max_depth=3, min_samples_leaf=2, min_samples_split=5, n_estimators=100;, score=0.656 total time=   0.6s\n",
            "[CV 2/5] END bootstrap=False, max_depth=3, min_samples_leaf=2, min_samples_split=5, n_estimators=100;, score=0.652 total time=   0.6s\n",
            "[CV 3/5] END bootstrap=False, max_depth=3, min_samples_leaf=2, min_samples_split=5, n_estimators=100;, score=0.666 total time=   0.6s\n",
            "[CV 4/5] END bootstrap=False, max_depth=3, min_samples_leaf=2, min_samples_split=5, n_estimators=100;, score=0.652 total time=   0.6s\n",
            "[CV 5/5] END bootstrap=False, max_depth=3, min_samples_leaf=2, min_samples_split=5, n_estimators=100;, score=0.662 total time=   0.6s\n",
            "[CV 1/5] END bootstrap=False, max_depth=3, min_samples_leaf=2, min_samples_split=5, n_estimators=300;, score=0.659 total time=   1.6s\n",
            "[CV 2/5] END bootstrap=False, max_depth=3, min_samples_leaf=2, min_samples_split=5, n_estimators=300;, score=0.651 total time=   1.7s\n",
            "[CV 3/5] END bootstrap=False, max_depth=3, min_samples_leaf=2, min_samples_split=5, n_estimators=300;, score=0.668 total time=   1.6s\n",
            "[CV 4/5] END bootstrap=False, max_depth=3, min_samples_leaf=2, min_samples_split=5, n_estimators=300;, score=0.647 total time=   1.6s\n",
            "[CV 5/5] END bootstrap=False, max_depth=3, min_samples_leaf=2, min_samples_split=5, n_estimators=300;, score=0.664 total time=   1.7s\n",
            "[CV 1/5] END bootstrap=False, max_depth=3, min_samples_leaf=2, min_samples_split=5, n_estimators=500;, score=0.658 total time=   2.8s\n",
            "[CV 2/5] END bootstrap=False, max_depth=3, min_samples_leaf=2, min_samples_split=5, n_estimators=500;, score=0.651 total time=   2.8s\n",
            "[CV 3/5] END bootstrap=False, max_depth=3, min_samples_leaf=2, min_samples_split=5, n_estimators=500;, score=0.667 total time=   2.7s\n",
            "[CV 4/5] END bootstrap=False, max_depth=3, min_samples_leaf=2, min_samples_split=5, n_estimators=500;, score=0.646 total time=   2.7s\n",
            "[CV 5/5] END bootstrap=False, max_depth=3, min_samples_leaf=2, min_samples_split=5, n_estimators=500;, score=0.669 total time=   2.7s\n",
            "[CV 1/5] END bootstrap=False, max_depth=3, min_samples_leaf=2, min_samples_split=10, n_estimators=10;, score=0.666 total time=   0.1s\n",
            "[CV 2/5] END bootstrap=False, max_depth=3, min_samples_leaf=2, min_samples_split=10, n_estimators=10;, score=0.640 total time=   0.1s\n",
            "[CV 3/5] END bootstrap=False, max_depth=3, min_samples_leaf=2, min_samples_split=10, n_estimators=10;, score=0.660 total time=   0.1s\n",
            "[CV 4/5] END bootstrap=False, max_depth=3, min_samples_leaf=2, min_samples_split=10, n_estimators=10;, score=0.651 total time=   0.1s\n",
            "[CV 5/5] END bootstrap=False, max_depth=3, min_samples_leaf=2, min_samples_split=10, n_estimators=10;, score=0.655 total time=   0.1s\n",
            "[CV 1/5] END bootstrap=False, max_depth=3, min_samples_leaf=2, min_samples_split=10, n_estimators=50;, score=0.655 total time=   0.3s\n",
            "[CV 2/5] END bootstrap=False, max_depth=3, min_samples_leaf=2, min_samples_split=10, n_estimators=50;, score=0.650 total time=   0.3s\n",
            "[CV 3/5] END bootstrap=False, max_depth=3, min_samples_leaf=2, min_samples_split=10, n_estimators=50;, score=0.669 total time=   0.3s\n",
            "[CV 4/5] END bootstrap=False, max_depth=3, min_samples_leaf=2, min_samples_split=10, n_estimators=50;, score=0.659 total time=   0.3s\n",
            "[CV 5/5] END bootstrap=False, max_depth=3, min_samples_leaf=2, min_samples_split=10, n_estimators=50;, score=0.658 total time=   0.3s\n",
            "[CV 1/5] END bootstrap=False, max_depth=3, min_samples_leaf=2, min_samples_split=10, n_estimators=100;, score=0.653 total time=   0.5s\n",
            "[CV 2/5] END bootstrap=False, max_depth=3, min_samples_leaf=2, min_samples_split=10, n_estimators=100;, score=0.652 total time=   0.6s\n",
            "[CV 3/5] END bootstrap=False, max_depth=3, min_samples_leaf=2, min_samples_split=10, n_estimators=100;, score=0.670 total time=   0.6s\n",
            "[CV 4/5] END bootstrap=False, max_depth=3, min_samples_leaf=2, min_samples_split=10, n_estimators=100;, score=0.649 total time=   0.5s\n",
            "[CV 5/5] END bootstrap=False, max_depth=3, min_samples_leaf=2, min_samples_split=10, n_estimators=100;, score=0.663 total time=   0.6s\n",
            "[CV 1/5] END bootstrap=False, max_depth=3, min_samples_leaf=2, min_samples_split=10, n_estimators=300;, score=0.657 total time=   1.7s\n",
            "[CV 2/5] END bootstrap=False, max_depth=3, min_samples_leaf=2, min_samples_split=10, n_estimators=300;, score=0.650 total time=   1.7s\n",
            "[CV 3/5] END bootstrap=False, max_depth=3, min_samples_leaf=2, min_samples_split=10, n_estimators=300;, score=0.670 total time=   1.6s\n",
            "[CV 4/5] END bootstrap=False, max_depth=3, min_samples_leaf=2, min_samples_split=10, n_estimators=300;, score=0.648 total time=   1.7s\n",
            "[CV 5/5] END bootstrap=False, max_depth=3, min_samples_leaf=2, min_samples_split=10, n_estimators=300;, score=0.656 total time=   1.6s\n",
            "[CV 1/5] END bootstrap=False, max_depth=3, min_samples_leaf=2, min_samples_split=10, n_estimators=500;, score=0.659 total time=   2.7s\n",
            "[CV 2/5] END bootstrap=False, max_depth=3, min_samples_leaf=2, min_samples_split=10, n_estimators=500;, score=0.651 total time=   2.8s\n",
            "[CV 3/5] END bootstrap=False, max_depth=3, min_samples_leaf=2, min_samples_split=10, n_estimators=500;, score=0.670 total time=   2.8s\n",
            "[CV 4/5] END bootstrap=False, max_depth=3, min_samples_leaf=2, min_samples_split=10, n_estimators=500;, score=0.649 total time=   2.8s\n",
            "[CV 5/5] END bootstrap=False, max_depth=3, min_samples_leaf=2, min_samples_split=10, n_estimators=500;, score=0.655 total time=   2.7s\n",
            "[CV 1/5] END bootstrap=False, max_depth=3, min_samples_leaf=4, min_samples_split=2, n_estimators=10;, score=0.625 total time=   0.1s\n",
            "[CV 2/5] END bootstrap=False, max_depth=3, min_samples_leaf=4, min_samples_split=2, n_estimators=10;, score=0.641 total time=   0.1s\n",
            "[CV 3/5] END bootstrap=False, max_depth=3, min_samples_leaf=4, min_samples_split=2, n_estimators=10;, score=0.660 total time=   0.1s\n",
            "[CV 4/5] END bootstrap=False, max_depth=3, min_samples_leaf=4, min_samples_split=2, n_estimators=10;, score=0.639 total time=   0.1s\n",
            "[CV 5/5] END bootstrap=False, max_depth=3, min_samples_leaf=4, min_samples_split=2, n_estimators=10;, score=0.640 total time=   0.1s\n",
            "[CV 1/5] END bootstrap=False, max_depth=3, min_samples_leaf=4, min_samples_split=2, n_estimators=50;, score=0.658 total time=   0.3s\n",
            "[CV 2/5] END bootstrap=False, max_depth=3, min_samples_leaf=4, min_samples_split=2, n_estimators=50;, score=0.639 total time=   0.3s\n",
            "[CV 3/5] END bootstrap=False, max_depth=3, min_samples_leaf=4, min_samples_split=2, n_estimators=50;, score=0.665 total time=   0.3s\n",
            "[CV 4/5] END bootstrap=False, max_depth=3, min_samples_leaf=4, min_samples_split=2, n_estimators=50;, score=0.642 total time=   0.3s\n",
            "[CV 5/5] END bootstrap=False, max_depth=3, min_samples_leaf=4, min_samples_split=2, n_estimators=50;, score=0.660 total time=   0.3s\n",
            "[CV 1/5] END bootstrap=False, max_depth=3, min_samples_leaf=4, min_samples_split=2, n_estimators=100;, score=0.660 total time=   0.5s\n",
            "[CV 2/5] END bootstrap=False, max_depth=3, min_samples_leaf=4, min_samples_split=2, n_estimators=100;, score=0.651 total time=   0.5s\n",
            "[CV 3/5] END bootstrap=False, max_depth=3, min_samples_leaf=4, min_samples_split=2, n_estimators=100;, score=0.671 total time=   0.6s\n",
            "[CV 4/5] END bootstrap=False, max_depth=3, min_samples_leaf=4, min_samples_split=2, n_estimators=100;, score=0.645 total time=   0.5s\n",
            "[CV 5/5] END bootstrap=False, max_depth=3, min_samples_leaf=4, min_samples_split=2, n_estimators=100;, score=0.660 total time=   0.5s\n",
            "[CV 1/5] END bootstrap=False, max_depth=3, min_samples_leaf=4, min_samples_split=2, n_estimators=300;, score=0.656 total time=   1.6s\n",
            "[CV 2/5] END bootstrap=False, max_depth=3, min_samples_leaf=4, min_samples_split=2, n_estimators=300;, score=0.649 total time=   1.6s\n",
            "[CV 3/5] END bootstrap=False, max_depth=3, min_samples_leaf=4, min_samples_split=2, n_estimators=300;, score=0.666 total time=   1.7s\n",
            "[CV 4/5] END bootstrap=False, max_depth=3, min_samples_leaf=4, min_samples_split=2, n_estimators=300;, score=0.647 total time=   1.7s\n",
            "[CV 5/5] END bootstrap=False, max_depth=3, min_samples_leaf=4, min_samples_split=2, n_estimators=300;, score=0.664 total time=   1.6s\n",
            "[CV 1/5] END bootstrap=False, max_depth=3, min_samples_leaf=4, min_samples_split=2, n_estimators=500;, score=0.665 total time=   2.7s\n",
            "[CV 2/5] END bootstrap=False, max_depth=3, min_samples_leaf=4, min_samples_split=2, n_estimators=500;, score=0.651 total time=   2.7s\n",
            "[CV 3/5] END bootstrap=False, max_depth=3, min_samples_leaf=4, min_samples_split=2, n_estimators=500;, score=0.667 total time=   2.7s\n",
            "[CV 4/5] END bootstrap=False, max_depth=3, min_samples_leaf=4, min_samples_split=2, n_estimators=500;, score=0.651 total time=   2.7s\n",
            "[CV 5/5] END bootstrap=False, max_depth=3, min_samples_leaf=4, min_samples_split=2, n_estimators=500;, score=0.668 total time=   2.8s\n",
            "[CV 1/5] END bootstrap=False, max_depth=3, min_samples_leaf=4, min_samples_split=5, n_estimators=10;, score=0.660 total time=   0.1s\n",
            "[CV 2/5] END bootstrap=False, max_depth=3, min_samples_leaf=4, min_samples_split=5, n_estimators=10;, score=0.652 total time=   0.1s\n",
            "[CV 3/5] END bootstrap=False, max_depth=3, min_samples_leaf=4, min_samples_split=5, n_estimators=10;, score=0.659 total time=   0.1s\n",
            "[CV 4/5] END bootstrap=False, max_depth=3, min_samples_leaf=4, min_samples_split=5, n_estimators=10;, score=0.656 total time=   0.1s\n",
            "[CV 5/5] END bootstrap=False, max_depth=3, min_samples_leaf=4, min_samples_split=5, n_estimators=10;, score=0.656 total time=   0.1s\n",
            "[CV 1/5] END bootstrap=False, max_depth=3, min_samples_leaf=4, min_samples_split=5, n_estimators=50;, score=0.667 total time=   0.3s\n",
            "[CV 2/5] END bootstrap=False, max_depth=3, min_samples_leaf=4, min_samples_split=5, n_estimators=50;, score=0.656 total time=   0.3s\n",
            "[CV 3/5] END bootstrap=False, max_depth=3, min_samples_leaf=4, min_samples_split=5, n_estimators=50;, score=0.661 total time=   0.3s\n",
            "[CV 4/5] END bootstrap=False, max_depth=3, min_samples_leaf=4, min_samples_split=5, n_estimators=50;, score=0.651 total time=   0.3s\n",
            "[CV 5/5] END bootstrap=False, max_depth=3, min_samples_leaf=4, min_samples_split=5, n_estimators=50;, score=0.661 total time=   0.3s\n",
            "[CV 1/5] END bootstrap=False, max_depth=3, min_samples_leaf=4, min_samples_split=5, n_estimators=100;, score=0.671 total time=   0.6s\n",
            "[CV 2/5] END bootstrap=False, max_depth=3, min_samples_leaf=4, min_samples_split=5, n_estimators=100;, score=0.644 total time=   0.6s\n",
            "[CV 3/5] END bootstrap=False, max_depth=3, min_samples_leaf=4, min_samples_split=5, n_estimators=100;, score=0.663 total time=   0.6s\n",
            "[CV 4/5] END bootstrap=False, max_depth=3, min_samples_leaf=4, min_samples_split=5, n_estimators=100;, score=0.646 total time=   0.6s\n",
            "[CV 5/5] END bootstrap=False, max_depth=3, min_samples_leaf=4, min_samples_split=5, n_estimators=100;, score=0.666 total time=   0.6s\n",
            "[CV 1/5] END bootstrap=False, max_depth=3, min_samples_leaf=4, min_samples_split=5, n_estimators=300;, score=0.661 total time=   1.7s\n",
            "[CV 2/5] END bootstrap=False, max_depth=3, min_samples_leaf=4, min_samples_split=5, n_estimators=300;, score=0.649 total time=   1.7s\n",
            "[CV 3/5] END bootstrap=False, max_depth=3, min_samples_leaf=4, min_samples_split=5, n_estimators=300;, score=0.667 total time=   1.7s\n",
            "[CV 4/5] END bootstrap=False, max_depth=3, min_samples_leaf=4, min_samples_split=5, n_estimators=300;, score=0.646 total time=   1.7s\n",
            "[CV 5/5] END bootstrap=False, max_depth=3, min_samples_leaf=4, min_samples_split=5, n_estimators=300;, score=0.665 total time=   1.7s\n",
            "[CV 1/5] END bootstrap=False, max_depth=3, min_samples_leaf=4, min_samples_split=5, n_estimators=500;, score=0.657 total time=   2.7s\n",
            "[CV 2/5] END bootstrap=False, max_depth=3, min_samples_leaf=4, min_samples_split=5, n_estimators=500;, score=0.653 total time=   2.7s\n",
            "[CV 3/5] END bootstrap=False, max_depth=3, min_samples_leaf=4, min_samples_split=5, n_estimators=500;, score=0.672 total time=   2.8s\n",
            "[CV 4/5] END bootstrap=False, max_depth=3, min_samples_leaf=4, min_samples_split=5, n_estimators=500;, score=0.649 total time=   2.8s\n",
            "[CV 5/5] END bootstrap=False, max_depth=3, min_samples_leaf=4, min_samples_split=5, n_estimators=500;, score=0.668 total time=   2.8s\n",
            "[CV 1/5] END bootstrap=False, max_depth=3, min_samples_leaf=4, min_samples_split=10, n_estimators=10;, score=0.640 total time=   0.1s\n",
            "[CV 2/5] END bootstrap=False, max_depth=3, min_samples_leaf=4, min_samples_split=10, n_estimators=10;, score=0.625 total time=   0.1s\n",
            "[CV 3/5] END bootstrap=False, max_depth=3, min_samples_leaf=4, min_samples_split=10, n_estimators=10;, score=0.661 total time=   0.1s\n",
            "[CV 4/5] END bootstrap=False, max_depth=3, min_samples_leaf=4, min_samples_split=10, n_estimators=10;, score=0.646 total time=   0.1s\n",
            "[CV 5/5] END bootstrap=False, max_depth=3, min_samples_leaf=4, min_samples_split=10, n_estimators=10;, score=0.645 total time=   0.1s\n",
            "[CV 1/5] END bootstrap=False, max_depth=3, min_samples_leaf=4, min_samples_split=10, n_estimators=50;, score=0.665 total time=   0.3s\n",
            "[CV 2/5] END bootstrap=False, max_depth=3, min_samples_leaf=4, min_samples_split=10, n_estimators=50;, score=0.645 total time=   0.3s\n",
            "[CV 3/5] END bootstrap=False, max_depth=3, min_samples_leaf=4, min_samples_split=10, n_estimators=50;, score=0.661 total time=   0.3s\n",
            "[CV 4/5] END bootstrap=False, max_depth=3, min_samples_leaf=4, min_samples_split=10, n_estimators=50;, score=0.645 total time=   0.3s\n",
            "[CV 5/5] END bootstrap=False, max_depth=3, min_samples_leaf=4, min_samples_split=10, n_estimators=50;, score=0.658 total time=   0.3s\n",
            "[CV 1/5] END bootstrap=False, max_depth=3, min_samples_leaf=4, min_samples_split=10, n_estimators=100;, score=0.657 total time=   0.6s\n",
            "[CV 2/5] END bootstrap=False, max_depth=3, min_samples_leaf=4, min_samples_split=10, n_estimators=100;, score=0.646 total time=   0.6s\n",
            "[CV 3/5] END bootstrap=False, max_depth=3, min_samples_leaf=4, min_samples_split=10, n_estimators=100;, score=0.659 total time=   0.6s\n",
            "[CV 4/5] END bootstrap=False, max_depth=3, min_samples_leaf=4, min_samples_split=10, n_estimators=100;, score=0.654 total time=   0.5s\n",
            "[CV 5/5] END bootstrap=False, max_depth=3, min_samples_leaf=4, min_samples_split=10, n_estimators=100;, score=0.661 total time=   0.6s\n",
            "[CV 1/5] END bootstrap=False, max_depth=3, min_samples_leaf=4, min_samples_split=10, n_estimators=300;, score=0.654 total time=   1.7s\n",
            "[CV 2/5] END bootstrap=False, max_depth=3, min_samples_leaf=4, min_samples_split=10, n_estimators=300;, score=0.649 total time=   1.6s\n",
            "[CV 3/5] END bootstrap=False, max_depth=3, min_samples_leaf=4, min_samples_split=10, n_estimators=300;, score=0.665 total time=   1.6s\n",
            "[CV 4/5] END bootstrap=False, max_depth=3, min_samples_leaf=4, min_samples_split=10, n_estimators=300;, score=0.650 total time=   1.7s\n",
            "[CV 5/5] END bootstrap=False, max_depth=3, min_samples_leaf=4, min_samples_split=10, n_estimators=300;, score=0.665 total time=   1.7s\n",
            "[CV 1/5] END bootstrap=False, max_depth=3, min_samples_leaf=4, min_samples_split=10, n_estimators=500;, score=0.659 total time=   2.7s\n",
            "[CV 2/5] END bootstrap=False, max_depth=3, min_samples_leaf=4, min_samples_split=10, n_estimators=500;, score=0.647 total time=   2.8s\n",
            "[CV 3/5] END bootstrap=False, max_depth=3, min_samples_leaf=4, min_samples_split=10, n_estimators=500;, score=0.664 total time=   2.7s\n",
            "[CV 4/5] END bootstrap=False, max_depth=3, min_samples_leaf=4, min_samples_split=10, n_estimators=500;, score=0.644 total time=   2.7s\n",
            "[CV 5/5] END bootstrap=False, max_depth=3, min_samples_leaf=4, min_samples_split=10, n_estimators=500;, score=0.660 total time=   2.7s\n",
            "[CV 1/5] END bootstrap=False, max_depth=5, min_samples_leaf=1, min_samples_split=2, n_estimators=10;, score=0.669 total time=   0.1s\n",
            "[CV 2/5] END bootstrap=False, max_depth=5, min_samples_leaf=1, min_samples_split=2, n_estimators=10;, score=0.657 total time=   0.1s\n",
            "[CV 3/5] END bootstrap=False, max_depth=5, min_samples_leaf=1, min_samples_split=2, n_estimators=10;, score=0.677 total time=   0.1s\n",
            "[CV 4/5] END bootstrap=False, max_depth=5, min_samples_leaf=1, min_samples_split=2, n_estimators=10;, score=0.661 total time=   0.1s\n",
            "[CV 5/5] END bootstrap=False, max_depth=5, min_samples_leaf=1, min_samples_split=2, n_estimators=10;, score=0.663 total time=   0.1s\n",
            "[CV 1/5] END bootstrap=False, max_depth=5, min_samples_leaf=1, min_samples_split=2, n_estimators=50;, score=0.675 total time=   0.4s\n",
            "[CV 2/5] END bootstrap=False, max_depth=5, min_samples_leaf=1, min_samples_split=2, n_estimators=50;, score=0.658 total time=   0.4s\n",
            "[CV 3/5] END bootstrap=False, max_depth=5, min_samples_leaf=1, min_samples_split=2, n_estimators=50;, score=0.672 total time=   0.4s\n",
            "[CV 4/5] END bootstrap=False, max_depth=5, min_samples_leaf=1, min_samples_split=2, n_estimators=50;, score=0.658 total time=   0.4s\n",
            "[CV 5/5] END bootstrap=False, max_depth=5, min_samples_leaf=1, min_samples_split=2, n_estimators=50;, score=0.674 total time=   0.4s\n",
            "[CV 1/5] END bootstrap=False, max_depth=5, min_samples_leaf=1, min_samples_split=2, n_estimators=100;, score=0.673 total time=   0.8s\n",
            "[CV 2/5] END bootstrap=False, max_depth=5, min_samples_leaf=1, min_samples_split=2, n_estimators=100;, score=0.663 total time=   0.8s\n",
            "[CV 3/5] END bootstrap=False, max_depth=5, min_samples_leaf=1, min_samples_split=2, n_estimators=100;, score=0.677 total time=   0.8s\n",
            "[CV 4/5] END bootstrap=False, max_depth=5, min_samples_leaf=1, min_samples_split=2, n_estimators=100;, score=0.670 total time=   0.8s\n",
            "[CV 5/5] END bootstrap=False, max_depth=5, min_samples_leaf=1, min_samples_split=2, n_estimators=100;, score=0.675 total time=   0.8s\n",
            "[CV 1/5] END bootstrap=False, max_depth=5, min_samples_leaf=1, min_samples_split=2, n_estimators=300;, score=0.675 total time=   2.3s\n",
            "[CV 2/5] END bootstrap=False, max_depth=5, min_samples_leaf=1, min_samples_split=2, n_estimators=300;, score=0.661 total time=   2.3s\n",
            "[CV 3/5] END bootstrap=False, max_depth=5, min_samples_leaf=1, min_samples_split=2, n_estimators=300;, score=0.679 total time=   2.3s\n",
            "[CV 4/5] END bootstrap=False, max_depth=5, min_samples_leaf=1, min_samples_split=2, n_estimators=300;, score=0.667 total time=   2.3s\n",
            "[CV 5/5] END bootstrap=False, max_depth=5, min_samples_leaf=1, min_samples_split=2, n_estimators=300;, score=0.672 total time=   2.3s\n",
            "[CV 1/5] END bootstrap=False, max_depth=5, min_samples_leaf=1, min_samples_split=2, n_estimators=500;, score=0.671 total time=   3.8s\n",
            "[CV 2/5] END bootstrap=False, max_depth=5, min_samples_leaf=1, min_samples_split=2, n_estimators=500;, score=0.661 total time=   3.9s\n",
            "[CV 3/5] END bootstrap=False, max_depth=5, min_samples_leaf=1, min_samples_split=2, n_estimators=500;, score=0.680 total time=   3.9s\n",
            "[CV 4/5] END bootstrap=False, max_depth=5, min_samples_leaf=1, min_samples_split=2, n_estimators=500;, score=0.671 total time=   3.9s\n",
            "[CV 5/5] END bootstrap=False, max_depth=5, min_samples_leaf=1, min_samples_split=2, n_estimators=500;, score=0.674 total time=   3.9s\n",
            "[CV 1/5] END bootstrap=False, max_depth=5, min_samples_leaf=1, min_samples_split=5, n_estimators=10;, score=0.680 total time=   0.1s\n",
            "[CV 2/5] END bootstrap=False, max_depth=5, min_samples_leaf=1, min_samples_split=5, n_estimators=10;, score=0.659 total time=   0.1s\n",
            "[CV 3/5] END bootstrap=False, max_depth=5, min_samples_leaf=1, min_samples_split=5, n_estimators=10;, score=0.676 total time=   0.1s\n",
            "[CV 4/5] END bootstrap=False, max_depth=5, min_samples_leaf=1, min_samples_split=5, n_estimators=10;, score=0.663 total time=   0.1s\n",
            "[CV 5/5] END bootstrap=False, max_depth=5, min_samples_leaf=1, min_samples_split=5, n_estimators=10;, score=0.667 total time=   0.1s\n",
            "[CV 1/5] END bootstrap=False, max_depth=5, min_samples_leaf=1, min_samples_split=5, n_estimators=50;, score=0.666 total time=   0.4s\n",
            "[CV 2/5] END bootstrap=False, max_depth=5, min_samples_leaf=1, min_samples_split=5, n_estimators=50;, score=0.667 total time=   0.4s\n",
            "[CV 3/5] END bootstrap=False, max_depth=5, min_samples_leaf=1, min_samples_split=5, n_estimators=50;, score=0.676 total time=   0.4s\n",
            "[CV 4/5] END bootstrap=False, max_depth=5, min_samples_leaf=1, min_samples_split=5, n_estimators=50;, score=0.663 total time=   0.4s\n",
            "[CV 5/5] END bootstrap=False, max_depth=5, min_samples_leaf=1, min_samples_split=5, n_estimators=50;, score=0.667 total time=   0.4s\n",
            "[CV 1/5] END bootstrap=False, max_depth=5, min_samples_leaf=1, min_samples_split=5, n_estimators=100;, score=0.672 total time=   0.8s\n",
            "[CV 2/5] END bootstrap=False, max_depth=5, min_samples_leaf=1, min_samples_split=5, n_estimators=100;, score=0.667 total time=   0.8s\n",
            "[CV 3/5] END bootstrap=False, max_depth=5, min_samples_leaf=1, min_samples_split=5, n_estimators=100;, score=0.677 total time=   0.8s\n",
            "[CV 4/5] END bootstrap=False, max_depth=5, min_samples_leaf=1, min_samples_split=5, n_estimators=100;, score=0.669 total time=   0.8s\n",
            "[CV 5/5] END bootstrap=False, max_depth=5, min_samples_leaf=1, min_samples_split=5, n_estimators=100;, score=0.674 total time=   0.8s\n",
            "[CV 1/5] END bootstrap=False, max_depth=5, min_samples_leaf=1, min_samples_split=5, n_estimators=300;, score=0.675 total time=   2.3s\n",
            "[CV 2/5] END bootstrap=False, max_depth=5, min_samples_leaf=1, min_samples_split=5, n_estimators=300;, score=0.664 total time=   2.3s\n",
            "[CV 3/5] END bootstrap=False, max_depth=5, min_samples_leaf=1, min_samples_split=5, n_estimators=300;, score=0.680 total time=   2.4s\n",
            "[CV 4/5] END bootstrap=False, max_depth=5, min_samples_leaf=1, min_samples_split=5, n_estimators=300;, score=0.667 total time=   2.4s\n",
            "[CV 5/5] END bootstrap=False, max_depth=5, min_samples_leaf=1, min_samples_split=5, n_estimators=300;, score=0.673 total time=   2.5s\n",
            "[CV 1/5] END bootstrap=False, max_depth=5, min_samples_leaf=1, min_samples_split=5, n_estimators=500;, score=0.674 total time=   3.8s\n",
            "[CV 2/5] END bootstrap=False, max_depth=5, min_samples_leaf=1, min_samples_split=5, n_estimators=500;, score=0.662 total time=   3.8s\n",
            "[CV 3/5] END bootstrap=False, max_depth=5, min_samples_leaf=1, min_samples_split=5, n_estimators=500;, score=0.682 total time=   3.8s\n",
            "[CV 4/5] END bootstrap=False, max_depth=5, min_samples_leaf=1, min_samples_split=5, n_estimators=500;, score=0.667 total time=   3.9s\n",
            "[CV 5/5] END bootstrap=False, max_depth=5, min_samples_leaf=1, min_samples_split=5, n_estimators=500;, score=0.673 total time=   3.9s\n",
            "[CV 1/5] END bootstrap=False, max_depth=5, min_samples_leaf=1, min_samples_split=10, n_estimators=10;, score=0.676 total time=   0.1s\n",
            "[CV 2/5] END bootstrap=False, max_depth=5, min_samples_leaf=1, min_samples_split=10, n_estimators=10;, score=0.646 total time=   0.1s\n",
            "[CV 3/5] END bootstrap=False, max_depth=5, min_samples_leaf=1, min_samples_split=10, n_estimators=10;, score=0.669 total time=   0.1s\n",
            "[CV 4/5] END bootstrap=False, max_depth=5, min_samples_leaf=1, min_samples_split=10, n_estimators=10;, score=0.658 total time=   0.1s\n",
            "[CV 5/5] END bootstrap=False, max_depth=5, min_samples_leaf=1, min_samples_split=10, n_estimators=10;, score=0.675 total time=   0.1s\n",
            "[CV 1/5] END bootstrap=False, max_depth=5, min_samples_leaf=1, min_samples_split=10, n_estimators=50;, score=0.670 total time=   0.4s\n",
            "[CV 2/5] END bootstrap=False, max_depth=5, min_samples_leaf=1, min_samples_split=10, n_estimators=50;, score=0.657 total time=   0.4s\n",
            "[CV 3/5] END bootstrap=False, max_depth=5, min_samples_leaf=1, min_samples_split=10, n_estimators=50;, score=0.677 total time=   0.4s\n",
            "[CV 4/5] END bootstrap=False, max_depth=5, min_samples_leaf=1, min_samples_split=10, n_estimators=50;, score=0.667 total time=   0.4s\n",
            "[CV 5/5] END bootstrap=False, max_depth=5, min_samples_leaf=1, min_samples_split=10, n_estimators=50;, score=0.673 total time=   0.4s\n",
            "[CV 1/5] END bootstrap=False, max_depth=5, min_samples_leaf=1, min_samples_split=10, n_estimators=100;, score=0.674 total time=   0.8s\n",
            "[CV 2/5] END bootstrap=False, max_depth=5, min_samples_leaf=1, min_samples_split=10, n_estimators=100;, score=0.669 total time=   0.8s\n",
            "[CV 3/5] END bootstrap=False, max_depth=5, min_samples_leaf=1, min_samples_split=10, n_estimators=100;, score=0.675 total time=   0.8s\n",
            "[CV 4/5] END bootstrap=False, max_depth=5, min_samples_leaf=1, min_samples_split=10, n_estimators=100;, score=0.665 total time=   0.8s\n",
            "[CV 5/5] END bootstrap=False, max_depth=5, min_samples_leaf=1, min_samples_split=10, n_estimators=100;, score=0.672 total time=   0.8s\n",
            "[CV 1/5] END bootstrap=False, max_depth=5, min_samples_leaf=1, min_samples_split=10, n_estimators=300;, score=0.673 total time=   2.4s\n",
            "[CV 2/5] END bootstrap=False, max_depth=5, min_samples_leaf=1, min_samples_split=10, n_estimators=300;, score=0.662 total time=   2.3s\n",
            "[CV 3/5] END bootstrap=False, max_depth=5, min_samples_leaf=1, min_samples_split=10, n_estimators=300;, score=0.682 total time=   2.3s\n",
            "[CV 4/5] END bootstrap=False, max_depth=5, min_samples_leaf=1, min_samples_split=10, n_estimators=300;, score=0.667 total time=   2.3s\n",
            "[CV 5/5] END bootstrap=False, max_depth=5, min_samples_leaf=1, min_samples_split=10, n_estimators=300;, score=0.671 total time=   2.3s\n",
            "[CV 1/5] END bootstrap=False, max_depth=5, min_samples_leaf=1, min_samples_split=10, n_estimators=500;, score=0.673 total time=   3.8s\n",
            "[CV 2/5] END bootstrap=False, max_depth=5, min_samples_leaf=1, min_samples_split=10, n_estimators=500;, score=0.662 total time=   3.8s\n",
            "[CV 3/5] END bootstrap=False, max_depth=5, min_samples_leaf=1, min_samples_split=10, n_estimators=500;, score=0.680 total time=   4.8s\n",
            "[CV 4/5] END bootstrap=False, max_depth=5, min_samples_leaf=1, min_samples_split=10, n_estimators=500;, score=0.666 total time=   3.8s\n",
            "[CV 5/5] END bootstrap=False, max_depth=5, min_samples_leaf=1, min_samples_split=10, n_estimators=500;, score=0.674 total time=   3.9s\n",
            "[CV 1/5] END bootstrap=False, max_depth=5, min_samples_leaf=2, min_samples_split=2, n_estimators=10;, score=0.673 total time=   0.1s\n",
            "[CV 2/5] END bootstrap=False, max_depth=5, min_samples_leaf=2, min_samples_split=2, n_estimators=10;, score=0.661 total time=   0.1s\n",
            "[CV 3/5] END bootstrap=False, max_depth=5, min_samples_leaf=2, min_samples_split=2, n_estimators=10;, score=0.670 total time=   0.1s\n",
            "[CV 4/5] END bootstrap=False, max_depth=5, min_samples_leaf=2, min_samples_split=2, n_estimators=10;, score=0.658 total time=   0.1s\n",
            "[CV 5/5] END bootstrap=False, max_depth=5, min_samples_leaf=2, min_samples_split=2, n_estimators=10;, score=0.673 total time=   0.1s\n",
            "[CV 1/5] END bootstrap=False, max_depth=5, min_samples_leaf=2, min_samples_split=2, n_estimators=50;, score=0.677 total time=   0.4s\n",
            "[CV 2/5] END bootstrap=False, max_depth=5, min_samples_leaf=2, min_samples_split=2, n_estimators=50;, score=0.665 total time=   0.4s\n",
            "[CV 3/5] END bootstrap=False, max_depth=5, min_samples_leaf=2, min_samples_split=2, n_estimators=50;, score=0.675 total time=   0.4s\n",
            "[CV 4/5] END bootstrap=False, max_depth=5, min_samples_leaf=2, min_samples_split=2, n_estimators=50;, score=0.668 total time=   0.4s\n",
            "[CV 5/5] END bootstrap=False, max_depth=5, min_samples_leaf=2, min_samples_split=2, n_estimators=50;, score=0.674 total time=   0.4s\n",
            "[CV 1/5] END bootstrap=False, max_depth=5, min_samples_leaf=2, min_samples_split=2, n_estimators=100;, score=0.671 total time=   0.8s\n",
            "[CV 2/5] END bootstrap=False, max_depth=5, min_samples_leaf=2, min_samples_split=2, n_estimators=100;, score=0.664 total time=   0.8s\n",
            "[CV 3/5] END bootstrap=False, max_depth=5, min_samples_leaf=2, min_samples_split=2, n_estimators=100;, score=0.679 total time=   0.8s\n",
            "[CV 4/5] END bootstrap=False, max_depth=5, min_samples_leaf=2, min_samples_split=2, n_estimators=100;, score=0.667 total time=   0.8s\n",
            "[CV 5/5] END bootstrap=False, max_depth=5, min_samples_leaf=2, min_samples_split=2, n_estimators=100;, score=0.680 total time=   0.8s\n",
            "[CV 1/5] END bootstrap=False, max_depth=5, min_samples_leaf=2, min_samples_split=2, n_estimators=300;, score=0.671 total time=   2.3s\n",
            "[CV 2/5] END bootstrap=False, max_depth=5, min_samples_leaf=2, min_samples_split=2, n_estimators=300;, score=0.664 total time=   2.3s\n",
            "[CV 3/5] END bootstrap=False, max_depth=5, min_samples_leaf=2, min_samples_split=2, n_estimators=300;, score=0.679 total time=   2.3s\n",
            "[CV 4/5] END bootstrap=False, max_depth=5, min_samples_leaf=2, min_samples_split=2, n_estimators=300;, score=0.667 total time=   2.3s\n",
            "[CV 5/5] END bootstrap=False, max_depth=5, min_samples_leaf=2, min_samples_split=2, n_estimators=300;, score=0.674 total time=   2.3s\n",
            "[CV 1/5] END bootstrap=False, max_depth=5, min_samples_leaf=2, min_samples_split=2, n_estimators=500;, score=0.671 total time=   3.8s\n",
            "[CV 2/5] END bootstrap=False, max_depth=5, min_samples_leaf=2, min_samples_split=2, n_estimators=500;, score=0.661 total time=   3.8s\n",
            "[CV 3/5] END bootstrap=False, max_depth=5, min_samples_leaf=2, min_samples_split=2, n_estimators=500;, score=0.681 total time=   3.9s\n",
            "[CV 4/5] END bootstrap=False, max_depth=5, min_samples_leaf=2, min_samples_split=2, n_estimators=500;, score=0.667 total time=   3.9s\n",
            "[CV 5/5] END bootstrap=False, max_depth=5, min_samples_leaf=2, min_samples_split=2, n_estimators=500;, score=0.674 total time=   3.9s\n",
            "[CV 1/5] END bootstrap=False, max_depth=5, min_samples_leaf=2, min_samples_split=5, n_estimators=10;, score=0.664 total time=   0.1s\n",
            "[CV 2/5] END bootstrap=False, max_depth=5, min_samples_leaf=2, min_samples_split=5, n_estimators=10;, score=0.656 total time=   0.1s\n",
            "[CV 3/5] END bootstrap=False, max_depth=5, min_samples_leaf=2, min_samples_split=5, n_estimators=10;, score=0.674 total time=   0.1s\n",
            "[CV 4/5] END bootstrap=False, max_depth=5, min_samples_leaf=2, min_samples_split=5, n_estimators=10;, score=0.657 total time=   0.1s\n",
            "[CV 5/5] END bootstrap=False, max_depth=5, min_samples_leaf=2, min_samples_split=5, n_estimators=10;, score=0.672 total time=   0.1s\n",
            "[CV 1/5] END bootstrap=False, max_depth=5, min_samples_leaf=2, min_samples_split=5, n_estimators=50;, score=0.673 total time=   0.4s\n",
            "[CV 2/5] END bootstrap=False, max_depth=5, min_samples_leaf=2, min_samples_split=5, n_estimators=50;, score=0.655 total time=   0.4s\n",
            "[CV 3/5] END bootstrap=False, max_depth=5, min_samples_leaf=2, min_samples_split=5, n_estimators=50;, score=0.677 total time=   0.4s\n",
            "[CV 4/5] END bootstrap=False, max_depth=5, min_samples_leaf=2, min_samples_split=5, n_estimators=50;, score=0.666 total time=   0.4s\n",
            "[CV 5/5] END bootstrap=False, max_depth=5, min_samples_leaf=2, min_samples_split=5, n_estimators=50;, score=0.671 total time=   0.4s\n",
            "[CV 1/5] END bootstrap=False, max_depth=5, min_samples_leaf=2, min_samples_split=5, n_estimators=100;, score=0.676 total time=   0.8s\n",
            "[CV 2/5] END bootstrap=False, max_depth=5, min_samples_leaf=2, min_samples_split=5, n_estimators=100;, score=0.662 total time=   0.8s\n",
            "[CV 3/5] END bootstrap=False, max_depth=5, min_samples_leaf=2, min_samples_split=5, n_estimators=100;, score=0.677 total time=   0.8s\n",
            "[CV 4/5] END bootstrap=False, max_depth=5, min_samples_leaf=2, min_samples_split=5, n_estimators=100;, score=0.664 total time=   0.8s\n",
            "[CV 5/5] END bootstrap=False, max_depth=5, min_samples_leaf=2, min_samples_split=5, n_estimators=100;, score=0.670 total time=   0.8s\n",
            "[CV 1/5] END bootstrap=False, max_depth=5, min_samples_leaf=2, min_samples_split=5, n_estimators=300;, score=0.675 total time=   2.3s\n",
            "[CV 2/5] END bootstrap=False, max_depth=5, min_samples_leaf=2, min_samples_split=5, n_estimators=300;, score=0.664 total time=   2.4s\n",
            "[CV 3/5] END bootstrap=False, max_depth=5, min_samples_leaf=2, min_samples_split=5, n_estimators=300;, score=0.679 total time=   2.4s\n",
            "[CV 4/5] END bootstrap=False, max_depth=5, min_samples_leaf=2, min_samples_split=5, n_estimators=300;, score=0.665 total time=   2.3s\n",
            "[CV 5/5] END bootstrap=False, max_depth=5, min_samples_leaf=2, min_samples_split=5, n_estimators=300;, score=0.674 total time=   2.3s\n",
            "[CV 1/5] END bootstrap=False, max_depth=5, min_samples_leaf=2, min_samples_split=5, n_estimators=500;, score=0.674 total time=   3.8s\n",
            "[CV 2/5] END bootstrap=False, max_depth=5, min_samples_leaf=2, min_samples_split=5, n_estimators=500;, score=0.662 total time=   3.8s\n",
            "[CV 3/5] END bootstrap=False, max_depth=5, min_samples_leaf=2, min_samples_split=5, n_estimators=500;, score=0.679 total time=   3.9s\n",
            "[CV 4/5] END bootstrap=False, max_depth=5, min_samples_leaf=2, min_samples_split=5, n_estimators=500;, score=0.665 total time=   3.8s\n",
            "[CV 5/5] END bootstrap=False, max_depth=5, min_samples_leaf=2, min_samples_split=5, n_estimators=500;, score=0.671 total time=   3.9s\n",
            "[CV 1/5] END bootstrap=False, max_depth=5, min_samples_leaf=2, min_samples_split=10, n_estimators=10;, score=0.679 total time=   0.1s\n",
            "[CV 2/5] END bootstrap=False, max_depth=5, min_samples_leaf=2, min_samples_split=10, n_estimators=10;, score=0.666 total time=   0.1s\n",
            "[CV 3/5] END bootstrap=False, max_depth=5, min_samples_leaf=2, min_samples_split=10, n_estimators=10;, score=0.678 total time=   0.1s\n",
            "[CV 4/5] END bootstrap=False, max_depth=5, min_samples_leaf=2, min_samples_split=10, n_estimators=10;, score=0.668 total time=   0.1s\n",
            "[CV 5/5] END bootstrap=False, max_depth=5, min_samples_leaf=2, min_samples_split=10, n_estimators=10;, score=0.678 total time=   0.1s\n",
            "[CV 1/5] END bootstrap=False, max_depth=5, min_samples_leaf=2, min_samples_split=10, n_estimators=50;, score=0.673 total time=   0.4s\n",
            "[CV 2/5] END bootstrap=False, max_depth=5, min_samples_leaf=2, min_samples_split=10, n_estimators=50;, score=0.661 total time=   0.4s\n",
            "[CV 3/5] END bootstrap=False, max_depth=5, min_samples_leaf=2, min_samples_split=10, n_estimators=50;, score=0.675 total time=   0.4s\n",
            "[CV 4/5] END bootstrap=False, max_depth=5, min_samples_leaf=2, min_samples_split=10, n_estimators=50;, score=0.667 total time=   0.4s\n",
            "[CV 5/5] END bootstrap=False, max_depth=5, min_samples_leaf=2, min_samples_split=10, n_estimators=50;, score=0.671 total time=   0.4s\n",
            "[CV 1/5] END bootstrap=False, max_depth=5, min_samples_leaf=2, min_samples_split=10, n_estimators=100;, score=0.675 total time=   0.7s\n",
            "[CV 2/5] END bootstrap=False, max_depth=5, min_samples_leaf=2, min_samples_split=10, n_estimators=100;, score=0.665 total time=   0.8s\n",
            "[CV 3/5] END bootstrap=False, max_depth=5, min_samples_leaf=2, min_samples_split=10, n_estimators=100;, score=0.679 total time=   0.8s\n",
            "[CV 4/5] END bootstrap=False, max_depth=5, min_samples_leaf=2, min_samples_split=10, n_estimators=100;, score=0.662 total time=   0.8s\n",
            "[CV 5/5] END bootstrap=False, max_depth=5, min_samples_leaf=2, min_samples_split=10, n_estimators=100;, score=0.676 total time=   0.8s\n",
            "[CV 1/5] END bootstrap=False, max_depth=5, min_samples_leaf=2, min_samples_split=10, n_estimators=300;, score=0.672 total time=   2.3s\n",
            "[CV 2/5] END bootstrap=False, max_depth=5, min_samples_leaf=2, min_samples_split=10, n_estimators=300;, score=0.663 total time=   2.3s\n",
            "[CV 3/5] END bootstrap=False, max_depth=5, min_samples_leaf=2, min_samples_split=10, n_estimators=300;, score=0.680 total time=   2.3s\n",
            "[CV 4/5] END bootstrap=False, max_depth=5, min_samples_leaf=2, min_samples_split=10, n_estimators=300;, score=0.666 total time=   2.3s\n",
            "[CV 5/5] END bootstrap=False, max_depth=5, min_samples_leaf=2, min_samples_split=10, n_estimators=300;, score=0.674 total time=   2.3s\n",
            "[CV 1/5] END bootstrap=False, max_depth=5, min_samples_leaf=2, min_samples_split=10, n_estimators=500;, score=0.675 total time=   3.9s\n",
            "[CV 2/5] END bootstrap=False, max_depth=5, min_samples_leaf=2, min_samples_split=10, n_estimators=500;, score=0.661 total time=   3.9s\n",
            "[CV 3/5] END bootstrap=False, max_depth=5, min_samples_leaf=2, min_samples_split=10, n_estimators=500;, score=0.681 total time=   3.9s\n",
            "[CV 4/5] END bootstrap=False, max_depth=5, min_samples_leaf=2, min_samples_split=10, n_estimators=500;, score=0.668 total time=   3.8s\n",
            "[CV 5/5] END bootstrap=False, max_depth=5, min_samples_leaf=2, min_samples_split=10, n_estimators=500;, score=0.671 total time=   3.9s\n",
            "[CV 1/5] END bootstrap=False, max_depth=5, min_samples_leaf=4, min_samples_split=2, n_estimators=10;, score=0.669 total time=   0.1s\n",
            "[CV 2/5] END bootstrap=False, max_depth=5, min_samples_leaf=4, min_samples_split=2, n_estimators=10;, score=0.658 total time=   0.1s\n",
            "[CV 3/5] END bootstrap=False, max_depth=5, min_samples_leaf=4, min_samples_split=2, n_estimators=10;, score=0.675 total time=   0.1s\n",
            "[CV 4/5] END bootstrap=False, max_depth=5, min_samples_leaf=4, min_samples_split=2, n_estimators=10;, score=0.667 total time=   0.1s\n",
            "[CV 5/5] END bootstrap=False, max_depth=5, min_samples_leaf=4, min_samples_split=2, n_estimators=10;, score=0.668 total time=   0.1s\n",
            "[CV 1/5] END bootstrap=False, max_depth=5, min_samples_leaf=4, min_samples_split=2, n_estimators=50;, score=0.674 total time=   0.4s\n",
            "[CV 2/5] END bootstrap=False, max_depth=5, min_samples_leaf=4, min_samples_split=2, n_estimators=50;, score=0.664 total time=   0.4s\n",
            "[CV 3/5] END bootstrap=False, max_depth=5, min_samples_leaf=4, min_samples_split=2, n_estimators=50;, score=0.676 total time=   0.4s\n",
            "[CV 4/5] END bootstrap=False, max_depth=5, min_samples_leaf=4, min_samples_split=2, n_estimators=50;, score=0.663 total time=   0.4s\n",
            "[CV 5/5] END bootstrap=False, max_depth=5, min_samples_leaf=4, min_samples_split=2, n_estimators=50;, score=0.671 total time=   0.4s\n",
            "[CV 1/5] END bootstrap=False, max_depth=5, min_samples_leaf=4, min_samples_split=2, n_estimators=100;, score=0.670 total time=   0.8s\n",
            "[CV 2/5] END bootstrap=False, max_depth=5, min_samples_leaf=4, min_samples_split=2, n_estimators=100;, score=0.662 total time=   0.8s\n",
            "[CV 3/5] END bootstrap=False, max_depth=5, min_samples_leaf=4, min_samples_split=2, n_estimators=100;, score=0.677 total time=   0.8s\n",
            "[CV 4/5] END bootstrap=False, max_depth=5, min_samples_leaf=4, min_samples_split=2, n_estimators=100;, score=0.662 total time=   0.8s\n",
            "[CV 5/5] END bootstrap=False, max_depth=5, min_samples_leaf=4, min_samples_split=2, n_estimators=100;, score=0.678 total time=   0.8s\n",
            "[CV 1/5] END bootstrap=False, max_depth=5, min_samples_leaf=4, min_samples_split=2, n_estimators=300;, score=0.672 total time=   2.3s\n",
            "[CV 2/5] END bootstrap=False, max_depth=5, min_samples_leaf=4, min_samples_split=2, n_estimators=300;, score=0.661 total time=   2.3s\n",
            "[CV 3/5] END bootstrap=False, max_depth=5, min_samples_leaf=4, min_samples_split=2, n_estimators=300;, score=0.680 total time=   2.3s\n",
            "[CV 4/5] END bootstrap=False, max_depth=5, min_samples_leaf=4, min_samples_split=2, n_estimators=300;, score=0.666 total time=   2.3s\n",
            "[CV 5/5] END bootstrap=False, max_depth=5, min_samples_leaf=4, min_samples_split=2, n_estimators=300;, score=0.672 total time=   2.3s\n",
            "[CV 1/5] END bootstrap=False, max_depth=5, min_samples_leaf=4, min_samples_split=2, n_estimators=500;, score=0.673 total time=   3.8s\n",
            "[CV 2/5] END bootstrap=False, max_depth=5, min_samples_leaf=4, min_samples_split=2, n_estimators=500;, score=0.663 total time=   3.8s\n",
            "[CV 3/5] END bootstrap=False, max_depth=5, min_samples_leaf=4, min_samples_split=2, n_estimators=500;, score=0.680 total time=   3.9s\n",
            "[CV 4/5] END bootstrap=False, max_depth=5, min_samples_leaf=4, min_samples_split=2, n_estimators=500;, score=0.667 total time=   3.9s\n",
            "[CV 5/5] END bootstrap=False, max_depth=5, min_samples_leaf=4, min_samples_split=2, n_estimators=500;, score=0.674 total time=   3.9s\n",
            "[CV 1/5] END bootstrap=False, max_depth=5, min_samples_leaf=4, min_samples_split=5, n_estimators=10;, score=0.666 total time=   0.1s\n",
            "[CV 2/5] END bootstrap=False, max_depth=5, min_samples_leaf=4, min_samples_split=5, n_estimators=10;, score=0.656 total time=   0.1s\n",
            "[CV 3/5] END bootstrap=False, max_depth=5, min_samples_leaf=4, min_samples_split=5, n_estimators=10;, score=0.679 total time=   0.1s\n",
            "[CV 4/5] END bootstrap=False, max_depth=5, min_samples_leaf=4, min_samples_split=5, n_estimators=10;, score=0.658 total time=   0.1s\n",
            "[CV 5/5] END bootstrap=False, max_depth=5, min_samples_leaf=4, min_samples_split=5, n_estimators=10;, score=0.688 total time=   0.1s\n",
            "[CV 1/5] END bootstrap=False, max_depth=5, min_samples_leaf=4, min_samples_split=5, n_estimators=50;, score=0.673 total time=   0.4s\n",
            "[CV 2/5] END bootstrap=False, max_depth=5, min_samples_leaf=4, min_samples_split=5, n_estimators=50;, score=0.664 total time=   0.4s\n",
            "[CV 3/5] END bootstrap=False, max_depth=5, min_samples_leaf=4, min_samples_split=5, n_estimators=50;, score=0.674 total time=   0.4s\n",
            "[CV 4/5] END bootstrap=False, max_depth=5, min_samples_leaf=4, min_samples_split=5, n_estimators=50;, score=0.664 total time=   0.4s\n",
            "[CV 5/5] END bootstrap=False, max_depth=5, min_samples_leaf=4, min_samples_split=5, n_estimators=50;, score=0.678 total time=   0.4s\n",
            "[CV 1/5] END bootstrap=False, max_depth=5, min_samples_leaf=4, min_samples_split=5, n_estimators=100;, score=0.675 total time=   0.8s\n",
            "[CV 2/5] END bootstrap=False, max_depth=5, min_samples_leaf=4, min_samples_split=5, n_estimators=100;, score=0.664 total time=   0.8s\n",
            "[CV 3/5] END bootstrap=False, max_depth=5, min_samples_leaf=4, min_samples_split=5, n_estimators=100;, score=0.681 total time=   0.8s\n",
            "[CV 4/5] END bootstrap=False, max_depth=5, min_samples_leaf=4, min_samples_split=5, n_estimators=100;, score=0.671 total time=   0.8s\n",
            "[CV 5/5] END bootstrap=False, max_depth=5, min_samples_leaf=4, min_samples_split=5, n_estimators=100;, score=0.670 total time=   0.8s\n",
            "[CV 1/5] END bootstrap=False, max_depth=5, min_samples_leaf=4, min_samples_split=5, n_estimators=300;, score=0.675 total time=   2.3s\n",
            "[CV 2/5] END bootstrap=False, max_depth=5, min_samples_leaf=4, min_samples_split=5, n_estimators=300;, score=0.665 total time=   2.3s\n",
            "[CV 3/5] END bootstrap=False, max_depth=5, min_samples_leaf=4, min_samples_split=5, n_estimators=300;, score=0.676 total time=   2.4s\n",
            "[CV 4/5] END bootstrap=False, max_depth=5, min_samples_leaf=4, min_samples_split=5, n_estimators=300;, score=0.664 total time=   2.3s\n",
            "[CV 5/5] END bootstrap=False, max_depth=5, min_samples_leaf=4, min_samples_split=5, n_estimators=300;, score=0.672 total time=   2.3s\n",
            "[CV 1/5] END bootstrap=False, max_depth=5, min_samples_leaf=4, min_samples_split=5, n_estimators=500;, score=0.673 total time=   3.8s\n",
            "[CV 2/5] END bootstrap=False, max_depth=5, min_samples_leaf=4, min_samples_split=5, n_estimators=500;, score=0.661 total time=   3.8s\n",
            "[CV 3/5] END bootstrap=False, max_depth=5, min_samples_leaf=4, min_samples_split=5, n_estimators=500;, score=0.681 total time=   3.9s\n",
            "[CV 4/5] END bootstrap=False, max_depth=5, min_samples_leaf=4, min_samples_split=5, n_estimators=500;, score=0.666 total time=   3.9s\n",
            "[CV 5/5] END bootstrap=False, max_depth=5, min_samples_leaf=4, min_samples_split=5, n_estimators=500;, score=0.674 total time=   3.9s\n",
            "[CV 1/5] END bootstrap=False, max_depth=5, min_samples_leaf=4, min_samples_split=10, n_estimators=10;, score=0.667 total time=   0.1s\n",
            "[CV 2/5] END bootstrap=False, max_depth=5, min_samples_leaf=4, min_samples_split=10, n_estimators=10;, score=0.653 total time=   0.1s\n",
            "[CV 3/5] END bootstrap=False, max_depth=5, min_samples_leaf=4, min_samples_split=10, n_estimators=10;, score=0.673 total time=   0.1s\n",
            "[CV 4/5] END bootstrap=False, max_depth=5, min_samples_leaf=4, min_samples_split=10, n_estimators=10;, score=0.659 total time=   0.1s\n",
            "[CV 5/5] END bootstrap=False, max_depth=5, min_samples_leaf=4, min_samples_split=10, n_estimators=10;, score=0.667 total time=   0.1s\n",
            "[CV 1/5] END bootstrap=False, max_depth=5, min_samples_leaf=4, min_samples_split=10, n_estimators=50;, score=0.668 total time=   0.4s\n",
            "[CV 2/5] END bootstrap=False, max_depth=5, min_samples_leaf=4, min_samples_split=10, n_estimators=50;, score=0.661 total time=   0.4s\n",
            "[CV 3/5] END bootstrap=False, max_depth=5, min_samples_leaf=4, min_samples_split=10, n_estimators=50;, score=0.671 total time=   0.4s\n",
            "[CV 4/5] END bootstrap=False, max_depth=5, min_samples_leaf=4, min_samples_split=10, n_estimators=50;, score=0.670 total time=   0.4s\n",
            "[CV 5/5] END bootstrap=False, max_depth=5, min_samples_leaf=4, min_samples_split=10, n_estimators=50;, score=0.671 total time=   0.4s\n",
            "[CV 1/5] END bootstrap=False, max_depth=5, min_samples_leaf=4, min_samples_split=10, n_estimators=100;, score=0.673 total time=   0.8s\n",
            "[CV 2/5] END bootstrap=False, max_depth=5, min_samples_leaf=4, min_samples_split=10, n_estimators=100;, score=0.664 total time=   0.8s\n",
            "[CV 3/5] END bootstrap=False, max_depth=5, min_samples_leaf=4, min_samples_split=10, n_estimators=100;, score=0.679 total time=   0.8s\n",
            "[CV 4/5] END bootstrap=False, max_depth=5, min_samples_leaf=4, min_samples_split=10, n_estimators=100;, score=0.667 total time=   0.8s\n",
            "[CV 5/5] END bootstrap=False, max_depth=5, min_samples_leaf=4, min_samples_split=10, n_estimators=100;, score=0.670 total time=   0.8s\n",
            "[CV 1/5] END bootstrap=False, max_depth=5, min_samples_leaf=4, min_samples_split=10, n_estimators=300;, score=0.674 total time=   2.3s\n",
            "[CV 2/5] END bootstrap=False, max_depth=5, min_samples_leaf=4, min_samples_split=10, n_estimators=300;, score=0.661 total time=   2.3s\n",
            "[CV 3/5] END bootstrap=False, max_depth=5, min_samples_leaf=4, min_samples_split=10, n_estimators=300;, score=0.679 total time=   2.3s\n",
            "[CV 4/5] END bootstrap=False, max_depth=5, min_samples_leaf=4, min_samples_split=10, n_estimators=300;, score=0.665 total time=   2.3s\n",
            "[CV 5/5] END bootstrap=False, max_depth=5, min_samples_leaf=4, min_samples_split=10, n_estimators=300;, score=0.671 total time=   2.3s\n",
            "[CV 1/5] END bootstrap=False, max_depth=5, min_samples_leaf=4, min_samples_split=10, n_estimators=500;, score=0.674 total time=   3.8s\n",
            "[CV 2/5] END bootstrap=False, max_depth=5, min_samples_leaf=4, min_samples_split=10, n_estimators=500;, score=0.665 total time=   3.8s\n",
            "[CV 3/5] END bootstrap=False, max_depth=5, min_samples_leaf=4, min_samples_split=10, n_estimators=500;, score=0.679 total time=   3.8s\n",
            "[CV 4/5] END bootstrap=False, max_depth=5, min_samples_leaf=4, min_samples_split=10, n_estimators=500;, score=0.665 total time=   3.8s\n",
            "[CV 5/5] END bootstrap=False, max_depth=5, min_samples_leaf=4, min_samples_split=10, n_estimators=500;, score=0.673 total time=   3.8s\n"
          ]
        }
      ]
    },
    {
      "cell_type": "code",
      "source": [
        "gridRF = gridRF.best_estimator_\n",
        "RF = TrainAndEval(gridRF, X_train, y_train, X_test, y_test)\n",
        "RF.eval()"
      ],
      "metadata": {
        "colab": {
          "base_uri": "https://localhost:8080/"
        },
        "id": "8cLoCdTtn8pK",
        "outputId": "2e616711-64c5-4467-93ae-8bd9ed9045df"
      },
      "execution_count": null,
      "outputs": [
        {
          "output_type": "stream",
          "name": "stdout",
          "text": [
            "True Negatives: 1203\n",
            "False Positives: 535\n",
            "False Negatives: 629\n",
            "True Positives: 1172\n",
            "              precision    recall  f1-score   support\n",
            "\n",
            "           0       0.66      0.69      0.67      1738\n",
            "           1       0.69      0.65      0.67      1801\n",
            "\n",
            "    accuracy                           0.67      3539\n",
            "   macro avg       0.67      0.67      0.67      3539\n",
            "weighted avg       0.67      0.67      0.67      3539\n",
            "\n"
          ]
        }
      ]
    },
    {
      "cell_type": "markdown",
      "source": [
        "**The Results of Random Forest Classifier:**\n",
        "\n",
        "\n",
        "*   **F1 Score = 67%**\n",
        "*   **Precision = 69%**\n",
        "*   **Recall = 65%**\n",
        "*   **Accuracy = 67%**"
      ],
      "metadata": {
        "id": "JcKokL7coBpP"
      }
    },
    {
      "cell_type": "markdown",
      "source": [
        "# **Logistic Regression**"
      ],
      "metadata": {
        "id": "AKsFXYx3oEio"
      }
    },
    {
      "cell_type": "code",
      "source": [
        "params = {\n",
        "    'penalty': ['l2', 'none'],\n",
        "    'C': [0.005, 0.01, 0.1, 0.5, 1, 10],\n",
        "    'fit_intercept': [True, False],\n",
        "    'n_jobs': [-1]\n",
        "}\n",
        "\n",
        "gridLR = GridSearchCV(estimator=LogisticRegression(max_iter=1000), param_grid=params, cv=5, verbose=3)\n",
        "gridLR = gridLR.fit(X_train, y_train)"
      ],
      "metadata": {
        "colab": {
          "base_uri": "https://localhost:8080/"
        },
        "id": "i8zIdccRoBPQ",
        "outputId": "46398104-2fd0-410b-cc2a-229838515068"
      },
      "execution_count": null,
      "outputs": [
        {
          "output_type": "stream",
          "name": "stdout",
          "text": [
            "Fitting 5 folds for each of 24 candidates, totalling 120 fits\n",
            "[CV 1/5] END C=0.005, fit_intercept=True, n_jobs=-1, penalty=l2;, score=0.644 total time=   2.4s\n",
            "[CV 2/5] END C=0.005, fit_intercept=True, n_jobs=-1, penalty=l2;, score=0.626 total time=   1.3s\n",
            "[CV 3/5] END C=0.005, fit_intercept=True, n_jobs=-1, penalty=l2;, score=0.638 total time=   0.3s\n",
            "[CV 4/5] END C=0.005, fit_intercept=True, n_jobs=-1, penalty=l2;, score=0.629 total time=   0.5s\n",
            "[CV 5/5] END C=0.005, fit_intercept=True, n_jobs=-1, penalty=l2;, score=0.622 total time=   0.3s\n"
          ]
        },
        {
          "output_type": "stream",
          "name": "stderr",
          "text": [
            "/usr/local/lib/python3.7/dist-packages/sklearn/linear_model/_logistic.py:1484: UserWarning: Setting penalty='none' will ignore the C and l1_ratio parameters\n",
            "  \"Setting penalty='none' will ignore the C and l1_ratio parameters\"\n"
          ]
        },
        {
          "output_type": "stream",
          "name": "stdout",
          "text": [
            "[CV 1/5] END C=0.005, fit_intercept=True, n_jobs=-1, penalty=none;, score=0.642 total time=   0.6s\n"
          ]
        },
        {
          "output_type": "stream",
          "name": "stderr",
          "text": [
            "/usr/local/lib/python3.7/dist-packages/sklearn/linear_model/_logistic.py:1484: UserWarning: Setting penalty='none' will ignore the C and l1_ratio parameters\n",
            "  \"Setting penalty='none' will ignore the C and l1_ratio parameters\"\n"
          ]
        },
        {
          "output_type": "stream",
          "name": "stdout",
          "text": [
            "[CV 2/5] END C=0.005, fit_intercept=True, n_jobs=-1, penalty=none;, score=0.620 total time=   0.5s\n"
          ]
        },
        {
          "output_type": "stream",
          "name": "stderr",
          "text": [
            "/usr/local/lib/python3.7/dist-packages/sklearn/linear_model/_logistic.py:1484: UserWarning: Setting penalty='none' will ignore the C and l1_ratio parameters\n",
            "  \"Setting penalty='none' will ignore the C and l1_ratio parameters\"\n"
          ]
        },
        {
          "output_type": "stream",
          "name": "stdout",
          "text": [
            "[CV 3/5] END C=0.005, fit_intercept=True, n_jobs=-1, penalty=none;, score=0.640 total time=   0.3s\n"
          ]
        },
        {
          "output_type": "stream",
          "name": "stderr",
          "text": [
            "/usr/local/lib/python3.7/dist-packages/sklearn/linear_model/_logistic.py:1484: UserWarning: Setting penalty='none' will ignore the C and l1_ratio parameters\n",
            "  \"Setting penalty='none' will ignore the C and l1_ratio parameters\"\n"
          ]
        },
        {
          "output_type": "stream",
          "name": "stdout",
          "text": [
            "[CV 4/5] END C=0.005, fit_intercept=True, n_jobs=-1, penalty=none;, score=0.641 total time=   0.8s\n"
          ]
        },
        {
          "output_type": "stream",
          "name": "stderr",
          "text": [
            "/usr/local/lib/python3.7/dist-packages/sklearn/linear_model/_logistic.py:1484: UserWarning: Setting penalty='none' will ignore the C and l1_ratio parameters\n",
            "  \"Setting penalty='none' will ignore the C and l1_ratio parameters\"\n"
          ]
        },
        {
          "output_type": "stream",
          "name": "stdout",
          "text": [
            "[CV 5/5] END C=0.005, fit_intercept=True, n_jobs=-1, penalty=none;, score=0.637 total time=   0.9s\n",
            "[CV 1/5] END C=0.005, fit_intercept=False, n_jobs=-1, penalty=l2;, score=0.637 total time=   0.5s\n",
            "[CV 2/5] END C=0.005, fit_intercept=False, n_jobs=-1, penalty=l2;, score=0.627 total time=   0.5s\n",
            "[CV 3/5] END C=0.005, fit_intercept=False, n_jobs=-1, penalty=l2;, score=0.639 total time=   0.3s\n",
            "[CV 4/5] END C=0.005, fit_intercept=False, n_jobs=-1, penalty=l2;, score=0.629 total time=   0.4s\n",
            "[CV 5/5] END C=0.005, fit_intercept=False, n_jobs=-1, penalty=l2;, score=0.623 total time=   0.3s\n"
          ]
        },
        {
          "output_type": "stream",
          "name": "stderr",
          "text": [
            "/usr/local/lib/python3.7/dist-packages/sklearn/linear_model/_logistic.py:1484: UserWarning: Setting penalty='none' will ignore the C and l1_ratio parameters\n",
            "  \"Setting penalty='none' will ignore the C and l1_ratio parameters\"\n"
          ]
        },
        {
          "output_type": "stream",
          "name": "stdout",
          "text": [
            "[CV 1/5] END C=0.005, fit_intercept=False, n_jobs=-1, penalty=none;, score=0.637 total time=   0.3s\n"
          ]
        },
        {
          "output_type": "stream",
          "name": "stderr",
          "text": [
            "/usr/local/lib/python3.7/dist-packages/sklearn/linear_model/_logistic.py:1484: UserWarning: Setting penalty='none' will ignore the C and l1_ratio parameters\n",
            "  \"Setting penalty='none' will ignore the C and l1_ratio parameters\"\n"
          ]
        },
        {
          "output_type": "stream",
          "name": "stdout",
          "text": [
            "[CV 2/5] END C=0.005, fit_intercept=False, n_jobs=-1, penalty=none;, score=0.621 total time=   0.3s\n"
          ]
        },
        {
          "output_type": "stream",
          "name": "stderr",
          "text": [
            "/usr/local/lib/python3.7/dist-packages/sklearn/linear_model/_logistic.py:1484: UserWarning: Setting penalty='none' will ignore the C and l1_ratio parameters\n",
            "  \"Setting penalty='none' will ignore the C and l1_ratio parameters\"\n"
          ]
        },
        {
          "output_type": "stream",
          "name": "stdout",
          "text": [
            "[CV 3/5] END C=0.005, fit_intercept=False, n_jobs=-1, penalty=none;, score=0.646 total time=   0.6s\n"
          ]
        },
        {
          "output_type": "stream",
          "name": "stderr",
          "text": [
            "/usr/local/lib/python3.7/dist-packages/sklearn/linear_model/_logistic.py:1484: UserWarning: Setting penalty='none' will ignore the C and l1_ratio parameters\n",
            "  \"Setting penalty='none' will ignore the C and l1_ratio parameters\"\n"
          ]
        },
        {
          "output_type": "stream",
          "name": "stdout",
          "text": [
            "[CV 4/5] END C=0.005, fit_intercept=False, n_jobs=-1, penalty=none;, score=0.647 total time=   0.5s\n"
          ]
        },
        {
          "output_type": "stream",
          "name": "stderr",
          "text": [
            "/usr/local/lib/python3.7/dist-packages/sklearn/linear_model/_logistic.py:1484: UserWarning: Setting penalty='none' will ignore the C and l1_ratio parameters\n",
            "  \"Setting penalty='none' will ignore the C and l1_ratio parameters\"\n"
          ]
        },
        {
          "output_type": "stream",
          "name": "stdout",
          "text": [
            "[CV 5/5] END C=0.005, fit_intercept=False, n_jobs=-1, penalty=none;, score=0.624 total time=   0.3s\n",
            "[CV 1/5] END C=0.01, fit_intercept=True, n_jobs=-1, penalty=l2;, score=0.643 total time=   0.4s\n",
            "[CV 2/5] END C=0.01, fit_intercept=True, n_jobs=-1, penalty=l2;, score=0.628 total time=   0.3s\n",
            "[CV 3/5] END C=0.01, fit_intercept=True, n_jobs=-1, penalty=l2;, score=0.638 total time=   0.2s\n",
            "[CV 4/5] END C=0.01, fit_intercept=True, n_jobs=-1, penalty=l2;, score=0.629 total time=   0.3s\n",
            "[CV 5/5] END C=0.01, fit_intercept=True, n_jobs=-1, penalty=l2;, score=0.633 total time=   0.4s\n"
          ]
        },
        {
          "output_type": "stream",
          "name": "stderr",
          "text": [
            "/usr/local/lib/python3.7/dist-packages/sklearn/linear_model/_logistic.py:1484: UserWarning: Setting penalty='none' will ignore the C and l1_ratio parameters\n",
            "  \"Setting penalty='none' will ignore the C and l1_ratio parameters\"\n"
          ]
        },
        {
          "output_type": "stream",
          "name": "stdout",
          "text": [
            "[CV 1/5] END C=0.01, fit_intercept=True, n_jobs=-1, penalty=none;, score=0.642 total time=   0.4s\n"
          ]
        },
        {
          "output_type": "stream",
          "name": "stderr",
          "text": [
            "/usr/local/lib/python3.7/dist-packages/sklearn/linear_model/_logistic.py:1484: UserWarning: Setting penalty='none' will ignore the C and l1_ratio parameters\n",
            "  \"Setting penalty='none' will ignore the C and l1_ratio parameters\"\n"
          ]
        },
        {
          "output_type": "stream",
          "name": "stdout",
          "text": [
            "[CV 2/5] END C=0.01, fit_intercept=True, n_jobs=-1, penalty=none;, score=0.620 total time=   0.3s\n"
          ]
        },
        {
          "output_type": "stream",
          "name": "stderr",
          "text": [
            "/usr/local/lib/python3.7/dist-packages/sklearn/linear_model/_logistic.py:1484: UserWarning: Setting penalty='none' will ignore the C and l1_ratio parameters\n",
            "  \"Setting penalty='none' will ignore the C and l1_ratio parameters\"\n"
          ]
        },
        {
          "output_type": "stream",
          "name": "stdout",
          "text": [
            "[CV 3/5] END C=0.01, fit_intercept=True, n_jobs=-1, penalty=none;, score=0.640 total time=   0.2s\n"
          ]
        },
        {
          "output_type": "stream",
          "name": "stderr",
          "text": [
            "/usr/local/lib/python3.7/dist-packages/sklearn/linear_model/_logistic.py:1484: UserWarning: Setting penalty='none' will ignore the C and l1_ratio parameters\n",
            "  \"Setting penalty='none' will ignore the C and l1_ratio parameters\"\n"
          ]
        },
        {
          "output_type": "stream",
          "name": "stdout",
          "text": [
            "[CV 4/5] END C=0.01, fit_intercept=True, n_jobs=-1, penalty=none;, score=0.641 total time=   0.5s\n"
          ]
        },
        {
          "output_type": "stream",
          "name": "stderr",
          "text": [
            "/usr/local/lib/python3.7/dist-packages/sklearn/linear_model/_logistic.py:1484: UserWarning: Setting penalty='none' will ignore the C and l1_ratio parameters\n",
            "  \"Setting penalty='none' will ignore the C and l1_ratio parameters\"\n"
          ]
        },
        {
          "output_type": "stream",
          "name": "stdout",
          "text": [
            "[CV 5/5] END C=0.01, fit_intercept=True, n_jobs=-1, penalty=none;, score=0.637 total time=   0.6s\n",
            "[CV 1/5] END C=0.01, fit_intercept=False, n_jobs=-1, penalty=l2;, score=0.638 total time=   0.4s\n",
            "[CV 2/5] END C=0.01, fit_intercept=False, n_jobs=-1, penalty=l2;, score=0.628 total time=   0.6s\n",
            "[CV 3/5] END C=0.01, fit_intercept=False, n_jobs=-1, penalty=l2;, score=0.633 total time=   0.5s\n",
            "[CV 4/5] END C=0.01, fit_intercept=False, n_jobs=-1, penalty=l2;, score=0.629 total time=   0.4s\n",
            "[CV 5/5] END C=0.01, fit_intercept=False, n_jobs=-1, penalty=l2;, score=0.632 total time=   0.5s\n"
          ]
        },
        {
          "output_type": "stream",
          "name": "stderr",
          "text": [
            "/usr/local/lib/python3.7/dist-packages/sklearn/linear_model/_logistic.py:1484: UserWarning: Setting penalty='none' will ignore the C and l1_ratio parameters\n",
            "  \"Setting penalty='none' will ignore the C and l1_ratio parameters\"\n"
          ]
        },
        {
          "output_type": "stream",
          "name": "stdout",
          "text": [
            "[CV 1/5] END C=0.01, fit_intercept=False, n_jobs=-1, penalty=none;, score=0.637 total time=   0.4s\n"
          ]
        },
        {
          "output_type": "stream",
          "name": "stderr",
          "text": [
            "/usr/local/lib/python3.7/dist-packages/sklearn/linear_model/_logistic.py:1484: UserWarning: Setting penalty='none' will ignore the C and l1_ratio parameters\n",
            "  \"Setting penalty='none' will ignore the C and l1_ratio parameters\"\n"
          ]
        },
        {
          "output_type": "stream",
          "name": "stdout",
          "text": [
            "[CV 2/5] END C=0.01, fit_intercept=False, n_jobs=-1, penalty=none;, score=0.621 total time=   0.3s\n"
          ]
        },
        {
          "output_type": "stream",
          "name": "stderr",
          "text": [
            "/usr/local/lib/python3.7/dist-packages/sklearn/linear_model/_logistic.py:1484: UserWarning: Setting penalty='none' will ignore the C and l1_ratio parameters\n",
            "  \"Setting penalty='none' will ignore the C and l1_ratio parameters\"\n"
          ]
        },
        {
          "output_type": "stream",
          "name": "stdout",
          "text": [
            "[CV 3/5] END C=0.01, fit_intercept=False, n_jobs=-1, penalty=none;, score=0.646 total time=   0.7s\n"
          ]
        },
        {
          "output_type": "stream",
          "name": "stderr",
          "text": [
            "/usr/local/lib/python3.7/dist-packages/sklearn/linear_model/_logistic.py:1484: UserWarning: Setting penalty='none' will ignore the C and l1_ratio parameters\n",
            "  \"Setting penalty='none' will ignore the C and l1_ratio parameters\"\n"
          ]
        },
        {
          "output_type": "stream",
          "name": "stdout",
          "text": [
            "[CV 4/5] END C=0.01, fit_intercept=False, n_jobs=-1, penalty=none;, score=0.647 total time=   0.5s\n"
          ]
        },
        {
          "output_type": "stream",
          "name": "stderr",
          "text": [
            "/usr/local/lib/python3.7/dist-packages/sklearn/linear_model/_logistic.py:1484: UserWarning: Setting penalty='none' will ignore the C and l1_ratio parameters\n",
            "  \"Setting penalty='none' will ignore the C and l1_ratio parameters\"\n"
          ]
        },
        {
          "output_type": "stream",
          "name": "stdout",
          "text": [
            "[CV 5/5] END C=0.01, fit_intercept=False, n_jobs=-1, penalty=none;, score=0.624 total time=   0.3s\n",
            "[CV 1/5] END C=0.1, fit_intercept=True, n_jobs=-1, penalty=l2;, score=0.651 total time=   0.5s\n",
            "[CV 2/5] END C=0.1, fit_intercept=True, n_jobs=-1, penalty=l2;, score=0.628 total time=   0.4s\n",
            "[CV 3/5] END C=0.1, fit_intercept=True, n_jobs=-1, penalty=l2;, score=0.640 total time=   0.2s\n",
            "[CV 4/5] END C=0.1, fit_intercept=True, n_jobs=-1, penalty=l2;, score=0.629 total time=   0.3s\n",
            "[CV 5/5] END C=0.1, fit_intercept=True, n_jobs=-1, penalty=l2;, score=0.633 total time=   0.4s\n"
          ]
        },
        {
          "output_type": "stream",
          "name": "stderr",
          "text": [
            "/usr/local/lib/python3.7/dist-packages/sklearn/linear_model/_logistic.py:1484: UserWarning: Setting penalty='none' will ignore the C and l1_ratio parameters\n",
            "  \"Setting penalty='none' will ignore the C and l1_ratio parameters\"\n"
          ]
        },
        {
          "output_type": "stream",
          "name": "stdout",
          "text": [
            "[CV 1/5] END C=0.1, fit_intercept=True, n_jobs=-1, penalty=none;, score=0.642 total time=   0.4s\n"
          ]
        },
        {
          "output_type": "stream",
          "name": "stderr",
          "text": [
            "/usr/local/lib/python3.7/dist-packages/sklearn/linear_model/_logistic.py:1484: UserWarning: Setting penalty='none' will ignore the C and l1_ratio parameters\n",
            "  \"Setting penalty='none' will ignore the C and l1_ratio parameters\"\n"
          ]
        },
        {
          "output_type": "stream",
          "name": "stdout",
          "text": [
            "[CV 2/5] END C=0.1, fit_intercept=True, n_jobs=-1, penalty=none;, score=0.620 total time=   0.3s\n"
          ]
        },
        {
          "output_type": "stream",
          "name": "stderr",
          "text": [
            "/usr/local/lib/python3.7/dist-packages/sklearn/linear_model/_logistic.py:1484: UserWarning: Setting penalty='none' will ignore the C and l1_ratio parameters\n",
            "  \"Setting penalty='none' will ignore the C and l1_ratio parameters\"\n"
          ]
        },
        {
          "output_type": "stream",
          "name": "stdout",
          "text": [
            "[CV 3/5] END C=0.1, fit_intercept=True, n_jobs=-1, penalty=none;, score=0.640 total time=   0.2s\n"
          ]
        },
        {
          "output_type": "stream",
          "name": "stderr",
          "text": [
            "/usr/local/lib/python3.7/dist-packages/sklearn/linear_model/_logistic.py:1484: UserWarning: Setting penalty='none' will ignore the C and l1_ratio parameters\n",
            "  \"Setting penalty='none' will ignore the C and l1_ratio parameters\"\n"
          ]
        },
        {
          "output_type": "stream",
          "name": "stdout",
          "text": [
            "[CV 4/5] END C=0.1, fit_intercept=True, n_jobs=-1, penalty=none;, score=0.641 total time=   0.4s\n"
          ]
        },
        {
          "output_type": "stream",
          "name": "stderr",
          "text": [
            "/usr/local/lib/python3.7/dist-packages/sklearn/linear_model/_logistic.py:1484: UserWarning: Setting penalty='none' will ignore the C and l1_ratio parameters\n",
            "  \"Setting penalty='none' will ignore the C and l1_ratio parameters\"\n"
          ]
        },
        {
          "output_type": "stream",
          "name": "stdout",
          "text": [
            "[CV 5/5] END C=0.1, fit_intercept=True, n_jobs=-1, penalty=none;, score=0.637 total time=   0.5s\n",
            "[CV 1/5] END C=0.1, fit_intercept=False, n_jobs=-1, penalty=l2;, score=0.638 total time=   0.3s\n",
            "[CV 2/5] END C=0.1, fit_intercept=False, n_jobs=-1, penalty=l2;, score=0.621 total time=   0.3s\n",
            "[CV 3/5] END C=0.1, fit_intercept=False, n_jobs=-1, penalty=l2;, score=0.634 total time=   0.4s\n",
            "[CV 4/5] END C=0.1, fit_intercept=False, n_jobs=-1, penalty=l2;, score=0.627 total time=   0.3s\n",
            "[CV 5/5] END C=0.1, fit_intercept=False, n_jobs=-1, penalty=l2;, score=0.632 total time=   0.4s\n"
          ]
        },
        {
          "output_type": "stream",
          "name": "stderr",
          "text": [
            "/usr/local/lib/python3.7/dist-packages/sklearn/linear_model/_logistic.py:1484: UserWarning: Setting penalty='none' will ignore the C and l1_ratio parameters\n",
            "  \"Setting penalty='none' will ignore the C and l1_ratio parameters\"\n"
          ]
        },
        {
          "output_type": "stream",
          "name": "stdout",
          "text": [
            "[CV 1/5] END C=0.1, fit_intercept=False, n_jobs=-1, penalty=none;, score=0.637 total time=   0.3s\n"
          ]
        },
        {
          "output_type": "stream",
          "name": "stderr",
          "text": [
            "/usr/local/lib/python3.7/dist-packages/sklearn/linear_model/_logistic.py:1484: UserWarning: Setting penalty='none' will ignore the C and l1_ratio parameters\n",
            "  \"Setting penalty='none' will ignore the C and l1_ratio parameters\"\n"
          ]
        },
        {
          "output_type": "stream",
          "name": "stdout",
          "text": [
            "[CV 2/5] END C=0.1, fit_intercept=False, n_jobs=-1, penalty=none;, score=0.621 total time=   0.3s\n"
          ]
        },
        {
          "output_type": "stream",
          "name": "stderr",
          "text": [
            "/usr/local/lib/python3.7/dist-packages/sklearn/linear_model/_logistic.py:1484: UserWarning: Setting penalty='none' will ignore the C and l1_ratio parameters\n",
            "  \"Setting penalty='none' will ignore the C and l1_ratio parameters\"\n"
          ]
        },
        {
          "output_type": "stream",
          "name": "stdout",
          "text": [
            "[CV 3/5] END C=0.1, fit_intercept=False, n_jobs=-1, penalty=none;, score=0.646 total time=   0.6s\n"
          ]
        },
        {
          "output_type": "stream",
          "name": "stderr",
          "text": [
            "/usr/local/lib/python3.7/dist-packages/sklearn/linear_model/_logistic.py:1484: UserWarning: Setting penalty='none' will ignore the C and l1_ratio parameters\n",
            "  \"Setting penalty='none' will ignore the C and l1_ratio parameters\"\n"
          ]
        },
        {
          "output_type": "stream",
          "name": "stdout",
          "text": [
            "[CV 4/5] END C=0.1, fit_intercept=False, n_jobs=-1, penalty=none;, score=0.647 total time=   0.5s\n"
          ]
        },
        {
          "output_type": "stream",
          "name": "stderr",
          "text": [
            "/usr/local/lib/python3.7/dist-packages/sklearn/linear_model/_logistic.py:1484: UserWarning: Setting penalty='none' will ignore the C and l1_ratio parameters\n",
            "  \"Setting penalty='none' will ignore the C and l1_ratio parameters\"\n"
          ]
        },
        {
          "output_type": "stream",
          "name": "stdout",
          "text": [
            "[CV 5/5] END C=0.1, fit_intercept=False, n_jobs=-1, penalty=none;, score=0.624 total time=   0.3s\n",
            "[CV 1/5] END C=0.5, fit_intercept=True, n_jobs=-1, penalty=l2;, score=0.642 total time=   0.4s\n",
            "[CV 2/5] END C=0.5, fit_intercept=True, n_jobs=-1, penalty=l2;, score=0.620 total time=   0.3s\n",
            "[CV 3/5] END C=0.5, fit_intercept=True, n_jobs=-1, penalty=l2;, score=0.640 total time=   0.2s\n",
            "[CV 4/5] END C=0.5, fit_intercept=True, n_jobs=-1, penalty=l2;, score=0.641 total time=   0.4s\n",
            "[CV 5/5] END C=0.5, fit_intercept=True, n_jobs=-1, penalty=l2;, score=0.633 total time=   0.4s\n"
          ]
        },
        {
          "output_type": "stream",
          "name": "stderr",
          "text": [
            "/usr/local/lib/python3.7/dist-packages/sklearn/linear_model/_logistic.py:1484: UserWarning: Setting penalty='none' will ignore the C and l1_ratio parameters\n",
            "  \"Setting penalty='none' will ignore the C and l1_ratio parameters\"\n"
          ]
        },
        {
          "output_type": "stream",
          "name": "stdout",
          "text": [
            "[CV 1/5] END C=0.5, fit_intercept=True, n_jobs=-1, penalty=none;, score=0.642 total time=   0.4s\n"
          ]
        },
        {
          "output_type": "stream",
          "name": "stderr",
          "text": [
            "/usr/local/lib/python3.7/dist-packages/sklearn/linear_model/_logistic.py:1484: UserWarning: Setting penalty='none' will ignore the C and l1_ratio parameters\n",
            "  \"Setting penalty='none' will ignore the C and l1_ratio parameters\"\n"
          ]
        },
        {
          "output_type": "stream",
          "name": "stdout",
          "text": [
            "[CV 2/5] END C=0.5, fit_intercept=True, n_jobs=-1, penalty=none;, score=0.620 total time=   0.3s\n"
          ]
        },
        {
          "output_type": "stream",
          "name": "stderr",
          "text": [
            "/usr/local/lib/python3.7/dist-packages/sklearn/linear_model/_logistic.py:1484: UserWarning: Setting penalty='none' will ignore the C and l1_ratio parameters\n",
            "  \"Setting penalty='none' will ignore the C and l1_ratio parameters\"\n"
          ]
        },
        {
          "output_type": "stream",
          "name": "stdout",
          "text": [
            "[CV 3/5] END C=0.5, fit_intercept=True, n_jobs=-1, penalty=none;, score=0.640 total time=   0.3s\n"
          ]
        },
        {
          "output_type": "stream",
          "name": "stderr",
          "text": [
            "/usr/local/lib/python3.7/dist-packages/sklearn/linear_model/_logistic.py:1484: UserWarning: Setting penalty='none' will ignore the C and l1_ratio parameters\n",
            "  \"Setting penalty='none' will ignore the C and l1_ratio parameters\"\n"
          ]
        },
        {
          "output_type": "stream",
          "name": "stdout",
          "text": [
            "[CV 4/5] END C=0.5, fit_intercept=True, n_jobs=-1, penalty=none;, score=0.641 total time=   0.5s\n"
          ]
        },
        {
          "output_type": "stream",
          "name": "stderr",
          "text": [
            "/usr/local/lib/python3.7/dist-packages/sklearn/linear_model/_logistic.py:1484: UserWarning: Setting penalty='none' will ignore the C and l1_ratio parameters\n",
            "  \"Setting penalty='none' will ignore the C and l1_ratio parameters\"\n"
          ]
        },
        {
          "output_type": "stream",
          "name": "stdout",
          "text": [
            "[CV 5/5] END C=0.5, fit_intercept=True, n_jobs=-1, penalty=none;, score=0.637 total time=   0.5s\n",
            "[CV 1/5] END C=0.5, fit_intercept=False, n_jobs=-1, penalty=l2;, score=0.643 total time=   0.4s\n",
            "[CV 2/5] END C=0.5, fit_intercept=False, n_jobs=-1, penalty=l2;, score=0.628 total time=   0.3s\n",
            "[CV 3/5] END C=0.5, fit_intercept=False, n_jobs=-1, penalty=l2;, score=0.634 total time=   0.4s\n",
            "[CV 4/5] END C=0.5, fit_intercept=False, n_jobs=-1, penalty=l2;, score=0.628 total time=   0.3s\n",
            "[CV 5/5] END C=0.5, fit_intercept=False, n_jobs=-1, penalty=l2;, score=0.633 total time=   0.4s\n"
          ]
        },
        {
          "output_type": "stream",
          "name": "stderr",
          "text": [
            "/usr/local/lib/python3.7/dist-packages/sklearn/linear_model/_logistic.py:1484: UserWarning: Setting penalty='none' will ignore the C and l1_ratio parameters\n",
            "  \"Setting penalty='none' will ignore the C and l1_ratio parameters\"\n"
          ]
        },
        {
          "output_type": "stream",
          "name": "stdout",
          "text": [
            "[CV 1/5] END C=0.5, fit_intercept=False, n_jobs=-1, penalty=none;, score=0.637 total time=   0.3s\n"
          ]
        },
        {
          "output_type": "stream",
          "name": "stderr",
          "text": [
            "/usr/local/lib/python3.7/dist-packages/sklearn/linear_model/_logistic.py:1484: UserWarning: Setting penalty='none' will ignore the C and l1_ratio parameters\n",
            "  \"Setting penalty='none' will ignore the C and l1_ratio parameters\"\n"
          ]
        },
        {
          "output_type": "stream",
          "name": "stdout",
          "text": [
            "[CV 2/5] END C=0.5, fit_intercept=False, n_jobs=-1, penalty=none;, score=0.621 total time=   0.3s\n"
          ]
        },
        {
          "output_type": "stream",
          "name": "stderr",
          "text": [
            "/usr/local/lib/python3.7/dist-packages/sklearn/linear_model/_logistic.py:1484: UserWarning: Setting penalty='none' will ignore the C and l1_ratio parameters\n",
            "  \"Setting penalty='none' will ignore the C and l1_ratio parameters\"\n"
          ]
        },
        {
          "output_type": "stream",
          "name": "stdout",
          "text": [
            "[CV 3/5] END C=0.5, fit_intercept=False, n_jobs=-1, penalty=none;, score=0.646 total time=   0.6s\n"
          ]
        },
        {
          "output_type": "stream",
          "name": "stderr",
          "text": [
            "/usr/local/lib/python3.7/dist-packages/sklearn/linear_model/_logistic.py:1484: UserWarning: Setting penalty='none' will ignore the C and l1_ratio parameters\n",
            "  \"Setting penalty='none' will ignore the C and l1_ratio parameters\"\n"
          ]
        },
        {
          "output_type": "stream",
          "name": "stdout",
          "text": [
            "[CV 4/5] END C=0.5, fit_intercept=False, n_jobs=-1, penalty=none;, score=0.647 total time=   0.5s\n"
          ]
        },
        {
          "output_type": "stream",
          "name": "stderr",
          "text": [
            "/usr/local/lib/python3.7/dist-packages/sklearn/linear_model/_logistic.py:1484: UserWarning: Setting penalty='none' will ignore the C and l1_ratio parameters\n",
            "  \"Setting penalty='none' will ignore the C and l1_ratio parameters\"\n"
          ]
        },
        {
          "output_type": "stream",
          "name": "stdout",
          "text": [
            "[CV 5/5] END C=0.5, fit_intercept=False, n_jobs=-1, penalty=none;, score=0.624 total time=   0.3s\n",
            "[CV 1/5] END C=1, fit_intercept=True, n_jobs=-1, penalty=l2;, score=0.638 total time=   0.3s\n",
            "[CV 2/5] END C=1, fit_intercept=True, n_jobs=-1, penalty=l2;, score=0.620 total time=   0.3s\n",
            "[CV 3/5] END C=1, fit_intercept=True, n_jobs=-1, penalty=l2;, score=0.640 total time=   0.2s\n",
            "[CV 4/5] END C=1, fit_intercept=True, n_jobs=-1, penalty=l2;, score=0.641 total time=   0.4s\n",
            "[CV 5/5] END C=1, fit_intercept=True, n_jobs=-1, penalty=l2;, score=0.633 total time=   0.4s\n",
            "[CV 1/5] END C=1, fit_intercept=True, n_jobs=-1, penalty=none;, score=0.642 total time=   0.4s\n",
            "[CV 2/5] END C=1, fit_intercept=True, n_jobs=-1, penalty=none;, score=0.620 total time=   0.3s\n",
            "[CV 3/5] END C=1, fit_intercept=True, n_jobs=-1, penalty=none;, score=0.640 total time=   0.2s\n",
            "[CV 4/5] END C=1, fit_intercept=True, n_jobs=-1, penalty=none;, score=0.641 total time=   0.4s\n",
            "[CV 5/5] END C=1, fit_intercept=True, n_jobs=-1, penalty=none;, score=0.637 total time=   0.5s\n",
            "[CV 1/5] END C=1, fit_intercept=False, n_jobs=-1, penalty=l2;, score=0.643 total time=   0.4s\n",
            "[CV 2/5] END C=1, fit_intercept=False, n_jobs=-1, penalty=l2;, score=0.628 total time=   0.4s\n",
            "[CV 3/5] END C=1, fit_intercept=False, n_jobs=-1, penalty=l2;, score=0.634 total time=   0.4s\n",
            "[CV 4/5] END C=1, fit_intercept=False, n_jobs=-1, penalty=l2;, score=0.628 total time=   0.3s\n",
            "[CV 5/5] END C=1, fit_intercept=False, n_jobs=-1, penalty=l2;, score=0.633 total time=   0.4s\n",
            "[CV 1/5] END C=1, fit_intercept=False, n_jobs=-1, penalty=none;, score=0.637 total time=   0.3s\n",
            "[CV 2/5] END C=1, fit_intercept=False, n_jobs=-1, penalty=none;, score=0.621 total time=   0.3s\n",
            "[CV 3/5] END C=1, fit_intercept=False, n_jobs=-1, penalty=none;, score=0.646 total time=   0.6s\n",
            "[CV 4/5] END C=1, fit_intercept=False, n_jobs=-1, penalty=none;, score=0.647 total time=   0.5s\n",
            "[CV 5/5] END C=1, fit_intercept=False, n_jobs=-1, penalty=none;, score=0.624 total time=   0.3s\n",
            "[CV 1/5] END C=10, fit_intercept=True, n_jobs=-1, penalty=l2;, score=0.643 total time=   0.4s\n",
            "[CV 2/5] END C=10, fit_intercept=True, n_jobs=-1, penalty=l2;, score=0.620 total time=   0.3s\n",
            "[CV 3/5] END C=10, fit_intercept=True, n_jobs=-1, penalty=l2;, score=0.640 total time=   0.2s\n",
            "[CV 4/5] END C=10, fit_intercept=True, n_jobs=-1, penalty=l2;, score=0.629 total time=   0.3s\n",
            "[CV 5/5] END C=10, fit_intercept=True, n_jobs=-1, penalty=l2;, score=0.633 total time=   0.4s\n"
          ]
        },
        {
          "output_type": "stream",
          "name": "stderr",
          "text": [
            "/usr/local/lib/python3.7/dist-packages/sklearn/linear_model/_logistic.py:1484: UserWarning: Setting penalty='none' will ignore the C and l1_ratio parameters\n",
            "  \"Setting penalty='none' will ignore the C and l1_ratio parameters\"\n"
          ]
        },
        {
          "output_type": "stream",
          "name": "stdout",
          "text": [
            "[CV 1/5] END C=10, fit_intercept=True, n_jobs=-1, penalty=none;, score=0.642 total time=   0.4s\n"
          ]
        },
        {
          "output_type": "stream",
          "name": "stderr",
          "text": [
            "/usr/local/lib/python3.7/dist-packages/sklearn/linear_model/_logistic.py:1484: UserWarning: Setting penalty='none' will ignore the C and l1_ratio parameters\n",
            "  \"Setting penalty='none' will ignore the C and l1_ratio parameters\"\n"
          ]
        },
        {
          "output_type": "stream",
          "name": "stdout",
          "text": [
            "[CV 2/5] END C=10, fit_intercept=True, n_jobs=-1, penalty=none;, score=0.620 total time=   0.3s\n"
          ]
        },
        {
          "output_type": "stream",
          "name": "stderr",
          "text": [
            "/usr/local/lib/python3.7/dist-packages/sklearn/linear_model/_logistic.py:1484: UserWarning: Setting penalty='none' will ignore the C and l1_ratio parameters\n",
            "  \"Setting penalty='none' will ignore the C and l1_ratio parameters\"\n"
          ]
        },
        {
          "output_type": "stream",
          "name": "stdout",
          "text": [
            "[CV 3/5] END C=10, fit_intercept=True, n_jobs=-1, penalty=none;, score=0.640 total time=   0.2s\n"
          ]
        },
        {
          "output_type": "stream",
          "name": "stderr",
          "text": [
            "/usr/local/lib/python3.7/dist-packages/sklearn/linear_model/_logistic.py:1484: UserWarning: Setting penalty='none' will ignore the C and l1_ratio parameters\n",
            "  \"Setting penalty='none' will ignore the C and l1_ratio parameters\"\n"
          ]
        },
        {
          "output_type": "stream",
          "name": "stdout",
          "text": [
            "[CV 4/5] END C=10, fit_intercept=True, n_jobs=-1, penalty=none;, score=0.641 total time=   0.5s\n"
          ]
        },
        {
          "output_type": "stream",
          "name": "stderr",
          "text": [
            "/usr/local/lib/python3.7/dist-packages/sklearn/linear_model/_logistic.py:1484: UserWarning: Setting penalty='none' will ignore the C and l1_ratio parameters\n",
            "  \"Setting penalty='none' will ignore the C and l1_ratio parameters\"\n"
          ]
        },
        {
          "output_type": "stream",
          "name": "stdout",
          "text": [
            "[CV 5/5] END C=10, fit_intercept=True, n_jobs=-1, penalty=none;, score=0.637 total time=   0.5s\n",
            "[CV 1/5] END C=10, fit_intercept=False, n_jobs=-1, penalty=l2;, score=0.637 total time=   0.3s\n",
            "[CV 2/5] END C=10, fit_intercept=False, n_jobs=-1, penalty=l2;, score=0.621 total time=   0.3s\n",
            "[CV 3/5] END C=10, fit_intercept=False, n_jobs=-1, penalty=l2;, score=0.634 total time=   0.4s\n",
            "[CV 4/5] END C=10, fit_intercept=False, n_jobs=-1, penalty=l2;, score=0.641 total time=   0.4s\n",
            "[CV 5/5] END C=10, fit_intercept=False, n_jobs=-1, penalty=l2;, score=0.633 total time=   0.4s\n"
          ]
        },
        {
          "output_type": "stream",
          "name": "stderr",
          "text": [
            "/usr/local/lib/python3.7/dist-packages/sklearn/linear_model/_logistic.py:1484: UserWarning: Setting penalty='none' will ignore the C and l1_ratio parameters\n",
            "  \"Setting penalty='none' will ignore the C and l1_ratio parameters\"\n"
          ]
        },
        {
          "output_type": "stream",
          "name": "stdout",
          "text": [
            "[CV 1/5] END C=10, fit_intercept=False, n_jobs=-1, penalty=none;, score=0.637 total time=   0.3s\n"
          ]
        },
        {
          "output_type": "stream",
          "name": "stderr",
          "text": [
            "/usr/local/lib/python3.7/dist-packages/sklearn/linear_model/_logistic.py:1484: UserWarning: Setting penalty='none' will ignore the C and l1_ratio parameters\n",
            "  \"Setting penalty='none' will ignore the C and l1_ratio parameters\"\n"
          ]
        },
        {
          "output_type": "stream",
          "name": "stdout",
          "text": [
            "[CV 2/5] END C=10, fit_intercept=False, n_jobs=-1, penalty=none;, score=0.621 total time=   0.3s\n"
          ]
        },
        {
          "output_type": "stream",
          "name": "stderr",
          "text": [
            "/usr/local/lib/python3.7/dist-packages/sklearn/linear_model/_logistic.py:1484: UserWarning: Setting penalty='none' will ignore the C and l1_ratio parameters\n",
            "  \"Setting penalty='none' will ignore the C and l1_ratio parameters\"\n"
          ]
        },
        {
          "output_type": "stream",
          "name": "stdout",
          "text": [
            "[CV 3/5] END C=10, fit_intercept=False, n_jobs=-1, penalty=none;, score=0.646 total time=   0.7s\n"
          ]
        },
        {
          "output_type": "stream",
          "name": "stderr",
          "text": [
            "/usr/local/lib/python3.7/dist-packages/sklearn/linear_model/_logistic.py:1484: UserWarning: Setting penalty='none' will ignore the C and l1_ratio parameters\n",
            "  \"Setting penalty='none' will ignore the C and l1_ratio parameters\"\n"
          ]
        },
        {
          "output_type": "stream",
          "name": "stdout",
          "text": [
            "[CV 4/5] END C=10, fit_intercept=False, n_jobs=-1, penalty=none;, score=0.647 total time=   0.5s\n"
          ]
        },
        {
          "output_type": "stream",
          "name": "stderr",
          "text": [
            "/usr/local/lib/python3.7/dist-packages/sklearn/linear_model/_logistic.py:1484: UserWarning: Setting penalty='none' will ignore the C and l1_ratio parameters\n",
            "  \"Setting penalty='none' will ignore the C and l1_ratio parameters\"\n"
          ]
        },
        {
          "output_type": "stream",
          "name": "stdout",
          "text": [
            "[CV 5/5] END C=10, fit_intercept=False, n_jobs=-1, penalty=none;, score=0.624 total time=   0.3s\n"
          ]
        }
      ]
    },
    {
      "cell_type": "code",
      "source": [
        "gridLR = gridLR.best_estimator_\n",
        "LR = TrainAndEval(gridLR, X_train, y_train, X_test, y_test)\n",
        "LR.eval()"
      ],
      "metadata": {
        "colab": {
          "base_uri": "https://localhost:8080/"
        },
        "id": "1z6bdxPjn_PZ",
        "outputId": "784927b9-505e-48ae-c39a-db7356e63264"
      },
      "execution_count": null,
      "outputs": [
        {
          "output_type": "stream",
          "name": "stdout",
          "text": [
            "True Negatives: 1177\n",
            "False Positives: 561\n",
            "False Negatives: 709\n",
            "True Positives: 1092\n",
            "              precision    recall  f1-score   support\n",
            "\n",
            "           0       0.62      0.68      0.65      1738\n",
            "           1       0.66      0.61      0.63      1801\n",
            "\n",
            "    accuracy                           0.64      3539\n",
            "   macro avg       0.64      0.64      0.64      3539\n",
            "weighted avg       0.64      0.64      0.64      3539\n",
            "\n"
          ]
        }
      ]
    },
    {
      "cell_type": "markdown",
      "source": [
        "**The Results of Logisitc Regression Classifier:**\n",
        "\n",
        "\n",
        "*   **F1 Score = 63%**\n",
        "*   **Precision = 66%**\n",
        "*   **Recall = 61%**\n",
        "*   **Accuracy = 64%**"
      ],
      "metadata": {
        "id": "JsKuK0qaoLX4"
      }
    },
    {
      "cell_type": "code",
      "source": [
        "XAxis = ['Precision', 'Recall', 'F1-Score', 'Accuracy']\n",
        "LRValues = [66,61,63,64]\n",
        "SVMValues = [65, 54, 59, 62]\n",
        "RFValues = [69, 65, 67, 67]\n",
        "XGBValues = [73, 74, 73, 73]\n",
        "GBTValues = [73, 73, 73, 72]\n",
        "\n",
        "bar_width = 0.15\n",
        "index = np.arange(4)\n",
        "\n",
        "fig, ax = plt.subplots()\n",
        "LR = ax.bar(index,LRValues, width=bar_width, label = \"Logistic Regression\") \n",
        "SVM = ax.bar(index+bar_width,SVMValues, width=bar_width, label = \"SVM\") \n",
        "RF = ax.bar(index+bar_width+bar_width,RFValues, width=bar_width, label = \"Random Forest\") \n",
        "XGB = ax.bar(index+bar_width+bar_width+bar_width,XGBValues, width=bar_width, label = \"XGBoost\") \n",
        "GBT = ax.bar(index+bar_width+bar_width+bar_width+bar_width,GBTValues, width=bar_width, label = \"Gradient Boosting Trees\") \n",
        "\n",
        "\n",
        "ax.set_xlabel('')\n",
        "ax.set_ylabel('')\n",
        "ax.set_title('Comparison of 5 models against 4 metrics')\n",
        "ax.set_xticks(index + bar_width / 2)\n",
        "ax.set_xticklabels(XAxis)\n",
        "ax.legend(loc = 'lower right')\n",
        "\n",
        "fig.set_size_inches(10,6)\n",
        "\n",
        "plt.show()\n",
        "\n",
        "fig.savefig('MetricsModels.png',dpi = 200)"
      ],
      "metadata": {
        "colab": {
          "base_uri": "https://localhost:8080/",
          "height": 390
        },
        "id": "58L0P3mxoJCE",
        "outputId": "7f96189b-b330-4f69-814c-d135b386ef24"
      },
      "execution_count": null,
      "outputs": [
        {
          "output_type": "display_data",
          "data": {
            "text/plain": [
              "<Figure size 720x432 with 1 Axes>"
            ],
            "image/png": "[encoded data removed]"
          },
          "metadata": {
            "needs_background": "light"
          }
        }
      ]
    },
    {
      "cell_type": "markdown",
      "source": [
        "# **RESULTS**\n",
        "\n",
        "* **It can clearly be seen that XGBoost performed better than all the other classifiers:**\n",
        "\n",
        "* **Where F1 Score and Accuracy of XGBoost is highest = 73% and Precision of 73% to detect frauds**\n",
        "\n",
        "* **Multiple modules of Machine Learning pipeline are used, Data Visualizations, Data Analysis, Data wrangling, Feature engineering, Predictive Modelling, Interpretation of the model, comparing results.** \n",
        "\n",
        "* **Various Metrics such as Precision, Recall, Accuracy, F1 Scores and Balanced Accuracy are checked.**\n",
        "\n",
        "* **Logistic regression is always the best baselines to compare-with. Here we got significant 62\\% accuracy.**"
      ],
      "metadata": {
        "id": "AMi-XLCvoSKz"
      }
    },
    {
      "cell_type": "markdown",
      "source": [
        "# **Further Improvements and Remarks:**"
      ],
      "metadata": {
        "id": "UYrkW3zXoVK9"
      }
    },
    {
      "cell_type": "markdown",
      "source": [
        "* Clustering can also be done where labels are not required to get other meaningful insights out of data.\n",
        "  \n",
        "* In the data set we had clearly seen that there were some Customer IDs which were highly fraudulent. So, a user-profiling based statistical model would significantly improve the results.\n",
        "\n",
        "* Nothing beats the quality of data. So running test-statistics could also help in analyzing the data further.\n",
        "\n",
        "* Important data acquisition ( either by client, business teams or an external API) and rigorous feature engineering.\n",
        "\n",
        "* Better way to fill the missing values in columns, based on the distribution of the data column\n",
        "\n",
        "* Better way to handle outliers. In case of large number of records people use Auto-encoders as well.\n",
        "\n",
        "* Time series based anomaly detection in the dataset and then modeling it appropriately\n"
      ],
      "metadata": {
        "id": "pR2VK9edobJy"
      }
    }
  ]
}